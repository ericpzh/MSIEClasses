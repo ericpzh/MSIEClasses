{
 "cells": [
  {
   "cell_type": "code",
   "execution_count": 138,
   "metadata": {},
   "outputs": [],
   "source": [
    "import cv2 \n",
    "import os\n",
    "import numpy as np\n",
    "import matplotlib.pyplot as plt\n",
    "import torch\n",
    "\n",
    "from torch import nn, optim\n",
    "from torch.autograd import Variable\n",
    "import torch.nn.functional as F\n",
    "from torch.utils.data import Dataset, DataLoader\n",
    "from torchvision import transforms\n",
    "\n",
    "from sklearn.model_selection import train_test_split\n",
    "\n",
    "torch.set_default_tensor_type('torch.DoubleTensor')"
   ]
  },
  {
   "cell_type": "code",
   "execution_count": 135,
   "metadata": {},
   "outputs": [
    {
     "name": "stdout",
     "output_type": "stream",
     "text": [
      "USE CPU\n"
     ]
    }
   ],
   "source": [
    "class LeNet(nn.Module):\n",
    "\tdef __init__(self):\n",
    "\t\tsuper(LeNet, self).__init__()\n",
    "\t\tself.conv1 = nn.Conv2d(3, 6, (5,5), padding=2)\n",
    "\t\tself.conv2 = nn.Conv2d(6, 16, (5,5))\n",
    "\t\tself.fc1   = nn.Linear(16*5*5, 120)\n",
    "\t\tself.fc2   = nn.Linear(120, 84)\n",
    "\t\tself.fc3   = nn.Linear(84, 2)\n",
    "\tdef forward(self, x):\n",
    "\t\tx = F.max_pool2d(F.relu(self.conv1(x)), (2,2))\n",
    "\t\tx = F.max_pool2d(F.relu(self.conv2(x)), (2,2))\n",
    "\t\tx = x.view(-1, self.num_flat_features(x))\n",
    "\t\tx = F.relu(self.fc1(x))\n",
    "\t\tx = F.relu(self.fc2(x))\n",
    "\t\tx = self.fc3(x)\n",
    "\t\treturn x\n",
    "\tdef num_flat_features(self, x):\n",
    "\t\tsize = x.size()[1:]\n",
    "\t\tnum_features = 1\n",
    "\t\tfor s in size:\n",
    "\t\t\tnum_features *= s\n",
    "\t\treturn num_features\n",
    "\n",
    "use_gpu = torch.cuda.is_available()\n",
    "if use_gpu:\n",
    "\tnet = net.cuda()\n",
    "\tprint ('USE GPU')\n",
    "else:\n",
    "\tprint ('USE CPU')\n"
   ]
  },
  {
   "cell_type": "code",
   "execution_count": 121,
   "metadata": {},
   "outputs": [
    {
     "data": {
      "text/plain": [
       "<matplotlib.image.AxesImage at 0x2521d9634c8>"
      ]
     },
     "execution_count": 121,
     "metadata": {},
     "output_type": "execute_result"
    },
    {
     "data": {
      "image/png": "[encoded data removed]",
      "text/plain": [
       "<Figure size 432x288 with 1 Axes>"
      ]
     },
     "metadata": {
      "needs_background": "light"
     },
     "output_type": "display_data"
    }
   ],
   "source": [
    "image = cv2.imread(os.path.join(\"C:/Users/ericp/Desktop/pixiv/data/normal/\", \"72390335_p0_square1200.jpg\"))\n",
    "image = cv2.resize(image, (28,28)) \n",
    "plt.imshow(image)"
   ]
  },
  {
   "cell_type": "code",
   "execution_count": 122,
   "metadata": {},
   "outputs": [
    {
     "name": "stdout",
     "output_type": "stream",
     "text": [
      "(7207, 3, 28, 28)\n"
     ]
    }
   ],
   "source": [
    "images_n = []\n",
    "for file in os.listdir(\"C:/Users/ericp/Desktop/pixiv/data/normal\"):\n",
    "    image = cv2.imread(os.path.join(\"C:/Users/ericp/Desktop/pixiv/data/normal\", file))\n",
    "    image = cv2.resize(image, (28, 28)) \n",
    "    #blue_image = image[:,:,0]\n",
    "    #green_image = image[:,:,1]\n",
    "    #red_image = image[:,:,2]\n",
    "    images_n.append(list((np.transpose(image)/255.0).astype('float64')))\n",
    "images_n = np.array(images_n)\n",
    "print(images_n.shape)"
   ]
  },
  {
   "cell_type": "code",
   "execution_count": 123,
   "metadata": {},
   "outputs": [
    {
     "name": "stdout",
     "output_type": "stream",
     "text": [
      "(3687, 3, 28, 28)\n"
     ]
    }
   ],
   "source": [
    "images_r = []\n",
    "for file in os.listdir(\"C:/Users/ericp/Desktop/pixiv/data/r18\"):\n",
    "    image = cv2.imread(os.path.join(\"C:/Users/ericp/Desktop/pixiv/data/r18\", file))\n",
    "    image = cv2.resize(image, (28, 28)) \n",
    "    #blue_image = image[:,:,0]\n",
    "    #green_image = image[:,:,1]\n",
    "    #red_image = image[:,:,2]\n",
    "    images_r.append(list((np.transpose(image)/255.0).astype('float64')))\n",
    "images_r = np.array(images_r)\n",
    "print(images_r.shape)"
   ]
  },
  {
   "cell_type": "code",
   "execution_count": 148,
   "metadata": {},
   "outputs": [],
   "source": [
    "X_train, X_test, y_train, y_test = train_test_split(\n",
    "    np.concatenate((images_n, images_r), axis = 0), \n",
    "    np.concatenate((np.zeros(len(images_n)), np.ones(len(images_r))), axis = 0), \n",
    "    test_size=0.25)"
   ]
  },
  {
   "cell_type": "code",
   "execution_count": 145,
   "metadata": {},
   "outputs": [],
   "source": [
    "class OurDataset(Dataset):\n",
    "    def __init__(self, X, Y, transform=None):\n",
    "        self.X = X\n",
    "        self.Y = Y\n",
    "        self.transform = transform\n",
    "        \n",
    "    def __len__(self):\n",
    "        return len(self.X);\n",
    "    \n",
    "    def __getitem__(self, idx):\n",
    "        item = torch.from_numpy(self.X[idx])\n",
    "        label = torch.tensor(self.Y[idx], dtype=torch.long)  \n",
    "        \n",
    "        if self.transform:\n",
    "            item = self.transform(item)\n",
    "        \n",
    "        return (item, label)"
   ]
  },
  {
   "cell_type": "code",
   "execution_count": 149,
   "metadata": {},
   "outputs": [],
   "source": [
    "trainData = OurDataset(X_train,  y_train)\n",
    "testData = OurDataset(X_test,  y_test)\n",
    "trainLoader = DataLoader(trainData, batch_size=128, shuffle=True, num_workers=0)\n",
    "testLoader = DataLoader(testData, batch_size=128, shuffle=False, num_workers=0)"
   ]
  },
  {
   "cell_type": "code",
   "execution_count": 150,
   "metadata": {
    "scrolled": true
   },
   "outputs": [
    {
     "name": "stdout",
     "output_type": "stream",
     "text": [
      "Test Accuracy: 66.372981\n",
      "E: 0; B: 0; Loss: 0.683961; ||g||: 0.948228\n",
      "E: 0; B: 1; Loss: 0.673361; ||g||: 0.738079\n",
      "E: 0; B: 2; Loss: 0.673667; ||g||: 0.439392\n",
      "E: 0; B: 3; Loss: 0.646319; ||g||: 1.045297\n",
      "E: 0; B: 4; Loss: 0.671190; ||g||: 0.151824\n",
      "E: 0; B: 5; Loss: 0.645033; ||g||: 0.600022\n",
      "E: 0; B: 6; Loss: 0.655073; ||g||: 0.201516\n",
      "E: 0; B: 7; Loss: 0.660498; ||g||: 0.150257\n",
      "E: 0; B: 8; Loss: 0.636301; ||g||: 0.553638\n",
      "E: 0; B: 9; Loss: 0.597642; ||g||: 1.024245\n",
      "E: 0; B: 10; Loss: 0.668632; ||g||: 0.934072\n",
      "E: 0; B: 11; Loss: 0.651777; ||g||: 0.160637\n",
      "E: 0; B: 12; Loss: 0.624323; ||g||: 0.533689\n",
      "E: 0; B: 13; Loss: 0.654297; ||g||: 0.408061\n",
      "E: 0; B: 14; Loss: 0.643319; ||g||: 0.131492\n",
      "E: 0; B: 15; Loss: 0.621053; ||g||: 0.497283\n",
      "E: 0; B: 16; Loss: 0.603722; ||g||: 0.508426\n",
      "E: 0; B: 17; Loss: 0.674729; ||g||: 1.038698\n",
      "E: 0; B: 18; Loss: 0.665500; ||g||: 0.415221\n",
      "E: 0; B: 19; Loss: 0.645671; ||g||: 0.223826\n",
      "E: 0; B: 20; Loss: 0.632740; ||g||: 0.387647\n",
      "E: 0; B: 21; Loss: 0.612027; ||g||: 0.627016\n",
      "E: 0; B: 22; Loss: 0.614240; ||g||: 0.245086\n",
      "E: 0; B: 23; Loss: 0.641379; ||g||: 0.430007\n",
      "E: 0; B: 24; Loss: 0.708075; ||g||: 1.465856\n",
      "E: 0; B: 25; Loss: 0.653830; ||g||: 0.291231\n",
      "E: 0; B: 26; Loss: 0.607904; ||g||: 1.150418\n",
      "E: 0; B: 27; Loss: 0.621979; ||g||: 0.214697\n",
      "E: 0; B: 28; Loss: 0.644779; ||g||: 0.326554\n",
      "E: 0; B: 29; Loss: 0.666655; ||g||: 0.583882\n",
      "E: 0; B: 30; Loss: 0.628898; ||g||: 0.475516\n",
      "E: 0; B: 31; Loss: 0.619177; ||g||: 0.399434\n",
      "E: 0; B: 32; Loss: 0.636392; ||g||: 0.145667\n",
      "E: 0; B: 33; Loss: 0.638938; ||g||: 0.167684\n",
      "E: 0; B: 34; Loss: 0.651389; ||g||: 0.328386\n",
      "E: 0; B: 35; Loss: 0.632171; ||g||: 0.277066\n",
      "E: 0; B: 36; Loss: 0.665448; ||g||: 0.548087\n",
      "E: 0; B: 37; Loss: 0.621833; ||g||: 0.650003\n",
      "E: 0; B: 38; Loss: 0.612754; ||g||: 0.459359\n",
      "E: 0; B: 39; Loss: 0.592305; ||g||: 0.562028\n",
      "E: 0; B: 40; Loss: 0.577735; ||g||: 0.479978\n",
      "E: 0; B: 41; Loss: 0.661119; ||g||: 1.328078\n",
      "E: 0; B: 42; Loss: 0.659920; ||g||: 0.506708\n",
      "E: 0; B: 43; Loss: 0.634801; ||g||: 0.293099\n",
      "E: 0; B: 44; Loss: 0.627173; ||g||: 0.339510\n",
      "E: 0; B: 45; Loss: 0.627166; ||g||: 0.161305\n",
      "E: 0; B: 46; Loss: 0.641667; ||g||: 0.291223\n",
      "E: 0; B: 47; Loss: 0.645877; ||g||: 0.184481\n",
      "E: 0; B: 48; Loss: 0.614927; ||g||: 0.533272\n",
      "E: 0; B: 49; Loss: 0.654684; ||g||: 0.563666\n",
      "E: 0; B: 50; Loss: 0.675560; ||g||: 0.671719\n",
      "E: 0; B: 51; Loss: 0.642817; ||g||: 0.358513\n",
      "E: 0; B: 52; Loss: 0.648983; ||g||: 0.161914\n",
      "E: 0; B: 53; Loss: 0.629903; ||g||: 0.404558\n",
      "E: 0; B: 54; Loss: 0.672651; ||g||: 0.709578\n",
      "E: 0; B: 55; Loss: 0.650637; ||g||: 0.170988\n",
      "E: 0; B: 56; Loss: 0.636751; ||g||: 0.386713\n",
      "E: 0; B: 57; Loss: 0.621948; ||g||: 0.444976\n",
      "E: 0; B: 58; Loss: 0.653950; ||g||: 0.492665\n",
      "E: 0; B: 59; Loss: 0.640923; ||g||: 0.152431\n",
      "E: 0; B: 60; Loss: 0.612467; ||g||: 0.642075\n",
      "E: 0; B: 61; Loss: 0.644937; ||g||: 0.451548\n",
      "E: 0; B: 62; Loss: 0.615751; ||g||: 0.424941\n",
      "E: 0; B: 63; Loss: 0.613702; ||g||: 0.264290\n",
      "Test Accuracy: 66.372981\n",
      "E: 1; B: 0; Loss: 0.675575; ||g||: 1.249048\n",
      "E: 1; B: 1; Loss: 0.608224; ||g||: 0.997139\n",
      "E: 1; B: 2; Loss: 0.559880; ||g||: 1.259721\n",
      "E: 1; B: 3; Loss: 0.596277; ||g||: 0.446969\n",
      "E: 1; B: 4; Loss: 0.634939; ||g||: 0.899201\n",
      "E: 1; B: 5; Loss: 0.613776; ||g||: 0.359900\n",
      "E: 1; B: 6; Loss: 0.608577; ||g||: 0.211058\n",
      "E: 1; B: 7; Loss: 0.587042; ||g||: 0.446560\n",
      "E: 1; B: 8; Loss: 0.612969; ||g||: 0.432809\n",
      "E: 1; B: 9; Loss: 0.614724; ||g||: 0.168011\n",
      "E: 1; B: 10; Loss: 0.603751; ||g||: 0.222538\n",
      "E: 1; B: 11; Loss: 0.614559; ||g||: 0.275321\n",
      "E: 1; B: 12; Loss: 0.652428; ||g||: 0.649360\n",
      "E: 1; B: 13; Loss: 0.656431; ||g||: 0.344353\n",
      "E: 1; B: 14; Loss: 0.698010; ||g||: 1.106200\n",
      "E: 1; B: 15; Loss: 0.662102; ||g||: 0.263471\n",
      "E: 1; B: 16; Loss: 0.652177; ||g||: 0.466515\n",
      "E: 1; B: 17; Loss: 0.619189; ||g||: 0.919759\n",
      "E: 1; B: 18; Loss: 0.641310; ||g||: 0.401951\n",
      "E: 1; B: 19; Loss: 0.668790; ||g||: 0.644006\n",
      "E: 1; B: 20; Loss: 0.624478; ||g||: 0.780927\n",
      "E: 1; B: 21; Loss: 0.663567; ||g||: 0.792549\n",
      "E: 1; B: 22; Loss: 0.656214; ||g||: 0.261190\n",
      "E: 1; B: 23; Loss: 0.609938; ||g||: 1.171762\n",
      "E: 1; B: 24; Loss: 0.633251; ||g||: 0.359112\n",
      "E: 1; B: 25; Loss: 0.606966; ||g||: 0.456024\n"
     ]
    },
    {
     "ename": "KeyboardInterrupt",
     "evalue": "",
     "output_type": "error",
     "traceback": [
      "\u001b[1;31m---------------------------------------------------------------------------\u001b[0m",
      "\u001b[1;31mKeyboardInterrupt\u001b[0m                         Traceback (most recent call last)",
      "\u001b[1;32m<ipython-input-150-6537708a1bec>\u001b[0m in \u001b[0;36m<module>\u001b[1;34m\u001b[0m\n\u001b[0;32m     22\u001b[0m     \u001b[0mnet\u001b[0m\u001b[1;33m.\u001b[0m\u001b[0mtrain\u001b[0m\u001b[1;33m(\u001b[0m\u001b[1;33m)\u001b[0m\u001b[1;33m\u001b[0m\u001b[1;33m\u001b[0m\u001b[0m\n\u001b[0;32m     23\u001b[0m     \u001b[1;32mfor\u001b[0m \u001b[0mbatch_idx\u001b[0m\u001b[1;33m,\u001b[0m \u001b[1;33m(\u001b[0m\u001b[0mdata\u001b[0m\u001b[1;33m,\u001b[0m \u001b[0mtarget\u001b[0m\u001b[1;33m)\u001b[0m \u001b[1;32min\u001b[0m \u001b[0menumerate\u001b[0m\u001b[1;33m(\u001b[0m\u001b[0mtrainLoader\u001b[0m\u001b[1;33m)\u001b[0m\u001b[1;33m:\u001b[0m\u001b[1;33m\u001b[0m\u001b[1;33m\u001b[0m\u001b[0m\n\u001b[1;32m---> 24\u001b[1;33m         \u001b[0mpred\u001b[0m \u001b[1;33m=\u001b[0m \u001b[0mnet\u001b[0m\u001b[1;33m(\u001b[0m\u001b[0mdata\u001b[0m\u001b[1;33m)\u001b[0m\u001b[1;33m\u001b[0m\u001b[1;33m\u001b[0m\u001b[0m\n\u001b[0m\u001b[0;32m     25\u001b[0m \u001b[1;33m\u001b[0m\u001b[0m\n\u001b[0;32m     26\u001b[0m         \u001b[0mloss\u001b[0m \u001b[1;33m=\u001b[0m \u001b[0mcriterion\u001b[0m\u001b[1;33m(\u001b[0m\u001b[0mpred\u001b[0m\u001b[1;33m,\u001b[0m \u001b[0mtarget\u001b[0m\u001b[1;33m)\u001b[0m\u001b[1;33m\u001b[0m\u001b[1;33m\u001b[0m\u001b[0m\n",
      "\u001b[1;32m~\\anaconda3\\lib\\site-packages\\torch\\nn\\modules\\module.py\u001b[0m in \u001b[0;36m__call__\u001b[1;34m(self, *input, **kwargs)\u001b[0m\n\u001b[0;32m    530\u001b[0m             \u001b[0mresult\u001b[0m \u001b[1;33m=\u001b[0m \u001b[0mself\u001b[0m\u001b[1;33m.\u001b[0m\u001b[0m_slow_forward\u001b[0m\u001b[1;33m(\u001b[0m\u001b[1;33m*\u001b[0m\u001b[0minput\u001b[0m\u001b[1;33m,\u001b[0m \u001b[1;33m**\u001b[0m\u001b[0mkwargs\u001b[0m\u001b[1;33m)\u001b[0m\u001b[1;33m\u001b[0m\u001b[1;33m\u001b[0m\u001b[0m\n\u001b[0;32m    531\u001b[0m         \u001b[1;32melse\u001b[0m\u001b[1;33m:\u001b[0m\u001b[1;33m\u001b[0m\u001b[1;33m\u001b[0m\u001b[0m\n\u001b[1;32m--> 532\u001b[1;33m             \u001b[0mresult\u001b[0m \u001b[1;33m=\u001b[0m \u001b[0mself\u001b[0m\u001b[1;33m.\u001b[0m\u001b[0mforward\u001b[0m\u001b[1;33m(\u001b[0m\u001b[1;33m*\u001b[0m\u001b[0minput\u001b[0m\u001b[1;33m,\u001b[0m \u001b[1;33m**\u001b[0m\u001b[0mkwargs\u001b[0m\u001b[1;33m)\u001b[0m\u001b[1;33m\u001b[0m\u001b[1;33m\u001b[0m\u001b[0m\n\u001b[0m\u001b[0;32m    533\u001b[0m         \u001b[1;32mfor\u001b[0m \u001b[0mhook\u001b[0m \u001b[1;32min\u001b[0m \u001b[0mself\u001b[0m\u001b[1;33m.\u001b[0m\u001b[0m_forward_hooks\u001b[0m\u001b[1;33m.\u001b[0m\u001b[0mvalues\u001b[0m\u001b[1;33m(\u001b[0m\u001b[1;33m)\u001b[0m\u001b[1;33m:\u001b[0m\u001b[1;33m\u001b[0m\u001b[1;33m\u001b[0m\u001b[0m\n\u001b[0;32m    534\u001b[0m             \u001b[0mhook_result\u001b[0m \u001b[1;33m=\u001b[0m \u001b[0mhook\u001b[0m\u001b[1;33m(\u001b[0m\u001b[0mself\u001b[0m\u001b[1;33m,\u001b[0m \u001b[0minput\u001b[0m\u001b[1;33m,\u001b[0m \u001b[0mresult\u001b[0m\u001b[1;33m)\u001b[0m\u001b[1;33m\u001b[0m\u001b[1;33m\u001b[0m\u001b[0m\n",
      "\u001b[1;32m<ipython-input-135-f383c5b6961f>\u001b[0m in \u001b[0;36mforward\u001b[1;34m(self, x)\u001b[0m\n\u001b[0;32m      8\u001b[0m                 \u001b[0mself\u001b[0m\u001b[1;33m.\u001b[0m\u001b[0mfc3\u001b[0m   \u001b[1;33m=\u001b[0m \u001b[0mnn\u001b[0m\u001b[1;33m.\u001b[0m\u001b[0mLinear\u001b[0m\u001b[1;33m(\u001b[0m\u001b[1;36m84\u001b[0m\u001b[1;33m,\u001b[0m \u001b[1;36m2\u001b[0m\u001b[1;33m)\u001b[0m\u001b[1;33m\u001b[0m\u001b[1;33m\u001b[0m\u001b[0m\n\u001b[0;32m      9\u001b[0m         \u001b[1;32mdef\u001b[0m \u001b[0mforward\u001b[0m\u001b[1;33m(\u001b[0m\u001b[0mself\u001b[0m\u001b[1;33m,\u001b[0m \u001b[0mx\u001b[0m\u001b[1;33m)\u001b[0m\u001b[1;33m:\u001b[0m\u001b[1;33m\u001b[0m\u001b[1;33m\u001b[0m\u001b[0m\n\u001b[1;32m---> 10\u001b[1;33m                 \u001b[0mx\u001b[0m \u001b[1;33m=\u001b[0m \u001b[0mF\u001b[0m\u001b[1;33m.\u001b[0m\u001b[0mmax_pool2d\u001b[0m\u001b[1;33m(\u001b[0m\u001b[0mF\u001b[0m\u001b[1;33m.\u001b[0m\u001b[0mrelu\u001b[0m\u001b[1;33m(\u001b[0m\u001b[0mself\u001b[0m\u001b[1;33m.\u001b[0m\u001b[0mconv1\u001b[0m\u001b[1;33m(\u001b[0m\u001b[0mx\u001b[0m\u001b[1;33m)\u001b[0m\u001b[1;33m)\u001b[0m\u001b[1;33m,\u001b[0m \u001b[1;33m(\u001b[0m\u001b[1;36m2\u001b[0m\u001b[1;33m,\u001b[0m\u001b[1;36m2\u001b[0m\u001b[1;33m)\u001b[0m\u001b[1;33m)\u001b[0m\u001b[1;33m\u001b[0m\u001b[1;33m\u001b[0m\u001b[0m\n\u001b[0m\u001b[0;32m     11\u001b[0m                 \u001b[0mx\u001b[0m \u001b[1;33m=\u001b[0m \u001b[0mF\u001b[0m\u001b[1;33m.\u001b[0m\u001b[0mmax_pool2d\u001b[0m\u001b[1;33m(\u001b[0m\u001b[0mF\u001b[0m\u001b[1;33m.\u001b[0m\u001b[0mrelu\u001b[0m\u001b[1;33m(\u001b[0m\u001b[0mself\u001b[0m\u001b[1;33m.\u001b[0m\u001b[0mconv2\u001b[0m\u001b[1;33m(\u001b[0m\u001b[0mx\u001b[0m\u001b[1;33m)\u001b[0m\u001b[1;33m)\u001b[0m\u001b[1;33m,\u001b[0m \u001b[1;33m(\u001b[0m\u001b[1;36m2\u001b[0m\u001b[1;33m,\u001b[0m\u001b[1;36m2\u001b[0m\u001b[1;33m)\u001b[0m\u001b[1;33m)\u001b[0m\u001b[1;33m\u001b[0m\u001b[1;33m\u001b[0m\u001b[0m\n\u001b[0;32m     12\u001b[0m                 \u001b[0mx\u001b[0m \u001b[1;33m=\u001b[0m \u001b[0mx\u001b[0m\u001b[1;33m.\u001b[0m\u001b[0mview\u001b[0m\u001b[1;33m(\u001b[0m\u001b[1;33m-\u001b[0m\u001b[1;36m1\u001b[0m\u001b[1;33m,\u001b[0m \u001b[0mself\u001b[0m\u001b[1;33m.\u001b[0m\u001b[0mnum_flat_features\u001b[0m\u001b[1;33m(\u001b[0m\u001b[0mx\u001b[0m\u001b[1;33m)\u001b[0m\u001b[1;33m)\u001b[0m\u001b[1;33m\u001b[0m\u001b[1;33m\u001b[0m\u001b[0m\n",
      "\u001b[1;32m~\\anaconda3\\lib\\site-packages\\torch\\nn\\functional.py\u001b[0m in \u001b[0;36mrelu\u001b[1;34m(input, inplace)\u001b[0m\n\u001b[0;32m    912\u001b[0m         \u001b[0mresult\u001b[0m \u001b[1;33m=\u001b[0m \u001b[0mtorch\u001b[0m\u001b[1;33m.\u001b[0m\u001b[0mrelu_\u001b[0m\u001b[1;33m(\u001b[0m\u001b[0minput\u001b[0m\u001b[1;33m)\u001b[0m\u001b[1;33m\u001b[0m\u001b[1;33m\u001b[0m\u001b[0m\n\u001b[0;32m    913\u001b[0m     \u001b[1;32melse\u001b[0m\u001b[1;33m:\u001b[0m\u001b[1;33m\u001b[0m\u001b[1;33m\u001b[0m\u001b[0m\n\u001b[1;32m--> 914\u001b[1;33m         \u001b[0mresult\u001b[0m \u001b[1;33m=\u001b[0m \u001b[0mtorch\u001b[0m\u001b[1;33m.\u001b[0m\u001b[0mrelu\u001b[0m\u001b[1;33m(\u001b[0m\u001b[0minput\u001b[0m\u001b[1;33m)\u001b[0m\u001b[1;33m\u001b[0m\u001b[1;33m\u001b[0m\u001b[0m\n\u001b[0m\u001b[0;32m    915\u001b[0m     \u001b[1;32mreturn\u001b[0m \u001b[0mresult\u001b[0m\u001b[1;33m\u001b[0m\u001b[1;33m\u001b[0m\u001b[0m\n\u001b[0;32m    916\u001b[0m \u001b[1;33m\u001b[0m\u001b[0m\n",
      "\u001b[1;31mKeyboardInterrupt\u001b[0m: "
     ]
    }
   ],
   "source": [
    "net = LeNet()\n",
    "\n",
    "optimizer = optim.SGD(net.parameters(), lr=0.1, weight_decay=0)\n",
    "optimizer.zero_grad()\n",
    "\n",
    "criterion = nn.CrossEntropyLoss()\n",
    "\n",
    "def test(net, testLoader):\n",
    "    net.eval()\n",
    "    correct = 0\n",
    "    with torch.no_grad():\n",
    "        for (data,target) in testLoader:\n",
    "            output = net(data)\n",
    "            pred = output.max(1, keepdim=True)[1]\n",
    "            correct += pred.eq(target.view_as(pred)).sum().item()\n",
    "            \n",
    "        print(\"Test Accuracy: %f\" % (100.*correct/len(testLoader.dataset)))\n",
    "\n",
    "test(net, testLoader)\n",
    "\n",
    "for epoch in range(10):\n",
    "    net.train()\n",
    "    for batch_idx, (data, target) in enumerate(trainLoader):\n",
    "        pred = net(data)\n",
    "        \n",
    "        loss = criterion(pred, target)\n",
    "        loss.backward()\n",
    "        gn = 0\n",
    "        for f in net.parameters():\n",
    "            gn = gn + torch.norm(f.grad)\n",
    "        print(\"E: %d; B: %d; Loss: %f; ||g||: %f\" % (epoch, batch_idx, loss, gn))\n",
    "        optimizer.step()\n",
    "        optimizer.zero_grad()\n",
    "    \n",
    "    test(net, testLoader)"
   ]
  },
  {
   "cell_type": "code",
   "execution_count": null,
   "metadata": {},
   "outputs": [],
   "source": []
  }
 ],
 "metadata": {
  "kernelspec": {
   "display_name": "Python 3",
   "language": "python",
   "name": "python3"
  },
  "language_info": {
   "codemirror_mode": {
    "name": "ipython",
    "version": 3
   },
   "file_extension": ".py",
   "mimetype": "text/x-python",
   "name": "python",
   "nbconvert_exporter": "python",
   "pygments_lexer": "ipython3",
   "version": "3.7.6"
  }
 },
 "nbformat": 4,
 "nbformat_minor": 4
}

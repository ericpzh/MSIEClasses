{
 "cells": [
  {
   "cell_type": "code",
   "execution_count": 2,
   "metadata": {},
   "outputs": [
    {
     "name": "stdout",
     "output_type": "stream",
     "text": [
      "0.9241418199787564 0.07585818002124356\n",
      "0.8175744761936437 0.18242552380635635\n",
      "0.07585818002124355 0.9241418199787564\n",
      "0.02931223075135632 0.9706877692486436\n"
     ]
    }
   ],
   "source": [
    "import numpy as np\n",
    "\n",
    "data = [1, 2, 6, 7]\n",
    "for i in data:\n",
    "    p_x_a = 1/np.sqrt(2*np.pi*1**2) * np.exp(-(i - 3)**2/(2 * 1**2))\n",
    "    p_a = 0.5\n",
    "    p_x_b = 1/np.sqrt(2*np.pi*1**2) * np.exp(-(i - 4)**2/(2 * 1**2))\n",
    "    p_b = 0.5\n",
    "    p = p_x_a * p_a / (p_x_a * p_a + p_x_b * p_b)\n",
    "    print(p, 1-p)"
   ]
  },
  {
   "cell_type": "code",
   "execution_count": 15,
   "metadata": {},
   "outputs": [
    {
     "name": "stdout",
     "output_type": "stream",
     "text": [
      "3.238299669088984e-05\n",
      "5.931152735254121e-07\n",
      "0.9820137900379085\n",
      "0.01798620996209155\n"
     ]
    }
   ],
   "source": [
    "a = 1/(2*np.pi) * np.exp(-1/2*((1-2)**2 + (1-5)**2))\n",
    "print(a)\n",
    "b = 1/(2*np.pi) * np.exp(-1/2*((1-5)**2 + (1-4)**2))\n",
    "print(b)\n",
    "print(a*0.5 / (a*0.5+b*0.5))\n",
    "print(1 - a*0.5 / (a*0.5+b*0.5))"
   ]
  },
  {
   "cell_type": "code",
   "execution_count": 17,
   "metadata": {},
   "outputs": [
    {
     "name": "stdout",
     "output_type": "stream",
     "text": [
      "0.0010723775711956546\n",
      "7.225623237724323e-06\n",
      "0.9933071490757152\n",
      "0.006692850924284843\n"
     ]
    }
   ],
   "source": [
    "a = 1/(2*np.pi) * np.exp(-1/2*((1-2)**2 + (2-5)**2))\n",
    "print(a)\n",
    "b = 1/(2*np.pi) * np.exp(-1/2*((1-5)**2 + (2-4)**2))\n",
    "print(b)\n",
    "print(a*0.5 / (a*0.5+b*0.5))\n",
    "print(1 - a*0.5 / (a*0.5+b*0.5))"
   ]
  },
  {
   "cell_type": "code",
   "execution_count": 16,
   "metadata": {},
   "outputs": [
    {
     "name": "stdout",
     "output_type": "stream",
     "text": [
      "0.0017680517118520167\n",
      "0.0002392797792004706\n",
      "0.8807970779778825\n",
      "0.11920292202211746\n"
     ]
    }
   ],
   "source": [
    "a = 1/(2*np.pi) * np.exp(-1/2*((2-2)**2 + (2-5)**2))\n",
    "print(a)\n",
    "b = 1/(2*np.pi) * np.exp(-1/2*((2-5)**2 + (2-4)**2))\n",
    "print(b)\n",
    "print(a*0.5 / (a*0.5+b*0.5))\n",
    "print(1 - a*0.5 / (a*0.5+b*0.5))"
   ]
  },
  {
   "cell_type": "code",
   "execution_count": 18,
   "metadata": {},
   "outputs": [
    {
     "name": "stdout",
     "output_type": "stream",
     "text": [
      "3.238299669088984e-05\n",
      "0.013064233284684921\n",
      "0.0024726231566347743\n",
      "0.9975273768433652\n"
     ]
    }
   ],
   "source": [
    "a = 1/(2*np.pi) * np.exp(-1/2*((6-2)**2 + (6-5)**2))\n",
    "print(a)\n",
    "b = 1/(2*np.pi) * np.exp(-1/2*((6-5)**2 + (6-4)**2))\n",
    "print(b)\n",
    "print(a*0.5 / (a*0.5+b*0.5))\n",
    "print(1 - a*0.5 / (a*0.5+b*0.5))"
   ]
  },
  {
   "cell_type": "code",
   "execution_count": 19,
   "metadata": {},
   "outputs": [
    {
     "name": "stdout",
     "output_type": "stream",
     "text": [
      "7.225623237724323e-06\n",
      "0.0010723775711956546\n",
      "0.006692850924284856\n",
      "0.9933071490757152\n"
     ]
    }
   ],
   "source": [
    "a = 1/(2*np.pi) * np.exp(-1/2*((6-2)**2 + (7-5)**2))\n",
    "print(a)\n",
    "b = 1/(2*np.pi) * np.exp(-1/2*((6-5)**2 + (7-4)**2))\n",
    "print(b)\n",
    "print(a*0.5 / (a*0.5+b*0.5))\n",
    "print(1 - a*0.5 / (a*0.5+b*0.5))"
   ]
  },
  {
   "cell_type": "code",
   "execution_count": 20,
   "metadata": {},
   "outputs": [
    {
     "name": "stdout",
     "output_type": "stream",
     "text": [
      "8.026942353452266e-08\n",
      "0.0002392797792004706\n",
      "0.0003353501304664781\n",
      "0.9996646498695335\n"
     ]
    }
   ],
   "source": [
    "a = 1/(2*np.pi) * np.exp(-1/2*((7-2)**2 + (7-5)**2))\n",
    "print(a)\n",
    "b = 1/(2*np.pi) * np.exp(-1/2*((7-5)**2 + (7-4)**2))\n",
    "print(b)\n",
    "print(a*0.5 / (a*0.5+b*0.5))\n",
    "print(1 - a*0.5 / (a*0.5+b*0.5))"
   ]
  },
  {
   "cell_type": "code",
   "execution_count": null,
   "metadata": {},
   "outputs": [],
   "source": []
  }
 ],
 "metadata": {
  "kernelspec": {
   "display_name": "Python 3",
   "language": "python",
   "name": "python3"
  },
  "language_info": {
   "codemirror_mode": {
    "name": "ipython",
    "version": 3
   },
   "file_extension": ".py",
   "mimetype": "text/x-python",
   "name": "python",
   "nbconvert_exporter": "python",
   "pygments_lexer": "ipython3",
   "version": "3.7.3"
  }
 },
 "nbformat": 4,
 "nbformat_minor": 2
}

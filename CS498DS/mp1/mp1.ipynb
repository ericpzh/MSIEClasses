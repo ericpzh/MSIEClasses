{
 "cells": [
  {
   "cell_type": "markdown",
   "metadata": {},
   "source": [
    "    Group members: \n",
    "    \n",
    "    Zhonghao Pan     (NetID: zp3)\n",
    "    Xiaoqi Bi        (NetID:xiaoqib2)\n",
    "    Jiahao Liang     (NetID: )\n"
   ]
  },
  {
   "cell_type": "code",
   "execution_count": 1,
   "metadata": {},
   "outputs": [],
   "source": [
    "import pandas as pd \n",
    "import seaborn as sns\n",
    "import numpy as np  \n",
    "import datetime\n",
    "from scipy import stats as st\n",
    "from datetime import datetime"
   ]
  },
  {
   "cell_type": "markdown",
   "metadata": {},
   "source": [
    "# Task 0"
   ]
  },
  {
   "cell_type": "markdown",
   "metadata": {},
   "source": [
    "## Question 1: Import decoded CSV using pandas"
   ]
  },
  {
   "cell_type": "code",
   "execution_count": 2,
   "metadata": {},
   "outputs": [],
   "source": [
    "totalmiles = pd.read_csv('mp1_av_totalmiles.csv')\n",
    "disengagements = pd.read_csv('mp1_av_disengagements.csv')"
   ]
  },
  {
   "cell_type": "markdown",
   "metadata": {},
   "source": [
    "## Question 2: Summarize the following information"
   ]
  },
  {
   "cell_type": "markdown",
   "metadata": {},
   "source": [
    "### Total number of AV disengagements over the entire duration of available data"
   ]
  },
  {
   "cell_type": "code",
   "execution_count": 31,
   "metadata": {},
   "outputs": [
    {
     "name": "stdout",
     "output_type": "stream",
     "text": [
      "1024\n"
     ]
    }
   ],
   "source": [
    "print(len(disengagements))"
   ]
  },
  {
   "cell_type": "markdown",
   "metadata": {},
   "source": [
    "### Number of unique months that have recorded AV disengagements\n"
   ]
  },
  {
   "cell_type": "code",
   "execution_count": 32,
   "metadata": {},
   "outputs": [
    {
     "name": "stdout",
     "output_type": "stream",
     "text": [
      "Index(['Month', 'Car', 'Location', 'Weather', 'TypeOfTrigger', 'ReactionTime',\n",
      "       'Cause'],\n",
      "      dtype='object')\n"
     ]
    }
   ],
   "source": [
    "print(disengagements.columns)"
   ]
  },
  {
   "cell_type": "code",
   "execution_count": 33,
   "metadata": {},
   "outputs": [
    {
     "data": {
      "text/plain": [
       "array(['14-Sep', '14-Oct', '14-Nov', '14-Dec', '15-Jan', '15-Feb',\n",
       "       '15-Mar', '15-Apr', '15-May', '15-Jun', '15-Jul', '15-Aug',\n",
       "       '15-Sep', '15-Oct', '15-Nov'], dtype=object)"
      ]
     },
     "execution_count": 33,
     "metadata": {},
     "output_type": "execute_result"
    }
   ],
   "source": [
    "disengagements['Month'].unique()"
   ]
  },
  {
   "cell_type": "markdown",
   "metadata": {},
   "source": [
    "### List of unique locations of AV disengagements"
   ]
  },
  {
   "cell_type": "code",
   "execution_count": 34,
   "metadata": {},
   "outputs": [
    {
     "data": {
      "text/plain": [
       "array(['urban-street', 'highway'], dtype=object)"
      ]
     },
     "execution_count": 34,
     "metadata": {},
     "output_type": "execute_result"
    }
   ],
   "source": [
    "disengagements['Location'].unique()"
   ]
  },
  {
   "cell_type": "markdown",
   "metadata": {},
   "source": [
    "### Number of unique causes for AV disengagements"
   ]
  },
  {
   "cell_type": "code",
   "execution_count": 35,
   "metadata": {},
   "outputs": [
    {
     "data": {
      "text/plain": [
       "array(['Incorrect Traffic Light Detection',\n",
       "       'Adverse road surface conditions', 'Position Estimation Failure',\n",
       "       'Emergency Vehicle', 'Software Froze', 'Hardware Fault',\n",
       "       'Incorrect behavior prediction of others',\n",
       "       'Recklessly behaving agent', 'System Tuning and Calibration',\n",
       "       'Unwanted Driver Discomfort'], dtype=object)"
      ]
     },
     "execution_count": 35,
     "metadata": {},
     "output_type": "execute_result"
    }
   ],
   "source": [
    "disengagements['Cause'].unique()"
   ]
  },
  {
   "cell_type": "markdown",
   "metadata": {},
   "source": [
    "### Which columns in the datasets (if any) have missing values? "
   ]
  },
  {
   "cell_type": "code",
   "execution_count": 36,
   "metadata": {},
   "outputs": [
    {
     "name": "stdout",
     "output_type": "stream",
     "text": [
      "Month            1024\n",
      "Car              1024\n",
      "Location         1024\n",
      "Weather          1024\n",
      "TypeOfTrigger    1024\n",
      "ReactionTime      492\n",
      "Cause            1024\n",
      "dtype: int64\n",
      "Month                                 17\n",
      "Car                                   17\n",
      "miles driven in autonomous mode       17\n",
      "total number of disengagements        17\n",
      "number of automatic disengagements    17\n",
      "number of manual disengagements       17\n",
      "dtype: int64\n"
     ]
    }
   ],
   "source": [
    "print(disengagements.count())\n",
    "print(totalmiles.count())"
   ]
  },
  {
   "cell_type": "markdown",
   "metadata": {},
   "source": [
    "#### Only disengaement csv's ReactionTime has n/a"
   ]
  },
  {
   "cell_type": "markdown",
   "metadata": {},
   "source": [
    "### How many missing values do these column(s) have?"
   ]
  },
  {
   "cell_type": "code",
   "execution_count": 37,
   "metadata": {
    "scrolled": true
   },
   "outputs": [
    {
     "data": {
      "text/plain": [
       "532"
      ]
     },
     "execution_count": 37,
     "metadata": {},
     "output_type": "execute_result"
    }
   ],
   "source": [
    "disengagements['ReactionTime'].isnull().sum()"
   ]
  },
  {
   "cell_type": "markdown",
   "metadata": {},
   "source": [
    "## Question 3: Plot a pie chart for the causes of AV disengagement. "
   ]
  },
  {
   "cell_type": "code",
   "execution_count": 38,
   "metadata": {},
   "outputs": [
    {
     "data": {
      "image/png": "[encoded data removed]",
      "text/plain": [
       "<Figure size 864x576 with 1 Axes>"
      ]
     },
     "metadata": {},
     "output_type": "display_data"
    }
   ],
   "source": [
    "import matplotlib\n",
    "import matplotlib.pyplot as plt\n",
    "matplotlib.rcParams['figure.figsize'] = [12.0, 8.0]\n",
    "import matplotlib as mpl\n",
    "mpl.rcParams['font.size'] = 20.0\n",
    "\n",
    "causes = disengagements['Cause'].value_counts()\n",
    "causes = causes[causes>10]\n",
    "patches, texts, _ = plt.pie(causes, \n",
    "        # grab labels from frame keys\n",
    "        labels=causes.keys(),\n",
    "        # some formatting\n",
    "        autopct='%.0f%%', shadow=True)\n",
    "#plt.legend(patches, labels=causes.keys(), bbox_to_anchor=(0.85,1.025),loc=\"upper left\")\n",
    "#plt.axis('equal')\n",
    "plt.show()"
   ]
  },
  {
   "cell_type": "markdown",
   "metadata": {},
   "source": [
    "### Based on the pie-chart, list the top 2 leading causes of disengagement?"
   ]
  },
  {
   "cell_type": "markdown",
   "metadata": {},
   "source": [
    "#### Recklessly behaving agent (12%) & Unwanted Driver Discomfort (12%)"
   ]
  },
  {
   "cell_type": "markdown",
   "metadata": {},
   "source": [
    "## Question 4: Visualize the trend of disengagement/mile over time with monthly granularity"
   ]
  },
  {
   "cell_type": "code",
   "execution_count": 39,
   "metadata": {},
   "outputs": [],
   "source": [
    "disengagements.Month = pd.to_datetime(disengagements.Month, format='%y-%b')\n",
    "disengagements.set_index('Month',inplace=True)"
   ]
  },
  {
   "cell_type": "code",
   "execution_count": 40,
   "metadata": {},
   "outputs": [
    {
     "data": {
      "text/plain": [
       "<function matplotlib.pyplot.title(label, fontdict=None, loc='center', pad=None, **kwargs)>"
      ]
     },
     "execution_count": 40,
     "metadata": {},
     "output_type": "execute_result"
    },
    {
     "data": {
      "image/png": "[encoded data removed]",
      "text/plain": [
       "<Figure size 1440x720 with 1 Axes>"
      ]
     },
     "metadata": {
      "needs_background": "light"
     },
     "output_type": "display_data"
    }
   ],
   "source": [
    "disengagements.groupby('Month').count()['Car'].plot(figsize=(20,10), linewidth=5, fontsize=20)\n",
    "plt.xlabel('Month',fontsize=20);\n",
    "plt.ylabel('Count',fontsize=20)\n",
    "plt.title"
   ]
  },
  {
   "cell_type": "markdown",
   "metadata": {},
   "source": [
    "### How would you describe the trend? "
   ]
  },
  {
   "cell_type": "markdown",
   "metadata": {},
   "source": [
    "#### Decressing trend."
   ]
  },
  {
   "cell_type": "markdown",
   "metadata": {},
   "source": [
    "### Are AV’s maturing over time?"
   ]
  },
  {
   "cell_type": "markdown",
   "metadata": {},
   "source": [
    "#### Yes"
   ]
  },
  {
   "cell_type": "markdown",
   "metadata": {},
   "source": [
    "# Task 1 – Basic Analysis of AV Disengagements"
   ]
  },
  {
   "cell_type": "markdown",
   "metadata": {},
   "source": [
    "## Question 1: What do the following distributions signify about samples drawn from it"
   ]
  },
  {
   "cell_type": "markdown",
   "metadata": {},
   "source": [
    "### Gaussian distribution"
   ]
  },
  {
   "cell_type": "markdown",
   "metadata": {},
   "source": [
    "#### It's symmetrical, single peak"
   ]
  },
  {
   "cell_type": "markdown",
   "metadata": {},
   "source": [
    "### Exponential distribution"
   ]
  },
  {
   "cell_type": "markdown",
   "metadata": {},
   "source": [
    "#### Skew to the right"
   ]
  },
  {
   "cell_type": "markdown",
   "metadata": {},
   "source": [
    "### Weibull distribution"
   ]
  },
  {
   "cell_type": "markdown",
   "metadata": {},
   "source": [
    "#### ?"
   ]
  },
  {
   "cell_type": "markdown",
   "metadata": {},
   "source": [
    "## Question 2: If the AV suddenly disengages, there may not be enough time for the human to react. It is also possible, that the human is not sufficiently attentive while in the AV because of reliance on the technology. To understand the human alertness level, we measure the reaction time of the human driver in the field. Plot the probability distribution of reaction times. "
   ]
  },
  {
   "cell_type": "code",
   "execution_count": 41,
   "metadata": {},
   "outputs": [
    {
     "data": {
      "image/png": "[encoded data removed]",
      "text/plain": [
       "<Figure size 864x576 with 1 Axes>"
      ]
     },
     "metadata": {
      "needs_background": "light"
     },
     "output_type": "display_data"
    }
   ],
   "source": [
    "ax = sns.distplot(disengagements['ReactionTime'].dropna(), kde=False)\n",
    "ax.set_ylabel('Probability')\n",
    "plt.show()"
   ]
  },
  {
   "cell_type": "markdown",
   "metadata": {},
   "source": [
    "###  Does this distribution fit any known distributions (Gaussian, Weibull,Exponential)?"
   ]
  },
  {
   "cell_type": "code",
   "execution_count": 42,
   "metadata": {},
   "outputs": [
    {
     "data": {
      "image/png": "[encoded data removed]",
      "text/plain": [
       "<Figure size 864x576 with 1 Axes>"
      ]
     },
     "metadata": {
      "needs_background": "light"
     },
     "output_type": "display_data"
    }
   ],
   "source": [
    "ax = sns.distplot(disengagements['ReactionTime'].dropna(), kde=False, fit=st.expon)#,bins=10)\n",
    "ax.set_ylabel('Probability')\n",
    "plt.legend(['Exponential fit', 'Data'])\n",
    "plt.show()"
   ]
  },
  {
   "cell_type": "markdown",
   "metadata": {},
   "source": [
    "### What does the fit distribution signify?"
   ]
  },
  {
   "cell_type": "markdown",
   "metadata": {},
   "source": [
    "#### Since it fits the exponential distribution pretty well, ..."
   ]
  },
  {
   "cell_type": "markdown",
   "metadata": {},
   "source": [
    "## Question 3: Compute the average reaction time"
   ]
  },
  {
   "cell_type": "markdown",
   "metadata": {},
   "source": [
    "### For the entire duration of the dataset"
   ]
  },
  {
   "cell_type": "code",
   "execution_count": 43,
   "metadata": {},
   "outputs": [
    {
     "data": {
      "text/plain": [
       "0.9297703252032526"
      ]
     },
     "execution_count": 43,
     "metadata": {},
     "output_type": "execute_result"
    }
   ],
   "source": [
    "disengagements['ReactionTime'].mean()"
   ]
  },
  {
   "cell_type": "markdown",
   "metadata": {},
   "source": [
    "### For the entire duration of the dataset differentiated by the location of disengagement"
   ]
  },
  {
   "cell_type": "code",
   "execution_count": 44,
   "metadata": {},
   "outputs": [
    {
     "data": {
      "text/plain": [
       "Location\n",
       "highway         1.48000\n",
       "urban-street    0.92865\n",
       "Name: ReactionTime, dtype: float64"
      ]
     },
     "execution_count": 44,
     "metadata": {},
     "output_type": "execute_result"
    }
   ],
   "source": [
    "disengagements.groupby('Location')['ReactionTime'].mean()"
   ]
  },
  {
   "cell_type": "markdown",
   "metadata": {},
   "source": [
    "## Question 4: It is known that the mean reaction time for humans in non-AV cars is 1.09 seconds. Is the mean reaction time for humans in AV cars different from non-AV cars? Perform a hypothesis testing at a 0.05 significance level."
   ]
  },
  {
   "cell_type": "code",
   "execution_count": 45,
   "metadata": {},
   "outputs": [
    {
     "data": {
      "text/plain": [
       "Ttest_1sampResult(statistic=-2.0986037086235854, pvalue=0.03636206696694606)"
      ]
     },
     "execution_count": 45,
     "metadata": {},
     "output_type": "execute_result"
    }
   ],
   "source": [
    "from scipy import stats\n",
    "\n",
    "reaction_times = disengagements['ReactionTime'].dropna()\n",
    "\n",
    "stats.ttest_1samp(list(reaction_times),1.09)\n"
   ]
  },
  {
   "cell_type": "markdown",
   "metadata": {},
   "source": [
    "### Since the p value = 0.036 < 0.05, we reject the null hypothesis and conclude that there is significant different between the mean reaction time for humnas in non-AV cars and human in AV cars."
   ]
  },
  {
   "cell_type": "markdown",
   "metadata": {},
   "source": [
    "## Question 5: Plot the probability distribution of disengagements/mile with monthly granularity."
   ]
  },
  {
   "cell_type": "code",
   "execution_count": 46,
   "metadata": {},
   "outputs": [
    {
     "data": {
      "image/png": "[encoded data removed]",
      "text/plain": [
       "<Figure size 864x576 with 1 Axes>"
      ]
     },
     "metadata": {
      "needs_background": "light"
     },
     "output_type": "display_data"
    }
   ],
   "source": [
    "ax = sns.distplot(disengagements.groupby('Month').count()['Car'], kde=False)\n",
    "ax.set_xlabel('Month')\n",
    "ax.set_ylabel('Number of disengagement')\n",
    "plt.show()"
   ]
  },
  {
   "cell_type": "markdown",
   "metadata": {},
   "source": [
    "###  Does this distribution fit any known distributions (Gaussian, Weibull,Exponential)?"
   ]
  },
  {
   "cell_type": "code",
   "execution_count": 47,
   "metadata": {},
   "outputs": [
    {
     "data": {
      "image/png": "[encoded data removed]",
      "text/plain": [
       "<Figure size 864x576 with 1 Axes>"
      ]
     },
     "metadata": {
      "needs_background": "light"
     },
     "output_type": "display_data"
    }
   ],
   "source": [
    "ax = sns.distplot(disengagements.groupby('Month').count()['Car'], kde=False, fit=st.expon)#,bins=10)\n",
    "ax.set_xlabel('Month')\n",
    "ax.set_ylabel('Number of disengagement')\n",
    "plt.legend(['Exponential fit', 'Data'])\n",
    "plt.show()"
   ]
  },
  {
   "cell_type": "markdown",
   "metadata": {},
   "source": [
    "###  What does the distribution that fits signify?"
   ]
  },
  {
   "cell_type": "markdown",
   "metadata": {},
   "source": [
    "#### Since it fits the exponential distribution pretty well, ..."
   ]
  },
  {
   "cell_type": "markdown",
   "metadata": {},
   "source": [
    "# Task 2 – Probabilistic Analysis of AV Disengagement"
   ]
  },
  {
   "cell_type": "markdown",
   "metadata": {},
   "source": [
    "## Question 1. Based on the above assumptions, answer the following questions on basic probability."
   ]
  },
  {
   "cell_type": "markdown",
   "metadata": {},
   "source": [
    "###  a. The assumption on maximum number of disengagements in a mile allows us to treat the occurrence of a disengagement in a mile as a random variable with a _________________ distribution."
   ]
  },
  {
   "cell_type": "markdown",
   "metadata": {},
   "source": [
    "####  binomial"
   ]
  },
  {
   "cell_type": "markdown",
   "metadata": {},
   "source": [
    "###  b. Based on the above assumptions, calculate the probability of disengagement per mile on a cloudy day."
   ]
  },
  {
   "cell_type": "code",
   "execution_count": 48,
   "metadata": {},
   "outputs": [
    {
     "name": "stdout",
     "output_type": "stream",
     "text": [
      "Probability of disengagement per mile on a cloudy day:\n",
      "0.005902556775527249\n"
     ]
    }
   ],
   "source": [
    "# number of dis on cloudy day / # miles  driven on cloudy day (72% miles are cloudy?)\n",
    "# ???????????????????????????????????????????????????????????????????????????????????\n",
    "total_number_of_disengagement_on_cloudy_day = sum(list(disengagements.loc[disengagements['Weather'] == 'cloudy'].groupby('Car')['Weather'].count()))\n",
    "total_number_of_miles_driven_on_cloudy_day = sum(list(totalmiles.groupby('Car')['miles driven in autonomous mode'].sum())) * (1 - 0.72)\n",
    "print('Probability of disengagement per mile on a cloudy day:')\n",
    "print(total_number_of_disengagement_on_cloudy_day/total_number_of_miles_driven_on_cloudy_day)"
   ]
  },
  {
   "cell_type": "markdown",
   "metadata": {},
   "source": [
    "###  c. Based on the above assumptions, calculate the probability of disengagement per mile on a clear day."
   ]
  },
  {
   "cell_type": "code",
   "execution_count": 49,
   "metadata": {},
   "outputs": [
    {
     "name": "stdout",
     "output_type": "stream",
     "text": [
      "Probability of disengagement per mile on a clear day:\n",
      "0.0005195663748517998\n"
     ]
    }
   ],
   "source": [
    "total_number_of_disengagement_on_clear_day = sum(list(disengagements.loc[disengagements['Weather'] == 'clear'].groupby('Car')['Weather'].count()))\n",
    "total_number_of_miles_driven_on_clear_day = sum(list(totalmiles.groupby('Car')['miles driven in autonomous mode'].sum())) * 0.72\n",
    "print('Probability of disengagement per mile on a clear day:')\n",
    "print(total_number_of_disengagement_on_clear_day/total_number_of_miles_driven_on_clear_day)"
   ]
  },
  {
   "cell_type": "markdown",
   "metadata": {},
   "source": [
    "###  d. Similarly, calculate the probability of an automatic disengagement per mile on a cloudy day, and the probability of an automatic disengagement per mile on a clear day."
   ]
  },
  {
   "cell_type": "code",
   "execution_count": 20,
   "metadata": {
    "scrolled": true
   },
   "outputs": [
    {
     "name": "stdout",
     "output_type": "stream",
     "text": [
      "Probability of an automatic disengagement per mile on a cloudy day:\n",
      "0.0028063653172267283\n"
     ]
    }
   ],
   "source": [
    "total_number_of_auto_disengagement_on_cloudy_day = sum(list(disengagements.loc[disengagements['Weather'] == 'cloudy'].loc[disengagements['TypeOfTrigger'] == 'automatic'].groupby('Car')['Weather'].count()))\n",
    "total_number_of_miles_driven_on_cloudy_day = sum(list(totalmiles.groupby('Car')['miles driven in autonomous mode'].sum())) * (1 - 0.72)\n",
    "print('Probability of an automatic disengagement per mile on a cloudy day:')\n",
    "print(total_number_of_auto_disengagement_on_cloudy_day/total_number_of_miles_driven_on_cloudy_day)"
   ]
  },
  {
   "cell_type": "code",
   "execution_count": 19,
   "metadata": {
    "scrolled": true
   },
   "outputs": [
    {
     "name": "stdout",
     "output_type": "stream",
     "text": [
      "Probability of an automatic disengagement per mile on a clear day:\n",
      "0.00026390673008345393\n"
     ]
    }
   ],
   "source": [
    "total_number_of_auto_disengagement_on_clear_day = sum(list(disengagements.loc[disengagements['Weather'] == 'clear'].loc[disengagements['TypeOfTrigger'] == 'automatic'].groupby('Car')['Weather'].count()))\n",
    "total_number_of_miles_driven_on_clear_day = sum(list(totalmiles.groupby('Car')['miles driven in autonomous mode'].sum())) * 0.72\n",
    "print('Probability of an automatic disengagement per mile on a clear day:')\n",
    "print(total_number_of_auto_disengagement_on_clear_day/total_number_of_miles_driven_on_clear_day)"
   ]
  },
  {
   "cell_type": "markdown",
   "metadata": {},
   "source": [
    "###  e. How likely is it that in 12000 miles, there are 150 or more disengagements under cloudy conditions? [Hint: Think of an appropriate approximation that makes the computation feasible/easier.]"
   ]
  },
  {
   "cell_type": "code",
   "execution_count": 54,
   "metadata": {},
   "outputs": [
    {
     "name": "stdout",
     "output_type": "stream",
     "text": [
      "Probability of in 12000 miles, there are 150 or more disengagements under cloudy conditions:\n",
      "1.9591016830538447e-21\n"
     ]
    }
   ],
   "source": [
    "n = 12000\n",
    "p = total_number_of_disengagement_on_cloudy_day/total_number_of_miles_driven_on_cloudy_day\n",
    "miu = n * p\n",
    "sigma = np.sqrt(n * p * (1 - p))\n",
    "z = (150 - miu)/sigma\n",
    "p_val = st.norm.sf(abs(z))\n",
    "print('Probability of in 12000 miles, there are 150 or more disengagements under cloudy conditions:')\n",
    "print(p_val)"
   ]
  },
  {
   "cell_type": "markdown",
   "metadata": {},
   "source": [
    "## Question 2. Answer the following question about hypothesis testing:"
   ]
  },
  {
   "cell_type": "markdown",
   "metadata": {},
   "source": [
    "###  a. What does the normal distribution represent in the hypothesis testing?"
   ]
  },
  {
   "cell_type": "markdown",
   "metadata": {},
   "source": [
    "####  what?"
   ]
  },
  {
   "cell_type": "markdown",
   "metadata": {},
   "source": [
    "###  b. Does rejecting the null hypothesis mean accepting the alternative hypothesis? Explain your answer."
   ]
  },
  {
   "cell_type": "markdown",
   "metadata": {},
   "source": [
    "####  Yes? "
   ]
  },
  {
   "cell_type": "markdown",
   "metadata": {},
   "source": [
    "## Question 3. At a 0.05 significance level, test the following hypothesis:  [Hint: Use a Z-test for testing this hypothesis]."
   ]
  },
  {
   "cell_type": "markdown",
   "metadata": {},
   "source": [
    "###  The AV has more disengagements (automatic and manual) on cloudy days than clear days. "
   ]
  },
  {
   "cell_type": "code",
   "execution_count": 55,
   "metadata": {},
   "outputs": [
    {
     "name": "stdout",
     "output_type": "stream",
     "text": [
      "0.0\n"
     ]
    }
   ],
   "source": [
    "#Two Proportion Z-Test\n",
    "p1 = total_number_of_disengagement_on_cloudy_day/total_number_of_miles_driven_on_cloudy_day\n",
    "p2 = total_number_of_disengagement_on_clear_day/total_number_of_miles_driven_on_clear_day\n",
    "p_overall = (total_number_of_disengagement_on_cloudy_day + total_number_of_disengagement_on_clear_day) / (total_number_of_miles_driven_on_cloudy_day + total_number_of_miles_driven_on_clear_day)\n",
    "z = ((p1 - p2) - 0) / np.sqrt(p_overall * (1-p_overall) * (1/total_number_of_miles_driven_on_cloudy_day + 1/total_number_of_miles_driven_on_clear_day))\n",
    "p_val = st.norm.sf(abs(z))\n",
    "\n",
    "print(p_val)"
   ]
  },
  {
   "cell_type": "markdown",
   "metadata": {},
   "source": [
    "###  Based on the result of the hypothesis test, what can you conclude about the impact of weather conditions on AV safety?"
   ]
  },
  {
   "cell_type": "markdown",
   "metadata": {},
   "source": [
    "####  Since p value is smaller than 0.05, we reject the null and conclude that the AV has more disengagements (automatic and manual) on cloudy days than clear days."
   ]
  },
  {
   "cell_type": "markdown",
   "metadata": {},
   "source": [
    "## Question 4. What’s the conditional probability that the reaction time is: (Hint, there might be multiple conditions to consider.)"
   ]
  },
  {
   "cell_type": "markdown",
   "metadata": {},
   "source": [
    "###  a. Greater than 0.6s given that the weather was cloudy? Reaction time is measured only in cases where there was an automatic disengagement."
   ]
  },
  {
   "cell_type": "code",
   "execution_count": 17,
   "metadata": {
    "scrolled": true
   },
   "outputs": [
    {
     "name": "stdout",
     "output_type": "stream",
     "text": [
      "Probability that reaction time is greater than 0.6s given that the weather was cloudy:\n",
      "0.47474747474747475\n"
     ]
    }
   ],
   "source": [
    "number_of_disengagement_in_cloudy_day = disengagements.dropna().loc[disengagements['Weather'] == 'cloudy']['Month'].count()\n",
    "number_of_disengagement_with_reaction_time_greater_than_point_six_in_cloudy_day = disengagements.dropna().loc[disengagements['Weather'] == 'cloudy'].loc[disengagements['ReactionTime'].astype('float64') > 0.6]['Month'].count()\n",
    "print('Probability that reaction time is greater than 0.6s given that the weather was cloudy:')\n",
    "print(number_of_disengagement_with_reaction_time_greater_than_point_six_in_cloudy_day/number_of_disengagement_in_cloudy_day)"
   ]
  },
  {
   "cell_type": "markdown",
   "metadata": {},
   "source": [
    "###  b. Greater than 0.9s given the weather was clear? Reaction time is measured only in cases where there was an automatic disengagement."
   ]
  },
  {
   "cell_type": "code",
   "execution_count": 18,
   "metadata": {
    "scrolled": true
   },
   "outputs": [
    {
     "name": "stdout",
     "output_type": "stream",
     "text": [
      "Probability that reaction time is greater than 0.9s given that the weather was clear:\n",
      "0.28125\n"
     ]
    }
   ],
   "source": [
    "number_of_disengagement_in_cloudy_day = disengagements.dropna().loc[disengagements['Weather'] == 'clear']['Month'].count()\n",
    "number_of_disengagement_with_reaction_time_greater_than_point_six_in_cloudy_day = disengagements.dropna().loc[disengagements['Weather'] == 'clear'].loc[disengagements['ReactionTime'].astype('float64') > 0.9]['Month'].count()\n",
    "print('Probability that reaction time is greater than 0.9s given that the weather was clear:')\n",
    "print(number_of_disengagement_with_reaction_time_greater_than_point_six_in_cloudy_day/number_of_disengagement_in_cloudy_day)"
   ]
  },
  {
   "cell_type": "markdown",
   "metadata": {},
   "source": [
    "## Question 5. A study found that an automatic AV disengagement will result in an accident if the human driver is slow in reacting. Following reactions are considered slow: (i) a reaction time greater than 0.6s under cloudy conditions and, (ii) a reaction time greater than 0.9s under clear conditions. Find the probability of an accident per mile involving an AV disengagement. [Hint: Use the theorem of total probability to express the probability of an accident per mile as a sum of the conditional probabilities calculated in the previous questions in this task]."
   ]
  },
  {
   "cell_type": "code",
   "execution_count": 58,
   "metadata": {},
   "outputs": [],
   "source": [
    "#P(accident? per mile | AV disengagement) what is accident?\n"
   ]
  },
  {
   "cell_type": "markdown",
   "metadata": {},
   "source": [
    "## Question 6. The probability of a human driver causing a car accident is 2x10-6 [4]. How do AVs compare to human drivers? Justify your conclusion and explain its consequences."
   ]
  },
  {
   "cell_type": "markdown",
   "metadata": {},
   "source": [
    "###  answer"
   ]
  },
  {
   "cell_type": "markdown",
   "metadata": {},
   "source": [
    "## Question 7. The hypothesis test you performed in this task is an example of a parametric test that assumes that the observed data is distributed similarly to some other well-known distribution (such as a normal distribution). However, sometimes, we need to compare two distributions of data that don’t follow any such well-known distributions. Perform a two-sample Kolmogorov-Smirnov test (using the ks_2samp package from Scipy) to compare the following two distributions: (1) distribution of disengagement reaction time when the weather is cloudy and (2) distribution of disengagement reaction time when the weather is clear. "
   ]
  },
  {
   "cell_type": "markdown",
   "metadata": {},
   "source": [
    "### What are your null and alternative hypotheses? "
   ]
  },
  {
   "cell_type": "markdown",
   "metadata": {},
   "source": [
    "#### H0: Distribution of disengagement reaction time when the weather is cloudy and distribution of disengagement reaction time when the weather is clear are the same.\n",
    "#### Ha: distribution of disengagement reaction time when the weather is cloudy and distribution of disengagement reaction time when the weather is clear are different."
   ]
  },
  {
   "cell_type": "markdown",
   "metadata": {},
   "source": [
    "###  Assuming a significance level threshold of 0.1, what can you conclude from the test results about the impact of weather conditions on disengagement reaction time?"
   ]
  },
  {
   "cell_type": "code",
   "execution_count": 59,
   "metadata": {},
   "outputs": [
    {
     "data": {
      "text/plain": [
       "Ks_2sampResult(statistic=0.05145202020202011, pvalue=0.9843290571186449)"
      ]
     },
     "execution_count": 59,
     "metadata": {},
     "output_type": "execute_result"
    }
   ],
   "source": [
    "distribution_of_disengagement_reaction_time_cloudy = list(disengagements.loc[disengagements['Weather'] == 'cloudy'].dropna()['ReactionTime'])\n",
    "distribution_of_disengagement_reaction_time_clear = list(disengagements.loc[disengagements['Weather'] == 'clear'].dropna()['ReactionTime'])\n",
    "st.ks_2samp(distribution_of_disengagement_reaction_time_cloudy, distribution_of_disengagement_reaction_time_clear)"
   ]
  },
  {
   "cell_type": "markdown",
   "metadata": {},
   "source": [
    "####  Since P value = 0.98 > 0.1, we fail to reject the null, and conclude that the distribution of reaction time in cloudy and clear day are the same."
   ]
  },
  {
   "cell_type": "markdown",
   "metadata": {},
   "source": [
    "# Task 3 - Using the Naive Bayes Model"
   ]
  },
  {
   "cell_type": "markdown",
   "metadata": {},
   "source": [
    "## Question 1. Though there are 10 different causes for disengagement, they can be grouped into the following 3 classes – (i) Controller, (ii) Perception System, and (iii) Computer System. The mapping from Disengagement Cause to Class is given in the table below. You will use these 3 classes as the labels in the NB model. Modify your pandas data frame to include a ‘Class’ column."
   ]
  },
  {
   "cell_type": "code",
   "execution_count": 3,
   "metadata": {},
   "outputs": [
    {
     "data": {
      "text/html": [
       "<div>\n",
       "<style scoped>\n",
       "    .dataframe tbody tr th:only-of-type {\n",
       "        vertical-align: middle;\n",
       "    }\n",
       "\n",
       "    .dataframe tbody tr th {\n",
       "        vertical-align: top;\n",
       "    }\n",
       "\n",
       "    .dataframe thead th {\n",
       "        text-align: right;\n",
       "    }\n",
       "</style>\n",
       "<table border=\"1\" class=\"dataframe\">\n",
       "  <thead>\n",
       "    <tr style=\"text-align: right;\">\n",
       "      <th></th>\n",
       "      <th>Month</th>\n",
       "      <th>Car</th>\n",
       "      <th>Location</th>\n",
       "      <th>Weather</th>\n",
       "      <th>TypeOfTrigger</th>\n",
       "      <th>ReactionTime</th>\n",
       "      <th>Cause</th>\n",
       "      <th>Class</th>\n",
       "    </tr>\n",
       "  </thead>\n",
       "  <tbody>\n",
       "    <tr>\n",
       "      <th>0</th>\n",
       "      <td>14-Sep</td>\n",
       "      <td>WDD2221851A001072</td>\n",
       "      <td>urban-street</td>\n",
       "      <td>cloudy</td>\n",
       "      <td>automatic</td>\n",
       "      <td>0.58</td>\n",
       "      <td>Incorrect Traffic Light Detection</td>\n",
       "      <td>Perception System</td>\n",
       "    </tr>\n",
       "    <tr>\n",
       "      <th>1</th>\n",
       "      <td>14-Sep</td>\n",
       "      <td>WDD2221851A001072</td>\n",
       "      <td>urban-street</td>\n",
       "      <td>cloudy</td>\n",
       "      <td>automatic</td>\n",
       "      <td>0.66</td>\n",
       "      <td>Adverse road surface conditions</td>\n",
       "      <td>Perception System</td>\n",
       "    </tr>\n",
       "    <tr>\n",
       "      <th>2</th>\n",
       "      <td>14-Sep</td>\n",
       "      <td>WDD2221851A001072</td>\n",
       "      <td>urban-street</td>\n",
       "      <td>cloudy</td>\n",
       "      <td>automatic</td>\n",
       "      <td>1.93</td>\n",
       "      <td>Position Estimation Failure</td>\n",
       "      <td>Perception System</td>\n",
       "    </tr>\n",
       "    <tr>\n",
       "      <th>3</th>\n",
       "      <td>14-Sep</td>\n",
       "      <td>WDD2221851A001072</td>\n",
       "      <td>urban-street</td>\n",
       "      <td>cloudy</td>\n",
       "      <td>automatic</td>\n",
       "      <td>0.65</td>\n",
       "      <td>Emergency Vehicle</td>\n",
       "      <td>Perception System</td>\n",
       "    </tr>\n",
       "    <tr>\n",
       "      <th>4</th>\n",
       "      <td>14-Sep</td>\n",
       "      <td>WDD2221851A001072</td>\n",
       "      <td>urban-street</td>\n",
       "      <td>cloudy</td>\n",
       "      <td>automatic</td>\n",
       "      <td>0.64</td>\n",
       "      <td>Adverse road surface conditions</td>\n",
       "      <td>Perception System</td>\n",
       "    </tr>\n",
       "  </tbody>\n",
       "</table>\n",
       "</div>"
      ],
      "text/plain": [
       "    Month                Car      Location Weather TypeOfTrigger  \\\n",
       "0  14-Sep  WDD2221851A001072  urban-street  cloudy     automatic   \n",
       "1  14-Sep  WDD2221851A001072  urban-street  cloudy     automatic   \n",
       "2  14-Sep  WDD2221851A001072  urban-street  cloudy     automatic   \n",
       "3  14-Sep  WDD2221851A001072  urban-street  cloudy     automatic   \n",
       "4  14-Sep  WDD2221851A001072  urban-street  cloudy     automatic   \n",
       "\n",
       "   ReactionTime                              Cause              Class  \n",
       "0          0.58  Incorrect Traffic Light Detection  Perception System  \n",
       "1          0.66    Adverse road surface conditions  Perception System  \n",
       "2          1.93        Position Estimation Failure  Perception System  \n",
       "3          0.65                  Emergency Vehicle  Perception System  \n",
       "4          0.64    Adverse road surface conditions  Perception System  "
      ]
     },
     "execution_count": 3,
     "metadata": {},
     "output_type": "execute_result"
    }
   ],
   "source": [
    "disengagements['Class'] = [\n",
    "    'Controller' if x == 'Incorrect behavior prediction of others' or x == 'Recklessly behaving agent' or x =='Unwanted Driver Discomfort'\n",
    "    else (\n",
    "    'Perception System' if x == 'Adverse road surface conditions' or x == 'Emergency Vehicle' or x == 'Position Estimation Failure' or x == 'Incorrect Traffic Light Detection'\n",
    "    else\n",
    "    'Computer System'\n",
    "    )\n",
    "    for x in disengagements['Cause']\n",
    "]\n",
    "disengagements.head()"
   ]
  },
  {
   "cell_type": "markdown",
   "metadata": {},
   "source": [
    "## Question 2. Split the data randomly into training and testing (80-20 split). Use the fields ‘Location’, ‘Weather’, and ‘TypeOfTrigger’ as features and use ‘Class’ as assigned in the previous question as the label."
   ]
  },
  {
   "cell_type": "code",
   "execution_count": 128,
   "metadata": {},
   "outputs": [
    {
     "data": {
      "text/html": [
       "<div>\n",
       "<style scoped>\n",
       "    .dataframe tbody tr th:only-of-type {\n",
       "        vertical-align: middle;\n",
       "    }\n",
       "\n",
       "    .dataframe tbody tr th {\n",
       "        vertical-align: top;\n",
       "    }\n",
       "\n",
       "    .dataframe thead th {\n",
       "        text-align: right;\n",
       "    }\n",
       "</style>\n",
       "<table border=\"1\" class=\"dataframe\">\n",
       "  <thead>\n",
       "    <tr style=\"text-align: right;\">\n",
       "      <th></th>\n",
       "      <th>Location</th>\n",
       "      <th>Weather</th>\n",
       "      <th>TypeOfTrigger</th>\n",
       "      <th>Class</th>\n",
       "    </tr>\n",
       "  </thead>\n",
       "  <tbody>\n",
       "    <tr>\n",
       "      <th>18</th>\n",
       "      <td>urban-street</td>\n",
       "      <td>cloudy</td>\n",
       "      <td>manual</td>\n",
       "      <td>Controller</td>\n",
       "    </tr>\n",
       "    <tr>\n",
       "      <th>20</th>\n",
       "      <td>urban-street</td>\n",
       "      <td>cloudy</td>\n",
       "      <td>manual</td>\n",
       "      <td>Controller</td>\n",
       "    </tr>\n",
       "    <tr>\n",
       "      <th>21</th>\n",
       "      <td>urban-street</td>\n",
       "      <td>cloudy</td>\n",
       "      <td>manual</td>\n",
       "      <td>Controller</td>\n",
       "    </tr>\n",
       "    <tr>\n",
       "      <th>26</th>\n",
       "      <td>urban-street</td>\n",
       "      <td>cloudy</td>\n",
       "      <td>manual</td>\n",
       "      <td>Computer System</td>\n",
       "    </tr>\n",
       "    <tr>\n",
       "      <th>33</th>\n",
       "      <td>urban-street</td>\n",
       "      <td>cloudy</td>\n",
       "      <td>manual</td>\n",
       "      <td>Computer System</td>\n",
       "    </tr>\n",
       "  </tbody>\n",
       "</table>\n",
       "</div>"
      ],
      "text/plain": [
       "        Location Weather TypeOfTrigger            Class\n",
       "18  urban-street  cloudy        manual       Controller\n",
       "20  urban-street  cloudy        manual       Controller\n",
       "21  urban-street  cloudy        manual       Controller\n",
       "26  urban-street  cloudy        manual  Computer System\n",
       "33  urban-street  cloudy        manual  Computer System"
      ]
     },
     "execution_count": 128,
     "metadata": {},
     "output_type": "execute_result"
    }
   ],
   "source": [
    "sub_df = disengagements[['Location', 'Weather', 'TypeOfTrigger', 'Class']]\n",
    "sub_df.insert(0, 'id', range(len(sub_df)))\n",
    "\n",
    "random_array_ids =  [i for i in range(len(sub_df))]\n",
    "np.random.shuffle(random_array_ids)\n",
    "training_amount = int(0.8*len(sub_df))\n",
    "\n",
    "training_ids = random_array_ids[:training_amount]\n",
    "testing_ids = random_array_ids[training_amount:]\n",
    "\n",
    "training_df = sub_df.loc[sub_df['id'].isin(training_ids)][['Location', 'Weather', 'TypeOfTrigger', 'Class']]\n",
    "testing_df = sub_df.loc[sub_df['id'].isin(testing_ids)][['Location', 'Weather', 'TypeOfTrigger', 'Class']]\n",
    "\n",
    "training_df.head()\n",
    "testing_df.head()"
   ]
  },
  {
   "cell_type": "markdown",
   "metadata": {},
   "source": [
    "## Question 3. Using the training dataset, create a NB model to identify the cause of disengagement based on the features ‘Location’, ‘Weather’, and ‘TypeOfTrigger’. Show the conditional probability tables from the training dataset."
   ]
  },
  {
   "cell_type": "code",
   "execution_count": 133,
   "metadata": {},
   "outputs": [
    {
     "name": "stdout",
     "output_type": "stream",
     "text": [
      "{'clear': 0.18315018315018314, 'cloudy': 0.8168498168498168, 'highway': 0.019536019536019536, 'urban-street': 0.9804639804639804, 'automatic': 0.47741147741147744, 'manual': 0.5225885225885226, 'Perception System': 0.3443223443223443, 'Computer System': 0.30036630036630035, 'Controller': 0.3553113553113553, ('Perception System', 'cloudy'): 1.0, ('Perception System', 'clear'): 0.0, ('Perception System', 'highway'): 0.0, ('Perception System', 'urban-street'): 1.0, ('Perception System', 'automatic'): 0.8156028368794327, ('Perception System', 'manual'): 0.1843971631205674, ('Computer System', 'cloudy'): 0.3943089430894309, ('Computer System', 'clear'): 0.6056910569105691, ('Computer System', 'highway'): 0.06504065040650407, ('Computer System', 'urban-street'): 0.9349593495934959, ('Computer System', 'automatic'): 0.508130081300813, ('Computer System', 'manual'): 0.491869918699187, ('Controller', 'cloudy'): 0.9965635738831614, ('Controller', 'clear'): 0.003436426116838488, ('Controller', 'highway'): 0.0, ('Controller', 'urban-street'): 1.0, ('Controller', 'automatic'): 0.12371134020618556, ('Controller', 'manual'): 0.8762886597938144}\n",
      "[('Computer System', 1.0), ('Controller', 0.0), ('Perception System', 0.0)]\n",
      "[('Computer System', 1.0), ('Controller', 0.0), ('Perception System', 0.0)]\n",
      "[('Computer System', 0.9982553943515026), ('Controller', 0.001744605648497604), ('Perception System', 0.0)]\n",
      "[('Perception System', 0.7372760354116314), ('Computer System', 0.14772079994325518), ('Controller', 0.11500316464511326)]\n",
      "[('Computer System', 1.0000000000000002), ('Controller', 0.0), ('Perception System', 0.0)]\n",
      "[('Computer System', 1.0), ('Controller', 0.0), ('Perception System', 0.0)]\n",
      "[('Computer System', 0.9873730287770961), ('Controller', 0.012626971222904146), ('Perception System', 0.0)]\n",
      "[('Controller', 0.72455257449523), ('Perception System', 0.14826138684600165), ('Computer System', 0.1271860386587685)]\n"
     ]
    }
   ],
   "source": [
    "#https://en.wikipedia.org/wiki/Naive_Bayes_classifier\n",
    "p = {}\n",
    "row_count = training_df['Class'].size\n",
    "p['clear'] = training_df.loc[training_df['Weather'] == 'clear']['Class'].count() / row_count\n",
    "p['cloudy'] = training_df.loc[training_df['Weather'] == 'cloudy']['Class'].count() / row_count\n",
    "p['highway'] = training_df.loc[training_df['Location'] == 'highway']['Class'].count() / row_count\n",
    "p['urban-street'] = training_df.loc[training_df['Location'] == 'urban-street']['Class'].count() / row_count\n",
    "p['automatic'] = training_df.loc[training_df['TypeOfTrigger'] == 'automatic']['Class'].count() / row_count\n",
    "p['manual'] = training_df.loc[training_df['TypeOfTrigger'] == 'manual']['Class'].count() / row_count\n",
    "p['Perception System'] = training_df.loc[training_df['Class'] == 'Perception System']['Class'].count() / row_count\n",
    "p['Computer System'] = training_df.loc[training_df['Class'] == 'Computer System']['Class'].count() / row_count\n",
    "p['Controller'] = training_df.loc[training_df['Class'] == 'Controller']['Class'].count() / row_count\n",
    "\n",
    "p[('Perception System','cloudy')] = training_df.loc[(training_df['Class'] == 'Perception System') & (training_df['Weather'] == 'cloudy')]['Class'].count() / p['Perception System'] / row_count #* p['Perception System'] / p['cloudy']\n",
    "p[('Perception System','clear')] = training_df.loc[(training_df['Class'] == 'Perception System') & (training_df['Weather'] == 'clear')]['Class'].count() / p['Perception System'] / row_count #* p['Perception System'] / p['clear']\n",
    "p[('Perception System','highway')] = training_df.loc[(training_df['Class'] == 'Perception System') & (training_df['Location'] == 'highway')]['Class'].count() / p['Perception System'] / row_count #* p['Perception System'] / p['highway']\n",
    "p[('Perception System','urban-street')] = training_df.loc[(training_df['Class'] == 'Perception System') & (training_df['Location'] == 'urban-street')]['Class'].count() / p['Perception System'] / row_count# * p['Perception System'] / p['urban-street']\n",
    "p[('Perception System','automatic')] = training_df.loc[(training_df['Class'] == 'Perception System') & (training_df['TypeOfTrigger'] == 'automatic')]['Class'].count() / p['Perception System'] / row_count# * p['Perception System'] / p['automatic']\n",
    "p[('Perception System','manual')] = training_df.loc[(training_df['Class'] == 'Perception System') & (training_df['TypeOfTrigger'] == 'manual')]['Class'].count() / p['Perception System'] / row_count# * p['Perception System'] / p['manual']\n",
    "\n",
    "p[('Computer System','cloudy')] = training_df.loc[(training_df['Class'] == 'Computer System') & (training_df['Weather'] == 'cloudy')]['Class'].count() / p['Computer System'] / row_count# * p['Computer System'] / p['cloudy']\n",
    "p[('Computer System','clear')] = training_df.loc[(training_df['Class'] == 'Computer System') & (training_df['Weather'] == 'clear')]['Class'].count() / p['Computer System'] / row_count #* p['Computer System'] / p['clear']\n",
    "p[('Computer System','highway')] = training_df.loc[(training_df['Class'] == 'Computer System') & (training_df['Location'] == 'highway')]['Class'].count() / p['Computer System'] / row_count #* p['Computer System'] / p['highway']\n",
    "p[('Computer System','urban-street')] = training_df.loc[(training_df['Class'] == 'Computer System') & (training_df['Location'] == 'urban-street')]['Class'].count() / p['Computer System'] / row_count #* p['Computer System'] / p['urban-street']\n",
    "p[('Computer System','automatic')] = training_df.loc[(training_df['Class'] == 'Computer System') & (training_df['TypeOfTrigger'] == 'automatic')]['Class'].count() / p['Computer System'] / row_count#* p['Computer System'] / p['automatic']\n",
    "p[('Computer System','manual')]  = training_df.loc[(training_df['Class'] == 'Computer System') & (training_df['TypeOfTrigger'] == 'manual')]['Class'].count() / p['Computer System'] / row_count# * p['Computer System'] / p['manual']\n",
    "\n",
    "p[('Controller','cloudy')] = training_df.loc[(training_df['Class'] == 'Controller') & (training_df['Weather'] == 'cloudy')]['Class'].count() / p['Controller'] / row_count #* p['Controller'] / p['cloudy']\n",
    "p[('Controller','clear')] = training_df.loc[(training_df['Class'] == 'Controller') & (training_df['Weather'] == 'clear')]['Class'].count() / p['Controller'] / row_count #* p['Controller'] / p['clear']\n",
    "p[('Controller','highway')] = training_df.loc[(training_df['Class'] == 'Controller') & (training_df['Location'] == 'highway')]['Class'].count() / p['Controller'] / row_count #* p['Controller'] / p['highway']\n",
    "p[('Controller','urban-street')] = training_df.loc[(training_df['Class'] == 'Controller') & (training_df['Location'] == 'urban-street')]['Class'].count() / p['Controller'] / row_count #* p['Controller'] / p['urban-street']\n",
    "p[('Controller','automatic')] = training_df.loc[(training_df['Class'] == 'Controller') & (training_df['TypeOfTrigger'] == 'automatic')]['Class'].count() / p['Controller'] / row_count#* p['Controller'] / p['automatic']\n",
    "p[('Controller','manual')]  = training_df.loc[(training_df['Class'] == 'Controller') & (training_df['TypeOfTrigger'] == 'manual')]['Class'].count() / p['Controller'] / row_count #* p['Controller'] / p['manual']\n",
    " \n",
    "print(p)\n",
    "def NB(Weather, Location, TypeOfTrigger):\n",
    "    evidence = p['Perception System'] * p[('Perception System', Weather)] * p[('Perception System', Location)] * p[('Perception System', TypeOfTrigger)] + p['Computer System'] * p[('Computer System', Weather)] * p[('Computer System', Location)] * p[('Computer System', TypeOfTrigger)] + p['Controller'] * p[('Controller', Weather)] * p[('Controller', Location)] * p[('Controller', TypeOfTrigger)] \n",
    "    ps = []\n",
    "    ps.append(('Perception System', p[('Perception System', Weather)] * p[('Perception System', Location)] * p[('Perception System', TypeOfTrigger)] * p['Perception System'] / evidence))\n",
    "    ps.append(('Computer System', p[('Computer System', Weather)] * p[('Computer System', Location)] * p[('Computer System', TypeOfTrigger)] * p['Computer System'] / evidence))    \n",
    "    ps.append(('Controller', p[('Controller', Weather)] * p[('Controller', Location)] * p[('Controller', TypeOfTrigger)] * p['Controller'] / evidence)) \n",
    "    ps = sorted(ps, key = lambda x : x[1])[::-1]\n",
    "    return ps[0][0]\n",
    "\n",
    "def NB_print(Weather, Location, TypeOfTrigger):\n",
    "    evidence = p['Perception System'] * p[('Perception System', Weather)] * p[('Perception System', Location)] * p[('Perception System', TypeOfTrigger)] + p['Computer System'] * p[('Computer System', Weather)] * p[('Computer System', Location)] * p[('Computer System', TypeOfTrigger)] + p['Controller'] * p[('Controller', Weather)] * p[('Controller', Location)] * p[('Controller', TypeOfTrigger)] \n",
    "    ps = []\n",
    "    ps.append(('Perception System', p[('Perception System', Weather)] * p[('Perception System', Location)] * p[('Perception System', TypeOfTrigger)] * p['Perception System'] / evidence))\n",
    "    ps.append(('Computer System', p[('Computer System', Weather)] * p[('Computer System', Location)] * p[('Computer System', TypeOfTrigger)] * p['Computer System'] / evidence))    \n",
    "    ps.append(('Controller', p[('Controller', Weather)] * p[('Controller', Location)] * p[('Controller', TypeOfTrigger)] * p['Controller'] / evidence)) \n",
    "    ps = sorted(ps, key = lambda x : x[1])[::-1]\n",
    "    return ps\n",
    "\n",
    "print(NB_print('clear','highway','automatic'))\n",
    "print(NB_print('cloudy','highway','automatic'))\n",
    "print(NB_print('clear','urban-street','automatic'))\n",
    "print(NB_print('cloudy','urban-street','automatic'))\n",
    "print(NB_print('clear','highway','manual'))\n",
    "print(NB_print('cloudy','highway','manual'))\n",
    "print(NB_print('clear','urban-street','manual'))\n",
    "print(NB_print('cloudy','urban-street','manual'))\n",
    "\n",
    "#conditional probability tables???????????????????"
   ]
  },
  {
   "cell_type": "markdown",
   "metadata": {},
   "source": [
    "## Question 4. Using the model to predict the cause of the disengagement for the test dataset. Compute the accuracy achieved by your model."
   ]
  },
  {
   "cell_type": "code",
   "execution_count": 130,
   "metadata": {},
   "outputs": [
    {
     "name": "stdout",
     "output_type": "stream",
     "text": [
      "NB classifier's accuracy is:\n",
      "0.8195121951219513\n"
     ]
    }
   ],
   "source": [
    "def classify(row):\n",
    "    return NB(row['Weather'], row['Location'], row['TypeOfTrigger'])\n",
    "testing_df['NB Class'] = testing_df.apply(classify, axis=1)\n",
    "expected = list(testing_df['NB Class'])\n",
    "actual = list(testing_df['Class'])\n",
    "count = 0\n",
    "for i in range(len(expected)):\n",
    "    if expected[i] != actual[i]:\n",
    "        count += 1\n",
    "print(\"NB classifier's accuracy is:\")\n",
    "print(1 - count / len(expected))"
   ]
  },
  {
   "cell_type": "markdown",
   "metadata": {},
   "source": [
    "## Question 5. To get a better estimate of the model performance, perform cross-validation. Repeat sub-questions 2, 3 and 4 five times for different splits of training and test data, and report the average accuracy."
   ]
  },
  {
   "cell_type": "code",
   "execution_count": 131,
   "metadata": {},
   "outputs": [
    {
     "name": "stdout",
     "output_type": "stream",
     "text": [
      "Average accuaracy is:\n",
      "0.8117073170731708\n"
     ]
    }
   ],
   "source": [
    "print('Average accuaracy is:')\n",
    "print(np.mean([0.8243902439024391, 0.8048780487804879, 0.8292682926829268, 0.7804878048780488, 0.8195121951219513]))"
   ]
  },
  {
   "cell_type": "markdown",
   "metadata": {},
   "source": [
    "## Question 6. Is the NB model doing better than chance? Explain."
   ]
  },
  {
   "cell_type": "markdown",
   "metadata": {},
   "source": [
    "###  Yes as the average accuarcy is over 80%"
   ]
  },
  {
   "cell_type": "markdown",
   "metadata": {},
   "source": [
    "## Question 7. What are the assumptions in NB in the context of this problem? Are the assumptions realistic? Explain."
   ]
  },
  {
   "cell_type": "markdown",
   "metadata": {},
   "source": [
    "###  A day's weather, car's location and type of disengagement are independent.  Type of disengagement might not be independent of the other two since human might pull the trigger more oftenly on bad weather and highway."
   ]
  },
  {
   "cell_type": "markdown",
   "metadata": {},
   "source": [
    "## Question 8. Based on your answer to part 7, comment on whether any improvements can be gained in classification accuracy. If yes, how?"
   ]
  },
  {
   "cell_type": "markdown",
   "metadata": {},
   "source": [
    "###  answer"
   ]
  }
 ],
 "metadata": {
  "kernelspec": {
   "display_name": "Python 3",
   "language": "python",
   "name": "python3"
  },
  "language_info": {
   "codemirror_mode": {
    "name": "ipython",
    "version": 3
   },
   "file_extension": ".py",
   "mimetype": "text/x-python",
   "name": "python",
   "nbconvert_exporter": "python",
   "pygments_lexer": "ipython3",
   "version": "3.7.3"
  }
 },
 "nbformat": 4,
 "nbformat_minor": 2
}

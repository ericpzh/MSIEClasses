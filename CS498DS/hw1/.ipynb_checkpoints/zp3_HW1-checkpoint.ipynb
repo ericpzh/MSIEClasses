{
 "cells": [
  {
   "cell_type": "code",
   "execution_count": 2,
   "metadata": {},
   "outputs": [],
   "source": [
    "NetID = \"zp3\"\n",
    "Name = \"Zhonghao Pan\"\n",
    "Registration = \"Registered\""
   ]
  },
  {
   "cell_type": "markdown",
   "metadata": {},
   "source": [
    "# Part A: Parsing"
   ]
  },
  {
   "cell_type": "code",
   "execution_count": 17,
   "metadata": {},
   "outputs": [],
   "source": [
    "# read in pf.log\n",
    "with open('pf.log') as f:\n",
    "    lines = f.readlines()\n",
    "\n",
    "# strip all lines of whitespace\n",
    "lines = [x.strip(' ') for x in lines]\n"
   ]
  },
  {
   "cell_type": "code",
   "execution_count": 24,
   "metadata": {},
   "outputs": [],
   "source": [
    "# parse each line into your data structure\n",
    "# remember to convert addresses from strings to integers\n",
    "data = []\n",
    "i = 0\n",
    "id = 0\n",
    "while i < len(lines):\n",
    "    if (lines[i][0] != '\\t'):\n",
    "        id += 1\n",
    "        baseline = [str(id)] + lines[i].split(':')\n",
    "        baseline[len(baseline)-1] = baseline[len(baseline)-1].replace('\\n','')\n",
    "        baseline[4] = str(int(baseline[4], 16))\n",
    "    else:\n",
    "        temp = lines[i].split('+')\n",
    "        lib = temp[0].replace('\\t','').replace('<','')\n",
    "        temp2 = temp[1].split('/')\n",
    "        offset = str(int(temp2[0],16))\n",
    "        addr = str(int(temp2[1].replace('\\n','').replace('>',''), 16))\n",
    "        data.append(baseline + [lib,offset,addr])       \n",
    "    i += 1"
   ]
  },
  {
   "cell_type": "code",
   "execution_count": 25,
   "metadata": {},
   "outputs": [
    {
     "name": "stdout",
     "output_type": "stream",
     "text": [
      "['1', '1506816069251', 'firefox', '13179', '10773289646', 'R', 'minor', '50', '/usr/lib/x86_64-linux-gnu/libcairo.so.2.11400.10', '686943', '16727808']\n"
     ]
    }
   ],
   "source": [
    "print(data[0])"
   ]
  },
  {
   "cell_type": "code",
   "execution_count": 26,
   "metadata": {},
   "outputs": [],
   "source": [
    "# write your data structure out to pf.csv\n",
    "# include an index column with unique indices for each page fault\n",
    "with open('pf.csv', 'w') as f:\n",
    "    # write header line\n",
    "    f.write('\\t'.join(['index', 'time', 'proc_name', 'pid', 'pfaddr', 'rw', 'major_minor', 'resolve_time', 'lib', 'addr', 'offset']))\n",
    "    f.write('\\n')\n",
    "    \n",
    "    # write each page fault & backtrace entry\n",
    "    # hint: take a look at python's enumerate() function to generate indices\n",
    "    # Remember that indices should be unique to each page fault\n",
    "    for i in data:\n",
    "        f.write('\\t'.join(i))\n",
    "        f.write('\\n')\n",
    "        \n"
   ]
  },
  {
   "cell_type": "markdown",
   "metadata": {},
   "source": [
    "# Part B: Analysis"
   ]
  },
  {
   "cell_type": "code",
   "execution_count": 15,
   "metadata": {},
   "outputs": [],
   "source": [
    "import pandas as pd\n",
    "import numpy as np\n",
    "import matplotlib.mlab as mlab\n",
    "import matplotlib.pyplot as plt\n",
    "import datetime\n",
    "import seaborn as sns"
   ]
  },
  {
   "cell_type": "code",
   "execution_count": 57,
   "metadata": {},
   "outputs": [
    {
     "data": {
      "text/plain": [
       "['index',\n",
       " 'time',\n",
       " 'proc_name',\n",
       " 'pid',\n",
       " 'pfaddr',\n",
       " 'rw',\n",
       " 'major_minor',\n",
       " 'resolve_time',\n",
       " 'lib',\n",
       " 'addr',\n",
       " 'offset']"
      ]
     },
     "execution_count": 57,
     "metadata": {},
     "output_type": "execute_result"
    }
   ],
   "source": [
    "# relevant options when reading in pf.csv: sep, parse_dates\n",
    "df = pd.read_csv('pf.csv', sep = '\\t', parse_dates = [2])\n",
    "# set the index of the data frame\n",
    "#df.set_index('index', inplace=True)\n",
    "list(df.columns) "
   ]
  },
  {
   "cell_type": "markdown",
   "metadata": {},
   "source": [
    "## a. What time range does this data cover?"
   ]
  },
  {
   "cell_type": "code",
   "execution_count": 155,
   "metadata": {},
   "outputs": [
    {
     "name": "stdout",
     "output_type": "stream",
     "text": [
      "This data cover from: 2017-09-30 19:01:09.251000 to 2018-01-07 12:59:50.839000\n",
      "Total duration is: 98 days, 17:58:41.588000\n"
     ]
    }
   ],
   "source": [
    "print('This data cover from: %s to %s' %(str(datetime.datetime.fromtimestamp(df['time'].min() / 1e3)), str(datetime.datetime.fromtimestamp(df['time'].max() / 1e3))))\n",
    "print('Total duration is: ' + str(datetime.datetime.fromtimestamp(df['time'].max() / 1e3) - datetime.datetime.fromtimestamp(df['time'].min() / 1e3)))"
   ]
  },
  {
   "cell_type": "markdown",
   "metadata": {},
   "source": [
    "## b. How many unique processes were executed over this period? How many times was each process executed?"
   ]
  },
  {
   "cell_type": "code",
   "execution_count": 29,
   "metadata": {},
   "outputs": [
    {
     "data": {
      "text/html": [
       "<div>\n",
       "<style scoped>\n",
       "    .dataframe tbody tr th:only-of-type {\n",
       "        vertical-align: middle;\n",
       "    }\n",
       "\n",
       "    .dataframe tbody tr th {\n",
       "        vertical-align: top;\n",
       "    }\n",
       "\n",
       "    .dataframe thead th {\n",
       "        text-align: right;\n",
       "    }\n",
       "</style>\n",
       "<table border=\"1\" class=\"dataframe\">\n",
       "  <thead>\n",
       "    <tr style=\"text-align: right;\">\n",
       "      <th></th>\n",
       "      <th>time</th>\n",
       "      <th>proc_name</th>\n",
       "      <th>pid</th>\n",
       "      <th>pfaddr</th>\n",
       "      <th>rw</th>\n",
       "      <th>major_minor</th>\n",
       "      <th>resolve_time</th>\n",
       "      <th>lib</th>\n",
       "      <th>addr</th>\n",
       "      <th>offset</th>\n",
       "    </tr>\n",
       "    <tr>\n",
       "      <th>index</th>\n",
       "      <th></th>\n",
       "      <th></th>\n",
       "      <th></th>\n",
       "      <th></th>\n",
       "      <th></th>\n",
       "      <th></th>\n",
       "      <th></th>\n",
       "      <th></th>\n",
       "      <th></th>\n",
       "      <th></th>\n",
       "    </tr>\n",
       "  </thead>\n",
       "  <tbody>\n",
       "    <tr>\n",
       "      <td>1</td>\n",
       "      <td>1506816069251</td>\n",
       "      <td>firefox</td>\n",
       "      <td>13179</td>\n",
       "      <td>10773289646</td>\n",
       "      <td>R</td>\n",
       "      <td>minor</td>\n",
       "      <td>50</td>\n",
       "      <td>/usr/lib/x86_64-linux-gnu/libcairo.so.2.11400.10</td>\n",
       "      <td>686943</td>\n",
       "      <td>16727808</td>\n",
       "    </tr>\n",
       "    <tr>\n",
       "      <td>1</td>\n",
       "      <td>1506816069251</td>\n",
       "      <td>firefox</td>\n",
       "      <td>13179</td>\n",
       "      <td>10773289646</td>\n",
       "      <td>R</td>\n",
       "      <td>minor</td>\n",
       "      <td>50</td>\n",
       "      <td>/lib/x86_64-linux-gnu/libglib-2.0.so.0.5400.1</td>\n",
       "      <td>660132</td>\n",
       "      <td>16748032</td>\n",
       "    </tr>\n",
       "    <tr>\n",
       "      <td>1</td>\n",
       "      <td>1506816069251</td>\n",
       "      <td>firefox</td>\n",
       "      <td>13179</td>\n",
       "      <td>10773289646</td>\n",
       "      <td>R</td>\n",
       "      <td>minor</td>\n",
       "      <td>50</td>\n",
       "      <td>/lib/x86_64-linux-gnu/libpthread-2.26.so</td>\n",
       "      <td>483292</td>\n",
       "      <td>16746496</td>\n",
       "    </tr>\n",
       "    <tr>\n",
       "      <td>1</td>\n",
       "      <td>1506816069251</td>\n",
       "      <td>firefox</td>\n",
       "      <td>13179</td>\n",
       "      <td>10773289646</td>\n",
       "      <td>R</td>\n",
       "      <td>minor</td>\n",
       "      <td>50</td>\n",
       "      <td>/usr/lib/x86_64-linux-gnu/libX11.so.6.3.0</td>\n",
       "      <td>108902</td>\n",
       "      <td>16748800</td>\n",
       "    </tr>\n",
       "    <tr>\n",
       "      <td>1</td>\n",
       "      <td>1506816069251</td>\n",
       "      <td>firefox</td>\n",
       "      <td>13179</td>\n",
       "      <td>10773289646</td>\n",
       "      <td>R</td>\n",
       "      <td>minor</td>\n",
       "      <td>50</td>\n",
       "      <td>/lib/x86_64-linux-gnu/libc-2.26.so</td>\n",
       "      <td>7501</td>\n",
       "      <td>16767232</td>\n",
       "    </tr>\n",
       "  </tbody>\n",
       "</table>\n",
       "</div>"
      ],
      "text/plain": [
       "                time proc_name    pid       pfaddr rw major_minor  \\\n",
       "index                                                               \n",
       "1      1506816069251   firefox  13179  10773289646  R       minor   \n",
       "1      1506816069251   firefox  13179  10773289646  R       minor   \n",
       "1      1506816069251   firefox  13179  10773289646  R       minor   \n",
       "1      1506816069251   firefox  13179  10773289646  R       minor   \n",
       "1      1506816069251   firefox  13179  10773289646  R       minor   \n",
       "\n",
       "       resolve_time                                               lib    addr  \\\n",
       "index                                                                           \n",
       "1                50  /usr/lib/x86_64-linux-gnu/libcairo.so.2.11400.10  686943   \n",
       "1                50     /lib/x86_64-linux-gnu/libglib-2.0.so.0.5400.1  660132   \n",
       "1                50          /lib/x86_64-linux-gnu/libpthread-2.26.so  483292   \n",
       "1                50         /usr/lib/x86_64-linux-gnu/libX11.so.6.3.0  108902   \n",
       "1                50                /lib/x86_64-linux-gnu/libc-2.26.so    7501   \n",
       "\n",
       "         offset  \n",
       "index            \n",
       "1      16727808  \n",
       "1      16748032  \n",
       "1      16746496  \n",
       "1      16748800  \n",
       "1      16767232  "
      ]
     },
     "execution_count": 29,
     "metadata": {},
     "output_type": "execute_result"
    }
   ],
   "source": [
    "df.head()"
   ]
  },
  {
   "cell_type": "code",
   "execution_count": 58,
   "metadata": {},
   "outputs": [
    {
     "name": "stdout",
     "output_type": "stream",
     "text": [
      "There are a total of: 12 unique processes.\n",
      "Number of time for each is prited below:\n"
     ]
    },
    {
     "data": {
      "text/plain": [
       "proc_name\n",
       "auditd           57185\n",
       "bash             57427\n",
       "firefox          58289\n",
       "gitlab-runner    54543\n",
       "google-chrome    59596\n",
       "htop             58304\n",
       "sshd             61721\n",
       "subl             61746\n",
       "thunderbird      59393\n",
       "tmux             54661\n",
       "watchdog         58839\n",
       "xorg             61072\n",
       "Name: index, dtype: int64"
      ]
     },
     "execution_count": 58,
     "metadata": {},
     "output_type": "execute_result"
    }
   ],
   "source": [
    "print('There are a total of: %s unique processes.' % str(len(df['proc_name'].unique())))\n",
    "print('Number of time for each is prited below:')\n",
    "df.groupby('proc_name')['index'].nunique()"
   ]
  },
  {
   "cell_type": "markdown",
   "metadata": {},
   "source": [
    "## c. Compare the number of major and minor page faults for each process. Plot a bar chart with two categories (major and minor) to demonstrate your results."
   ]
  },
  {
   "cell_type": "code",
   "execution_count": 59,
   "metadata": {},
   "outputs": [
    {
     "data": {
      "image/png": "[encoded data removed]",
      "text/plain": [
       "<Figure size 1080x540 with 1 Axes>"
      ]
     },
     "metadata": {
      "needs_background": "light"
     },
     "output_type": "display_data"
    }
   ],
   "source": [
    "data = df.groupby(['proc_name','major_minor'])['index'].nunique()\n",
    "labels = list(df['proc_name'].unique())\n",
    "major = list(data)[::2]\n",
    "minor = list(data)[1::2]\n",
    "\n",
    "fig, ax = plt.subplots(figsize=(15,7.5))\n",
    "rects1 = ax.bar(np.arange(len(labels)) - 0.35/2, major, 0.35, label='Major')\n",
    "rects2 = ax.bar(np.arange(len(labels)) + 0.35/2, minor, 0.35, label='Minor')\n",
    "\n",
    "ax.set_ylabel('Number of page faults')\n",
    "ax.set_title('Number of major and minor page faults')\n",
    "ax.set_xticks(np.arange(len(labels)))\n",
    "ax.set_xticklabels(labels)\n",
    "ax.legend()\n",
    "\n",
    "def autolabel(rects):\n",
    "    for rect in rects:\n",
    "        height = rect.get_height()\n",
    "        ax.annotate('{}'.format(height), xy=(rect.get_x() + rect.get_width() / 2, height), xytext=(0, 3), textcoords=\"offset points\",                    ha='center', va='bottom')\n",
    "\n",
    "autolabel(rects1)\n",
    "autolabel(rects2)\n",
    "\n",
    "fig.tight_layout()\n",
    "\n",
    "plt.show()"
   ]
  },
  {
   "cell_type": "markdown",
   "metadata": {},
   "source": [
    "## d. Plot the histogram for the time to resolve page faults. Label the axes. For each process, report the mean and standard deviation of the time to resolve page faults. Plotting and calculations should be done for major and minor page faults separately."
   ]
  },
  {
   "cell_type": "code",
   "execution_count": 60,
   "metadata": {},
   "outputs": [
    {
     "name": "stdout",
     "output_type": "stream",
     "text": [
      "Mean\n"
     ]
    },
    {
     "data": {
      "text/plain": [
       "proc_name      major_minor\n",
       "auditd         major          217.744957\n",
       "               minor           27.520375\n",
       "bash           major          217.933310\n",
       "               minor           27.441138\n",
       "firefox        major          220.677850\n",
       "               minor           27.571360\n",
       "gitlab-runner  major          213.840484\n",
       "               minor           27.374746\n",
       "google-chrome  major          218.564163\n",
       "               minor           27.508144\n",
       "htop           major          218.407320\n",
       "               minor           27.427236\n",
       "sshd           major          216.405321\n",
       "               minor           27.506795\n",
       "subl           major          215.434655\n",
       "               minor           27.445493\n",
       "thunderbird    major          220.438450\n",
       "               minor           27.487018\n",
       "tmux           major          218.882986\n",
       "               minor           27.447289\n",
       "watchdog       major          217.280824\n",
       "               minor           27.599203\n",
       "xorg           major          217.523527\n",
       "               minor           27.534931\n",
       "Name: resolve_time, dtype: float64"
      ]
     },
     "execution_count": 60,
     "metadata": {},
     "output_type": "execute_result"
    }
   ],
   "source": [
    "print('Mean')\n",
    "u = df.drop_duplicates('index')\n",
    "u.groupby(['proc_name','major_minor'])['resolve_time'].mean()"
   ]
  },
  {
   "cell_type": "code",
   "execution_count": 61,
   "metadata": {},
   "outputs": [
    {
     "name": "stdout",
     "output_type": "stream",
     "text": [
      "Standard Deviation\n"
     ]
    },
    {
     "data": {
      "text/plain": [
       "proc_name      major_minor\n",
       "auditd         major          105.359066\n",
       "               minor           13.286257\n",
       "bash           major          105.217991\n",
       "               minor           13.274842\n",
       "firefox        major          104.520439\n",
       "               minor           13.276758\n",
       "gitlab-runner  major          106.110610\n",
       "               minor           13.263701\n",
       "google-chrome  major          104.980363\n",
       "               minor           13.230826\n",
       "htop           major          104.727800\n",
       "               minor           13.277471\n",
       "sshd           major          105.368912\n",
       "               minor           13.299934\n",
       "subl           major          105.697540\n",
       "               minor           13.255274\n",
       "thunderbird    major          107.001650\n",
       "               minor           13.252948\n",
       "tmux           major          105.851619\n",
       "               minor           13.276518\n",
       "watchdog       major          105.421466\n",
       "               minor           13.269930\n",
       "xorg           major          105.730484\n",
       "               minor           13.278453\n",
       "Name: resolve_time, dtype: float64"
      ]
     },
     "execution_count": 61,
     "metadata": {},
     "output_type": "execute_result"
    }
   ],
   "source": [
    "print('Standard Deviation')\n",
    "u.groupby(['proc_name','major_minor'])['resolve_time'].std()"
   ]
  },
  {
   "cell_type": "code",
   "execution_count": 63,
   "metadata": {},
   "outputs": [
    {
     "data": {
      "image/png": "[encoded data removed]",
      "text/plain": [
       "<Figure size 432x288 with 1 Axes>"
      ]
     },
     "metadata": {
      "needs_background": "light"
     },
     "output_type": "display_data"
    }
   ],
   "source": [
    "ax = sns.distplot(list(u.groupby(['major_minor'])['resolve_time'])[0][1].values, kde=False)\n",
    "ax.set_title('Histogram of Resolve Time of Major Fault')\n",
    "ax.set_xlabel('Resolve Time Bins (ms)')\n",
    "ax.set_ylabel('Count')\n",
    "plt.show()"
   ]
  },
  {
   "cell_type": "code",
   "execution_count": 64,
   "metadata": {},
   "outputs": [
    {
     "data": {
      "image/png": "[encoded data removed]",
      "text/plain": [
       "<Figure size 432x288 with 1 Axes>"
      ]
     },
     "metadata": {
      "needs_background": "light"
     },
     "output_type": "display_data"
    }
   ],
   "source": [
    "ax = sns.distplot(list(u.groupby(['major_minor'])['resolve_time'])[1][1].values, kde=False)\n",
    "ax.set_title('Histogram of Resolve Time of Minor Fault')\n",
    "ax.set_xlabel('Resolve Time Bins (ms)')\n",
    "ax.set_ylabel('Count')\n",
    "plt.show()"
   ]
  },
  {
   "cell_type": "markdown",
   "metadata": {},
   "source": [
    "# Part C: Making Predictions"
   ]
  },
  {
   "cell_type": "markdown",
   "metadata": {},
   "source": [
    "## a. Assume that the process variable is the class. Calculate the priors for all the classes."
   ]
  },
  {
   "cell_type": "code",
   "execution_count": 85,
   "metadata": {
    "scrolled": false
   },
   "outputs": [
    {
     "name": "stdout",
     "output_type": "stream",
     "text": [
      "Priors are: \n",
      "{'auditd': 0.08137016631188317, 'bash': 0.08171451500904983, 'firefox': 0.08294107937664348, 'gitlab-runner': 0.07761078921306362, 'google-chrome': 0.08480084692704361, 'htop': 0.0829624233041538, 'sshd': 0.08782456999100709, 'subl': 0.08786014320352431, 'thunderbird': 0.08451199244140381, 'tmux': 0.0777786947761449, 'watchdog': 0.08372369005202226, 'xorg': 0.08690108939406013}\n"
     ]
    }
   ],
   "source": [
    "count = u.groupby(['proc_name'])['time'].count().to_dict()\n",
    "piror = {}\n",
    "for key in count:\n",
    "    piror[key] = count[key]/u['time'].count()\n",
    "\n",
    "print('Priors are: ')\n",
    "print(piror)"
   ]
  },
  {
   "cell_type": "markdown",
   "metadata": {},
   "source": [
    "## b. Given that the page fault was major, which process was it most likely caused by? Use the MAP rule."
   ]
  },
  {
   "cell_type": "code",
   "execution_count": 98,
   "metadata": {},
   "outputs": [
    {
     "name": "stdout",
     "output_type": "stream",
     "text": [
      "['subl', 0.07714691724314109]\n"
     ]
    }
   ],
   "source": [
    "c = u.groupby(['major_minor'])['time'].count()\n",
    "evidence = min(c) / sum(c)\n",
    "\n",
    "count = u.loc[u['major_minor'] == 'major'].groupby(['proc_name'])['time'].count().to_dict()\n",
    "likelihood = {}\n",
    "for key in count:\n",
    "    likelihood[key] = count[key] / u.loc[u['major_minor'] == 'major']['time'].count()\n",
    "\n",
    "posterior = {}\n",
    "MAP = ['n/a', 0]\n",
    "for item in likelihood.items():\n",
    "    proc = item[0]\n",
    "    posterior[proc] = likelihood[proc] * piror[proc] / evidence\n",
    "    if MAP[1] <= likelihood[proc] * piror[proc] / evidence:\n",
    "        MAP = [proc,likelihood[proc] * piror[proc] / evidence]\n",
    "print(MAP)"
   ]
  },
  {
   "cell_type": "markdown",
   "metadata": {},
   "source": [
    "## c. Given that the page fault came from a read access, which process was it most likely caused by? Use the MAP rule."
   ]
  },
  {
   "cell_type": "code",
   "execution_count": 99,
   "metadata": {},
   "outputs": [
    {
     "name": "stdout",
     "output_type": "stream",
     "text": [
      "['subl', 0.025691873041221013]\n"
     ]
    }
   ],
   "source": [
    "c = u.groupby(['rw'])['time'].count()\n",
    "evidence = min(c) / sum(c)\n",
    "\n",
    "count = u.loc[u['rw'] == 'R'].groupby(['proc_name'])['time'].count().to_dict()\n",
    "likelihood = {}\n",
    "for key in count:\n",
    "    likelihood[key] = count[key] / u.loc[u['rw'] == 'R']['time'].count()\n",
    "    \n",
    "posterior = {}\n",
    "MAP = ['n/a', 0]\n",
    "for item in likelihood.items():\n",
    "    proc = item[0]\n",
    "    posterior[proc] = likelihood[proc] * piror[proc] / evidence\n",
    "    if MAP[1] <= likelihood[proc] * piror[proc] / evidence:\n",
    "        MAP = [proc,likelihood[proc] * piror[proc] / evidence]\n",
    "print(MAP)"
   ]
  },
  {
   "cell_type": "markdown",
   "metadata": {},
   "source": [
    "## d. What model taught in class could you use for classifying the process given information about (i) the severity of the fault (major/minor) and (ii) the access type of the fault (read/write)? Write your answer in two sentences or less…"
   ]
  },
  {
   "cell_type": "markdown",
   "metadata": {},
   "source": [
    "###  Navie Bayes Classifier. Frist calculate P(process|fault,access type) = P(fault, access type|process) * P(process) / P(fault, access type), and then use MAP to return the argmax of P(process|fault,access type)."
   ]
  },
  {
   "cell_type": "code",
   "execution_count": null,
   "metadata": {},
   "outputs": [],
   "source": []
  }
 ],
 "metadata": {
  "kernelspec": {
   "display_name": "Python 3",
   "language": "python",
   "name": "python3"
  },
  "language_info": {
   "codemirror_mode": {
    "name": "ipython",
    "version": 3
   },
   "file_extension": ".py",
   "mimetype": "text/x-python",
   "name": "python",
   "nbconvert_exporter": "python",
   "pygments_lexer": "ipython3",
   "version": "3.7.4"
  }
 },
 "nbformat": 4,
 "nbformat_minor": 2
}

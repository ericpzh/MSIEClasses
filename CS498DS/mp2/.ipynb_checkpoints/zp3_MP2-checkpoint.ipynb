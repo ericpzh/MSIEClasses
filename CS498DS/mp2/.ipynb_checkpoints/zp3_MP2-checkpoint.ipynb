{
 "cells": [
  {
   "cell_type": "markdown",
   "metadata": {},
   "source": [
    "# ECE 498 DS Mini Project 2"
   ]
  },
  {
   "cell_type": "markdown",
   "metadata": {},
   "source": [
    "NetIDs: apatke, haoranq4, hl36, zp3"
   ]
  },
  {
   "cell_type": "markdown",
   "metadata": {},
   "source": [
    "# Task 1: Data Cleaning and Visual Inspection"
   ]
  },
  {
   "cell_type": "markdown",
   "metadata": {},
   "source": [
    "## 0. Getting Started With the Data"
   ]
  },
  {
   "cell_type": "code",
   "execution_count": 1,
   "metadata": {},
   "outputs": [],
   "source": [
    "import pandas as pd \n",
    "import numpy as np  \n",
    "import seaborn as sns \n",
    "from scipy import stats\n",
    "import matplotlib.pyplot as plt\n",
    "from sklearn.decomposition import PCA\n",
    "from sklearn.manifold import TSNE\n",
    "from sklearn.cluster import KMeans\n",
    "from sklearn.mixture import GaussianMixture\n",
    "from sklearn.cluster import AgglomerativeClustering"
   ]
  },
  {
   "cell_type": "code",
   "execution_count": 2,
   "metadata": {},
   "outputs": [
    {
     "data": {
      "text/html": [
       "<div>\n",
       "<style scoped>\n",
       "    .dataframe tbody tr th:only-of-type {\n",
       "        vertical-align: middle;\n",
       "    }\n",
       "\n",
       "    .dataframe tbody tr th {\n",
       "        vertical-align: top;\n",
       "    }\n",
       "\n",
       "    .dataframe thead th {\n",
       "        text-align: right;\n",
       "    }\n",
       "</style>\n",
       "<table border=\"1\" class=\"dataframe\">\n",
       "  <thead>\n",
       "    <tr style=\"text-align: right;\">\n",
       "      <th></th>\n",
       "      <th>Microbe Name</th>\n",
       "      <th>HE0Sample_0</th>\n",
       "      <th>HE0Sample_1</th>\n",
       "      <th>HE0Sample_2</th>\n",
       "      <th>HE0Sample_3</th>\n",
       "      <th>HE0Sample_4</th>\n",
       "      <th>HE0Sample_5</th>\n",
       "      <th>HE0Sample_6</th>\n",
       "      <th>HE0Sample_7</th>\n",
       "      <th>HE0Sample_8</th>\n",
       "      <th>...</th>\n",
       "      <th>HE0Sample_754</th>\n",
       "      <th>HE0Sample_755</th>\n",
       "      <th>HE0Sample_756</th>\n",
       "      <th>HE0Sample_757</th>\n",
       "      <th>HE0Sample_758</th>\n",
       "      <th>HE0Sample_759</th>\n",
       "      <th>HE0Sample_760</th>\n",
       "      <th>HE0Sample_761</th>\n",
       "      <th>HE0Sample_762</th>\n",
       "      <th>HE0Sample_763</th>\n",
       "    </tr>\n",
       "  </thead>\n",
       "  <tbody>\n",
       "    <tr>\n",
       "      <td>0</td>\n",
       "      <td>Acidobacteria_Acidobacteria_Gp1_Telmatobacter_...</td>\n",
       "      <td>0.004239</td>\n",
       "      <td>0.004345</td>\n",
       "      <td>0.004423</td>\n",
       "      <td>0.004463</td>\n",
       "      <td>0.005372</td>\n",
       "      <td>0.004136</td>\n",
       "      <td>0.004457</td>\n",
       "      <td>0.004049</td>\n",
       "      <td>0.004638</td>\n",
       "      <td>...</td>\n",
       "      <td>0.004464</td>\n",
       "      <td>0.004636</td>\n",
       "      <td>0.004046</td>\n",
       "      <td>0.005518</td>\n",
       "      <td>0.005073</td>\n",
       "      <td>0.003527</td>\n",
       "      <td>0.005413</td>\n",
       "      <td>0.003140</td>\n",
       "      <td>0.002998</td>\n",
       "      <td>0.004829</td>\n",
       "    </tr>\n",
       "    <tr>\n",
       "      <td>1</td>\n",
       "      <td>Acidobacteria_Acidobacteria_Gp3_Gp3_Gp3</td>\n",
       "      <td>0.013269</td>\n",
       "      <td>0.012312</td>\n",
       "      <td>0.011611</td>\n",
       "      <td>0.013033</td>\n",
       "      <td>0.013689</td>\n",
       "      <td>0.012752</td>\n",
       "      <td>0.009772</td>\n",
       "      <td>0.012148</td>\n",
       "      <td>0.013743</td>\n",
       "      <td>...</td>\n",
       "      <td>0.010603</td>\n",
       "      <td>0.013565</td>\n",
       "      <td>0.012139</td>\n",
       "      <td>0.012875</td>\n",
       "      <td>0.013294</td>\n",
       "      <td>0.014107</td>\n",
       "      <td>0.012694</td>\n",
       "      <td>0.013082</td>\n",
       "      <td>0.008244</td>\n",
       "      <td>0.010401</td>\n",
       "    </tr>\n",
       "    <tr>\n",
       "      <td>2</td>\n",
       "      <td>Actinobacteria_Actinobacteria_Acidimicrobiales...</td>\n",
       "      <td>0.003502</td>\n",
       "      <td>0.005251</td>\n",
       "      <td>0.006082</td>\n",
       "      <td>0.003749</td>\n",
       "      <td>0.004332</td>\n",
       "      <td>0.004136</td>\n",
       "      <td>0.004972</td>\n",
       "      <td>0.004930</td>\n",
       "      <td>0.004638</td>\n",
       "      <td>...</td>\n",
       "      <td>0.003906</td>\n",
       "      <td>0.002919</td>\n",
       "      <td>0.004782</td>\n",
       "      <td>0.006070</td>\n",
       "      <td>0.003498</td>\n",
       "      <td>0.004408</td>\n",
       "      <td>0.004853</td>\n",
       "      <td>0.004012</td>\n",
       "      <td>0.004310</td>\n",
       "      <td>0.005758</td>\n",
       "    </tr>\n",
       "    <tr>\n",
       "      <td>3</td>\n",
       "      <td>Actinobacteria_Actinobacteria_Actinomycetales_...</td>\n",
       "      <td>0.003870</td>\n",
       "      <td>0.005794</td>\n",
       "      <td>0.005345</td>\n",
       "      <td>0.004106</td>\n",
       "      <td>0.002946</td>\n",
       "      <td>0.003963</td>\n",
       "      <td>0.005315</td>\n",
       "      <td>0.003697</td>\n",
       "      <td>0.005326</td>\n",
       "      <td>...</td>\n",
       "      <td>0.005394</td>\n",
       "      <td>0.004979</td>\n",
       "      <td>0.004598</td>\n",
       "      <td>0.005518</td>\n",
       "      <td>0.005597</td>\n",
       "      <td>0.004761</td>\n",
       "      <td>0.004293</td>\n",
       "      <td>0.005233</td>\n",
       "      <td>0.004497</td>\n",
       "      <td>0.005386</td>\n",
       "    </tr>\n",
       "    <tr>\n",
       "      <td>4</td>\n",
       "      <td>Actinobacteria_Actinobacteria_Actinomycetales_...</td>\n",
       "      <td>0.004976</td>\n",
       "      <td>0.003802</td>\n",
       "      <td>0.004239</td>\n",
       "      <td>0.004285</td>\n",
       "      <td>0.005198</td>\n",
       "      <td>0.004136</td>\n",
       "      <td>0.003257</td>\n",
       "      <td>0.002993</td>\n",
       "      <td>0.003264</td>\n",
       "      <td>...</td>\n",
       "      <td>0.004092</td>\n",
       "      <td>0.003777</td>\n",
       "      <td>0.004782</td>\n",
       "      <td>0.004598</td>\n",
       "      <td>0.003848</td>\n",
       "      <td>0.004585</td>\n",
       "      <td>0.003360</td>\n",
       "      <td>0.004186</td>\n",
       "      <td>0.004684</td>\n",
       "      <td>0.002043</td>\n",
       "    </tr>\n",
       "  </tbody>\n",
       "</table>\n",
       "<p>5 rows × 765 columns</p>\n",
       "</div>"
      ],
      "text/plain": [
       "                                        Microbe Name  HE0Sample_0  \\\n",
       "0  Acidobacteria_Acidobacteria_Gp1_Telmatobacter_...     0.004239   \n",
       "1            Acidobacteria_Acidobacteria_Gp3_Gp3_Gp3     0.013269   \n",
       "2  Actinobacteria_Actinobacteria_Acidimicrobiales...     0.003502   \n",
       "3  Actinobacteria_Actinobacteria_Actinomycetales_...     0.003870   \n",
       "4  Actinobacteria_Actinobacteria_Actinomycetales_...     0.004976   \n",
       "\n",
       "   HE0Sample_1  HE0Sample_2  HE0Sample_3  HE0Sample_4  HE0Sample_5  \\\n",
       "0     0.004345     0.004423     0.004463     0.005372     0.004136   \n",
       "1     0.012312     0.011611     0.013033     0.013689     0.012752   \n",
       "2     0.005251     0.006082     0.003749     0.004332     0.004136   \n",
       "3     0.005794     0.005345     0.004106     0.002946     0.003963   \n",
       "4     0.003802     0.004239     0.004285     0.005198     0.004136   \n",
       "\n",
       "   HE0Sample_6  HE0Sample_7  HE0Sample_8  ...  HE0Sample_754  HE0Sample_755  \\\n",
       "0     0.004457     0.004049     0.004638  ...       0.004464       0.004636   \n",
       "1     0.009772     0.012148     0.013743  ...       0.010603       0.013565   \n",
       "2     0.004972     0.004930     0.004638  ...       0.003906       0.002919   \n",
       "3     0.005315     0.003697     0.005326  ...       0.005394       0.004979   \n",
       "4     0.003257     0.002993     0.003264  ...       0.004092       0.003777   \n",
       "\n",
       "   HE0Sample_756  HE0Sample_757  HE0Sample_758  HE0Sample_759  HE0Sample_760  \\\n",
       "0       0.004046       0.005518       0.005073       0.003527       0.005413   \n",
       "1       0.012139       0.012875       0.013294       0.014107       0.012694   \n",
       "2       0.004782       0.006070       0.003498       0.004408       0.004853   \n",
       "3       0.004598       0.005518       0.005597       0.004761       0.004293   \n",
       "4       0.004782       0.004598       0.003848       0.004585       0.003360   \n",
       "\n",
       "   HE0Sample_761  HE0Sample_762  HE0Sample_763  \n",
       "0       0.003140       0.002998       0.004829  \n",
       "1       0.013082       0.008244       0.010401  \n",
       "2       0.004012       0.004310       0.005758  \n",
       "3       0.005233       0.004497       0.005386  \n",
       "4       0.004186       0.004684       0.002043  \n",
       "\n",
       "[5 rows x 765 columns]"
      ]
     },
     "execution_count": 2,
     "metadata": {},
     "output_type": "execute_result"
    }
   ],
   "source": [
    "RelativeAbundance_HE0 = pd.read_csv('Data/RelativeAbundance_HE0.csv')\n",
    "RelativeAbundance_HE0.head()"
   ]
  },
  {
   "cell_type": "markdown",
   "metadata": {},
   "source": [
    "### 1. In the context of statistical analysis, why do biologists need multiple samples to identify microbes with significantly altered abundance?\n",
    "\n",
    "In statistical analysis, sample size is an important consideration. Larger sample sizes provide more accurate mean values, identify outliers that could skew the data in a smaller sample and provide a smaller margin of error."
   ]
  },
  {
   "cell_type": "markdown",
   "metadata": {},
   "source": [
    "### 2. How many samples are analyzed?"
   ]
  },
  {
   "cell_type": "code",
   "execution_count": 3,
   "metadata": {},
   "outputs": [
    {
     "name": "stdout",
     "output_type": "stream",
     "text": [
      "764 samples were analyzed.\n"
     ]
    }
   ],
   "source": [
    "print('%s samples were analyzed.' %str(len(RelativeAbundance_HE0.columns) - 1))"
   ]
  },
  {
   "cell_type": "markdown",
   "metadata": {},
   "source": [
    "### 3. How many microbes are identified?"
   ]
  },
  {
   "cell_type": "code",
   "execution_count": 4,
   "metadata": {},
   "outputs": [
    {
     "name": "stdout",
     "output_type": "stream",
     "text": [
      "149 microbes were identified.\n"
     ]
    }
   ],
   "source": [
    "print('%s microbes were identified.' %str(len(RelativeAbundance_HE0)))"
   ]
  },
  {
   "cell_type": "markdown",
   "metadata": {},
   "source": [
    "## 1. Bayesian Network for Quality Control"
   ]
  },
  {
   "cell_type": "markdown",
   "metadata": {},
   "source": [
    "### a. Joint Probability Factorization"
   ]
  },
  {
   "cell_type": "markdown",
   "metadata": {},
   "source": [
    "#### P(Q, LT, C, CM, ST) = P(Q|LT, C) * P(LT) * P(C|S, CM) * P(S) * P(CM)"
   ]
  },
  {
   "cell_type": "markdown",
   "metadata": {},
   "source": [
    "### b. Parameters Required"
   ]
  },
  {
   "cell_type": "markdown",
   "metadata": {},
   "source": [
    "#### 4 + 1 + 4 + 1 + 1 = 11"
   ]
  },
  {
   "cell_type": "markdown",
   "metadata": {},
   "source": [
    "### c. Conditional Probability Tables"
   ]
  },
  {
   "cell_type": "code",
   "execution_count": 5,
   "metadata": {},
   "outputs": [
    {
     "data": {
      "text/html": [
       "<div>\n",
       "<style scoped>\n",
       "    .dataframe tbody tr th:only-of-type {\n",
       "        vertical-align: middle;\n",
       "    }\n",
       "\n",
       "    .dataframe tbody tr th {\n",
       "        vertical-align: top;\n",
       "    }\n",
       "\n",
       "    .dataframe thead th {\n",
       "        text-align: right;\n",
       "    }\n",
       "</style>\n",
       "<table border=\"1\" class=\"dataframe\">\n",
       "  <thead>\n",
       "    <tr style=\"text-align: right;\">\n",
       "      <th></th>\n",
       "      <th>strtmp</th>\n",
       "      <th>coll</th>\n",
       "      <th>labtime</th>\n",
       "      <th>cont</th>\n",
       "      <th>qual</th>\n",
       "    </tr>\n",
       "  </thead>\n",
       "  <tbody>\n",
       "    <tr>\n",
       "      <td>0</td>\n",
       "      <td>cold</td>\n",
       "      <td>nurse</td>\n",
       "      <td>short</td>\n",
       "      <td>low</td>\n",
       "      <td>good</td>\n",
       "    </tr>\n",
       "    <tr>\n",
       "      <td>1</td>\n",
       "      <td>cold</td>\n",
       "      <td>nurse</td>\n",
       "      <td>short</td>\n",
       "      <td>low</td>\n",
       "      <td>good</td>\n",
       "    </tr>\n",
       "    <tr>\n",
       "      <td>2</td>\n",
       "      <td>cold</td>\n",
       "      <td>nurse</td>\n",
       "      <td>short</td>\n",
       "      <td>low</td>\n",
       "      <td>bad</td>\n",
       "    </tr>\n",
       "    <tr>\n",
       "      <td>3</td>\n",
       "      <td>cold</td>\n",
       "      <td>nurse</td>\n",
       "      <td>short</td>\n",
       "      <td>high</td>\n",
       "      <td>good</td>\n",
       "    </tr>\n",
       "    <tr>\n",
       "      <td>4</td>\n",
       "      <td>cold</td>\n",
       "      <td>nurse</td>\n",
       "      <td>short</td>\n",
       "      <td>low</td>\n",
       "      <td>good</td>\n",
       "    </tr>\n",
       "  </tbody>\n",
       "</table>\n",
       "</div>"
      ],
      "text/plain": [
       "  strtmp   coll labtime  cont  qual\n",
       "0   cold  nurse   short   low  good\n",
       "1   cold  nurse   short   low  good\n",
       "2   cold  nurse   short   low   bad\n",
       "3   cold  nurse   short  high  good\n",
       "4   cold  nurse   short   low  good"
      ]
     },
     "execution_count": 5,
     "metadata": {},
     "output_type": "execute_result"
    }
   ],
   "source": [
    "QualityControl = pd.read_csv('Data/QualityControl.csv')\n",
    "QualityControl.head()"
   ]
  },
  {
   "cell_type": "code",
   "execution_count": 6,
   "metadata": {},
   "outputs": [
    {
     "name": "stdout",
     "output_type": "stream",
     "text": [
      "Conditional Prob Tables:\n",
      "(1) P(Quality|Contamination, Lab Time)\n",
      "P(Q=good | C=low, L=long) = 0.9190031152647975\n",
      "P(Q=bad | C=low, L=long) = 0.08099688473520249\n",
      "P(Q=good | C=low, L=short) = 0.9570930544381872\n",
      "P(Q=bad | C=low, L=short) = 0.04290694556181282\n",
      "P(Q=good | C=high, L=long) = 0.03389830508474576\n",
      "P(Q=bad | C=high, L=long) = 0.9661016949152542\n",
      "P(Q=good | C=high, L=short) = 0.9357429718875502\n",
      "P(Q=bad | C=high, L=short) = 0.0642570281124498\n",
      "(2) P(Contamination|Storage Temp, Collection Method)\n",
      "P(C=low | ST=cold, CM=nurse) = 0.9560168025698048\n",
      "P(C=high | ST=cold, CM=nurse) = 0.04398319743019521\n",
      "P(C=low | ST=cold, CM=patient) = 0.9234234234234234\n",
      "P(C=high | ST=cold, CM=patient) = 0.07657657657657657\n",
      "P(C=low | ST=cool, CM=nurse) = 0.9115646258503401\n",
      "P(C=high | ST=cool, CM=nurse) = 0.08843537414965986\n",
      "P(C=low | ST=cool, CM=patient) = 0.16176470588235295\n",
      "P(C=high | ST=cool, CM=patient) = 0.8382352941176471\n",
      "(3) P(Storage Temp)\n",
      "P(ST=cold) = 0.8982\n",
      "P(ST=cool) = 0.1018\n",
      "(4) P(Collection Method)\n",
      "P(CM=nurse) = 0.8976\n",
      "P(CM=patient) = 0.1024\n",
      "(5) P(Lab Time)\n",
      "P(L=long) = 0.2044\n",
      "P(L=short) = 0.7956\n"
     ]
    }
   ],
   "source": [
    "prob = {}\n",
    "count = {} \n",
    "category = {\n",
    "    'qual': ('good', 'bad'), \n",
    "    'cont': ('low', 'high'), \n",
    "    'labtime': ('long', 'short'), \n",
    "    'coll': ('nurse', 'patient'), \n",
    "    'strtmp' : ('cold', 'cool')\n",
    "}\n",
    "\n",
    "row_count = QualityControl['qual'].count()\n",
    "\n",
    "for key in category.keys():\n",
    "    for i in range(2):\n",
    "        count[category[key][i]] = QualityControl.loc[QualityControl[key] == category[key][i]]['qual'].count()\n",
    "        prob[category[key][i]] = count[category[key][i]] / row_count\n",
    "         \n",
    "for i in range(2):\n",
    "    for j in range(2):\n",
    "        count[(category['cont'][i], category['labtime'][j])] = QualityControl.loc[(QualityControl['cont'] == category['cont'][i]) & (QualityControl['labtime'] == category['labtime'][j])]['qual'].count() \n",
    "        count[(category['strtmp'][i], category['coll'][j])] = QualityControl.loc[(QualityControl['strtmp'] == category['strtmp'][i]) & (QualityControl['coll'] == category['coll'][j])]['qual'].count() \n",
    "\n",
    "for i in range(2):\n",
    "    for j in range(2):\n",
    "        for k in range(2):\n",
    "            count[(category['cont'][i], category['labtime'][j], category['qual'][k])] = QualityControl.loc[(QualityControl['cont'] == category['cont'][i]) & (QualityControl['labtime'] == category['labtime'][j]) & (QualityControl['qual'] == category['qual'][k])]['qual'].count() \n",
    "            prob[(category['cont'][i], category['labtime'][j], category['qual'][k])] = count[(category['cont'][i], category['labtime'][j], category['qual'][k] )] / count[(category['cont'][i], category['labtime'][j])]\n",
    "            \n",
    "            count[(category['strtmp'][i], category['coll'][j], category['cont'][k])] = QualityControl.loc[(QualityControl['strtmp'] == category['strtmp'][i]) & (QualityControl['coll'] == category['coll'][j]) & (QualityControl['cont'] == category['cont'][k])]['qual'].count()\n",
    "            prob[(category['strtmp'][i], category['coll'][j], category['cont'][k])] = count[(category['strtmp'][i], category['coll'][j], category['cont'][k] )] / count[(category['strtmp'][i], category['coll'][j])]\n",
    "\n",
    "print('Conditional Prob Tables:')\n",
    "print(\"(1) P(Quality|Contamination, Lab Time)\")\n",
    "for i in range(2):\n",
    "    for j in range(2):\n",
    "        for k in range(2):\n",
    "            q = category['qual'][k]\n",
    "            c = category['cont'][i]\n",
    "            l = category['labtime'][j]\n",
    "            print(\"P(Q=\" + q + \" | C=\" + c + \", L=\" + l + \") = \" + str(prob[(c, l, q)]))\n",
    "print(\"(2) P(Contamination|Storage Temp, Collection Method)\")\n",
    "for i in range(2):\n",
    "    for j in range(2):\n",
    "        for k in range(2):\n",
    "            c = category['cont'][k]\n",
    "            s = category['strtmp'][i]\n",
    "            co = category['coll'][j]\n",
    "            print(\"P(C=\" + c + \" | ST=\" + s + \", CM=\" + co + \") = \" + str(prob[(s, co, c)]))\n",
    "print(\"(3) P(Storage Temp)\")\n",
    "for i in range(2):\n",
    "    s = category['strtmp'][i]\n",
    "    print(\"P(ST=\" + s + \") = \" + str(prob[s]))\n",
    "print(\"(4) P(Collection Method)\")\n",
    "for i in range(2):\n",
    "    c = category['coll'][i]\n",
    "    print(\"P(CM=\" + c + \") = \" + str(prob[c]))\n",
    "print(\"(5) P(Lab Time)\")\n",
    "for i in range(2):\n",
    "    l = category['labtime'][i]\n",
    "    print(\"P(L=\" + l + \") = \" + str(prob[l]))"
   ]
  },
  {
   "cell_type": "markdown",
   "metadata": {},
   "source": [
    "### d. Conditional Probability Table -  P(Quality|Storage Temp, Collection Method, Lab Time) "
   ]
  },
  {
   "cell_type": "code",
   "execution_count": 7,
   "metadata": {},
   "outputs": [
    {
     "name": "stdout",
     "output_type": "stream",
     "text": [
      "Probability Table:\n",
      "P( Q = good  |  ('cold', 'nurse', 'long') ) = 0.8800733756522329\n",
      "P( Q = bad   |  ('cold', 'nurse', 'long') ) = 0.11992662434776714\n",
      "P( Q = good  |  ('cold', 'nurse', 'short') ) = 0.9561540095422115\n",
      "P( Q = bad   |  ('cold', 'nurse', 'short') ) = 0.043845990457788454\n",
      "P( Q = good  |  ('cold', 'patient', 'long') ) = 0.8512248189897486\n",
      "P( Q = bad   |  ('cold', 'patient', 'long') ) = 0.1487751810102515\n",
      "P( Q = good  |  ('cold', 'patient', 'short') ) = 0.955458138206832\n",
      "P( Q = bad   |  ('cold', 'patient', 'short') ) = 0.044541861793167915\n",
      "P( Q = good  |  ('cool', 'nurse', 'long') ) = 0.8407285402148609\n",
      "P( Q = bad   |  ('cool', 'nurse', 'long') ) = 0.15927145978513904\n",
      "P( Q = good  |  ('cool', 'nurse', 'short') ) = 0.9552049518996957\n",
      "P( Q = bad   |  ('cool', 'nurse', 'short') ) = 0.044795048100304526\n",
      "P( Q = good  |  ('cool', 'patient', 'long') ) = 0.17707702437857767\n",
      "P( Q = bad   |  ('cool', 'patient', 'long') ) = 0.8229229756214222\n",
      "P( Q = good  |  ('cool', 'patient', 'short') ) = 0.9391966617119181\n",
      "P( Q = bad   |  ('cool', 'patient', 'short') ) = 0.06080333828808206\n"
     ]
    }
   ],
   "source": [
    "# P(Q, LT, C, CM, ST) = P(Q|LT, C)*P(LT)*P(C|S, CM)*P(S)*P(CM)\n",
    "# P(Q|S, CM, LT) = [sum_C_P(Q|C, LT)*P(L)*P(C|S,CM)*P(S)*P(CM)] / [sum_Q,C_P(C, LT)*P(L)*P(C|S,CM)*P(S)*P(CM)]\n",
    "\n",
    "def classifier(strtmp, coll, labtime):\n",
    "    probs = []\n",
    "    sum_qc = 0\n",
    "    for qual in category['qual']:\n",
    "        for cont in category['cont']:\n",
    "            value = prob[(cont, labtime, qual)]*prob[(strtmp, coll, cont)]*prob[strtmp]*prob[coll]*prob[labtime]\n",
    "            sum_qc += value\n",
    "    for qual in category['qual']:\n",
    "        sum_c = 0\n",
    "        for cont in category['cont']:\n",
    "            value = prob[(cont, labtime, qual)]*prob[(strtmp, coll, cont)]*prob[strtmp]*prob[coll]*prob[labtime]\n",
    "            sum_c += value\n",
    "        probs.append((qual, sum_c/sum_qc))\n",
    "    probs = sorted(probs, key = lambda x : x[1])[::-1]\n",
    "    return probs\n",
    "\n",
    "probs = {}\n",
    "for i in range(2):\n",
    "    for j in range(2):\n",
    "        for k in range(2):\n",
    "            probs[(category['strtmp'][i], category['coll'][j], category['labtime'][k])] = classifier(category['strtmp'][i], category['coll'][j], category['labtime'][k])\n",
    "\n",
    "print('Probability Table:')                \n",
    "for item in probs:\n",
    "    if probs[item][0][0] == 'good':\n",
    "        print(\"P( Q =\", probs[item][0][0], \" | \", item, \") =\", probs[item][0][1])\n",
    "        print(\"P( Q =\", probs[item][1][0], \"  | \", item, \") =\", probs[item][1][1])\n",
    "    else:\n",
    "        print(\"P( Q =\", probs[item][1][0], \" | \", item, \") =\", probs[item][1][1])\n",
    "        print(\"P( Q =\", probs[item][0][0], \"  | \", item, \") =\", probs[item][0][1])"
   ]
  },
  {
   "cell_type": "markdown",
   "metadata": {},
   "source": [
    "### e. Cleaning the dataset"
   ]
  },
  {
   "cell_type": "code",
   "execution_count": 8,
   "metadata": {},
   "outputs": [
    {
     "data": {
      "text/html": [
       "<div>\n",
       "<style scoped>\n",
       "    .dataframe tbody tr th:only-of-type {\n",
       "        vertical-align: middle;\n",
       "    }\n",
       "\n",
       "    .dataframe tbody tr th {\n",
       "        vertical-align: top;\n",
       "    }\n",
       "\n",
       "    .dataframe thead th {\n",
       "        text-align: right;\n",
       "    }\n",
       "</style>\n",
       "<table border=\"1\" class=\"dataframe\">\n",
       "  <thead>\n",
       "    <tr style=\"text-align: right;\">\n",
       "      <th></th>\n",
       "      <th>SampleName</th>\n",
       "      <th>strtmp</th>\n",
       "      <th>coll</th>\n",
       "      <th>labtime</th>\n",
       "    </tr>\n",
       "  </thead>\n",
       "  <tbody>\n",
       "    <tr>\n",
       "      <td>0</td>\n",
       "      <td>HE0Sample_0</td>\n",
       "      <td>cold</td>\n",
       "      <td>nurse</td>\n",
       "      <td>short</td>\n",
       "    </tr>\n",
       "    <tr>\n",
       "      <td>1</td>\n",
       "      <td>HE0Sample_1</td>\n",
       "      <td>cold</td>\n",
       "      <td>nurse</td>\n",
       "      <td>short</td>\n",
       "    </tr>\n",
       "    <tr>\n",
       "      <td>2</td>\n",
       "      <td>HE0Sample_2</td>\n",
       "      <td>cold</td>\n",
       "      <td>nurse</td>\n",
       "      <td>short</td>\n",
       "    </tr>\n",
       "    <tr>\n",
       "      <td>3</td>\n",
       "      <td>HE0Sample_3</td>\n",
       "      <td>cold</td>\n",
       "      <td>nurse</td>\n",
       "      <td>short</td>\n",
       "    </tr>\n",
       "    <tr>\n",
       "      <td>4</td>\n",
       "      <td>HE0Sample_4</td>\n",
       "      <td>cold</td>\n",
       "      <td>nurse</td>\n",
       "      <td>short</td>\n",
       "    </tr>\n",
       "  </tbody>\n",
       "</table>\n",
       "</div>"
      ],
      "text/plain": [
       "    SampleName strtmp   coll labtime\n",
       "0  HE0Sample_0   cold  nurse   short\n",
       "1  HE0Sample_1   cold  nurse   short\n",
       "2  HE0Sample_2   cold  nurse   short\n",
       "3  HE0Sample_3   cold  nurse   short\n",
       "4  HE0Sample_4   cold  nurse   short"
      ]
     },
     "execution_count": 8,
     "metadata": {},
     "output_type": "execute_result"
    }
   ],
   "source": [
    "BayesInferenceHE0 = pd.read_csv('Data/BayesInferenceHE0.csv')\n",
    "BayesInferenceHE0.head()"
   ]
  },
  {
   "cell_type": "code",
   "execution_count": 9,
   "metadata": {},
   "outputs": [
    {
     "data": {
      "text/html": [
       "<div>\n",
       "<style scoped>\n",
       "    .dataframe tbody tr th:only-of-type {\n",
       "        vertical-align: middle;\n",
       "    }\n",
       "\n",
       "    .dataframe tbody tr th {\n",
       "        vertical-align: top;\n",
       "    }\n",
       "\n",
       "    .dataframe thead th {\n",
       "        text-align: right;\n",
       "    }\n",
       "</style>\n",
       "<table border=\"1\" class=\"dataframe\">\n",
       "  <thead>\n",
       "    <tr style=\"text-align: right;\">\n",
       "      <th></th>\n",
       "      <th>SampleName</th>\n",
       "      <th>strtmp</th>\n",
       "      <th>coll</th>\n",
       "      <th>labtime</th>\n",
       "    </tr>\n",
       "  </thead>\n",
       "  <tbody>\n",
       "    <tr>\n",
       "      <td>0</td>\n",
       "      <td>HE1Sample_0</td>\n",
       "      <td>cold</td>\n",
       "      <td>nurse</td>\n",
       "      <td>short</td>\n",
       "    </tr>\n",
       "    <tr>\n",
       "      <td>1</td>\n",
       "      <td>HE1Sample_1</td>\n",
       "      <td>cold</td>\n",
       "      <td>nurse</td>\n",
       "      <td>short</td>\n",
       "    </tr>\n",
       "    <tr>\n",
       "      <td>2</td>\n",
       "      <td>HE1Sample_2</td>\n",
       "      <td>cold</td>\n",
       "      <td>nurse</td>\n",
       "      <td>short</td>\n",
       "    </tr>\n",
       "    <tr>\n",
       "      <td>3</td>\n",
       "      <td>HE1Sample_3</td>\n",
       "      <td>cold</td>\n",
       "      <td>nurse</td>\n",
       "      <td>short</td>\n",
       "    </tr>\n",
       "    <tr>\n",
       "      <td>4</td>\n",
       "      <td>HE1Sample_4</td>\n",
       "      <td>cold</td>\n",
       "      <td>nurse</td>\n",
       "      <td>short</td>\n",
       "    </tr>\n",
       "  </tbody>\n",
       "</table>\n",
       "</div>"
      ],
      "text/plain": [
       "    SampleName strtmp   coll labtime\n",
       "0  HE1Sample_0   cold  nurse   short\n",
       "1  HE1Sample_1   cold  nurse   short\n",
       "2  HE1Sample_2   cold  nurse   short\n",
       "3  HE1Sample_3   cold  nurse   short\n",
       "4  HE1Sample_4   cold  nurse   short"
      ]
     },
     "execution_count": 9,
     "metadata": {},
     "output_type": "execute_result"
    }
   ],
   "source": [
    "BayesInferenceHE1 = pd.read_csv('Data/BayesInferenceHE1.csv')\n",
    "BayesInferenceHE1.head()"
   ]
  },
  {
   "cell_type": "code",
   "execution_count": 10,
   "metadata": {},
   "outputs": [],
   "source": [
    "def classify(strtmp, coll, labtime): # same as classifier() when done\n",
    "    if probs[(strtmp, coll, labtime)][0][0] == 'good':\n",
    "        good_prob = probs[(strtmp, coll, labtime)][0][1]\n",
    "        bad_prob = probs[(strtmp, coll, labtime)][1][1]\n",
    "    else:\n",
    "        good_prob = probs[(strtmp, coll, labtime)][1][1]\n",
    "        bad_prob = probs[(strtmp, coll, labtime)][0][1]\n",
    "    if good_prob >= bad_prob:\n",
    "        return 'good'\n",
    "    else:\n",
    "        return 'bad'"
   ]
  },
  {
   "cell_type": "code",
   "execution_count": 11,
   "metadata": {},
   "outputs": [
    {
     "data": {
      "text/html": [
       "<div>\n",
       "<style scoped>\n",
       "    .dataframe tbody tr th:only-of-type {\n",
       "        vertical-align: middle;\n",
       "    }\n",
       "\n",
       "    .dataframe tbody tr th {\n",
       "        vertical-align: top;\n",
       "    }\n",
       "\n",
       "    .dataframe thead th {\n",
       "        text-align: right;\n",
       "    }\n",
       "</style>\n",
       "<table border=\"1\" class=\"dataframe\">\n",
       "  <thead>\n",
       "    <tr style=\"text-align: right;\">\n",
       "      <th></th>\n",
       "      <th>SampleName</th>\n",
       "      <th>strtmp</th>\n",
       "      <th>coll</th>\n",
       "      <th>labtime</th>\n",
       "      <th>qual</th>\n",
       "    </tr>\n",
       "  </thead>\n",
       "  <tbody>\n",
       "    <tr>\n",
       "      <td>0</td>\n",
       "      <td>HE0Sample_0</td>\n",
       "      <td>cold</td>\n",
       "      <td>nurse</td>\n",
       "      <td>short</td>\n",
       "      <td>good</td>\n",
       "    </tr>\n",
       "    <tr>\n",
       "      <td>1</td>\n",
       "      <td>HE0Sample_1</td>\n",
       "      <td>cold</td>\n",
       "      <td>nurse</td>\n",
       "      <td>short</td>\n",
       "      <td>good</td>\n",
       "    </tr>\n",
       "    <tr>\n",
       "      <td>2</td>\n",
       "      <td>HE0Sample_2</td>\n",
       "      <td>cold</td>\n",
       "      <td>nurse</td>\n",
       "      <td>short</td>\n",
       "      <td>good</td>\n",
       "    </tr>\n",
       "    <tr>\n",
       "      <td>3</td>\n",
       "      <td>HE0Sample_3</td>\n",
       "      <td>cold</td>\n",
       "      <td>nurse</td>\n",
       "      <td>short</td>\n",
       "      <td>good</td>\n",
       "    </tr>\n",
       "    <tr>\n",
       "      <td>4</td>\n",
       "      <td>HE0Sample_4</td>\n",
       "      <td>cold</td>\n",
       "      <td>nurse</td>\n",
       "      <td>short</td>\n",
       "      <td>good</td>\n",
       "    </tr>\n",
       "  </tbody>\n",
       "</table>\n",
       "</div>"
      ],
      "text/plain": [
       "    SampleName strtmp   coll labtime  qual\n",
       "0  HE0Sample_0   cold  nurse   short  good\n",
       "1  HE0Sample_1   cold  nurse   short  good\n",
       "2  HE0Sample_2   cold  nurse   short  good\n",
       "3  HE0Sample_3   cold  nurse   short  good\n",
       "4  HE0Sample_4   cold  nurse   short  good"
      ]
     },
     "execution_count": 11,
     "metadata": {},
     "output_type": "execute_result"
    }
   ],
   "source": [
    "BayesInferenceHE0['qual'] = BayesInferenceHE0.apply(lambda x: classify(x['strtmp'], x['coll'], x['labtime']), axis = 1)\n",
    "BayesInferenceHE0Bad = BayesInferenceHE0.loc[BayesInferenceHE0['qual'] == 'bad']\n",
    "BayesInferenceHE0Good = BayesInferenceHE0.loc[BayesInferenceHE0['qual'] == 'good']\n",
    "BayesInferenceHE0Good.head()"
   ]
  },
  {
   "cell_type": "code",
   "execution_count": 12,
   "metadata": {},
   "outputs": [
    {
     "name": "stdout",
     "output_type": "stream",
     "text": [
      "Bad samples are:\n",
      "HE1Sample_699\n",
      "HE1Sample_700\n",
      "HE1Sample_701\n",
      "HE1Sample_702\n",
      "HE1Sample_703\n",
      "HE1Sample_704\n",
      "HE1Sample_705\n",
      "HE1Sample_706\n",
      "HE1Sample_707\n",
      "HE1Sample_708\n",
      "HE1Sample_709\n",
      "HE1Sample_710\n",
      "HE1Sample_711\n",
      "HE1Sample_712\n",
      "HE1Sample_713\n",
      "HE1Sample_714\n",
      "HE1Sample_715\n",
      "HE1Sample_716\n",
      "HE1Sample_717\n",
      "HE1Sample_718\n",
      "HE1Sample_719\n",
      "HE1Sample_720\n",
      "HE1Sample_721\n",
      "HE1Sample_722\n",
      "HE1Sample_723\n",
      "HE1Sample_724\n",
      "HE1Sample_725\n",
      "HE1Sample_726\n",
      "HE1Sample_727\n",
      "HE1Sample_728\n",
      "HE1Sample_729\n",
      "HE1Sample_730\n",
      "HE1Sample_731\n",
      "HE1Sample_732\n",
      "HE1Sample_733\n",
      "HE1Sample_734\n",
      "HE1Sample_735\n",
      "HE1Sample_736\n",
      "HE1Sample_737\n",
      "HE1Sample_738\n",
      "HE1Sample_739\n",
      "HE1Sample_740\n",
      "HE1Sample_741\n",
      "HE1Sample_742\n",
      "HE1Sample_743\n",
      "HE1Sample_744\n",
      "HE1Sample_745\n",
      "HE1Sample_746\n",
      "HE1Sample_747\n",
      "HE1Sample_748\n",
      "HE1Sample_749\n",
      "HE1Sample_750\n",
      "HE1Sample_751\n",
      "HE1Sample_752\n",
      "HE1Sample_753\n",
      "HE1Sample_754\n",
      "HE1Sample_755\n",
      "HE1Sample_756\n",
      "HE1Sample_757\n",
      "HE1Sample_758\n",
      "HE1Sample_759\n",
      "HE1Sample_760\n",
      "HE1Sample_761\n",
      "HE1Sample_762\n",
      "HE1Sample_763\n"
     ]
    },
    {
     "data": {
      "text/html": [
       "<div>\n",
       "<style scoped>\n",
       "    .dataframe tbody tr th:only-of-type {\n",
       "        vertical-align: middle;\n",
       "    }\n",
       "\n",
       "    .dataframe tbody tr th {\n",
       "        vertical-align: top;\n",
       "    }\n",
       "\n",
       "    .dataframe thead th {\n",
       "        text-align: right;\n",
       "    }\n",
       "</style>\n",
       "<table border=\"1\" class=\"dataframe\">\n",
       "  <thead>\n",
       "    <tr style=\"text-align: right;\">\n",
       "      <th></th>\n",
       "      <th>SampleName</th>\n",
       "      <th>strtmp</th>\n",
       "      <th>coll</th>\n",
       "      <th>labtime</th>\n",
       "      <th>qual</th>\n",
       "    </tr>\n",
       "  </thead>\n",
       "  <tbody>\n",
       "    <tr>\n",
       "      <td>694</td>\n",
       "      <td>HE1Sample_694</td>\n",
       "      <td>cold</td>\n",
       "      <td>nurse</td>\n",
       "      <td>long</td>\n",
       "      <td>good</td>\n",
       "    </tr>\n",
       "    <tr>\n",
       "      <td>695</td>\n",
       "      <td>HE1Sample_695</td>\n",
       "      <td>cold</td>\n",
       "      <td>nurse</td>\n",
       "      <td>long</td>\n",
       "      <td>good</td>\n",
       "    </tr>\n",
       "    <tr>\n",
       "      <td>696</td>\n",
       "      <td>HE1Sample_696</td>\n",
       "      <td>cold</td>\n",
       "      <td>nurse</td>\n",
       "      <td>long</td>\n",
       "      <td>good</td>\n",
       "    </tr>\n",
       "    <tr>\n",
       "      <td>697</td>\n",
       "      <td>HE1Sample_697</td>\n",
       "      <td>cold</td>\n",
       "      <td>nurse</td>\n",
       "      <td>long</td>\n",
       "      <td>good</td>\n",
       "    </tr>\n",
       "    <tr>\n",
       "      <td>698</td>\n",
       "      <td>HE1Sample_698</td>\n",
       "      <td>cold</td>\n",
       "      <td>nurse</td>\n",
       "      <td>long</td>\n",
       "      <td>good</td>\n",
       "    </tr>\n",
       "  </tbody>\n",
       "</table>\n",
       "</div>"
      ],
      "text/plain": [
       "        SampleName strtmp   coll labtime  qual\n",
       "694  HE1Sample_694   cold  nurse    long  good\n",
       "695  HE1Sample_695   cold  nurse    long  good\n",
       "696  HE1Sample_696   cold  nurse    long  good\n",
       "697  HE1Sample_697   cold  nurse    long  good\n",
       "698  HE1Sample_698   cold  nurse    long  good"
      ]
     },
     "execution_count": 12,
     "metadata": {},
     "output_type": "execute_result"
    }
   ],
   "source": [
    "BayesInferenceHE1['qual'] = BayesInferenceHE0.apply(lambda x: classify(x['strtmp'], x['coll'], x['labtime']), axis = 1)\n",
    "BayesInferenceHE1Bad = BayesInferenceHE1.loc[BayesInferenceHE1['qual'] == 'bad']\n",
    "BayesInferenceHE1Good = BayesInferenceHE1.loc[BayesInferenceHE1['qual'] == 'good']\n",
    "print(\"Bad samples are:\")\n",
    "for i in BayesInferenceHE1Bad['SampleName']:\n",
    "    print(i)\n",
    "BayesInferenceHE1Good.tail()"
   ]
  },
  {
   "cell_type": "code",
   "execution_count": 13,
   "metadata": {},
   "outputs": [
    {
     "data": {
      "text/html": [
       "<div>\n",
       "<style scoped>\n",
       "    .dataframe tbody tr th:only-of-type {\n",
       "        vertical-align: middle;\n",
       "    }\n",
       "\n",
       "    .dataframe tbody tr th {\n",
       "        vertical-align: top;\n",
       "    }\n",
       "\n",
       "    .dataframe thead th {\n",
       "        text-align: right;\n",
       "    }\n",
       "</style>\n",
       "<table border=\"1\" class=\"dataframe\">\n",
       "  <thead>\n",
       "    <tr style=\"text-align: right;\">\n",
       "      <th></th>\n",
       "      <th>Microbe Name</th>\n",
       "      <th>HE0Sample_0</th>\n",
       "      <th>HE0Sample_1</th>\n",
       "      <th>HE0Sample_2</th>\n",
       "      <th>HE0Sample_3</th>\n",
       "      <th>HE0Sample_4</th>\n",
       "      <th>HE0Sample_5</th>\n",
       "      <th>HE0Sample_6</th>\n",
       "      <th>HE0Sample_7</th>\n",
       "      <th>HE0Sample_8</th>\n",
       "      <th>...</th>\n",
       "      <th>HE0Sample_754</th>\n",
       "      <th>HE0Sample_755</th>\n",
       "      <th>HE0Sample_756</th>\n",
       "      <th>HE0Sample_757</th>\n",
       "      <th>HE0Sample_758</th>\n",
       "      <th>HE0Sample_759</th>\n",
       "      <th>HE0Sample_760</th>\n",
       "      <th>HE0Sample_761</th>\n",
       "      <th>HE0Sample_762</th>\n",
       "      <th>HE0Sample_763</th>\n",
       "    </tr>\n",
       "  </thead>\n",
       "  <tbody>\n",
       "    <tr>\n",
       "      <td>0</td>\n",
       "      <td>Acidobacteria_Acidobacteria_Gp1_Telmatobacter_...</td>\n",
       "      <td>0.004239</td>\n",
       "      <td>0.004345</td>\n",
       "      <td>0.004423</td>\n",
       "      <td>0.004463</td>\n",
       "      <td>0.005372</td>\n",
       "      <td>0.004136</td>\n",
       "      <td>0.004457</td>\n",
       "      <td>0.004049</td>\n",
       "      <td>0.004638</td>\n",
       "      <td>...</td>\n",
       "      <td>0.004464</td>\n",
       "      <td>0.004636</td>\n",
       "      <td>0.004046</td>\n",
       "      <td>0.005518</td>\n",
       "      <td>0.005073</td>\n",
       "      <td>0.003527</td>\n",
       "      <td>0.005413</td>\n",
       "      <td>0.003140</td>\n",
       "      <td>0.002998</td>\n",
       "      <td>0.004829</td>\n",
       "    </tr>\n",
       "    <tr>\n",
       "      <td>1</td>\n",
       "      <td>Acidobacteria_Acidobacteria_Gp3_Gp3_Gp3</td>\n",
       "      <td>0.013269</td>\n",
       "      <td>0.012312</td>\n",
       "      <td>0.011611</td>\n",
       "      <td>0.013033</td>\n",
       "      <td>0.013689</td>\n",
       "      <td>0.012752</td>\n",
       "      <td>0.009772</td>\n",
       "      <td>0.012148</td>\n",
       "      <td>0.013743</td>\n",
       "      <td>...</td>\n",
       "      <td>0.010603</td>\n",
       "      <td>0.013565</td>\n",
       "      <td>0.012139</td>\n",
       "      <td>0.012875</td>\n",
       "      <td>0.013294</td>\n",
       "      <td>0.014107</td>\n",
       "      <td>0.012694</td>\n",
       "      <td>0.013082</td>\n",
       "      <td>0.008244</td>\n",
       "      <td>0.010401</td>\n",
       "    </tr>\n",
       "    <tr>\n",
       "      <td>2</td>\n",
       "      <td>Actinobacteria_Actinobacteria_Acidimicrobiales...</td>\n",
       "      <td>0.003502</td>\n",
       "      <td>0.005251</td>\n",
       "      <td>0.006082</td>\n",
       "      <td>0.003749</td>\n",
       "      <td>0.004332</td>\n",
       "      <td>0.004136</td>\n",
       "      <td>0.004972</td>\n",
       "      <td>0.004930</td>\n",
       "      <td>0.004638</td>\n",
       "      <td>...</td>\n",
       "      <td>0.003906</td>\n",
       "      <td>0.002919</td>\n",
       "      <td>0.004782</td>\n",
       "      <td>0.006070</td>\n",
       "      <td>0.003498</td>\n",
       "      <td>0.004408</td>\n",
       "      <td>0.004853</td>\n",
       "      <td>0.004012</td>\n",
       "      <td>0.004310</td>\n",
       "      <td>0.005758</td>\n",
       "    </tr>\n",
       "    <tr>\n",
       "      <td>3</td>\n",
       "      <td>Actinobacteria_Actinobacteria_Actinomycetales_...</td>\n",
       "      <td>0.003870</td>\n",
       "      <td>0.005794</td>\n",
       "      <td>0.005345</td>\n",
       "      <td>0.004106</td>\n",
       "      <td>0.002946</td>\n",
       "      <td>0.003963</td>\n",
       "      <td>0.005315</td>\n",
       "      <td>0.003697</td>\n",
       "      <td>0.005326</td>\n",
       "      <td>...</td>\n",
       "      <td>0.005394</td>\n",
       "      <td>0.004979</td>\n",
       "      <td>0.004598</td>\n",
       "      <td>0.005518</td>\n",
       "      <td>0.005597</td>\n",
       "      <td>0.004761</td>\n",
       "      <td>0.004293</td>\n",
       "      <td>0.005233</td>\n",
       "      <td>0.004497</td>\n",
       "      <td>0.005386</td>\n",
       "    </tr>\n",
       "    <tr>\n",
       "      <td>4</td>\n",
       "      <td>Actinobacteria_Actinobacteria_Actinomycetales_...</td>\n",
       "      <td>0.004976</td>\n",
       "      <td>0.003802</td>\n",
       "      <td>0.004239</td>\n",
       "      <td>0.004285</td>\n",
       "      <td>0.005198</td>\n",
       "      <td>0.004136</td>\n",
       "      <td>0.003257</td>\n",
       "      <td>0.002993</td>\n",
       "      <td>0.003264</td>\n",
       "      <td>...</td>\n",
       "      <td>0.004092</td>\n",
       "      <td>0.003777</td>\n",
       "      <td>0.004782</td>\n",
       "      <td>0.004598</td>\n",
       "      <td>0.003848</td>\n",
       "      <td>0.004585</td>\n",
       "      <td>0.003360</td>\n",
       "      <td>0.004186</td>\n",
       "      <td>0.004684</td>\n",
       "      <td>0.002043</td>\n",
       "    </tr>\n",
       "  </tbody>\n",
       "</table>\n",
       "<p>5 rows × 765 columns</p>\n",
       "</div>"
      ],
      "text/plain": [
       "                                        Microbe Name  HE0Sample_0  \\\n",
       "0  Acidobacteria_Acidobacteria_Gp1_Telmatobacter_...     0.004239   \n",
       "1            Acidobacteria_Acidobacteria_Gp3_Gp3_Gp3     0.013269   \n",
       "2  Actinobacteria_Actinobacteria_Acidimicrobiales...     0.003502   \n",
       "3  Actinobacteria_Actinobacteria_Actinomycetales_...     0.003870   \n",
       "4  Actinobacteria_Actinobacteria_Actinomycetales_...     0.004976   \n",
       "\n",
       "   HE0Sample_1  HE0Sample_2  HE0Sample_3  HE0Sample_4  HE0Sample_5  \\\n",
       "0     0.004345     0.004423     0.004463     0.005372     0.004136   \n",
       "1     0.012312     0.011611     0.013033     0.013689     0.012752   \n",
       "2     0.005251     0.006082     0.003749     0.004332     0.004136   \n",
       "3     0.005794     0.005345     0.004106     0.002946     0.003963   \n",
       "4     0.003802     0.004239     0.004285     0.005198     0.004136   \n",
       "\n",
       "   HE0Sample_6  HE0Sample_7  HE0Sample_8  ...  HE0Sample_754  HE0Sample_755  \\\n",
       "0     0.004457     0.004049     0.004638  ...       0.004464       0.004636   \n",
       "1     0.009772     0.012148     0.013743  ...       0.010603       0.013565   \n",
       "2     0.004972     0.004930     0.004638  ...       0.003906       0.002919   \n",
       "3     0.005315     0.003697     0.005326  ...       0.005394       0.004979   \n",
       "4     0.003257     0.002993     0.003264  ...       0.004092       0.003777   \n",
       "\n",
       "   HE0Sample_756  HE0Sample_757  HE0Sample_758  HE0Sample_759  HE0Sample_760  \\\n",
       "0       0.004046       0.005518       0.005073       0.003527       0.005413   \n",
       "1       0.012139       0.012875       0.013294       0.014107       0.012694   \n",
       "2       0.004782       0.006070       0.003498       0.004408       0.004853   \n",
       "3       0.004598       0.005518       0.005597       0.004761       0.004293   \n",
       "4       0.004782       0.004598       0.003848       0.004585       0.003360   \n",
       "\n",
       "   HE0Sample_761  HE0Sample_762  HE0Sample_763  \n",
       "0       0.003140       0.002998       0.004829  \n",
       "1       0.013082       0.008244       0.010401  \n",
       "2       0.004012       0.004310       0.005758  \n",
       "3       0.005233       0.004497       0.005386  \n",
       "4       0.004186       0.004684       0.002043  \n",
       "\n",
       "[5 rows x 765 columns]"
      ]
     },
     "execution_count": 13,
     "metadata": {},
     "output_type": "execute_result"
    }
   ],
   "source": [
    "RelativeAbundance_HE0.head()"
   ]
  },
  {
   "cell_type": "code",
   "execution_count": 14,
   "metadata": {},
   "outputs": [
    {
     "data": {
      "text/html": [
       "<div>\n",
       "<style scoped>\n",
       "    .dataframe tbody tr th:only-of-type {\n",
       "        vertical-align: middle;\n",
       "    }\n",
       "\n",
       "    .dataframe tbody tr th {\n",
       "        vertical-align: top;\n",
       "    }\n",
       "\n",
       "    .dataframe thead th {\n",
       "        text-align: right;\n",
       "    }\n",
       "</style>\n",
       "<table border=\"1\" class=\"dataframe\">\n",
       "  <thead>\n",
       "    <tr style=\"text-align: right;\">\n",
       "      <th></th>\n",
       "      <th>Microbe Name</th>\n",
       "      <th>HE0Sample_0</th>\n",
       "      <th>HE0Sample_1</th>\n",
       "      <th>HE0Sample_2</th>\n",
       "      <th>HE0Sample_3</th>\n",
       "      <th>HE0Sample_4</th>\n",
       "      <th>HE0Sample_5</th>\n",
       "      <th>HE0Sample_6</th>\n",
       "      <th>HE0Sample_7</th>\n",
       "      <th>HE0Sample_8</th>\n",
       "      <th>...</th>\n",
       "      <th>HE0Sample_689</th>\n",
       "      <th>HE0Sample_690</th>\n",
       "      <th>HE0Sample_691</th>\n",
       "      <th>HE0Sample_692</th>\n",
       "      <th>HE0Sample_693</th>\n",
       "      <th>HE0Sample_694</th>\n",
       "      <th>HE0Sample_695</th>\n",
       "      <th>HE0Sample_696</th>\n",
       "      <th>HE0Sample_697</th>\n",
       "      <th>HE0Sample_698</th>\n",
       "    </tr>\n",
       "  </thead>\n",
       "  <tbody>\n",
       "    <tr>\n",
       "      <td>0</td>\n",
       "      <td>Acidobacteria_Acidobacteria_Gp1_Telmatobacter_...</td>\n",
       "      <td>0.004239</td>\n",
       "      <td>0.004345</td>\n",
       "      <td>0.004423</td>\n",
       "      <td>0.004463</td>\n",
       "      <td>0.005372</td>\n",
       "      <td>0.004136</td>\n",
       "      <td>0.004457</td>\n",
       "      <td>0.004049</td>\n",
       "      <td>0.004638</td>\n",
       "      <td>...</td>\n",
       "      <td>0.004681</td>\n",
       "      <td>0.005588</td>\n",
       "      <td>0.004256</td>\n",
       "      <td>0.003755</td>\n",
       "      <td>0.004995</td>\n",
       "      <td>0.006198</td>\n",
       "      <td>0.006096</td>\n",
       "      <td>0.003961</td>\n",
       "      <td>0.003970</td>\n",
       "      <td>0.005229</td>\n",
       "    </tr>\n",
       "    <tr>\n",
       "      <td>1</td>\n",
       "      <td>Acidobacteria_Acidobacteria_Gp3_Gp3_Gp3</td>\n",
       "      <td>0.013269</td>\n",
       "      <td>0.012312</td>\n",
       "      <td>0.011611</td>\n",
       "      <td>0.013033</td>\n",
       "      <td>0.013689</td>\n",
       "      <td>0.012752</td>\n",
       "      <td>0.009772</td>\n",
       "      <td>0.012148</td>\n",
       "      <td>0.013743</td>\n",
       "      <td>...</td>\n",
       "      <td>0.007489</td>\n",
       "      <td>0.011874</td>\n",
       "      <td>0.011103</td>\n",
       "      <td>0.014661</td>\n",
       "      <td>0.009301</td>\n",
       "      <td>0.010331</td>\n",
       "      <td>0.012716</td>\n",
       "      <td>0.011195</td>\n",
       "      <td>0.011731</td>\n",
       "      <td>0.014642</td>\n",
       "    </tr>\n",
       "    <tr>\n",
       "      <td>2</td>\n",
       "      <td>Actinobacteria_Actinobacteria_Acidimicrobiales...</td>\n",
       "      <td>0.003502</td>\n",
       "      <td>0.005251</td>\n",
       "      <td>0.006082</td>\n",
       "      <td>0.003749</td>\n",
       "      <td>0.004332</td>\n",
       "      <td>0.004136</td>\n",
       "      <td>0.004972</td>\n",
       "      <td>0.004930</td>\n",
       "      <td>0.004638</td>\n",
       "      <td>...</td>\n",
       "      <td>0.005055</td>\n",
       "      <td>0.002095</td>\n",
       "      <td>0.005736</td>\n",
       "      <td>0.004291</td>\n",
       "      <td>0.006545</td>\n",
       "      <td>0.004132</td>\n",
       "      <td>0.004877</td>\n",
       "      <td>0.004823</td>\n",
       "      <td>0.001985</td>\n",
       "      <td>0.004532</td>\n",
       "    </tr>\n",
       "    <tr>\n",
       "      <td>3</td>\n",
       "      <td>Actinobacteria_Actinobacteria_Actinomycetales_...</td>\n",
       "      <td>0.003870</td>\n",
       "      <td>0.005794</td>\n",
       "      <td>0.005345</td>\n",
       "      <td>0.004106</td>\n",
       "      <td>0.002946</td>\n",
       "      <td>0.003963</td>\n",
       "      <td>0.005315</td>\n",
       "      <td>0.003697</td>\n",
       "      <td>0.005326</td>\n",
       "      <td>...</td>\n",
       "      <td>0.004306</td>\n",
       "      <td>0.003318</td>\n",
       "      <td>0.004626</td>\n",
       "      <td>0.004112</td>\n",
       "      <td>0.004823</td>\n",
       "      <td>0.005447</td>\n",
       "      <td>0.004877</td>\n",
       "      <td>0.003961</td>\n",
       "      <td>0.003609</td>\n",
       "      <td>0.003486</td>\n",
       "    </tr>\n",
       "    <tr>\n",
       "      <td>4</td>\n",
       "      <td>Actinobacteria_Actinobacteria_Actinomycetales_...</td>\n",
       "      <td>0.004976</td>\n",
       "      <td>0.003802</td>\n",
       "      <td>0.004239</td>\n",
       "      <td>0.004285</td>\n",
       "      <td>0.005198</td>\n",
       "      <td>0.004136</td>\n",
       "      <td>0.003257</td>\n",
       "      <td>0.002993</td>\n",
       "      <td>0.003264</td>\n",
       "      <td>...</td>\n",
       "      <td>0.005242</td>\n",
       "      <td>0.002445</td>\n",
       "      <td>0.005736</td>\n",
       "      <td>0.005006</td>\n",
       "      <td>0.004306</td>\n",
       "      <td>0.004884</td>\n",
       "      <td>0.002613</td>\n",
       "      <td>0.004650</td>\n",
       "      <td>0.005234</td>\n",
       "      <td>0.004183</td>\n",
       "    </tr>\n",
       "  </tbody>\n",
       "</table>\n",
       "<p>5 rows × 700 columns</p>\n",
       "</div>"
      ],
      "text/plain": [
       "                                        Microbe Name  HE0Sample_0  \\\n",
       "0  Acidobacteria_Acidobacteria_Gp1_Telmatobacter_...     0.004239   \n",
       "1            Acidobacteria_Acidobacteria_Gp3_Gp3_Gp3     0.013269   \n",
       "2  Actinobacteria_Actinobacteria_Acidimicrobiales...     0.003502   \n",
       "3  Actinobacteria_Actinobacteria_Actinomycetales_...     0.003870   \n",
       "4  Actinobacteria_Actinobacteria_Actinomycetales_...     0.004976   \n",
       "\n",
       "   HE0Sample_1  HE0Sample_2  HE0Sample_3  HE0Sample_4  HE0Sample_5  \\\n",
       "0     0.004345     0.004423     0.004463     0.005372     0.004136   \n",
       "1     0.012312     0.011611     0.013033     0.013689     0.012752   \n",
       "2     0.005251     0.006082     0.003749     0.004332     0.004136   \n",
       "3     0.005794     0.005345     0.004106     0.002946     0.003963   \n",
       "4     0.003802     0.004239     0.004285     0.005198     0.004136   \n",
       "\n",
       "   HE0Sample_6  HE0Sample_7  HE0Sample_8  ...  HE0Sample_689  HE0Sample_690  \\\n",
       "0     0.004457     0.004049     0.004638  ...       0.004681       0.005588   \n",
       "1     0.009772     0.012148     0.013743  ...       0.007489       0.011874   \n",
       "2     0.004972     0.004930     0.004638  ...       0.005055       0.002095   \n",
       "3     0.005315     0.003697     0.005326  ...       0.004306       0.003318   \n",
       "4     0.003257     0.002993     0.003264  ...       0.005242       0.002445   \n",
       "\n",
       "   HE0Sample_691  HE0Sample_692  HE0Sample_693  HE0Sample_694  HE0Sample_695  \\\n",
       "0       0.004256       0.003755       0.004995       0.006198       0.006096   \n",
       "1       0.011103       0.014661       0.009301       0.010331       0.012716   \n",
       "2       0.005736       0.004291       0.006545       0.004132       0.004877   \n",
       "3       0.004626       0.004112       0.004823       0.005447       0.004877   \n",
       "4       0.005736       0.005006       0.004306       0.004884       0.002613   \n",
       "\n",
       "   HE0Sample_696  HE0Sample_697  HE0Sample_698  \n",
       "0       0.003961       0.003970       0.005229  \n",
       "1       0.011195       0.011731       0.014642  \n",
       "2       0.004823       0.001985       0.004532  \n",
       "3       0.003961       0.003609       0.003486  \n",
       "4       0.004650       0.005234       0.004183  \n",
       "\n",
       "[5 rows x 700 columns]"
      ]
     },
     "execution_count": 14,
     "metadata": {},
     "output_type": "execute_result"
    }
   ],
   "source": [
    "RelativeAbundance_HE0_Good = RelativeAbundance_HE0[['Microbe Name'] + list(BayesInferenceHE0Good['SampleName'])]\n",
    "RelativeAbundance_HE0_Good.head()"
   ]
  },
  {
   "cell_type": "code",
   "execution_count": 15,
   "metadata": {},
   "outputs": [
    {
     "data": {
      "text/html": [
       "<div>\n",
       "<style scoped>\n",
       "    .dataframe tbody tr th:only-of-type {\n",
       "        vertical-align: middle;\n",
       "    }\n",
       "\n",
       "    .dataframe tbody tr th {\n",
       "        vertical-align: top;\n",
       "    }\n",
       "\n",
       "    .dataframe thead th {\n",
       "        text-align: right;\n",
       "    }\n",
       "</style>\n",
       "<table border=\"1\" class=\"dataframe\">\n",
       "  <thead>\n",
       "    <tr style=\"text-align: right;\">\n",
       "      <th></th>\n",
       "      <th>Microbe Name</th>\n",
       "      <th>HE1Sample_0</th>\n",
       "      <th>HE1Sample_1</th>\n",
       "      <th>HE1Sample_2</th>\n",
       "      <th>HE1Sample_3</th>\n",
       "      <th>HE1Sample_4</th>\n",
       "      <th>HE1Sample_5</th>\n",
       "      <th>HE1Sample_6</th>\n",
       "      <th>HE1Sample_7</th>\n",
       "      <th>HE1Sample_8</th>\n",
       "      <th>...</th>\n",
       "      <th>HE1Sample_754</th>\n",
       "      <th>HE1Sample_755</th>\n",
       "      <th>HE1Sample_756</th>\n",
       "      <th>HE1Sample_757</th>\n",
       "      <th>HE1Sample_758</th>\n",
       "      <th>HE1Sample_759</th>\n",
       "      <th>HE1Sample_760</th>\n",
       "      <th>HE1Sample_761</th>\n",
       "      <th>HE1Sample_762</th>\n",
       "      <th>HE1Sample_763</th>\n",
       "    </tr>\n",
       "  </thead>\n",
       "  <tbody>\n",
       "    <tr>\n",
       "      <td>0</td>\n",
       "      <td>Acidobacteria_Acidobacteria_Gp1_Telmatobacter_...</td>\n",
       "      <td>0.004864</td>\n",
       "      <td>0.004041</td>\n",
       "      <td>0.005630</td>\n",
       "      <td>0.005046</td>\n",
       "      <td>0.005041</td>\n",
       "      <td>0.005278</td>\n",
       "      <td>0.004005</td>\n",
       "      <td>0.003700</td>\n",
       "      <td>0.004295</td>\n",
       "      <td>...</td>\n",
       "      <td>0.004154</td>\n",
       "      <td>0.004178</td>\n",
       "      <td>0.003416</td>\n",
       "      <td>0.004565</td>\n",
       "      <td>0.004000</td>\n",
       "      <td>0.004509</td>\n",
       "      <td>0.005419</td>\n",
       "      <td>0.007286</td>\n",
       "      <td>0.004056</td>\n",
       "      <td>0.005797</td>\n",
       "    </tr>\n",
       "    <tr>\n",
       "      <td>1</td>\n",
       "      <td>Acidobacteria_Acidobacteria_Gp3_Gp3_Gp3</td>\n",
       "      <td>0.011985</td>\n",
       "      <td>0.012124</td>\n",
       "      <td>0.010732</td>\n",
       "      <td>0.012074</td>\n",
       "      <td>0.009001</td>\n",
       "      <td>0.012559</td>\n",
       "      <td>0.013234</td>\n",
       "      <td>0.011284</td>\n",
       "      <td>0.011391</td>\n",
       "      <td>...</td>\n",
       "      <td>0.012463</td>\n",
       "      <td>0.012709</td>\n",
       "      <td>0.011104</td>\n",
       "      <td>0.011414</td>\n",
       "      <td>0.011478</td>\n",
       "      <td>0.007935</td>\n",
       "      <td>0.015906</td>\n",
       "      <td>0.009341</td>\n",
       "      <td>0.009956</td>\n",
       "      <td>0.007202</td>\n",
       "    </tr>\n",
       "    <tr>\n",
       "      <td>2</td>\n",
       "      <td>Actinobacteria_Actinobacteria_Acidimicrobiales...</td>\n",
       "      <td>0.005211</td>\n",
       "      <td>0.003866</td>\n",
       "      <td>0.004926</td>\n",
       "      <td>0.004505</td>\n",
       "      <td>0.005401</td>\n",
       "      <td>0.005461</td>\n",
       "      <td>0.005050</td>\n",
       "      <td>0.003330</td>\n",
       "      <td>0.003922</td>\n",
       "      <td>...</td>\n",
       "      <td>0.003808</td>\n",
       "      <td>0.005571</td>\n",
       "      <td>0.004100</td>\n",
       "      <td>0.004390</td>\n",
       "      <td>0.005217</td>\n",
       "      <td>0.003968</td>\n",
       "      <td>0.003146</td>\n",
       "      <td>0.004110</td>\n",
       "      <td>0.004240</td>\n",
       "      <td>0.004391</td>\n",
       "    </tr>\n",
       "    <tr>\n",
       "      <td>3</td>\n",
       "      <td>Actinobacteria_Actinobacteria_Actinomycetales_...</td>\n",
       "      <td>0.003995</td>\n",
       "      <td>0.003866</td>\n",
       "      <td>0.004046</td>\n",
       "      <td>0.005406</td>\n",
       "      <td>0.003600</td>\n",
       "      <td>0.006189</td>\n",
       "      <td>0.003308</td>\n",
       "      <td>0.004255</td>\n",
       "      <td>0.004482</td>\n",
       "      <td>...</td>\n",
       "      <td>0.003981</td>\n",
       "      <td>0.003830</td>\n",
       "      <td>0.004783</td>\n",
       "      <td>0.004214</td>\n",
       "      <td>0.005565</td>\n",
       "      <td>0.003968</td>\n",
       "      <td>0.004195</td>\n",
       "      <td>0.005044</td>\n",
       "      <td>0.004609</td>\n",
       "      <td>0.004567</td>\n",
       "    </tr>\n",
       "    <tr>\n",
       "      <td>4</td>\n",
       "      <td>Actinobacteria_Actinobacteria_Actinomycetales_...</td>\n",
       "      <td>0.002953</td>\n",
       "      <td>0.003514</td>\n",
       "      <td>0.004574</td>\n",
       "      <td>0.005046</td>\n",
       "      <td>0.003420</td>\n",
       "      <td>0.004186</td>\n",
       "      <td>0.004701</td>\n",
       "      <td>0.004624</td>\n",
       "      <td>0.003361</td>\n",
       "      <td>...</td>\n",
       "      <td>0.003116</td>\n",
       "      <td>0.003656</td>\n",
       "      <td>0.003758</td>\n",
       "      <td>0.004917</td>\n",
       "      <td>0.005043</td>\n",
       "      <td>0.003787</td>\n",
       "      <td>0.004020</td>\n",
       "      <td>0.003363</td>\n",
       "      <td>0.005531</td>\n",
       "      <td>0.006499</td>\n",
       "    </tr>\n",
       "  </tbody>\n",
       "</table>\n",
       "<p>5 rows × 765 columns</p>\n",
       "</div>"
      ],
      "text/plain": [
       "                                        Microbe Name  HE1Sample_0  \\\n",
       "0  Acidobacteria_Acidobacteria_Gp1_Telmatobacter_...     0.004864   \n",
       "1            Acidobacteria_Acidobacteria_Gp3_Gp3_Gp3     0.011985   \n",
       "2  Actinobacteria_Actinobacteria_Acidimicrobiales...     0.005211   \n",
       "3  Actinobacteria_Actinobacteria_Actinomycetales_...     0.003995   \n",
       "4  Actinobacteria_Actinobacteria_Actinomycetales_...     0.002953   \n",
       "\n",
       "   HE1Sample_1  HE1Sample_2  HE1Sample_3  HE1Sample_4  HE1Sample_5  \\\n",
       "0     0.004041     0.005630     0.005046     0.005041     0.005278   \n",
       "1     0.012124     0.010732     0.012074     0.009001     0.012559   \n",
       "2     0.003866     0.004926     0.004505     0.005401     0.005461   \n",
       "3     0.003866     0.004046     0.005406     0.003600     0.006189   \n",
       "4     0.003514     0.004574     0.005046     0.003420     0.004186   \n",
       "\n",
       "   HE1Sample_6  HE1Sample_7  HE1Sample_8  ...  HE1Sample_754  HE1Sample_755  \\\n",
       "0     0.004005     0.003700     0.004295  ...       0.004154       0.004178   \n",
       "1     0.013234     0.011284     0.011391  ...       0.012463       0.012709   \n",
       "2     0.005050     0.003330     0.003922  ...       0.003808       0.005571   \n",
       "3     0.003308     0.004255     0.004482  ...       0.003981       0.003830   \n",
       "4     0.004701     0.004624     0.003361  ...       0.003116       0.003656   \n",
       "\n",
       "   HE1Sample_756  HE1Sample_757  HE1Sample_758  HE1Sample_759  HE1Sample_760  \\\n",
       "0       0.003416       0.004565       0.004000       0.004509       0.005419   \n",
       "1       0.011104       0.011414       0.011478       0.007935       0.015906   \n",
       "2       0.004100       0.004390       0.005217       0.003968       0.003146   \n",
       "3       0.004783       0.004214       0.005565       0.003968       0.004195   \n",
       "4       0.003758       0.004917       0.005043       0.003787       0.004020   \n",
       "\n",
       "   HE1Sample_761  HE1Sample_762  HE1Sample_763  \n",
       "0       0.007286       0.004056       0.005797  \n",
       "1       0.009341       0.009956       0.007202  \n",
       "2       0.004110       0.004240       0.004391  \n",
       "3       0.005044       0.004609       0.004567  \n",
       "4       0.003363       0.005531       0.006499  \n",
       "\n",
       "[5 rows x 765 columns]"
      ]
     },
     "execution_count": 15,
     "metadata": {},
     "output_type": "execute_result"
    }
   ],
   "source": [
    "RelativeAbundance_HE1 = pd.read_csv('Data/RelativeAbundance_HE1.csv')\n",
    "RelativeAbundance_HE1.head()"
   ]
  },
  {
   "cell_type": "code",
   "execution_count": 16,
   "metadata": {},
   "outputs": [
    {
     "data": {
      "text/html": [
       "<div>\n",
       "<style scoped>\n",
       "    .dataframe tbody tr th:only-of-type {\n",
       "        vertical-align: middle;\n",
       "    }\n",
       "\n",
       "    .dataframe tbody tr th {\n",
       "        vertical-align: top;\n",
       "    }\n",
       "\n",
       "    .dataframe thead th {\n",
       "        text-align: right;\n",
       "    }\n",
       "</style>\n",
       "<table border=\"1\" class=\"dataframe\">\n",
       "  <thead>\n",
       "    <tr style=\"text-align: right;\">\n",
       "      <th></th>\n",
       "      <th>Microbe Name</th>\n",
       "      <th>HE1Sample_0</th>\n",
       "      <th>HE1Sample_1</th>\n",
       "      <th>HE1Sample_2</th>\n",
       "      <th>HE1Sample_3</th>\n",
       "      <th>HE1Sample_4</th>\n",
       "      <th>HE1Sample_5</th>\n",
       "      <th>HE1Sample_6</th>\n",
       "      <th>HE1Sample_7</th>\n",
       "      <th>HE1Sample_8</th>\n",
       "      <th>...</th>\n",
       "      <th>HE1Sample_689</th>\n",
       "      <th>HE1Sample_690</th>\n",
       "      <th>HE1Sample_691</th>\n",
       "      <th>HE1Sample_692</th>\n",
       "      <th>HE1Sample_693</th>\n",
       "      <th>HE1Sample_694</th>\n",
       "      <th>HE1Sample_695</th>\n",
       "      <th>HE1Sample_696</th>\n",
       "      <th>HE1Sample_697</th>\n",
       "      <th>HE1Sample_698</th>\n",
       "    </tr>\n",
       "  </thead>\n",
       "  <tbody>\n",
       "    <tr>\n",
       "      <td>0</td>\n",
       "      <td>Acidobacteria_Acidobacteria_Gp1_Telmatobacter_...</td>\n",
       "      <td>0.004864</td>\n",
       "      <td>0.004041</td>\n",
       "      <td>0.005630</td>\n",
       "      <td>0.005046</td>\n",
       "      <td>0.005041</td>\n",
       "      <td>0.005278</td>\n",
       "      <td>0.004005</td>\n",
       "      <td>0.003700</td>\n",
       "      <td>0.004295</td>\n",
       "      <td>...</td>\n",
       "      <td>0.005573</td>\n",
       "      <td>0.004854</td>\n",
       "      <td>0.005412</td>\n",
       "      <td>0.004985</td>\n",
       "      <td>0.004070</td>\n",
       "      <td>0.003940</td>\n",
       "      <td>0.003880</td>\n",
       "      <td>0.004454</td>\n",
       "      <td>0.003743</td>\n",
       "      <td>0.005301</td>\n",
       "    </tr>\n",
       "    <tr>\n",
       "      <td>1</td>\n",
       "      <td>Acidobacteria_Acidobacteria_Gp3_Gp3_Gp3</td>\n",
       "      <td>0.011985</td>\n",
       "      <td>0.012124</td>\n",
       "      <td>0.010732</td>\n",
       "      <td>0.012074</td>\n",
       "      <td>0.009001</td>\n",
       "      <td>0.012559</td>\n",
       "      <td>0.013234</td>\n",
       "      <td>0.011284</td>\n",
       "      <td>0.011391</td>\n",
       "      <td>...</td>\n",
       "      <td>0.010786</td>\n",
       "      <td>0.011963</td>\n",
       "      <td>0.011571</td>\n",
       "      <td>0.010657</td>\n",
       "      <td>0.013136</td>\n",
       "      <td>0.009381</td>\n",
       "      <td>0.012875</td>\n",
       "      <td>0.009280</td>\n",
       "      <td>0.010479</td>\n",
       "      <td>0.009322</td>\n",
       "    </tr>\n",
       "    <tr>\n",
       "      <td>2</td>\n",
       "      <td>Actinobacteria_Actinobacteria_Acidimicrobiales...</td>\n",
       "      <td>0.005211</td>\n",
       "      <td>0.003866</td>\n",
       "      <td>0.004926</td>\n",
       "      <td>0.004505</td>\n",
       "      <td>0.005401</td>\n",
       "      <td>0.005461</td>\n",
       "      <td>0.005050</td>\n",
       "      <td>0.003330</td>\n",
       "      <td>0.003922</td>\n",
       "      <td>...</td>\n",
       "      <td>0.004494</td>\n",
       "      <td>0.004508</td>\n",
       "      <td>0.002613</td>\n",
       "      <td>0.005672</td>\n",
       "      <td>0.003330</td>\n",
       "      <td>0.005253</td>\n",
       "      <td>0.004409</td>\n",
       "      <td>0.005011</td>\n",
       "      <td>0.005801</td>\n",
       "      <td>0.005301</td>\n",
       "    </tr>\n",
       "    <tr>\n",
       "      <td>3</td>\n",
       "      <td>Actinobacteria_Actinobacteria_Actinomycetales_...</td>\n",
       "      <td>0.003995</td>\n",
       "      <td>0.003866</td>\n",
       "      <td>0.004046</td>\n",
       "      <td>0.005406</td>\n",
       "      <td>0.003600</td>\n",
       "      <td>0.006189</td>\n",
       "      <td>0.003308</td>\n",
       "      <td>0.004255</td>\n",
       "      <td>0.004482</td>\n",
       "      <td>...</td>\n",
       "      <td>0.004494</td>\n",
       "      <td>0.005721</td>\n",
       "      <td>0.004479</td>\n",
       "      <td>0.002922</td>\n",
       "      <td>0.005365</td>\n",
       "      <td>0.004503</td>\n",
       "      <td>0.003527</td>\n",
       "      <td>0.005568</td>\n",
       "      <td>0.004304</td>\n",
       "      <td>0.006946</td>\n",
       "    </tr>\n",
       "    <tr>\n",
       "      <td>4</td>\n",
       "      <td>Actinobacteria_Actinobacteria_Actinomycetales_...</td>\n",
       "      <td>0.002953</td>\n",
       "      <td>0.003514</td>\n",
       "      <td>0.004574</td>\n",
       "      <td>0.005046</td>\n",
       "      <td>0.003420</td>\n",
       "      <td>0.004186</td>\n",
       "      <td>0.004701</td>\n",
       "      <td>0.004624</td>\n",
       "      <td>0.003361</td>\n",
       "      <td>...</td>\n",
       "      <td>0.002876</td>\n",
       "      <td>0.003467</td>\n",
       "      <td>0.004479</td>\n",
       "      <td>0.002922</td>\n",
       "      <td>0.003885</td>\n",
       "      <td>0.004690</td>\n",
       "      <td>0.004233</td>\n",
       "      <td>0.006496</td>\n",
       "      <td>0.003743</td>\n",
       "      <td>0.006215</td>\n",
       "    </tr>\n",
       "    <tr>\n",
       "      <td>...</td>\n",
       "      <td>...</td>\n",
       "      <td>...</td>\n",
       "      <td>...</td>\n",
       "      <td>...</td>\n",
       "      <td>...</td>\n",
       "      <td>...</td>\n",
       "      <td>...</td>\n",
       "      <td>...</td>\n",
       "      <td>...</td>\n",
       "      <td>...</td>\n",
       "      <td>...</td>\n",
       "      <td>...</td>\n",
       "      <td>...</td>\n",
       "      <td>...</td>\n",
       "      <td>...</td>\n",
       "      <td>...</td>\n",
       "      <td>...</td>\n",
       "      <td>...</td>\n",
       "      <td>...</td>\n",
       "      <td>...</td>\n",
       "      <td>...</td>\n",
       "    </tr>\n",
       "    <tr>\n",
       "      <td>144</td>\n",
       "      <td>Tenericutes_Mollicutes_Anaeroplasmatales_Anaer...</td>\n",
       "      <td>0.005211</td>\n",
       "      <td>0.004920</td>\n",
       "      <td>0.004750</td>\n",
       "      <td>0.004505</td>\n",
       "      <td>0.004320</td>\n",
       "      <td>0.004004</td>\n",
       "      <td>0.004701</td>\n",
       "      <td>0.005734</td>\n",
       "      <td>0.003922</td>\n",
       "      <td>...</td>\n",
       "      <td>0.004674</td>\n",
       "      <td>0.003988</td>\n",
       "      <td>0.005226</td>\n",
       "      <td>0.004641</td>\n",
       "      <td>0.005180</td>\n",
       "      <td>0.004878</td>\n",
       "      <td>0.004056</td>\n",
       "      <td>0.005197</td>\n",
       "      <td>0.005801</td>\n",
       "      <td>0.003838</td>\n",
       "    </tr>\n",
       "    <tr>\n",
       "      <td>145</td>\n",
       "      <td>Tenericutes_Mollicutes_Haloplasmatales_Halopla...</td>\n",
       "      <td>0.002953</td>\n",
       "      <td>0.004744</td>\n",
       "      <td>0.002463</td>\n",
       "      <td>0.005226</td>\n",
       "      <td>0.003960</td>\n",
       "      <td>0.004186</td>\n",
       "      <td>0.003657</td>\n",
       "      <td>0.004070</td>\n",
       "      <td>0.004482</td>\n",
       "      <td>...</td>\n",
       "      <td>0.003775</td>\n",
       "      <td>0.005028</td>\n",
       "      <td>0.002986</td>\n",
       "      <td>0.005156</td>\n",
       "      <td>0.005180</td>\n",
       "      <td>0.003752</td>\n",
       "      <td>0.005644</td>\n",
       "      <td>0.004640</td>\n",
       "      <td>0.005988</td>\n",
       "      <td>0.005483</td>\n",
       "    </tr>\n",
       "    <tr>\n",
       "      <td>146</td>\n",
       "      <td>Tenericutes_Mollicutes_Mycoplasmatales_Mycopla...</td>\n",
       "      <td>0.012507</td>\n",
       "      <td>0.009840</td>\n",
       "      <td>0.010204</td>\n",
       "      <td>0.010993</td>\n",
       "      <td>0.011161</td>\n",
       "      <td>0.009829</td>\n",
       "      <td>0.012711</td>\n",
       "      <td>0.012394</td>\n",
       "      <td>0.007656</td>\n",
       "      <td>...</td>\n",
       "      <td>0.011145</td>\n",
       "      <td>0.011096</td>\n",
       "      <td>0.009518</td>\n",
       "      <td>0.012204</td>\n",
       "      <td>0.013321</td>\n",
       "      <td>0.008068</td>\n",
       "      <td>0.014286</td>\n",
       "      <td>0.012992</td>\n",
       "      <td>0.010292</td>\n",
       "      <td>0.009687</td>\n",
       "    </tr>\n",
       "    <tr>\n",
       "      <td>147</td>\n",
       "      <td>Thermodesulfobacteria_Thermodesulfobacteria_Th...</td>\n",
       "      <td>0.005906</td>\n",
       "      <td>0.004217</td>\n",
       "      <td>0.005102</td>\n",
       "      <td>0.004505</td>\n",
       "      <td>0.003420</td>\n",
       "      <td>0.006189</td>\n",
       "      <td>0.004179</td>\n",
       "      <td>0.004070</td>\n",
       "      <td>0.004482</td>\n",
       "      <td>...</td>\n",
       "      <td>0.003236</td>\n",
       "      <td>0.004854</td>\n",
       "      <td>0.002240</td>\n",
       "      <td>0.003266</td>\n",
       "      <td>0.003885</td>\n",
       "      <td>0.004690</td>\n",
       "      <td>0.003880</td>\n",
       "      <td>0.004083</td>\n",
       "      <td>0.005052</td>\n",
       "      <td>0.005118</td>\n",
       "    </tr>\n",
       "    <tr>\n",
       "      <td>148</td>\n",
       "      <td>Verrucomicrobia_Verrucomicrobiae_Verrucomicrob...</td>\n",
       "      <td>0.004516</td>\n",
       "      <td>0.004920</td>\n",
       "      <td>0.004222</td>\n",
       "      <td>0.003604</td>\n",
       "      <td>0.006841</td>\n",
       "      <td>0.002366</td>\n",
       "      <td>0.003831</td>\n",
       "      <td>0.004440</td>\n",
       "      <td>0.004855</td>\n",
       "      <td>...</td>\n",
       "      <td>0.004314</td>\n",
       "      <td>0.003641</td>\n",
       "      <td>0.003919</td>\n",
       "      <td>0.006703</td>\n",
       "      <td>0.004070</td>\n",
       "      <td>0.004690</td>\n",
       "      <td>0.005467</td>\n",
       "      <td>0.004454</td>\n",
       "      <td>0.005240</td>\n",
       "      <td>0.003290</td>\n",
       "    </tr>\n",
       "  </tbody>\n",
       "</table>\n",
       "<p>149 rows × 700 columns</p>\n",
       "</div>"
      ],
      "text/plain": [
       "                                          Microbe Name  HE1Sample_0  \\\n",
       "0    Acidobacteria_Acidobacteria_Gp1_Telmatobacter_...     0.004864   \n",
       "1              Acidobacteria_Acidobacteria_Gp3_Gp3_Gp3     0.011985   \n",
       "2    Actinobacteria_Actinobacteria_Acidimicrobiales...     0.005211   \n",
       "3    Actinobacteria_Actinobacteria_Actinomycetales_...     0.003995   \n",
       "4    Actinobacteria_Actinobacteria_Actinomycetales_...     0.002953   \n",
       "..                                                 ...          ...   \n",
       "144  Tenericutes_Mollicutes_Anaeroplasmatales_Anaer...     0.005211   \n",
       "145  Tenericutes_Mollicutes_Haloplasmatales_Halopla...     0.002953   \n",
       "146  Tenericutes_Mollicutes_Mycoplasmatales_Mycopla...     0.012507   \n",
       "147  Thermodesulfobacteria_Thermodesulfobacteria_Th...     0.005906   \n",
       "148  Verrucomicrobia_Verrucomicrobiae_Verrucomicrob...     0.004516   \n",
       "\n",
       "     HE1Sample_1  HE1Sample_2  HE1Sample_3  HE1Sample_4  HE1Sample_5  \\\n",
       "0       0.004041     0.005630     0.005046     0.005041     0.005278   \n",
       "1       0.012124     0.010732     0.012074     0.009001     0.012559   \n",
       "2       0.003866     0.004926     0.004505     0.005401     0.005461   \n",
       "3       0.003866     0.004046     0.005406     0.003600     0.006189   \n",
       "4       0.003514     0.004574     0.005046     0.003420     0.004186   \n",
       "..           ...          ...          ...          ...          ...   \n",
       "144     0.004920     0.004750     0.004505     0.004320     0.004004   \n",
       "145     0.004744     0.002463     0.005226     0.003960     0.004186   \n",
       "146     0.009840     0.010204     0.010993     0.011161     0.009829   \n",
       "147     0.004217     0.005102     0.004505     0.003420     0.006189   \n",
       "148     0.004920     0.004222     0.003604     0.006841     0.002366   \n",
       "\n",
       "     HE1Sample_6  HE1Sample_7  HE1Sample_8  ...  HE1Sample_689  HE1Sample_690  \\\n",
       "0       0.004005     0.003700     0.004295  ...       0.005573       0.004854   \n",
       "1       0.013234     0.011284     0.011391  ...       0.010786       0.011963   \n",
       "2       0.005050     0.003330     0.003922  ...       0.004494       0.004508   \n",
       "3       0.003308     0.004255     0.004482  ...       0.004494       0.005721   \n",
       "4       0.004701     0.004624     0.003361  ...       0.002876       0.003467   \n",
       "..           ...          ...          ...  ...            ...            ...   \n",
       "144     0.004701     0.005734     0.003922  ...       0.004674       0.003988   \n",
       "145     0.003657     0.004070     0.004482  ...       0.003775       0.005028   \n",
       "146     0.012711     0.012394     0.007656  ...       0.011145       0.011096   \n",
       "147     0.004179     0.004070     0.004482  ...       0.003236       0.004854   \n",
       "148     0.003831     0.004440     0.004855  ...       0.004314       0.003641   \n",
       "\n",
       "     HE1Sample_691  HE1Sample_692  HE1Sample_693  HE1Sample_694  \\\n",
       "0         0.005412       0.004985       0.004070       0.003940   \n",
       "1         0.011571       0.010657       0.013136       0.009381   \n",
       "2         0.002613       0.005672       0.003330       0.005253   \n",
       "3         0.004479       0.002922       0.005365       0.004503   \n",
       "4         0.004479       0.002922       0.003885       0.004690   \n",
       "..             ...            ...            ...            ...   \n",
       "144       0.005226       0.004641       0.005180       0.004878   \n",
       "145       0.002986       0.005156       0.005180       0.003752   \n",
       "146       0.009518       0.012204       0.013321       0.008068   \n",
       "147       0.002240       0.003266       0.003885       0.004690   \n",
       "148       0.003919       0.006703       0.004070       0.004690   \n",
       "\n",
       "     HE1Sample_695  HE1Sample_696  HE1Sample_697  HE1Sample_698  \n",
       "0         0.003880       0.004454       0.003743       0.005301  \n",
       "1         0.012875       0.009280       0.010479       0.009322  \n",
       "2         0.004409       0.005011       0.005801       0.005301  \n",
       "3         0.003527       0.005568       0.004304       0.006946  \n",
       "4         0.004233       0.006496       0.003743       0.006215  \n",
       "..             ...            ...            ...            ...  \n",
       "144       0.004056       0.005197       0.005801       0.003838  \n",
       "145       0.005644       0.004640       0.005988       0.005483  \n",
       "146       0.014286       0.012992       0.010292       0.009687  \n",
       "147       0.003880       0.004083       0.005052       0.005118  \n",
       "148       0.005467       0.004454       0.005240       0.003290  \n",
       "\n",
       "[149 rows x 700 columns]"
      ]
     },
     "execution_count": 16,
     "metadata": {},
     "output_type": "execute_result"
    }
   ],
   "source": [
    "RelativeAbundance_HE1_Good = RelativeAbundance_HE1[['Microbe Name'] + list(BayesInferenceHE1Good['SampleName'])]\n",
    "RelativeAbundance_HE1_Good"
   ]
  },
  {
   "cell_type": "markdown",
   "metadata": {},
   "source": [
    "## 2. Data Standardization"
   ]
  },
  {
   "cell_type": "markdown",
   "metadata": {},
   "source": [
    "### 1. Verify Relative Abundance"
   ]
  },
  {
   "cell_type": "code",
   "execution_count": 17,
   "metadata": {},
   "outputs": [
    {
     "name": "stdout",
     "output_type": "stream",
     "text": [
      "There are 585 samples whose sum of values are not 1. They are:\n",
      "['HE0Sample_5', 'HE0Sample_176', 'HE0Sample_179', 'HE0Sample_586', 'HE0Sample_153', 'HE0Sample_192', 'HE0Sample_193', 'HE0Sample_159', 'HE0Sample_221', 'HE0Sample_435', 'HE0Sample_585', 'HE0Sample_307', 'HE0Sample_378', 'HE0Sample_98', 'HE0Sample_525', 'HE0Sample_518', 'HE0Sample_93', 'HE0Sample_636', 'HE0Sample_468', 'HE0Sample_449', 'HE0Sample_482', 'HE0Sample_326', 'HE0Sample_209', 'HE0Sample_346', 'HE0Sample_671', 'HE0Sample_559', 'HE0Sample_25', 'HE0Sample_373', 'HE0Sample_583', 'HE0Sample_666', 'HE0Sample_368', 'HE0Sample_404', 'HE0Sample_601', 'HE0Sample_321', 'HE0Sample_343', 'HE0Sample_635', 'HE0Sample_250', 'HE0Sample_128', 'HE0Sample_282', 'HE0Sample_388', 'HE0Sample_113', 'HE0Sample_233', 'HE0Sample_26', 'HE0Sample_524', 'HE0Sample_596', 'HE0Sample_557', 'HE0Sample_39', 'HE0Sample_452', 'HE0Sample_515', 'HE0Sample_646', 'HE0Sample_157', 'HE0Sample_204', 'HE0Sample_120', 'HE0Sample_95', 'HE0Sample_320', 'HE0Sample_363', 'HE0Sample_632', 'HE0Sample_188', 'HE0Sample_162', 'HE0Sample_582', 'HE0Sample_437', 'HE0Sample_71', 'HE0Sample_477', 'HE0Sample_623', 'HE0Sample_77', 'HE0Sample_431', 'HE0Sample_588', 'HE0Sample_51', 'HE0Sample_225', 'HE0Sample_608', 'HE0Sample_379', 'HE0Sample_131', 'HE0Sample_253', 'HE0Sample_308', 'HE0Sample_122', 'HE0Sample_584', 'HE0Sample_422', 'HE0Sample_434', 'HE0Sample_106', 'HE0Sample_602', 'HE0Sample_86', 'HE0Sample_693', 'HE0Sample_514', 'HE0Sample_109', 'HE0Sample_573', 'HE0Sample_617', 'HE0Sample_112', 'HE0Sample_689', 'HE0Sample_272', 'HE0Sample_172', 'HE0Sample_348', 'HE0Sample_455', 'HE0Sample_118', 'HE0Sample_21', 'HE0Sample_58', 'HE0Sample_551', 'HE0Sample_165', 'HE0Sample_347', 'HE0Sample_115', 'HE0Sample_546', 'HE0Sample_45', 'HE0Sample_287', 'HE0Sample_110', 'HE0Sample_532', 'HE0Sample_461', 'HE0Sample_531', 'HE0Sample_217', 'HE0Sample_550', 'HE0Sample_592', 'HE0Sample_222', 'HE0Sample_621', 'HE0Sample_13', 'HE0Sample_292', 'HE0Sample_313', 'HE0Sample_358', 'HE0Sample_139', 'HE0Sample_412', 'HE0Sample_494', 'HE0Sample_133', 'HE0Sample_246', 'HE0Sample_390', 'HE0Sample_396', 'HE0Sample_591', 'HE0Sample_167', 'HE0Sample_7', 'HE0Sample_60', 'HE0Sample_691', 'HE0Sample_444', 'HE0Sample_438', 'HE0Sample_568', 'HE0Sample_414', 'HE0Sample_297', 'HE0Sample_226', 'HE0Sample_47', 'HE0Sample_506', 'HE0Sample_164', 'HE0Sample_419', 'HE0Sample_150', 'HE0Sample_505', 'HE0Sample_487', 'HE0Sample_129', 'HE0Sample_152', 'HE0Sample_68', 'HE0Sample_212', 'HE0Sample_231', 'HE0Sample_190', 'HE0Sample_351', 'HE0Sample_563', 'HE0Sample_481', 'HE0Sample_612', 'HE0Sample_296', 'HE0Sample_304', 'HE0Sample_638', 'HE0Sample_206', 'HE0Sample_339', 'HE0Sample_148', 'HE0Sample_418', 'HE0Sample_48', 'HE0Sample_276', 'HE0Sample_526', 'HE0Sample_183', 'HE0Sample_495', 'HE0Sample_23', 'HE0Sample_61', 'HE0Sample_421', 'HE0Sample_401', 'HE0Sample_498', 'HE0Sample_597', 'HE0Sample_252', 'HE0Sample_466', 'HE0Sample_229', 'HE0Sample_668', 'HE0Sample_274', 'HE0Sample_318', 'HE0Sample_198', 'HE0Sample_323', 'HE0Sample_375', 'HE0Sample_208', 'HE0Sample_232', 'HE0Sample_357', 'HE0Sample_427', 'HE0Sample_117', 'HE0Sample_283', 'HE0Sample_442', 'HE0Sample_309', 'HE0Sample_273', 'HE0Sample_178', 'HE0Sample_590', 'HE0Sample_27', 'HE0Sample_275', 'HE0Sample_59', 'HE0Sample_105', 'HE0Sample_19', 'HE0Sample_609', 'HE0Sample_73', 'HE0Sample_278', 'HE0Sample_266', 'HE0Sample_223', 'HE0Sample_695', 'HE0Sample_678', 'HE0Sample_484', 'HE0Sample_571', 'HE0Sample_211', 'HE0Sample_451', 'HE0Sample_599', 'HE0Sample_436', 'HE0Sample_658', 'HE0Sample_527', 'HE0Sample_280', 'HE0Sample_240', 'HE0Sample_545', 'HE0Sample_305', 'HE0Sample_249', 'HE0Sample_439', 'HE0Sample_11', 'HE0Sample_173', 'HE0Sample_70', 'HE0Sample_189', 'HE0Sample_471', 'HE0Sample_8', 'HE0Sample_80', 'HE0Sample_97', 'HE0Sample_269', 'HE0Sample_684', 'HE0Sample_424', 'HE0Sample_147', 'HE0Sample_359', 'HE0Sample_469', 'HE0Sample_628', 'HE0Sample_174', 'HE0Sample_394', 'HE0Sample_141', 'HE0Sample_543', 'HE0Sample_690', 'HE0Sample_169', 'HE0Sample_420', 'HE0Sample_402', 'HE0Sample_615', 'HE0Sample_235', 'HE0Sample_564', 'HE0Sample_413', 'HE0Sample_79', 'HE0Sample_502', 'HE0Sample_547', 'HE0Sample_384', 'HE0Sample_16', 'HE0Sample_662', 'HE0Sample_530', 'HE0Sample_651', 'HE0Sample_161', 'HE0Sample_335', 'HE0Sample_381', 'HE0Sample_386', 'HE0Sample_493', 'HE0Sample_512', 'HE0Sample_62', 'HE0Sample_299', 'HE0Sample_155', 'HE0Sample_140', 'HE0Sample_642', 'HE0Sample_243', 'HE0Sample_694', 'HE0Sample_371', 'HE0Sample_400', 'HE0Sample_239', 'HE0Sample_430', 'HE0Sample_43', 'HE0Sample_64', 'HE0Sample_492', 'HE0Sample_369', 'HE0Sample_237', 'HE0Sample_510', 'HE0Sample_529', 'HE0Sample_595', 'HE0Sample_215', 'HE0Sample_270', 'HE0Sample_490', 'HE0Sample_29', 'HE0Sample_670', 'HE0Sample_57', 'HE0Sample_181', 'HE0Sample_2', 'HE0Sample_328', 'HE0Sample_365', 'HE0Sample_260', 'HE0Sample_356', 'HE0Sample_581', 'HE0Sample_300', 'HE0Sample_322', 'HE0Sample_397', 'HE0Sample_618', 'HE0Sample_523', 'HE0Sample_124', 'HE0Sample_577', 'HE0Sample_696', 'HE0Sample_329', 'HE0Sample_574', 'HE0Sample_555', 'HE0Sample_476', 'HE0Sample_82', 'HE0Sample_121', 'HE0Sample_137', 'HE0Sample_395', 'HE0Sample_227', 'HE0Sample_127', 'HE0Sample_271', 'HE0Sample_383', 'HE0Sample_210', 'HE0Sample_406', 'HE0Sample_355', 'HE0Sample_605', 'HE0Sample_100', 'HE0Sample_457', 'HE0Sample_50', 'HE0Sample_537', 'HE0Sample_149', 'HE0Sample_259', 'HE0Sample_425', 'HE0Sample_263', 'HE0Sample_513', 'HE0Sample_65', 'HE0Sample_156', 'HE0Sample_415', 'HE0Sample_201', 'HE0Sample_18', 'HE0Sample_497', 'HE0Sample_142', 'HE0Sample_24', 'HE0Sample_533', 'HE0Sample_288', 'HE0Sample_641', 'HE0Sample_34', 'HE0Sample_265', 'HE0Sample_385', 'HE0Sample_145', 'HE0Sample_230', 'HE0Sample_380', 'HE0Sample_650', 'HE0Sample_565', 'HE0Sample_186', 'HE0Sample_66', 'HE0Sample_54', 'HE0Sample_627', 'HE0Sample_520', 'HE0Sample_619', 'HE0Sample_281', 'HE0Sample_372', 'HE0Sample_220', 'HE0Sample_28', 'HE0Sample_441', 'HE0Sample_659', 'HE0Sample_170', 'HE0Sample_123', 'HE0Sample_184', 'HE0Sample_637', 'HE0Sample_692', 'HE0Sample_284', 'HE0Sample_330', 'HE0Sample_374', 'HE0Sample_589', 'HE0Sample_319', 'HE0Sample_207', 'HE0Sample_295', 'HE0Sample_166', 'HE0Sample_639', 'HE0Sample_200', 'HE0Sample_409', 'HE0Sample_661', 'HE0Sample_447', 'HE0Sample_491', 'HE0Sample_629', 'HE0Sample_575', 'HE0Sample_387', 'HE0Sample_310', 'HE0Sample_462', 'HE0Sample_587', 'HE0Sample_541', 'HE0Sample_331', 'HE0Sample_613', 'HE0Sample_366', 'HE0Sample_567', 'HE0Sample_607', 'HE0Sample_298', 'HE0Sample_540', 'HE0Sample_519', 'HE0Sample_35', 'HE0Sample_486', 'HE0Sample_480', 'HE0Sample_317', 'HE0Sample_472', 'HE0Sample_648', 'HE0Sample_325', 'HE0Sample_667', 'HE0Sample_216', 'HE0Sample_301', 'HE0Sample_338', 'HE0Sample_46', 'HE0Sample_102', 'HE0Sample_254', 'HE0Sample_698', 'HE0Sample_53', 'HE0Sample_15', 'HE0Sample_96', 'HE0Sample_311', 'HE0Sample_345', 'HE0Sample_517', 'HE0Sample_593', 'HE0Sample_42', 'HE0Sample_191', 'HE0Sample_669', 'HE0Sample_236', 'HE0Sample_63', 'HE0Sample_132', 'HE0Sample_370', 'HE0Sample_76', 'HE0Sample_251', 'HE0Sample_342', 'HE0Sample_554', 'HE0Sample_125', 'HE0Sample_606', 'HE0Sample_199', 'HE0Sample_679', 'HE0Sample_10', 'HE0Sample_685', 'HE0Sample_603', 'HE0Sample_643', 'HE0Sample_496', 'HE0Sample_350', 'HE0Sample_598', 'HE0Sample_511', 'HE0Sample_104', 'HE0Sample_182', 'HE0Sample_130', 'HE0Sample_312', 'HE0Sample_267', 'HE0Sample_522', 'HE0Sample_538', 'HE0Sample_640', 'HE0Sample_528', 'HE0Sample_180', 'HE0Sample_454', 'HE0Sample_569', 'HE0Sample_361', 'HE0Sample_75', 'HE0Sample_656', 'HE0Sample_187', 'HE0Sample_429', 'HE0Sample_72', 'HE0Sample_614', 'HE0Sample_17', 'HE0Sample_534', 'HE0Sample_665', 'HE0Sample_268', 'HE0Sample_475', 'HE0Sample_443', 'HE0Sample_673', 'HE0Sample_389', 'HE0Sample_185', 'HE0Sample_382', 'HE0Sample_279', 'HE0Sample_664', 'HE0Sample_81', 'HE0Sample_653', 'HE0Sample_262', 'HE0Sample_101', 'HE0Sample_290', 'HE0Sample_570', 'HE0Sample_560', 'HE0Sample_205', 'HE0Sample_624', 'HE0Sample_3', 'HE0Sample_367', 'HE0Sample_508', 'HE0Sample_0', 'HE0Sample_417', 'HE0Sample_158', 'HE0Sample_30', 'HE0Sample_407', 'HE0Sample_398', 'HE0Sample_459', 'HE0Sample_340', 'HE0Sample_473', 'HE0Sample_681', 'HE0Sample_1', 'HE0Sample_647', 'HE0Sample_224', 'HE0Sample_652', 'HE0Sample_14', 'HE0Sample_293', 'HE0Sample_234', 'HE0Sample_697', 'HE0Sample_126', 'HE0Sample_392', 'HE0Sample_610', 'HE0Sample_333', 'HE0Sample_579', 'HE0Sample_403', 'HE0Sample_119', 'HE0Sample_433', 'HE0Sample_576', 'HE0Sample_33', 'HE0Sample_411', 'HE0Sample_264', 'HE0Sample_55', 'HE0Sample_625', 'HE0Sample_644', 'HE0Sample_134', 'HE0Sample_151', 'HE0Sample_213', 'HE0Sample_334', 'HE0Sample_507', 'HE0Sample_683', 'HE0Sample_499', 'HE0Sample_549', 'HE0Sample_4', 'HE0Sample_360', 'HE0Sample_460', 'HE0Sample_175', 'HE0Sample_352', 'HE0Sample_277', 'HE0Sample_456', 'HE0Sample_503', 'HE0Sample_453', 'HE0Sample_446', 'HE0Sample_377', 'HE0Sample_144', 'HE0Sample_416', 'HE0Sample_426', 'HE0Sample_74', 'HE0Sample_630', 'HE0Sample_12', 'HE0Sample_90', 'HE0Sample_94', 'HE0Sample_509', 'HE0Sample_49', 'HE0Sample_56', 'HE0Sample_687', 'HE0Sample_256', 'HE0Sample_479', 'HE0Sample_483', 'HE0Sample_257', 'HE0Sample_306', 'HE0Sample_195', 'HE0Sample_349', 'HE0Sample_500', 'HE0Sample_536', 'HE0Sample_631', 'HE0Sample_663', 'HE0Sample_677', 'HE0Sample_604', 'HE0Sample_177', 'HE0Sample_470', 'HE0Sample_578', 'HE0Sample_501', 'HE0Sample_558', 'HE0Sample_561', 'HE0Sample_116', 'HE0Sample_302', 'HE0Sample_393', 'HE0Sample_467', 'HE0Sample_521', 'HE0Sample_69', 'HE0Sample_488', 'HE0Sample_228', 'HE0Sample_41', 'HE0Sample_432', 'HE0Sample_154', 'HE0Sample_107', 'HE0Sample_391', 'HE0Sample_655', 'HE0Sample_99', 'HE0Sample_539', 'HE0Sample_626', 'HE0Sample_37', 'HE0Sample_87', 'HE0Sample_504', 'HE0Sample_203', 'HE0Sample_657', 'HE0Sample_218', 'HE0Sample_458', 'HE0Sample_654', 'HE0Sample_88', 'HE0Sample_89', 'HE0Sample_553', 'HE0Sample_241']\n"
     ]
    },
    {
     "data": {
      "text/html": [
       "<div>\n",
       "<style scoped>\n",
       "    .dataframe tbody tr th:only-of-type {\n",
       "        vertical-align: middle;\n",
       "    }\n",
       "\n",
       "    .dataframe tbody tr th {\n",
       "        vertical-align: top;\n",
       "    }\n",
       "\n",
       "    .dataframe thead th {\n",
       "        text-align: right;\n",
       "    }\n",
       "</style>\n",
       "<table border=\"1\" class=\"dataframe\">\n",
       "  <thead>\n",
       "    <tr style=\"text-align: right;\">\n",
       "      <th></th>\n",
       "      <th>HE0Sample_103</th>\n",
       "      <th>HE0Sample_108</th>\n",
       "      <th>HE0Sample_111</th>\n",
       "      <th>HE0Sample_114</th>\n",
       "      <th>HE0Sample_135</th>\n",
       "      <th>HE0Sample_136</th>\n",
       "      <th>HE0Sample_138</th>\n",
       "      <th>HE0Sample_143</th>\n",
       "      <th>HE0Sample_146</th>\n",
       "      <th>HE0Sample_160</th>\n",
       "      <th>...</th>\n",
       "      <th>HE0Sample_686</th>\n",
       "      <th>HE0Sample_688</th>\n",
       "      <th>HE0Sample_78</th>\n",
       "      <th>HE0Sample_83</th>\n",
       "      <th>HE0Sample_84</th>\n",
       "      <th>HE0Sample_85</th>\n",
       "      <th>HE0Sample_9</th>\n",
       "      <th>HE0Sample_91</th>\n",
       "      <th>HE0Sample_92</th>\n",
       "      <th>Microbe Name</th>\n",
       "    </tr>\n",
       "  </thead>\n",
       "  <tbody>\n",
       "    <tr>\n",
       "      <td>0</td>\n",
       "      <td>0.004208</td>\n",
       "      <td>0.003648</td>\n",
       "      <td>0.002825</td>\n",
       "      <td>0.004609</td>\n",
       "      <td>0.002936</td>\n",
       "      <td>0.003874</td>\n",
       "      <td>0.005518</td>\n",
       "      <td>0.004864</td>\n",
       "      <td>0.003761</td>\n",
       "      <td>0.002817</td>\n",
       "      <td>...</td>\n",
       "      <td>0.004328</td>\n",
       "      <td>0.005956</td>\n",
       "      <td>0.006103</td>\n",
       "      <td>0.004040</td>\n",
       "      <td>0.004944</td>\n",
       "      <td>0.005588</td>\n",
       "      <td>0.004429</td>\n",
       "      <td>0.004416</td>\n",
       "      <td>0.004277</td>\n",
       "      <td>Acidobacteria_Acidobacteria_Gp1_Telmatobacter_...</td>\n",
       "    </tr>\n",
       "    <tr>\n",
       "      <td>1</td>\n",
       "      <td>0.014727</td>\n",
       "      <td>0.013725</td>\n",
       "      <td>0.009228</td>\n",
       "      <td>0.011615</td>\n",
       "      <td>0.013469</td>\n",
       "      <td>0.012678</td>\n",
       "      <td>0.009564</td>\n",
       "      <td>0.009908</td>\n",
       "      <td>0.014703</td>\n",
       "      <td>0.011620</td>\n",
       "      <td>...</td>\n",
       "      <td>0.013850</td>\n",
       "      <td>0.010981</td>\n",
       "      <td>0.011683</td>\n",
       "      <td>0.013221</td>\n",
       "      <td>0.015186</td>\n",
       "      <td>0.013969</td>\n",
       "      <td>0.011160</td>\n",
       "      <td>0.009016</td>\n",
       "      <td>0.011941</td>\n",
       "      <td>Acidobacteria_Acidobacteria_Gp3_Gp3_Gp3</td>\n",
       "    </tr>\n",
       "    <tr>\n",
       "      <td>2</td>\n",
       "      <td>0.003506</td>\n",
       "      <td>0.004517</td>\n",
       "      <td>0.005650</td>\n",
       "      <td>0.003503</td>\n",
       "      <td>0.003799</td>\n",
       "      <td>0.004578</td>\n",
       "      <td>0.003678</td>\n",
       "      <td>0.003963</td>\n",
       "      <td>0.004445</td>\n",
       "      <td>0.004577</td>\n",
       "      <td>...</td>\n",
       "      <td>0.006233</td>\n",
       "      <td>0.004839</td>\n",
       "      <td>0.004359</td>\n",
       "      <td>0.004958</td>\n",
       "      <td>0.004944</td>\n",
       "      <td>0.004715</td>\n",
       "      <td>0.003366</td>\n",
       "      <td>0.005520</td>\n",
       "      <td>0.004634</td>\n",
       "      <td>Actinobacteria_Actinobacteria_Acidimicrobiales...</td>\n",
       "    </tr>\n",
       "    <tr>\n",
       "      <td>3</td>\n",
       "      <td>0.005610</td>\n",
       "      <td>0.004343</td>\n",
       "      <td>0.004520</td>\n",
       "      <td>0.003687</td>\n",
       "      <td>0.004490</td>\n",
       "      <td>0.004930</td>\n",
       "      <td>0.004046</td>\n",
       "      <td>0.003063</td>\n",
       "      <td>0.005813</td>\n",
       "      <td>0.003697</td>\n",
       "      <td>...</td>\n",
       "      <td>0.004848</td>\n",
       "      <td>0.004281</td>\n",
       "      <td>0.005057</td>\n",
       "      <td>0.004958</td>\n",
       "      <td>0.003885</td>\n",
       "      <td>0.003143</td>\n",
       "      <td>0.004429</td>\n",
       "      <td>0.003312</td>\n",
       "      <td>0.003208</td>\n",
       "      <td>Actinobacteria_Actinobacteria_Actinomycetales_...</td>\n",
       "    </tr>\n",
       "    <tr>\n",
       "      <td>4</td>\n",
       "      <td>0.004909</td>\n",
       "      <td>0.004517</td>\n",
       "      <td>0.006026</td>\n",
       "      <td>0.002950</td>\n",
       "      <td>0.003454</td>\n",
       "      <td>0.002817</td>\n",
       "      <td>0.003862</td>\n",
       "      <td>0.003963</td>\n",
       "      <td>0.005129</td>\n",
       "      <td>0.004049</td>\n",
       "      <td>...</td>\n",
       "      <td>0.004501</td>\n",
       "      <td>0.005770</td>\n",
       "      <td>0.005057</td>\n",
       "      <td>0.003672</td>\n",
       "      <td>0.005298</td>\n",
       "      <td>0.004191</td>\n",
       "      <td>0.004252</td>\n",
       "      <td>0.006808</td>\n",
       "      <td>0.003564</td>\n",
       "      <td>Actinobacteria_Actinobacteria_Actinomycetales_...</td>\n",
       "    </tr>\n",
       "    <tr>\n",
       "      <td>...</td>\n",
       "      <td>...</td>\n",
       "      <td>...</td>\n",
       "      <td>...</td>\n",
       "      <td>...</td>\n",
       "      <td>...</td>\n",
       "      <td>...</td>\n",
       "      <td>...</td>\n",
       "      <td>...</td>\n",
       "      <td>...</td>\n",
       "      <td>...</td>\n",
       "      <td>...</td>\n",
       "      <td>...</td>\n",
       "      <td>...</td>\n",
       "      <td>...</td>\n",
       "      <td>...</td>\n",
       "      <td>...</td>\n",
       "      <td>...</td>\n",
       "      <td>...</td>\n",
       "      <td>...</td>\n",
       "      <td>...</td>\n",
       "      <td>...</td>\n",
       "    </tr>\n",
       "    <tr>\n",
       "      <td>144</td>\n",
       "      <td>0.005785</td>\n",
       "      <td>0.005559</td>\n",
       "      <td>0.004896</td>\n",
       "      <td>0.005162</td>\n",
       "      <td>0.003972</td>\n",
       "      <td>0.002641</td>\n",
       "      <td>0.004782</td>\n",
       "      <td>0.004143</td>\n",
       "      <td>0.006155</td>\n",
       "      <td>0.006162</td>\n",
       "      <td>...</td>\n",
       "      <td>0.003809</td>\n",
       "      <td>0.005770</td>\n",
       "      <td>0.003139</td>\n",
       "      <td>0.004407</td>\n",
       "      <td>0.005121</td>\n",
       "      <td>0.003492</td>\n",
       "      <td>0.004783</td>\n",
       "      <td>0.004416</td>\n",
       "      <td>0.004277</td>\n",
       "      <td>Tenericutes_Mollicutes_Anaeroplasmatales_Anaer...</td>\n",
       "    </tr>\n",
       "    <tr>\n",
       "      <td>145</td>\n",
       "      <td>0.003857</td>\n",
       "      <td>0.004170</td>\n",
       "      <td>0.006968</td>\n",
       "      <td>0.002581</td>\n",
       "      <td>0.005698</td>\n",
       "      <td>0.004050</td>\n",
       "      <td>0.004598</td>\n",
       "      <td>0.003963</td>\n",
       "      <td>0.003932</td>\n",
       "      <td>0.004049</td>\n",
       "      <td>...</td>\n",
       "      <td>0.004501</td>\n",
       "      <td>0.004281</td>\n",
       "      <td>0.004882</td>\n",
       "      <td>0.006243</td>\n",
       "      <td>0.004768</td>\n",
       "      <td>0.003492</td>\n",
       "      <td>0.004606</td>\n",
       "      <td>0.004232</td>\n",
       "      <td>0.002495</td>\n",
       "      <td>Tenericutes_Mollicutes_Haloplasmatales_Halopla...</td>\n",
       "    </tr>\n",
       "    <tr>\n",
       "      <td>146</td>\n",
       "      <td>0.010519</td>\n",
       "      <td>0.010598</td>\n",
       "      <td>0.011488</td>\n",
       "      <td>0.009956</td>\n",
       "      <td>0.010361</td>\n",
       "      <td>0.009861</td>\n",
       "      <td>0.008828</td>\n",
       "      <td>0.010989</td>\n",
       "      <td>0.011626</td>\n",
       "      <td>0.011972</td>\n",
       "      <td>...</td>\n",
       "      <td>0.013504</td>\n",
       "      <td>0.011539</td>\n",
       "      <td>0.012554</td>\n",
       "      <td>0.013037</td>\n",
       "      <td>0.007946</td>\n",
       "      <td>0.011524</td>\n",
       "      <td>0.009743</td>\n",
       "      <td>0.014719</td>\n",
       "      <td>0.012297</td>\n",
       "      <td>Tenericutes_Mollicutes_Mycoplasmatales_Mycopla...</td>\n",
       "    </tr>\n",
       "    <tr>\n",
       "      <td>147</td>\n",
       "      <td>0.005084</td>\n",
       "      <td>0.004864</td>\n",
       "      <td>0.004331</td>\n",
       "      <td>0.005715</td>\n",
       "      <td>0.004317</td>\n",
       "      <td>0.003522</td>\n",
       "      <td>0.004598</td>\n",
       "      <td>0.004324</td>\n",
       "      <td>0.004616</td>\n",
       "      <td>0.003521</td>\n",
       "      <td>...</td>\n",
       "      <td>0.004328</td>\n",
       "      <td>0.005211</td>\n",
       "      <td>0.004185</td>\n",
       "      <td>0.005325</td>\n",
       "      <td>0.003708</td>\n",
       "      <td>0.005588</td>\n",
       "      <td>0.005492</td>\n",
       "      <td>0.004600</td>\n",
       "      <td>0.004456</td>\n",
       "      <td>Thermodesulfobacteria_Thermodesulfobacteria_Th...</td>\n",
       "    </tr>\n",
       "    <tr>\n",
       "      <td>148</td>\n",
       "      <td>0.004734</td>\n",
       "      <td>0.003822</td>\n",
       "      <td>0.005085</td>\n",
       "      <td>0.003687</td>\n",
       "      <td>0.004490</td>\n",
       "      <td>0.003346</td>\n",
       "      <td>0.003678</td>\n",
       "      <td>0.004864</td>\n",
       "      <td>0.003590</td>\n",
       "      <td>0.002993</td>\n",
       "      <td>...</td>\n",
       "      <td>0.004328</td>\n",
       "      <td>0.004281</td>\n",
       "      <td>0.003836</td>\n",
       "      <td>0.003856</td>\n",
       "      <td>0.003532</td>\n",
       "      <td>0.005064</td>\n",
       "      <td>0.003720</td>\n",
       "      <td>0.005336</td>\n",
       "      <td>0.004099</td>\n",
       "      <td>Verrucomicrobia_Verrucomicrobiae_Verrucomicrob...</td>\n",
       "    </tr>\n",
       "  </tbody>\n",
       "</table>\n",
       "<p>149 rows × 115 columns</p>\n",
       "</div>"
      ],
      "text/plain": [
       "     HE0Sample_103  HE0Sample_108  HE0Sample_111  HE0Sample_114  \\\n",
       "0         0.004208       0.003648       0.002825       0.004609   \n",
       "1         0.014727       0.013725       0.009228       0.011615   \n",
       "2         0.003506       0.004517       0.005650       0.003503   \n",
       "3         0.005610       0.004343       0.004520       0.003687   \n",
       "4         0.004909       0.004517       0.006026       0.002950   \n",
       "..             ...            ...            ...            ...   \n",
       "144       0.005785       0.005559       0.004896       0.005162   \n",
       "145       0.003857       0.004170       0.006968       0.002581   \n",
       "146       0.010519       0.010598       0.011488       0.009956   \n",
       "147       0.005084       0.004864       0.004331       0.005715   \n",
       "148       0.004734       0.003822       0.005085       0.003687   \n",
       "\n",
       "     HE0Sample_135  HE0Sample_136  HE0Sample_138  HE0Sample_143  \\\n",
       "0         0.002936       0.003874       0.005518       0.004864   \n",
       "1         0.013469       0.012678       0.009564       0.009908   \n",
       "2         0.003799       0.004578       0.003678       0.003963   \n",
       "3         0.004490       0.004930       0.004046       0.003063   \n",
       "4         0.003454       0.002817       0.003862       0.003963   \n",
       "..             ...            ...            ...            ...   \n",
       "144       0.003972       0.002641       0.004782       0.004143   \n",
       "145       0.005698       0.004050       0.004598       0.003963   \n",
       "146       0.010361       0.009861       0.008828       0.010989   \n",
       "147       0.004317       0.003522       0.004598       0.004324   \n",
       "148       0.004490       0.003346       0.003678       0.004864   \n",
       "\n",
       "     HE0Sample_146  HE0Sample_160  ...  HE0Sample_686  HE0Sample_688  \\\n",
       "0         0.003761       0.002817  ...       0.004328       0.005956   \n",
       "1         0.014703       0.011620  ...       0.013850       0.010981   \n",
       "2         0.004445       0.004577  ...       0.006233       0.004839   \n",
       "3         0.005813       0.003697  ...       0.004848       0.004281   \n",
       "4         0.005129       0.004049  ...       0.004501       0.005770   \n",
       "..             ...            ...  ...            ...            ...   \n",
       "144       0.006155       0.006162  ...       0.003809       0.005770   \n",
       "145       0.003932       0.004049  ...       0.004501       0.004281   \n",
       "146       0.011626       0.011972  ...       0.013504       0.011539   \n",
       "147       0.004616       0.003521  ...       0.004328       0.005211   \n",
       "148       0.003590       0.002993  ...       0.004328       0.004281   \n",
       "\n",
       "     HE0Sample_78  HE0Sample_83  HE0Sample_84  HE0Sample_85  HE0Sample_9  \\\n",
       "0        0.006103      0.004040      0.004944      0.005588     0.004429   \n",
       "1        0.011683      0.013221      0.015186      0.013969     0.011160   \n",
       "2        0.004359      0.004958      0.004944      0.004715     0.003366   \n",
       "3        0.005057      0.004958      0.003885      0.003143     0.004429   \n",
       "4        0.005057      0.003672      0.005298      0.004191     0.004252   \n",
       "..            ...           ...           ...           ...          ...   \n",
       "144      0.003139      0.004407      0.005121      0.003492     0.004783   \n",
       "145      0.004882      0.006243      0.004768      0.003492     0.004606   \n",
       "146      0.012554      0.013037      0.007946      0.011524     0.009743   \n",
       "147      0.004185      0.005325      0.003708      0.005588     0.005492   \n",
       "148      0.003836      0.003856      0.003532      0.005064     0.003720   \n",
       "\n",
       "     HE0Sample_91  HE0Sample_92  \\\n",
       "0        0.004416      0.004277   \n",
       "1        0.009016      0.011941   \n",
       "2        0.005520      0.004634   \n",
       "3        0.003312      0.003208   \n",
       "4        0.006808      0.003564   \n",
       "..            ...           ...   \n",
       "144      0.004416      0.004277   \n",
       "145      0.004232      0.002495   \n",
       "146      0.014719      0.012297   \n",
       "147      0.004600      0.004456   \n",
       "148      0.005336      0.004099   \n",
       "\n",
       "                                          Microbe Name  \n",
       "0    Acidobacteria_Acidobacteria_Gp1_Telmatobacter_...  \n",
       "1              Acidobacteria_Acidobacteria_Gp3_Gp3_Gp3  \n",
       "2    Actinobacteria_Actinobacteria_Acidimicrobiales...  \n",
       "3    Actinobacteria_Actinobacteria_Actinomycetales_...  \n",
       "4    Actinobacteria_Actinobacteria_Actinomycetales_...  \n",
       "..                                                 ...  \n",
       "144  Tenericutes_Mollicutes_Anaeroplasmatales_Anaer...  \n",
       "145  Tenericutes_Mollicutes_Haloplasmatales_Halopla...  \n",
       "146  Tenericutes_Mollicutes_Mycoplasmatales_Mycopla...  \n",
       "147  Thermodesulfobacteria_Thermodesulfobacteria_Th...  \n",
       "148  Verrucomicrobia_Verrucomicrobiae_Verrucomicrob...  \n",
       "\n",
       "[149 rows x 115 columns]"
      ]
     },
     "execution_count": 17,
     "metadata": {},
     "output_type": "execute_result"
    }
   ],
   "source": [
    "RelativeAbundance_HE0_Good_Normal = RelativeAbundance_HE0_Good[RelativeAbundance_HE0_Good.columns.difference(['Microbe Name'])].loc[:, (RelativeAbundance_HE0_Good[list(BayesInferenceHE0Good['SampleName'])].sum(axis = 0) == 1)]\n",
    "RelativeAbundance_HE0_Good_Normal['Microbe Name'] = RelativeAbundance_HE0_Good['Microbe Name']\n",
    "RelativeAbundance_HE0_Good_Normal = RelativeAbundance_HE0_Good_Normal.reindex(sorted(RelativeAbundance_HE0_Good_Normal.columns), axis=1)\n",
    "bad_samples = list(set(RelativeAbundance_HE0_Good.columns) - set(RelativeAbundance_HE0_Good_Normal.columns))\n",
    "print(\"There are \" + str(len(bad_samples)) + \" samples whose sum of values are not 1. They are:\")\n",
    "print(bad_samples)\n",
    "RelativeAbundance_HE0_Good_Normal"
   ]
  },
  {
   "cell_type": "code",
   "execution_count": 18,
   "metadata": {},
   "outputs": [
    {
     "name": "stdout",
     "output_type": "stream",
     "text": [
      "There are 572 samples whose sum of values are not 1. They are:\n",
      "['HE1Sample_386', 'HE1Sample_25', 'HE1Sample_290', 'HE1Sample_49', 'HE1Sample_102', 'HE1Sample_520', 'HE1Sample_202', 'HE1Sample_267', 'HE1Sample_420', 'HE1Sample_371', 'HE1Sample_44', 'HE1Sample_154', 'HE1Sample_99', 'HE1Sample_692', 'HE1Sample_417', 'HE1Sample_481', 'HE1Sample_615', 'HE1Sample_58', 'HE1Sample_48', 'HE1Sample_181', 'HE1Sample_147', 'HE1Sample_72', 'HE1Sample_120', 'HE1Sample_407', 'HE1Sample_610', 'HE1Sample_59', 'HE1Sample_473', 'HE1Sample_697', 'HE1Sample_593', 'HE1Sample_487', 'HE1Sample_501', 'HE1Sample_550', 'HE1Sample_660', 'HE1Sample_85', 'HE1Sample_672', 'HE1Sample_569', 'HE1Sample_440', 'HE1Sample_562', 'HE1Sample_45', 'HE1Sample_677', 'HE1Sample_256', 'HE1Sample_557', 'HE1Sample_189', 'HE1Sample_357', 'HE1Sample_123', 'HE1Sample_193', 'HE1Sample_445', 'HE1Sample_482', 'HE1Sample_47', 'HE1Sample_98', 'HE1Sample_673', 'HE1Sample_53', 'HE1Sample_577', 'HE1Sample_647', 'HE1Sample_57', 'HE1Sample_293', 'HE1Sample_491', 'HE1Sample_156', 'HE1Sample_484', 'HE1Sample_361', 'HE1Sample_172', 'HE1Sample_261', 'HE1Sample_600', 'HE1Sample_429', 'HE1Sample_435', 'HE1Sample_393', 'HE1Sample_635', 'HE1Sample_452', 'HE1Sample_350', 'HE1Sample_354', 'HE1Sample_40', 'HE1Sample_96', 'HE1Sample_679', 'HE1Sample_389', 'HE1Sample_538', 'HE1Sample_196', 'HE1Sample_143', 'HE1Sample_19', 'HE1Sample_200', 'HE1Sample_221', 'HE1Sample_325', 'HE1Sample_448', 'HE1Sample_475', 'HE1Sample_525', 'HE1Sample_115', 'HE1Sample_568', 'HE1Sample_559', 'HE1Sample_114', 'HE1Sample_500', 'HE1Sample_598', 'HE1Sample_219', 'HE1Sample_398', 'HE1Sample_614', 'HE1Sample_544', 'HE1Sample_71', 'HE1Sample_560', 'HE1Sample_26', 'HE1Sample_160', 'HE1Sample_347', 'HE1Sample_527', 'HE1Sample_432', 'HE1Sample_134', 'HE1Sample_413', 'HE1Sample_416', 'HE1Sample_404', 'HE1Sample_65', 'HE1Sample_151', 'HE1Sample_244', 'HE1Sample_551', 'HE1Sample_649', 'HE1Sample_682', 'HE1Sample_365', 'HE1Sample_348', 'HE1Sample_495', 'HE1Sample_319', 'HE1Sample_486', 'HE1Sample_150', 'HE1Sample_640', 'HE1Sample_213', 'HE1Sample_460', 'HE1Sample_351', 'HE1Sample_575', 'HE1Sample_197', 'HE1Sample_226', 'HE1Sample_176', 'HE1Sample_631', 'HE1Sample_439', 'HE1Sample_231', 'HE1Sample_101', 'HE1Sample_534', 'HE1Sample_476', 'HE1Sample_28', 'HE1Sample_50', 'HE1Sample_109', 'HE1Sample_305', 'HE1Sample_687', 'HE1Sample_194', 'HE1Sample_433', 'HE1Sample_654', 'HE1Sample_135', 'HE1Sample_666', 'HE1Sample_695', 'HE1Sample_6', 'HE1Sample_11', 'HE1Sample_32', 'HE1Sample_129', 'HE1Sample_529', 'HE1Sample_66', 'HE1Sample_15', 'HE1Sample_368', 'HE1Sample_403', 'HE1Sample_478', 'HE1Sample_31', 'HE1Sample_283', 'HE1Sample_623', 'HE1Sample_467', 'HE1Sample_523', 'HE1Sample_437', 'HE1Sample_52', 'HE1Sample_653', 'HE1Sample_233', 'HE1Sample_583', 'HE1Sample_667', 'HE1Sample_579', 'HE1Sample_73', 'HE1Sample_358', 'HE1Sample_306', 'HE1Sample_379', 'HE1Sample_164', 'HE1Sample_199', 'HE1Sample_222', 'HE1Sample_310', 'HE1Sample_425', 'HE1Sample_406', 'HE1Sample_434', 'HE1Sample_289', 'HE1Sample_291', 'HE1Sample_139', 'HE1Sample_596', 'HE1Sample_10', 'HE1Sample_204', 'HE1Sample_690', 'HE1Sample_54', 'HE1Sample_526', 'HE1Sample_605', 'HE1Sample_396', 'HE1Sample_556', 'HE1Sample_263', 'HE1Sample_251', 'HE1Sample_442', 'HE1Sample_238', 'HE1Sample_424', 'HE1Sample_507', 'HE1Sample_210', 'HE1Sample_502', 'HE1Sample_250', 'HE1Sample_133', 'HE1Sample_112', 'HE1Sample_504', 'HE1Sample_422', 'HE1Sample_277', 'HE1Sample_249', 'HE1Sample_7', 'HE1Sample_303', 'HE1Sample_132', 'HE1Sample_330', 'HE1Sample_669', 'HE1Sample_14', 'HE1Sample_304', 'HE1Sample_582', 'HE1Sample_617', 'HE1Sample_674', 'HE1Sample_457', 'HE1Sample_691', 'HE1Sample_477', 'HE1Sample_280', 'HE1Sample_292', 'HE1Sample_458', 'HE1Sample_415', 'HE1Sample_409', 'HE1Sample_155', 'HE1Sample_506', 'HE1Sample_230', 'HE1Sample_285', 'HE1Sample_228', 'HE1Sample_30', 'HE1Sample_159', 'HE1Sample_359', 'HE1Sample_360', 'HE1Sample_567', 'HE1Sample_658', 'HE1Sample_597', 'HE1Sample_179', 'HE1Sample_683', 'HE1Sample_387', 'HE1Sample_428', 'HE1Sample_521', 'HE1Sample_300', 'HE1Sample_522', 'HE1Sample_612', 'HE1Sample_124', 'HE1Sample_335', 'HE1Sample_363', 'HE1Sample_632', 'HE1Sample_574', 'HE1Sample_421', 'HE1Sample_239', 'HE1Sample_105', 'HE1Sample_509', 'HE1Sample_166', 'HE1Sample_427', 'HE1Sample_546', 'HE1Sample_646', 'HE1Sample_470', 'HE1Sample_62', 'HE1Sample_684', 'HE1Sample_187', 'HE1Sample_510', 'HE1Sample_208', 'HE1Sample_645', 'HE1Sample_634', 'HE1Sample_309', 'HE1Sample_178', 'HE1Sample_329', 'HE1Sample_138', 'HE1Sample_616', 'HE1Sample_430', 'HE1Sample_466', 'HE1Sample_449', 'HE1Sample_558', 'HE1Sample_12', 'HE1Sample_514', 'HE1Sample_245', 'HE1Sample_618', 'HE1Sample_394', 'HE1Sample_0', 'HE1Sample_174', 'HE1Sample_456', 'HE1Sample_177', 'HE1Sample_69', 'HE1Sample_190', 'HE1Sample_142', 'HE1Sample_321', 'HE1Sample_126', 'HE1Sample_13', 'HE1Sample_535', 'HE1Sample_362', 'HE1Sample_257', 'HE1Sample_474', 'HE1Sample_561', 'HE1Sample_602', 'HE1Sample_104', 'HE1Sample_307', 'HE1Sample_441', 'HE1Sample_483', 'HE1Sample_446', 'HE1Sample_116', 'HE1Sample_541', 'HE1Sample_146', 'HE1Sample_252', 'HE1Sample_540', 'HE1Sample_353', 'HE1Sample_696', 'HE1Sample_46', 'HE1Sample_278', 'HE1Sample_136', 'HE1Sample_157', 'HE1Sample_173', 'HE1Sample_316', 'HE1Sample_545', 'HE1Sample_214', 'HE1Sample_87', 'HE1Sample_498', 'HE1Sample_82', 'HE1Sample_77', 'HE1Sample_268', 'HE1Sample_542', 'HE1Sample_657', 'HE1Sample_641', 'HE1Sample_373', 'HE1Sample_113', 'HE1Sample_218', 'HE1Sample_22', 'HE1Sample_121', 'HE1Sample_63', 'HE1Sample_411', 'HE1Sample_537', 'HE1Sample_670', 'HE1Sample_366', 'HE1Sample_543', 'HE1Sample_594', 'HE1Sample_637', 'HE1Sample_644', 'HE1Sample_36', 'HE1Sample_698', 'HE1Sample_668', 'HE1Sample_418', 'HE1Sample_391', 'HE1Sample_206', 'HE1Sample_301', 'HE1Sample_580', 'HE1Sample_651', 'HE1Sample_664', 'HE1Sample_33', 'HE1Sample_107', 'HE1Sample_380', 'HE1Sample_397', 'HE1Sample_183', 'HE1Sample_661', 'HE1Sample_253', 'HE1Sample_188', 'HE1Sample_281', 'HE1Sample_385', 'HE1Sample_23', 'HE1Sample_175', 'HE1Sample_492', 'HE1Sample_648', 'HE1Sample_388', 'HE1Sample_255', 'HE1Sample_412', 'HE1Sample_24', 'HE1Sample_95', 'HE1Sample_61', 'HE1Sample_370', 'HE1Sample_378', 'HE1Sample_555', 'HE1Sample_326', 'HE1Sample_203', 'HE1Sample_356', 'HE1Sample_344', 'HE1Sample_299', 'HE1Sample_633', 'HE1Sample_258', 'HE1Sample_271', 'HE1Sample_144', 'HE1Sample_169', 'HE1Sample_517', 'HE1Sample_414', 'HE1Sample_241', 'HE1Sample_315', 'HE1Sample_195', 'HE1Sample_423', 'HE1Sample_480', 'HE1Sample_323', 'HE1Sample_42', 'HE1Sample_334', 'HE1Sample_399', 'HE1Sample_312', 'HE1Sample_384', 'HE1Sample_563', 'HE1Sample_264', 'HE1Sample_140', 'HE1Sample_497', 'HE1Sample_608', 'HE1Sample_494', 'HE1Sample_341', 'HE1Sample_604', 'HE1Sample_103', 'HE1Sample_163', 'HE1Sample_298', 'HE1Sample_459', 'HE1Sample_519', 'HE1Sample_342', 'HE1Sample_382', 'HE1Sample_223', 'HE1Sample_270', 'HE1Sample_88', 'HE1Sample_275', 'HE1Sample_377', 'HE1Sample_390', 'HE1Sample_656', 'HE1Sample_217', 'HE1Sample_488', 'HE1Sample_381', 'HE1Sample_266', 'HE1Sample_180', 'HE1Sample_185', 'HE1Sample_372', 'HE1Sample_401', 'HE1Sample_643', 'HE1Sample_118', 'HE1Sample_248', 'HE1Sample_34', 'HE1Sample_671', 'HE1Sample_100', 'HE1Sample_503', 'HE1Sample_533', 'HE1Sample_240', 'HE1Sample_234', 'HE1Sample_613', 'HE1Sample_547', 'HE1Sample_554', 'HE1Sample_35', 'HE1Sample_237', 'HE1Sample_592', 'HE1Sample_659', 'HE1Sample_90', 'HE1Sample_493', 'HE1Sample_419', 'HE1Sample_287', 'HE1Sample_405', 'HE1Sample_81', 'HE1Sample_128', 'HE1Sample_471', 'HE1Sample_345', 'HE1Sample_37', 'HE1Sample_211', 'HE1Sample_461', 'HE1Sample_531', 'HE1Sample_336', 'HE1Sample_137', 'HE1Sample_279', 'HE1Sample_282', 'HE1Sample_512', 'HE1Sample_168', 'HE1Sample_162', 'HE1Sample_581', 'HE1Sample_108', 'HE1Sample_8', 'HE1Sample_269', 'HE1Sample_650', 'HE1Sample_296', 'HE1Sample_17', 'HE1Sample_532', 'HE1Sample_43', 'HE1Sample_313', 'HE1Sample_273', 'HE1Sample_340', 'HE1Sample_624', 'HE1Sample_410', 'HE1Sample_294', 'HE1Sample_314', 'HE1Sample_235', 'HE1Sample_601', 'HE1Sample_621', 'HE1Sample_462', 'HE1Sample_236', 'HE1Sample_284', 'HE1Sample_408', 'HE1Sample_92', 'HE1Sample_548', 'HE1Sample_678', 'HE1Sample_630', 'HE1Sample_426', 'HE1Sample_499', 'HE1Sample_628', 'HE1Sample_383', 'HE1Sample_75', 'HE1Sample_508', 'HE1Sample_685', 'HE1Sample_352', 'HE1Sample_302', 'HE1Sample_216', 'HE1Sample_455', 'HE1Sample_242', 'HE1Sample_224', 'HE1Sample_227', 'HE1Sample_686', 'HE1Sample_681', 'HE1Sample_297', 'HE1Sample_145', 'HE1Sample_468', 'HE1Sample_209', 'HE1Sample_80', 'HE1Sample_636', 'HE1Sample_74', 'HE1Sample_663', 'HE1Sample_518', 'HE1Sample_165', 'HE1Sample_93', 'HE1Sample_229', 'HE1Sample_627', 'HE1Sample_689', 'HE1Sample_18', 'HE1Sample_167', 'HE1Sample_286', 'HE1Sample_1', 'HE1Sample_110', 'HE1Sample_349', 'HE1Sample_539', 'HE1Sample_328', 'HE1Sample_489', 'HE1Sample_338', 'HE1Sample_655', 'HE1Sample_331', 'HE1Sample_3', 'HE1Sample_450', 'HE1Sample_94', 'HE1Sample_402', 'HE1Sample_346', 'HE1Sample_343', 'HE1Sample_125', 'HE1Sample_571', 'HE1Sample_29', 'HE1Sample_496', 'HE1Sample_320', 'HE1Sample_247', 'HE1Sample_652', 'HE1Sample_513', 'HE1Sample_553', 'HE1Sample_122', 'HE1Sample_161', 'HE1Sample_70', 'HE1Sample_89', 'HE1Sample_127', 'HE1Sample_141', 'HE1Sample_620', 'HE1Sample_438', 'HE1Sample_295', 'HE1Sample_149', 'HE1Sample_318', 'HE1Sample_472', 'HE1Sample_607', 'HE1Sample_272', 'HE1Sample_639', 'HE1Sample_469', 'HE1Sample_311', 'HE1Sample_642', 'HE1Sample_260', 'HE1Sample_68', 'HE1Sample_20', 'HE1Sample_565', 'HE1Sample_589', 'HE1Sample_588', 'HE1Sample_78', 'HE1Sample_130', 'HE1Sample_572', 'HE1Sample_317', 'HE1Sample_207', 'HE1Sample_86', 'HE1Sample_536', 'HE1Sample_201']\n"
     ]
    },
    {
     "data": {
      "text/html": [
       "<div>\n",
       "<style scoped>\n",
       "    .dataframe tbody tr th:only-of-type {\n",
       "        vertical-align: middle;\n",
       "    }\n",
       "\n",
       "    .dataframe tbody tr th {\n",
       "        vertical-align: top;\n",
       "    }\n",
       "\n",
       "    .dataframe thead th {\n",
       "        text-align: right;\n",
       "    }\n",
       "</style>\n",
       "<table border=\"1\" class=\"dataframe\">\n",
       "  <thead>\n",
       "    <tr style=\"text-align: right;\">\n",
       "      <th></th>\n",
       "      <th>HE1Sample_106</th>\n",
       "      <th>HE1Sample_111</th>\n",
       "      <th>HE1Sample_117</th>\n",
       "      <th>HE1Sample_119</th>\n",
       "      <th>HE1Sample_131</th>\n",
       "      <th>HE1Sample_148</th>\n",
       "      <th>HE1Sample_152</th>\n",
       "      <th>HE1Sample_153</th>\n",
       "      <th>HE1Sample_158</th>\n",
       "      <th>HE1Sample_16</th>\n",
       "      <th>...</th>\n",
       "      <th>HE1Sample_693</th>\n",
       "      <th>HE1Sample_694</th>\n",
       "      <th>HE1Sample_76</th>\n",
       "      <th>HE1Sample_79</th>\n",
       "      <th>HE1Sample_83</th>\n",
       "      <th>HE1Sample_84</th>\n",
       "      <th>HE1Sample_9</th>\n",
       "      <th>HE1Sample_91</th>\n",
       "      <th>HE1Sample_97</th>\n",
       "      <th>Microbe Name</th>\n",
       "    </tr>\n",
       "  </thead>\n",
       "  <tbody>\n",
       "    <tr>\n",
       "      <td>0</td>\n",
       "      <td>0.004804</td>\n",
       "      <td>0.004469</td>\n",
       "      <td>0.005041</td>\n",
       "      <td>0.004843</td>\n",
       "      <td>0.003445</td>\n",
       "      <td>0.002813</td>\n",
       "      <td>0.004247</td>\n",
       "      <td>0.003483</td>\n",
       "      <td>0.004475</td>\n",
       "      <td>0.004488</td>\n",
       "      <td>...</td>\n",
       "      <td>0.004070</td>\n",
       "      <td>0.003940</td>\n",
       "      <td>0.005490</td>\n",
       "      <td>0.006500</td>\n",
       "      <td>0.005130</td>\n",
       "      <td>0.003457</td>\n",
       "      <td>0.004496</td>\n",
       "      <td>0.004382</td>\n",
       "      <td>0.003328</td>\n",
       "      <td>Acidobacteria_Acidobacteria_Gp1_Telmatobacter_...</td>\n",
       "    </tr>\n",
       "    <tr>\n",
       "      <td>1</td>\n",
       "      <td>0.009952</td>\n",
       "      <td>0.013063</td>\n",
       "      <td>0.009522</td>\n",
       "      <td>0.014528</td>\n",
       "      <td>0.014468</td>\n",
       "      <td>0.010549</td>\n",
       "      <td>0.011817</td>\n",
       "      <td>0.012537</td>\n",
       "      <td>0.011188</td>\n",
       "      <td>0.013465</td>\n",
       "      <td>...</td>\n",
       "      <td>0.013136</td>\n",
       "      <td>0.009381</td>\n",
       "      <td>0.012262</td>\n",
       "      <td>0.011947</td>\n",
       "      <td>0.012206</td>\n",
       "      <td>0.015036</td>\n",
       "      <td>0.015105</td>\n",
       "      <td>0.012621</td>\n",
       "      <td>0.010540</td>\n",
       "      <td>Acidobacteria_Acidobacteria_Gp3_Gp3_Gp3</td>\n",
       "    </tr>\n",
       "    <tr>\n",
       "      <td>2</td>\n",
       "      <td>0.004461</td>\n",
       "      <td>0.003953</td>\n",
       "      <td>0.005601</td>\n",
       "      <td>0.005361</td>\n",
       "      <td>0.003445</td>\n",
       "      <td>0.004571</td>\n",
       "      <td>0.004616</td>\n",
       "      <td>0.004876</td>\n",
       "      <td>0.003916</td>\n",
       "      <td>0.003625</td>\n",
       "      <td>...</td>\n",
       "      <td>0.003330</td>\n",
       "      <td>0.005253</td>\n",
       "      <td>0.002745</td>\n",
       "      <td>0.002987</td>\n",
       "      <td>0.005484</td>\n",
       "      <td>0.003975</td>\n",
       "      <td>0.003776</td>\n",
       "      <td>0.005609</td>\n",
       "      <td>0.004993</td>\n",
       "      <td>Actinobacteria_Actinobacteria_Acidimicrobiales...</td>\n",
       "    </tr>\n",
       "    <tr>\n",
       "      <td>3</td>\n",
       "      <td>0.005834</td>\n",
       "      <td>0.003781</td>\n",
       "      <td>0.005414</td>\n",
       "      <td>0.006226</td>\n",
       "      <td>0.004306</td>\n",
       "      <td>0.005450</td>\n",
       "      <td>0.005539</td>\n",
       "      <td>0.004005</td>\n",
       "      <td>0.002424</td>\n",
       "      <td>0.005006</td>\n",
       "      <td>...</td>\n",
       "      <td>0.005365</td>\n",
       "      <td>0.004503</td>\n",
       "      <td>0.005307</td>\n",
       "      <td>0.005271</td>\n",
       "      <td>0.003361</td>\n",
       "      <td>0.004148</td>\n",
       "      <td>0.004855</td>\n",
       "      <td>0.002629</td>\n",
       "      <td>0.003698</td>\n",
       "      <td>Actinobacteria_Actinobacteria_Actinomycetales_...</td>\n",
       "    </tr>\n",
       "    <tr>\n",
       "      <td>4</td>\n",
       "      <td>0.003946</td>\n",
       "      <td>0.004813</td>\n",
       "      <td>0.005414</td>\n",
       "      <td>0.004151</td>\n",
       "      <td>0.003445</td>\n",
       "      <td>0.004923</td>\n",
       "      <td>0.003877</td>\n",
       "      <td>0.004179</td>\n",
       "      <td>0.004475</td>\n",
       "      <td>0.005006</td>\n",
       "      <td>...</td>\n",
       "      <td>0.003885</td>\n",
       "      <td>0.004690</td>\n",
       "      <td>0.002928</td>\n",
       "      <td>0.003865</td>\n",
       "      <td>0.003538</td>\n",
       "      <td>0.005358</td>\n",
       "      <td>0.004496</td>\n",
       "      <td>0.004557</td>\n",
       "      <td>0.003883</td>\n",
       "      <td>Actinobacteria_Actinobacteria_Actinomycetales_...</td>\n",
       "    </tr>\n",
       "    <tr>\n",
       "      <td>...</td>\n",
       "      <td>...</td>\n",
       "      <td>...</td>\n",
       "      <td>...</td>\n",
       "      <td>...</td>\n",
       "      <td>...</td>\n",
       "      <td>...</td>\n",
       "      <td>...</td>\n",
       "      <td>...</td>\n",
       "      <td>...</td>\n",
       "      <td>...</td>\n",
       "      <td>...</td>\n",
       "      <td>...</td>\n",
       "      <td>...</td>\n",
       "      <td>...</td>\n",
       "      <td>...</td>\n",
       "      <td>...</td>\n",
       "      <td>...</td>\n",
       "      <td>...</td>\n",
       "      <td>...</td>\n",
       "      <td>...</td>\n",
       "      <td>...</td>\n",
       "    </tr>\n",
       "    <tr>\n",
       "      <td>144</td>\n",
       "      <td>0.005148</td>\n",
       "      <td>0.003953</td>\n",
       "      <td>0.006348</td>\n",
       "      <td>0.003459</td>\n",
       "      <td>0.004134</td>\n",
       "      <td>0.004219</td>\n",
       "      <td>0.005724</td>\n",
       "      <td>0.004701</td>\n",
       "      <td>0.005034</td>\n",
       "      <td>0.005179</td>\n",
       "      <td>...</td>\n",
       "      <td>0.005180</td>\n",
       "      <td>0.004878</td>\n",
       "      <td>0.004941</td>\n",
       "      <td>0.003689</td>\n",
       "      <td>0.005484</td>\n",
       "      <td>0.005012</td>\n",
       "      <td>0.004136</td>\n",
       "      <td>0.004382</td>\n",
       "      <td>0.004438</td>\n",
       "      <td>Tenericutes_Mollicutes_Anaeroplasmatales_Anaer...</td>\n",
       "    </tr>\n",
       "    <tr>\n",
       "      <td>145</td>\n",
       "      <td>0.003946</td>\n",
       "      <td>0.003438</td>\n",
       "      <td>0.003734</td>\n",
       "      <td>0.003113</td>\n",
       "      <td>0.003617</td>\n",
       "      <td>0.005274</td>\n",
       "      <td>0.005539</td>\n",
       "      <td>0.004876</td>\n",
       "      <td>0.004289</td>\n",
       "      <td>0.002762</td>\n",
       "      <td>...</td>\n",
       "      <td>0.005180</td>\n",
       "      <td>0.003752</td>\n",
       "      <td>0.003843</td>\n",
       "      <td>0.002987</td>\n",
       "      <td>0.003715</td>\n",
       "      <td>0.005358</td>\n",
       "      <td>0.004855</td>\n",
       "      <td>0.006661</td>\n",
       "      <td>0.005178</td>\n",
       "      <td>Tenericutes_Mollicutes_Haloplasmatales_Halopla...</td>\n",
       "    </tr>\n",
       "    <tr>\n",
       "      <td>146</td>\n",
       "      <td>0.010981</td>\n",
       "      <td>0.012204</td>\n",
       "      <td>0.009335</td>\n",
       "      <td>0.010896</td>\n",
       "      <td>0.009817</td>\n",
       "      <td>0.010900</td>\n",
       "      <td>0.013848</td>\n",
       "      <td>0.012711</td>\n",
       "      <td>0.010442</td>\n",
       "      <td>0.012774</td>\n",
       "      <td>...</td>\n",
       "      <td>0.013321</td>\n",
       "      <td>0.008068</td>\n",
       "      <td>0.009151</td>\n",
       "      <td>0.012474</td>\n",
       "      <td>0.012029</td>\n",
       "      <td>0.010024</td>\n",
       "      <td>0.008632</td>\n",
       "      <td>0.012270</td>\n",
       "      <td>0.012204</td>\n",
       "      <td>Tenericutes_Mollicutes_Mycoplasmatales_Mycopla...</td>\n",
       "    </tr>\n",
       "    <tr>\n",
       "      <td>147</td>\n",
       "      <td>0.004633</td>\n",
       "      <td>0.004297</td>\n",
       "      <td>0.003921</td>\n",
       "      <td>0.002421</td>\n",
       "      <td>0.004650</td>\n",
       "      <td>0.004571</td>\n",
       "      <td>0.003693</td>\n",
       "      <td>0.003483</td>\n",
       "      <td>0.004475</td>\n",
       "      <td>0.005006</td>\n",
       "      <td>...</td>\n",
       "      <td>0.003885</td>\n",
       "      <td>0.004690</td>\n",
       "      <td>0.004026</td>\n",
       "      <td>0.005446</td>\n",
       "      <td>0.005130</td>\n",
       "      <td>0.005185</td>\n",
       "      <td>0.004496</td>\n",
       "      <td>0.005259</td>\n",
       "      <td>0.005732</td>\n",
       "      <td>Thermodesulfobacteria_Thermodesulfobacteria_Th...</td>\n",
       "    </tr>\n",
       "    <tr>\n",
       "      <td>148</td>\n",
       "      <td>0.003775</td>\n",
       "      <td>0.003781</td>\n",
       "      <td>0.004294</td>\n",
       "      <td>0.003978</td>\n",
       "      <td>0.003789</td>\n",
       "      <td>0.003868</td>\n",
       "      <td>0.003693</td>\n",
       "      <td>0.005746</td>\n",
       "      <td>0.004289</td>\n",
       "      <td>0.005351</td>\n",
       "      <td>...</td>\n",
       "      <td>0.004070</td>\n",
       "      <td>0.004690</td>\n",
       "      <td>0.006589</td>\n",
       "      <td>0.003865</td>\n",
       "      <td>0.005130</td>\n",
       "      <td>0.005876</td>\n",
       "      <td>0.005575</td>\n",
       "      <td>0.003856</td>\n",
       "      <td>0.003328</td>\n",
       "      <td>Verrucomicrobia_Verrucomicrobiae_Verrucomicrob...</td>\n",
       "    </tr>\n",
       "  </tbody>\n",
       "</table>\n",
       "<p>149 rows × 128 columns</p>\n",
       "</div>"
      ],
      "text/plain": [
       "     HE1Sample_106  HE1Sample_111  HE1Sample_117  HE1Sample_119  \\\n",
       "0         0.004804       0.004469       0.005041       0.004843   \n",
       "1         0.009952       0.013063       0.009522       0.014528   \n",
       "2         0.004461       0.003953       0.005601       0.005361   \n",
       "3         0.005834       0.003781       0.005414       0.006226   \n",
       "4         0.003946       0.004813       0.005414       0.004151   \n",
       "..             ...            ...            ...            ...   \n",
       "144       0.005148       0.003953       0.006348       0.003459   \n",
       "145       0.003946       0.003438       0.003734       0.003113   \n",
       "146       0.010981       0.012204       0.009335       0.010896   \n",
       "147       0.004633       0.004297       0.003921       0.002421   \n",
       "148       0.003775       0.003781       0.004294       0.003978   \n",
       "\n",
       "     HE1Sample_131  HE1Sample_148  HE1Sample_152  HE1Sample_153  \\\n",
       "0         0.003445       0.002813       0.004247       0.003483   \n",
       "1         0.014468       0.010549       0.011817       0.012537   \n",
       "2         0.003445       0.004571       0.004616       0.004876   \n",
       "3         0.004306       0.005450       0.005539       0.004005   \n",
       "4         0.003445       0.004923       0.003877       0.004179   \n",
       "..             ...            ...            ...            ...   \n",
       "144       0.004134       0.004219       0.005724       0.004701   \n",
       "145       0.003617       0.005274       0.005539       0.004876   \n",
       "146       0.009817       0.010900       0.013848       0.012711   \n",
       "147       0.004650       0.004571       0.003693       0.003483   \n",
       "148       0.003789       0.003868       0.003693       0.005746   \n",
       "\n",
       "     HE1Sample_158  HE1Sample_16  ...  HE1Sample_693  HE1Sample_694  \\\n",
       "0         0.004475      0.004488  ...       0.004070       0.003940   \n",
       "1         0.011188      0.013465  ...       0.013136       0.009381   \n",
       "2         0.003916      0.003625  ...       0.003330       0.005253   \n",
       "3         0.002424      0.005006  ...       0.005365       0.004503   \n",
       "4         0.004475      0.005006  ...       0.003885       0.004690   \n",
       "..             ...           ...  ...            ...            ...   \n",
       "144       0.005034      0.005179  ...       0.005180       0.004878   \n",
       "145       0.004289      0.002762  ...       0.005180       0.003752   \n",
       "146       0.010442      0.012774  ...       0.013321       0.008068   \n",
       "147       0.004475      0.005006  ...       0.003885       0.004690   \n",
       "148       0.004289      0.005351  ...       0.004070       0.004690   \n",
       "\n",
       "     HE1Sample_76  HE1Sample_79  HE1Sample_83  HE1Sample_84  HE1Sample_9  \\\n",
       "0        0.005490      0.006500      0.005130      0.003457     0.004496   \n",
       "1        0.012262      0.011947      0.012206      0.015036     0.015105   \n",
       "2        0.002745      0.002987      0.005484      0.003975     0.003776   \n",
       "3        0.005307      0.005271      0.003361      0.004148     0.004855   \n",
       "4        0.002928      0.003865      0.003538      0.005358     0.004496   \n",
       "..            ...           ...           ...           ...          ...   \n",
       "144      0.004941      0.003689      0.005484      0.005012     0.004136   \n",
       "145      0.003843      0.002987      0.003715      0.005358     0.004855   \n",
       "146      0.009151      0.012474      0.012029      0.010024     0.008632   \n",
       "147      0.004026      0.005446      0.005130      0.005185     0.004496   \n",
       "148      0.006589      0.003865      0.005130      0.005876     0.005575   \n",
       "\n",
       "     HE1Sample_91  HE1Sample_97  \\\n",
       "0        0.004382      0.003328   \n",
       "1        0.012621      0.010540   \n",
       "2        0.005609      0.004993   \n",
       "3        0.002629      0.003698   \n",
       "4        0.004557      0.003883   \n",
       "..            ...           ...   \n",
       "144      0.004382      0.004438   \n",
       "145      0.006661      0.005178   \n",
       "146      0.012270      0.012204   \n",
       "147      0.005259      0.005732   \n",
       "148      0.003856      0.003328   \n",
       "\n",
       "                                          Microbe Name  \n",
       "0    Acidobacteria_Acidobacteria_Gp1_Telmatobacter_...  \n",
       "1              Acidobacteria_Acidobacteria_Gp3_Gp3_Gp3  \n",
       "2    Actinobacteria_Actinobacteria_Acidimicrobiales...  \n",
       "3    Actinobacteria_Actinobacteria_Actinomycetales_...  \n",
       "4    Actinobacteria_Actinobacteria_Actinomycetales_...  \n",
       "..                                                 ...  \n",
       "144  Tenericutes_Mollicutes_Anaeroplasmatales_Anaer...  \n",
       "145  Tenericutes_Mollicutes_Haloplasmatales_Halopla...  \n",
       "146  Tenericutes_Mollicutes_Mycoplasmatales_Mycopla...  \n",
       "147  Thermodesulfobacteria_Thermodesulfobacteria_Th...  \n",
       "148  Verrucomicrobia_Verrucomicrobiae_Verrucomicrob...  \n",
       "\n",
       "[149 rows x 128 columns]"
      ]
     },
     "execution_count": 18,
     "metadata": {},
     "output_type": "execute_result"
    }
   ],
   "source": [
    "RelativeAbundance_HE1_Good_Normal = RelativeAbundance_HE1_Good[RelativeAbundance_HE1_Good.columns.difference(['Microbe Name'])].loc[:, (RelativeAbundance_HE1_Good[list(BayesInferenceHE1Good['SampleName'])].sum(axis = 0) == 1)]\n",
    "RelativeAbundance_HE1_Good_Normal['Microbe Name'] = RelativeAbundance_HE1_Good['Microbe Name']\n",
    "bad_samples = list(set(RelativeAbundance_HE1_Good.columns) - set(RelativeAbundance_HE1_Good_Normal.columns))\n",
    "print(\"There are \" + str(len(bad_samples)) + \" samples whose sum of values are not 1. They are:\")\n",
    "print(bad_samples)\n",
    "RelativeAbundance_HE1_Good_Normal"
   ]
  },
  {
   "cell_type": "markdown",
   "metadata": {},
   "source": [
    "### 2. Discussion on Relative Abundance Data"
   ]
  },
  {
   "cell_type": "markdown",
   "metadata": {},
   "source": [
    "#### What are the benefits and drawbacks to using relative abundance data? Is there information that we lose when the normalization is performed?\n",
    "\n",
    "Normalizing data allows input variables to have the same treatment in the model and the coefficients of a model are not scaled with respect to the scale of the inputs. Some machine learning algorithms require the input data to be normalized in order to converge to a good result. It also benefits seeking for relationship among two sets of data.\n",
    "\n",
    "However, the drawback is that we lost the original values (true data)."
   ]
  },
  {
   "cell_type": "markdown",
   "metadata": {},
   "source": [
    "## 3. Visual Inspection"
   ]
  },
  {
   "cell_type": "code",
   "execution_count": 19,
   "metadata": {},
   "outputs": [
    {
     "data": {
      "image/png": "[encoded data removed]",
      "text/plain": [
       "<Figure size 432x288 with 2 Axes>"
      ]
     },
     "metadata": {},
     "output_type": "display_data"
    }
   ],
   "source": [
    "#RelativeAbundance_HE0_Good_Normal[RelativeAbundance_HE0_Good_Normal.columns.difference(['Microbe Name'])] -> remove microbe_name col\n",
    "\n",
    "sns.set()\n",
    "\n",
    "ax = sns.heatmap(RelativeAbundance_HE0_Good_Normal[RelativeAbundance_HE0_Good_Normal.columns.difference(['Microbe Name'])].to_numpy())\n",
    "plt.ylabel('Microbes')\n",
    "plt.xlabel('Samples');"
   ]
  },
  {
   "cell_type": "code",
   "execution_count": 20,
   "metadata": {},
   "outputs": [
    {
     "data": {
      "image/png": "[encoded data removed]",
      "text/plain": [
       "<Figure size 432x288 with 2 Axes>"
      ]
     },
     "metadata": {},
     "output_type": "display_data"
    }
   ],
   "source": [
    "sns.set()\n",
    "ax = sns.heatmap(RelativeAbundance_HE1_Good_Normal[RelativeAbundance_HE1_Good_Normal.columns.difference(['Microbe Name'])].to_numpy())\n",
    "plt.ylabel('Microbes')\n",
    "plt.xlabel('Samples');"
   ]
  },
  {
   "cell_type": "markdown",
   "metadata": {},
   "source": [
    "### Briefly summarize your observations. Which aspects of the data are the heatmaps good at highlighting? What types of things are heatmaps less suitable for?\n",
    "\n",
    "Samples in HE0 and HE1 have similar microbe distribution. A type of microbe have similar relative abundance. Heatmaps are graphical representations of data that utilize color-coded systems. The primary purpose of Heatmaps is to better visualize the volume of events within a dataset and assist in directing viewers towards areas on data visualizations that matter most. But they are not used for showing the real/true values. They are not used for showing the propotions of events (such as pie charts). They are not used for showing distribution of events.\n",
    "\n",
    "# Task 2: Statistical Analysis"
   ]
  },
  {
   "cell_type": "markdown",
   "metadata": {},
   "source": [
    "## 1. Kolmogorov-Smirnov (KS) Test"
   ]
  },
  {
   "cell_type": "markdown",
   "metadata": {},
   "source": [
    "### a. p-value for Two-Sample KS Test"
   ]
  },
  {
   "cell_type": "code",
   "execution_count": 21,
   "metadata": {
    "scrolled": true
   },
   "outputs": [
    {
     "name": "stdout",
     "output_type": "stream",
     "text": [
      "{'Acidobacteria_Acidobacteria_Gp1_Telmatobacter_Telmatobacter': 0.6863296534243941, 'Acidobacteria_Acidobacteria_Gp3_Gp3_Gp3': 0.9254424927711866, 'Actinobacteria_Actinobacteria_Acidimicrobiales_Acidimicrobiaceae': 0.7796638376054547, 'Actinobacteria_Actinobacteria_Actinomycetales_Actinomycetaceae': 0.7723293250603083, 'Actinobacteria_Actinobacteria_Actinomycetales_Cellulomonadaceae': 0.6664393385009684, 'Actinobacteria_Actinobacteria_Actinomycetales_Corynebacteriaceae': 0.1026263428550781, 'Actinobacteria_Actinobacteria_Actinomycetales_Dermabacteraceae': 0.9646298420565865, 'Actinobacteria_Actinobacteria_Actinomycetales_Geodermatophilaceae': 0.05478581868649257, 'Actinobacteria_Actinobacteria_Actinomycetales_Microbacteriaceae': 0.2700424219004439, 'Actinobacteria_Actinobacteria_Actinomycetales_Micrococcaceae': 0.3841812195100496, 'Actinobacteria_Actinobacteria_Actinomycetales_Micromonosporaceae': 0.16025389591265726, 'Actinobacteria_Actinobacteria_Actinomycetales_Nakamurellaceae': 5.968397539635184e-05, 'Actinobacteria_Actinobacteria_Actinomycetales_Nocardiaceae': 0.5962119307356815, 'Actinobacteria_Actinobacteria_Actinomycetales_Propionibacteriaceae': 1.8549536273781975e-05, 'Actinobacteria_Actinobacteria_Actinomycetales_Pseudonocardiaceae': 0.8820083618644139, 'Actinobacteria_Actinobacteria_Actinomycetales_Sanguibacteraceae': 0.2904484527821176, 'Actinobacteria_Actinobacteria_Bifidobacteriales_Bifidobacteriaceae': 0.01419495105561197, 'Actinobacteria_Actinobacteria_Coriobacteriales_Coriobacteriaceae': 0.25856586133271764, 'Armatimonadetes_Chthonomonadetes_Chthonomonadales_Chthonomonadaceae': 0.042474758466518825, 'Bacteroidetes_Bacteroidia_Bacteroidales_Bacteroidaceae': 0.3403593003812193, 'Bacteroidetes_Bacteroidia_Bacteroidales_Bacteroidales_incertae_sedis': 0.6217954672032637, 'Bacteroidetes_Bacteroidia_Bacteroidales_Marinilabiaceae': 0.6348421268107662, 'Bacteroidetes_Bacteroidia_Bacteroidales_Marinilabiliaceae': 0.7439109407846367, 'Bacteroidetes_Bacteroidia_Bacteroidales_Porphyromonadaceae': 0.09584988052569599, 'Bacteroidetes_Bacteroidia_Bacteroidales_Prevotellaceae': 0.5322889557578798, 'Bacteroidetes_Bacteroidia_Bacteroidales_Prolixibacteraceae': 0.030822951751815042, 'Bacteroidetes_Bacteroidia_Bacteroidales_Rikenellaceae': 0.3915123822261851, 'Bacteroidetes_Cytophagia_Cytophagales_Cytophagaceae': 0.8820083618644139, 'Bacteroidetes_Cytophagia_Cytophagales_Flammeovirgaceae': 0.7786436312250106, 'Bacteroidetes_Flavobacteriia_Flavobacteriales_Cryomorphaceae': 0.15109471967513388, 'Bacteroidetes_Flavobacteriia_Flavobacteriales_Flavobacteriaceae': 0.15812005949977215, 'Bacteroidetes_Sphingobacteriia_Sphingobacteriales_Chitinophagaceae': 0.7752379353280486, 'Bacteroidetes_Sphingobacteriia_Sphingobacteriales_Cyclobacteriaceae': 0.6627675654043665, 'Bacteroidetes_Sphingobacteriia_Sphingobacteriales_Sphingobacteriaceae': 0.0014455288504519048, 'Candidatus Saccharibacteria_Saccharibacteria_genera_incertae_sedis_Saccharibacteria_genera_incertae_sedis_Saccharibacteria_genera_incertae_sedis': 0.44806875010738, 'Chloroflexi_Anaerolineae_Anaerolineales_Anaerolineaceae': 0.6652973181152902, 'Chloroflexi_Dehalococcoidia_Dehalococcoidales_Dehalococcoidaceae': 0.47146657098675204, 'Chloroflexi_Ktedonobacteria_Ktedonobacterales_Thermosporotrichaceae': 0.305650581132368, 'Chrysiogenetes_Chrysiogenetes_Chrysiogenales_Chrysiogenaceae': 4.026302853887831e-05, 'Cyanobacteria/Chloroplast_Chloroplast_Chloroplast_Chloroplast': 0.2490456645169279, 'Cyanobacteria/Chloroplast_Cyanobacteria_Family I_Family I': 0.39689401823995907, 'Deinococcus-Thermus_Deinococci_Thermales_Thermaceae': 0.6703811195520346, 'Firmicutes_Bacilli_Bacillales_Bacillaceae 1': 0.9760317965528905, 'Firmicutes_Bacilli_Bacillales_Bacillaceae 2': 0.023136698943339473, 'Firmicutes_Bacilli_Bacillales_Bacillales_Incertae Sedis XI': 0.09198007590602675, 'Firmicutes_Bacilli_Bacillales_Listeriaceae': 0.31758932456085975, 'Firmicutes_Bacilli_Bacillales_Paenibacillaceae 1': 0.039682382866042976, 'Firmicutes_Bacilli_Bacillales_Planococcaceae': 0.33277509552237905, 'Firmicutes_Bacilli_Bacillales_Staphylococcaceae': 0.09198007590602675, 'Firmicutes_Bacilli_Bacillales_Thermoactinomycetaceae 1': 0.21914363450213037, 'Firmicutes_Bacilli_Lactobacillales_Aerococcaceae': 0.33465581025183855, 'Firmicutes_Bacilli_Lactobacillales_Carnobacteriaceae': 0.4723395820979358, 'Firmicutes_Bacilli_Lactobacillales_Enterococcaceae': 0.38929599855617214, 'Firmicutes_Bacilli_Lactobacillales_Lactobacillaceae': 0.6015951600381655, 'Firmicutes_Bacilli_Lactobacillales_Leuconostocaceae': 0.3715219469564883, 'Firmicutes_Bacilli_Lactobacillales_Streptococcaceae': 0.03216853088385119, 'Firmicutes_Clostridia_Clostridiales_Clostridiaceae 1': 0.11275662713163315, 'Firmicutes_Clostridia_Clostridiales_Clostridiaceae 2': 0.5615263576118871, 'Firmicutes_Clostridia_Clostridiales_Clostridiaceae 3': 0.8390017101767968, 'Firmicutes_Clostridia_Clostridiales_Clostridiaceae 4': 0.3298599191106756, 'Firmicutes_Clostridia_Clostridiales_Clostridiales_Incertae Sedis IV': 0.20930811915085423, 'Firmicutes_Clostridia_Clostridiales_Clostridiales_Incertae Sedis XI': 0.38302070971656454, 'Firmicutes_Clostridia_Clostridiales_Clostridiales_Incertae Sedis XII': 0.41547873651050315, 'Firmicutes_Clostridia_Clostridiales_Clostridiales_Incertae Sedis XIII': 0.008081816449889923, 'Firmicutes_Clostridia_Clostridiales_Clostridiales_incertae_sedis': 0.4551490048892596, 'Firmicutes_Clostridia_Clostridiales_Defluviitaleaceae': 0.5347077304966861, 'Firmicutes_Clostridia_Clostridiales_Eubacteriaceae': 0.6038002151061586, 'Firmicutes_Clostridia_Clostridiales_Gracilibacteraceae': 0.8951466142234316, 'Firmicutes_Clostridia_Clostridiales_Heliobacteriaceae': 0.758448963988365, 'Firmicutes_Clostridia_Clostridiales_Incertae Sedis IV': 0.5161403567286696, 'Firmicutes_Clostridia_Clostridiales_Incertae Sedis XI': 0.7496718064478644, 'Firmicutes_Clostridia_Clostridiales_Lachnospiraceae': 0.11200344047085597, 'Firmicutes_Clostridia_Clostridiales_Natranaerovirga': 0.2213670173763378, 'Firmicutes_Clostridia_Clostridiales_Peptococcaceae 1': 0.3933914907193893, 'Firmicutes_Clostridia_Clostridiales_Peptococcaceae 2': 0.24986617383702692, 'Firmicutes_Clostridia_Clostridiales_Peptostreptococcaceae': 0.7117303804768345, 'Firmicutes_Clostridia_Clostridiales_Ruminococcaceae': 0.7872596080612705, 'Firmicutes_Clostridia_Clostridiales_Syntrophomonadaceae': 0.005288050232982733, 'Firmicutes_Clostridia_Halanaerobiales_Halanaerobiaceae': 0.004313054519594073, 'Firmicutes_Clostridia_Thermoanaerobacterales_Thermodesulfobiaceae': 0.23009208493260125, 'Firmicutes_Erysipelotrichia_Erysipelotrichales_Erysipelotrichaceae': 0.8845756891760898, 'Firmicutes_Negativicutes_Selenomonadales_Acidaminococcaceae': 0.46166991081863906, 'Firmicutes_Negativicutes_Selenomonadales_Veillonellaceae': 0.0388187601937251, 'Fusobacteria_Fusobacteriia_Fusobacteriales_Fusobacteriaceae': 0.32039162678325717, 'Fusobacteria_Fusobacteriia_Fusobacteriales_Leptotrichiaceae': 0.6715271772103077, 'Lentisphaerae_Lentisphaeria_Victivallales_Victivallaceae': 0.18970317724128638, 'Parcubacteria_Parcubacteria_genera_incertae_sedis_Parcubacteria_genera_incertae_sedis_Parcubacteria_genera_incertae_sedis': 0.005288050232982733, 'Parvarchaeota_Candidatus Parvarchaeum_Candidatus Parvarchaeum_Candidatus Parvarchaeum': 4.037883808649667e-06, 'Proteobacteria_Alphaproteobacteria_Caulobacterales_Caulobacteraceae': 0.25070717098358497, 'Proteobacteria_Alphaproteobacteria_Caulobacterales_Hyphomonadaceae': 0.6968560193600635, 'Proteobacteria_Alphaproteobacteria_Kiloniellales_Kiloniellaceae': 0.829908334456734, 'Proteobacteria_Alphaproteobacteria_Magnetococcales_Magnetococcaceae': 0.039462218987168396, 'Proteobacteria_Alphaproteobacteria_Rhizobiales_Aurantimonadaceae': 0.9380773440135459, 'Proteobacteria_Alphaproteobacteria_Rhizobiales_Beijerinckiaceae': 0.21418468616415354, 'Proteobacteria_Alphaproteobacteria_Rhizobiales_Bradyrhizobiaceae': 0.758448963988365, 'Proteobacteria_Alphaproteobacteria_Rhizobiales_Brucellaceae': 0.0005391788571660339, 'Proteobacteria_Alphaproteobacteria_Rhizobiales_Hyphomicrobiaceae': 2.0207602435817762e-07, 'Proteobacteria_Alphaproteobacteria_Rhizobiales_Methylobacteriaceae': 0.4644907052244269, 'Proteobacteria_Alphaproteobacteria_Rhizobiales_Methylocystaceae': 0.37253312182197673, 'Proteobacteria_Alphaproteobacteria_Rhizobiales_Rhizobiaceae': 0.0001321397883067288, 'Proteobacteria_Alphaproteobacteria_Rhodobacterales_Rhodobacteraceae': 0.867736412076056, 'Proteobacteria_Alphaproteobacteria_Rhodospirillales_Acetobacteraceae': 0.17123033511742725, 'Proteobacteria_Alphaproteobacteria_Rhodospirillales_Rhodospirillaceae': 0.6664393385009684, 'Proteobacteria_Alphaproteobacteria_Rickettsiales_Anaplasmataceae': 0.8038550311871566, 'Proteobacteria_Alphaproteobacteria_SAR11_SAR11': 0.0034993322788072767, 'Proteobacteria_Alphaproteobacteria_Sphingomonadales_Sphingomonadaceae': 0.20534429598164883, 'Proteobacteria_Betaproteobacteria_Burkholderiales_Alcaligenaceae': 0.9898083000461219, 'Proteobacteria_Betaproteobacteria_Burkholderiales_Burkholderiaceae': 0.00032833671535581477, 'Proteobacteria_Betaproteobacteria_Burkholderiales_Burkholderiales_incertae_sedis': 0.38929599855617214, 'Proteobacteria_Betaproteobacteria_Burkholderiales_Comamonadaceae': 0.042297559269846796, 'Proteobacteria_Betaproteobacteria_Burkholderiales_Oxalobacteraceae': 0.6938569835832133, 'Proteobacteria_Betaproteobacteria_Burkholderiales_Sutterellaceae': 0.2775741700597847, 'Proteobacteria_Betaproteobacteria_Hydrogenophilales_Hydrogenophilaceae': 0.6938569835832133, 'Proteobacteria_Betaproteobacteria_Neisseriales_Neisseriaceae': 0.7696512433603411, 'Proteobacteria_Betaproteobacteria_Rhodocyclales_Rhodocyclaceae': 0.05765025221547515, 'Proteobacteria_Deltaproteobacteria_Desulfobacterales_Desulfobacteraceae': 0.46166991081863906, 'Proteobacteria_Deltaproteobacteria_Desulfovibrionales_Desulfovibrionaceae': 0.7428356920720487, 'Proteobacteria_Deltaproteobacteria_Myxococcales_Cystobacteraceae': 0.42765634512393147, 'Proteobacteria_Epsilonproteobacteria_Campylobacterales_Campylobacteraceae': 0.9092012987469567, 'Proteobacteria_Epsilonproteobacteria_Nautiliales_Nautiliaceae': 0.3989401175706663, 'Proteobacteria_Gammaproteobacteria_Aeromonadales_Aeromonadaceae': 0.11492973285489427, 'Proteobacteria_Gammaproteobacteria_Aeromonadales_Succinivibrionaceae': 0.27664131530580005, 'Proteobacteria_Gammaproteobacteria_Alteromonadales_Celerinatantimonadaceae': 0.29399720443806354, 'Proteobacteria_Gammaproteobacteria_Alteromonadales_Ferrimonadaceae': 0.5412268258735811, 'Proteobacteria_Gammaproteobacteria_Alteromonadales_Neiella': 0.8456083719795924, 'Proteobacteria_Gammaproteobacteria_Alteromonadales_Pseudoalteromonadaceae': 0.9410728168222363, 'Proteobacteria_Gammaproteobacteria_Candidatus Carsonella_Candidatus Carsonella': 0.6687226794304553, 'Proteobacteria_Gammaproteobacteria_Chromatiales_Chromatiaceae': 0.27260122472878745, 'Proteobacteria_Gammaproteobacteria_Chromatiales_Ectothiorhodospiraceae': 0.9322168271595199, 'Proteobacteria_Gammaproteobacteria_Enterobacteriales_Enterobacteriaceae': 0.4703187487845144, 'Proteobacteria_Gammaproteobacteria_Legionellales_Legionellaceae': 0.15422822267874958, 'Proteobacteria_Gammaproteobacteria_Methylococcales_Methylococcaceae': 0.4332513914635515, 'Proteobacteria_Gammaproteobacteria_Oceanospirillales_Halomonadaceae': 0.7117303804768345, 'Proteobacteria_Gammaproteobacteria_Orbales_Orbaceae': 0.0008242759118293197, 'Proteobacteria_Gammaproteobacteria_Pasteurellales_Pasteurellaceae': 0.05397192877357404, 'Proteobacteria_Gammaproteobacteria_Pseudomonadales_Moraxellaceae': 0.48483769040528213, 'Proteobacteria_Gammaproteobacteria_Pseudomonadales_Pseudomonadaceae': 0.15422822267874958, 'Proteobacteria_Gammaproteobacteria_Thiotrichales_Piscirickettsiaceae': 0.8065877783653936, 'Proteobacteria_Gammaproteobacteria_Thiotrichales_Thiotrichaceae': 0.7665314073261386, 'Proteobacteria_Gammaproteobacteria_Xanthomonadales_Sinobacteraceae': 0.11200344047085597, 'Proteobacteria_Gammaproteobacteria_Xanthomonadales_Xanthomonadaceae': 0.9140490336401643, 'Proteobacteria_Zetaproteobacteria_Mariprofundales_Mariprofundaceae': 0.9798094706393944, 'Spirochaetes_Spirochaetia_Spirochaetales_Brachyspiraceae': 0.07383197746321812, 'Synergistetes_Synergistia_Synergistales_Synergistaceae': 0.7044032490990391, 'Tenericutes_Mollicutes_Anaeroplasmatales_Anaeroplasmataceae': 0.4551490048892596, 'Tenericutes_Mollicutes_Haloplasmatales_Haloplasmataceae': 0.11275662713163315, 'Tenericutes_Mollicutes_Mycoplasmatales_Mycoplasmataceae': 0.015636432036509107, 'Thermodesulfobacteria_Thermodesulfobacteria_Thermodesulfobacteriales_Thermodesulfobacteriaceae': 0.27260122472878745, 'Verrucomicrobia_Verrucomicrobiae_Verrucomicrobiales_Verrucomicrobiaceae': 0.28866196833914415}\n"
     ]
    }
   ],
   "source": [
    "p_vals = {}\n",
    "for i in range(len(RelativeAbundance_HE0_Good_Normal)):\n",
    "    p_vals[RelativeAbundance_HE0_Good_Normal.loc[i]['Microbe Name']] = stats.ks_2samp(RelativeAbundance_HE0_Good_Normal[RelativeAbundance_HE0_Good_Normal.columns.difference(['Microbe Name'])].loc[i].to_numpy(), RelativeAbundance_HE1_Good_Normal[RelativeAbundance_HE1_Good_Normal.columns.difference(['Microbe Name'])].loc[i].to_numpy())[1]\n",
    "print(p_vals)"
   ]
  },
  {
   "cell_type": "markdown",
   "metadata": {},
   "source": [
    "### b. Null Hypothesis of the KS Test in our Context"
   ]
  },
  {
   "cell_type": "markdown",
   "metadata": {},
   "source": [
    "#### For 'Acidobacteria_Acidobacteria_Gp1_Telmatobacter_Telmatobacter': H0 is the distribution of 'Acidobacteria_Acidobacteria_Gp1_Telmatobacter_Telmatobacter' in each sample of RelativeAbundance HE0 is the same as that of in RelativeAbundance HE1"
   ]
  },
  {
   "cell_type": "markdown",
   "metadata": {},
   "source": [
    "### c. Number of Genes with Significantly Altered Expression at Various Alpha Values"
   ]
  },
  {
   "cell_type": "code",
   "execution_count": 22,
   "metadata": {},
   "outputs": [
    {
     "name": "stdout",
     "output_type": "stream",
     "text": [
      "{0.1: 32, 0.05: 25, 0.01: 15, 0.005: 12, 0.001: 9}\n"
     ]
    }
   ],
   "source": [
    "number_of_microbes = {}\n",
    "for alpha in [0.1, 0.05, 0.01, 0.005, 0.001]:\n",
    "    number_of_microbes[alpha] = len([values for values in p_vals.values() if values <= alpha])\n",
    "print(number_of_microbes)"
   ]
  },
  {
   "cell_type": "markdown",
   "metadata": {},
   "source": [
    "## 2. Multiple Testing"
   ]
  },
  {
   "cell_type": "markdown",
   "metadata": {},
   "source": [
    "### a. P-value"
   ]
  },
  {
   "cell_type": "markdown",
   "metadata": {},
   "source": [
    "#### The probability of the distribution of microbes in HE0 sample and that of HE1 sample are different at least as extreme as the results actually observed during the KS test, assuming that the two distribution are the same, is less than 0.05."
   ]
  },
  {
   "cell_type": "markdown",
   "metadata": {},
   "source": [
    "### b. P-value Distribution"
   ]
  },
  {
   "cell_type": "markdown",
   "metadata": {},
   "source": [
    "#### Uniform"
   ]
  },
  {
   "cell_type": "markdown",
   "metadata": {},
   "source": [
    "### c. Expected Number of Significant p-values"
   ]
  },
  {
   "cell_type": "code",
   "execution_count": 23,
   "metadata": {},
   "outputs": [
    {
     "name": "stdout",
     "output_type": "stream",
     "text": [
      "{0.1: 11.5, 0.05: 5.75, 0.01: 1.1500000000000001, 0.005: 0.5750000000000001, 0.001: 0.115}\n"
     ]
    }
   ],
   "source": [
    "expected_number_of_microbes = {}\n",
    "for alpha in [0.1, 0.05, 0.01, 0.005, 0.001]:\n",
    "    expected_number_of_microbes[alpha] = len(RelativeAbundance_HE0_Good_Normal.columns) * alpha\n",
    "print(expected_number_of_microbes)"
   ]
  },
  {
   "cell_type": "markdown",
   "metadata": {},
   "source": [
    "### d. Q-Q plot of p-values"
   ]
  },
  {
   "cell_type": "markdown",
   "metadata": {},
   "source": [
    "#### i. "
   ]
  },
  {
   "cell_type": "code",
   "execution_count": 24,
   "metadata": {},
   "outputs": [
    {
     "name": "stdout",
     "output_type": "stream",
     "text": [
      "[5.81641047e-01 1.27383782e-01 6.31538874e-01 2.62995272e-01\n",
      " 8.26114599e-01 7.20454139e-01 1.09069107e-01 9.30765588e-04\n",
      " 5.12016921e-01 9.78292755e-01 6.31731878e-01 9.88914025e-01\n",
      " 6.65162519e-01 9.86690081e-02 2.51278553e-01 6.02856885e-01\n",
      " 2.72102730e-01 2.42843344e-01 6.72715814e-01 1.24807758e-01\n",
      " 4.94457144e-01 6.05689483e-02 7.41215365e-01 6.32454457e-01\n",
      " 1.02685428e-01 7.25860819e-01 9.68416503e-01 9.54464015e-01\n",
      " 5.70557940e-01 9.73802706e-02 8.29806823e-01 9.04020944e-01\n",
      " 8.18731516e-01 6.60663027e-01 4.78074505e-01 8.64568374e-01\n",
      " 1.13282390e-01 5.13976922e-01 5.03001372e-01 8.63284361e-01\n",
      " 4.23827590e-01 5.17796607e-02 7.31374342e-01 2.75601874e-01\n",
      " 6.58454289e-01 4.56978027e-01 5.45974644e-01 4.96150687e-01\n",
      " 2.59457471e-01 3.38713267e-01 7.45621751e-01 8.41736536e-01\n",
      " 4.57603259e-01 9.96083666e-01 5.79623279e-01 3.13057695e-01\n",
      " 8.46384411e-01 1.66048171e-01 4.19810136e-01 7.55862570e-01\n",
      " 3.45530499e-01 3.39946675e-01 3.30385949e-02 4.55007323e-01\n",
      " 7.77601563e-02 5.20994006e-01 8.57880043e-01 9.90245305e-01\n",
      " 4.48542562e-01 9.24089849e-01 9.75896158e-01 3.60917990e-01\n",
      " 7.88437833e-01 9.30802486e-01 1.17750383e-01 3.70655250e-01\n",
      " 1.86797288e-02 9.60576640e-01 6.19236156e-01 3.53435265e-01\n",
      " 5.78566549e-01 3.06985938e-01 7.55436304e-01 2.58953171e-01\n",
      " 5.83389897e-01 3.42186708e-01 9.17324044e-01 1.75324434e-01\n",
      " 4.70998905e-01 5.51656013e-01 9.19398241e-02 8.81858106e-01\n",
      " 8.79106300e-01 5.51243168e-01 4.72570760e-01 4.46978571e-01\n",
      " 3.83634610e-01 6.54825496e-01 8.92613003e-01 4.21891915e-01\n",
      " 9.23703610e-02 4.96013743e-01 3.74621143e-01 3.16178406e-01\n",
      " 1.88765297e-01 1.77815518e-02 1.40714287e-02 9.54989711e-02\n",
      " 1.59991194e-01 2.47251383e-01 5.99254989e-01 5.97114596e-01\n",
      " 3.02619929e-01 4.41592811e-01 9.35443388e-01 5.11412483e-01\n",
      " 7.65829522e-02 5.49126772e-01 2.85632710e-01 2.11248265e-01\n",
      " 3.69072659e-01 7.67341705e-01 6.72648222e-01 2.28840648e-01\n",
      " 2.41211342e-01 5.88103805e-01 8.15296008e-02 9.28453031e-01\n",
      " 8.17374519e-03 2.85020623e-01 4.98051212e-02 1.23085542e-01\n",
      " 2.01859172e-01 9.46479672e-01 7.14373894e-01 8.70504588e-02\n",
      " 6.85461212e-02 4.60102226e-02 6.34999998e-01 2.98313362e-01\n",
      " 3.25643483e-01 4.97748794e-01 9.90758029e-01 5.22489372e-01\n",
      " 8.60115714e-01 8.52682881e-02 3.90671074e-01 1.43883581e-01\n",
      " 9.46218862e-01]\n"
     ]
    }
   ],
   "source": [
    "from scipy.stats import uniform\n",
    "expected = uniform.rvs(size=len(RelativeAbundance_HE0_Good_Normal))\n",
    "print(expected)"
   ]
  },
  {
   "cell_type": "markdown",
   "metadata": {},
   "source": [
    "#### ii. "
   ]
  },
  {
   "cell_type": "code",
   "execution_count": 25,
   "metadata": {},
   "outputs": [
    {
     "name": "stdout",
     "output_type": "stream",
     "text": [
      "[0.16346723666175345, 0.033650563240742934, 0.10809260877357367, 0.11219747484687363, 0.17623937536228884, 0.9887411471369619, 0.015639306751652947, 1.2613318441295935, 0.5685680056555109, 0.4154638692049522, 0.795191403601331, 4.22414225733165, 0.2245993375941824, 4.731666942989902, 0.05452729752763709, 0.5369309326667621, 1.8478661005889367, 0.5874288159348873, 1.3718690820753103, 0.46806237771970893, 0.20635244822364948, 0.19733426207721036, 0.12847905402524537, 1.0184084241219988, 0.27385254472930987, 1.5111257735299473, 0.4072544981080345, 0.05452729752763709, 0.10866126428424051, 0.8207507127359064, 0.8010130309062371, 0.11056498376361264, 0.17863875328615886, 2.839973236081164, 0.34865534425741307, 0.17698422723797017, 0.32654909518682795, 0.5147747741508548, 4.395093561085343, 0.6037210142317923, 0.4013254464819884, 0.17367822556786486, 0.010536033929076755, 1.6356986044577244, 1.0363062363628188, 0.49813410436279904, 1.4014022570193228, 0.4778491832284255, 1.0363062363628188, 0.6592711398434666, 0.4754016304291746, 0.32574565898306757, 0.40972006022713786, 0.22069566639442734, 0.4300155260203212, 1.4925687725952534, 0.9478579235775558, 0.2506298534777885, 0.07623715392745113, 0.481670451858618, 0.6792139248671265, 0.41677774333563844, 0.3814511977582249, 2.0924910172570397, 0.3418464024474022, 0.27188353707455376, 0.21910673659380706, 0.04810582665791597, 0.12007363755878575, 0.28723218235738907, 0.12512882173272696, 0.9507686366641136, 0.6548870864316348, 0.40517503835054625, 0.6022925334304053, 0.14768449575541853, 0.10388203033888936, 2.2767044279922364, 2.365215052076814, 0.6380983206152255, 0.053265000532498136, 0.33566842952349146, 1.410958339365538, 0.4943188424296999, 0.1729364064150267, 0.7219253952747374, 2.2767044279922364, 5.393846182170068, 0.6008332437280185, 0.1568569442216265, 0.08096987393487858, 1.4038184977258052, 0.027761352779239905, 0.6692115837009723, 0.12007363755878575, 3.268267146139191, 6.69448521101029, 0.33302297211195386, 0.42883510819077686, 3.8789663932844225, 0.06161217824035037, 0.7664192933559834, 0.17623937536228884, 0.09482226571947694, 2.4560148171624454, 0.6875173563998112, 0.00444890872943243, 3.483680550761736, 0.40972006022713786, 1.3736846923464625, 0.1587300362329185, 0.5566209500414947, 0.1587300362329185, 0.11370602469197566, 1.2391987883597504, 0.33566842952349146, 0.12910723727267667, 0.3689050799732954, 0.041339952579453706, 0.39909228867508234, 0.9395676027793805, 0.5580829591891051, 0.5316567991895268, 0.26662068576225684, 0.07283072592941349, 0.026376771131104405, 0.1747539476473019, 0.5644721973210101, 0.03048306201642557, 0.3276077081955351, 0.8118361461805939, 0.3632600337981844, 0.14768449575541853, 3.0839273915459158, 1.267832061446508, 0.3144036262617778, 0.8118361461805939, 0.09334836282515407, 0.11547004596421664, 0.9507686366641136, 0.039030506160959995, 0.008858367057121272, 1.1317554995869765, 0.15217864949276538, 0.3418464024474022, 0.9478579235775558, 1.8058623384649295, 0.5644721973210101, 0.5396104313200615] [0.23534495231549404, 0.8948858602578538, 0.1995999116650326, 0.5800520594239189, 0.08295970317070012, 0.14239365957365624, 0.9622982416415923, 3.0311596815518747, 0.2907156862927005, 0.009531162853861954, 0.19946720767841078, 0.004841463896023278, 0.17707223086103158, 1.0058192377610122, 0.5998445782074944, 0.21978577516110948, 0.5652671014542712, 0.6146737952167901, 0.17216836323283735, 0.9037584197048771, 0.3058713441858323, 1.217749966971731, 0.13005558665379754, 0.19897074272514817, 0.9884911805052058, 0.13914664531088083, 0.013937818333065377, 0.02024044072257156, 0.24370024638020238, 1.01152902317691, 0.08102299831714992, 0.04382150788360851, 0.08685849191503801, 0.18001999697660448, 0.32050441630627763, 0.06320065522180966, 0.9458375963259229, 0.2890563806368834, 0.2984308301526367, 0.06384612657894924, 0.3728107758498134, 1.2858407998378638, 0.13586027978664883, 0.5597178341564784, 0.18147436937308, 0.3401046818836771, 0.26282752631570316, 0.3043864026691272, 0.5859338193495635, 0.4701677923410643, 0.12748143166398068, 0.07482382157735902, 0.3395108916547502, 0.001704181471761146, 0.2368541808752728, 0.5043756160378129, 0.07243234437379603, 0.7797659026682195, 0.37694707977269887, 0.12155716025774471, 0.4615136126039449, 0.4685892021408471, 1.4809784305934586, 0.34198161381371484, 1.109242875143629, 0.2831672728263883, 0.06657343506695315, 0.0042572081409360685, 0.34819634077269024, 0.034285800422122384, 0.010596391747199622, 0.4425914697744835, 0.10323254448337038, 0.031142465421673215, 0.9290376730568554, 0.4310298444923012, 1.7286294340773813, 0.017467979161238132, 0.2081436938953291, 0.4516901191629209, 0.23764667964534683, 0.512881517276156, 0.12180214792762005, 0.5867787658720515, 0.23404109651714353, 0.46573686464216707, 0.03747722322608242, 0.756157553385676, 0.32698010234125574, 0.25833164400372627, 1.036496331379508, 0.05460128882337659, 0.05595860755233682, 0.2586567798376963, 0.32553315388794946, 0.34971329761030423, 0.41608221965151027, 0.18387441944683372, 0.04933679083592937, 0.37479879678643635, 1.0344673590976092, 0.3045062904741497, 0.426407715076184, 0.5000677945087677, 0.7240778433507704, 1.7500303418241254, 1.8516618068338924, 1.0200013075294376, 0.7959039192283704, 0.6068612707834603, 0.2223883418353529, 0.22394231239147216, 0.5191024745339446, 0.3549780055990282, 0.028982490533291983, 0.29122867586605033, 1.1158678962903197, 0.26032738231869246, 0.5441920592326214, 0.675206849602231, 0.4328881265153272, 0.11501119707615226, 0.17221200164782902, 0.640466830994199, 0.6176022752641118, 0.23054601053355256, 1.0886846842291737, 0.03224006183420437, 2.0875789052246594, 0.5451237154164613, 1.3027259986351254, 0.9097929569961909, 0.694951511555288, 0.02388870903668505, 0.1460744244342343, 1.0602289355474623, 1.16401711562934, 1.3371456660269545, 0.1972262759986427, 0.5253272934219562, 0.4872576094360062, 0.3029897835605859, 0.004032399524225847, 0.28192253922012855, 0.06544311785390775, 1.0692124559667724, 0.40818874332131083, 0.841988760804638, 0.024008399152448488]\n"
     ]
    }
   ],
   "source": [
    "observed = [-np.log10(i) for i in p_vals.values()]\n",
    "expected = [-np.log10(i) for i in expected]\n",
    "print(observed, expected)"
   ]
  },
  {
   "cell_type": "markdown",
   "metadata": {},
   "source": [
    "#### iii. "
   ]
  },
  {
   "cell_type": "code",
   "execution_count": 26,
   "metadata": {},
   "outputs": [
    {
     "name": "stdout",
     "output_type": "stream",
     "text": [
      "[0.00444890872943243, 0.008858367057121272, 0.010536033929076755, 0.015639306751652947, 0.026376771131104405, 0.027761352779239905, 0.03048306201642557, 0.033650563240742934, 0.039030506160959995, 0.041339952579453706, 0.04810582665791597, 0.053265000532498136, 0.05452729752763709, 0.05452729752763709, 0.06161217824035037, 0.07283072592941349, 0.07623715392745113, 0.08096987393487858, 0.09334836282515407, 0.09482226571947694, 0.10388203033888936, 0.10809260877357367, 0.10866126428424051, 0.11056498376361264, 0.11219747484687363, 0.11370602469197566, 0.11547004596421664, 0.12007363755878575, 0.12007363755878575, 0.12512882173272696, 0.12847905402524537, 0.12910723727267667, 0.14768449575541853, 0.14768449575541853, 0.15217864949276538, 0.1568569442216265, 0.1587300362329185, 0.1587300362329185, 0.16346723666175345, 0.1729364064150267, 0.17367822556786486, 0.1747539476473019, 0.17623937536228884, 0.17623937536228884, 0.17698422723797017, 0.17863875328615886, 0.19733426207721036, 0.20635244822364948, 0.21910673659380706, 0.22069566639442734, 0.2245993375941824, 0.2506298534777885, 0.26662068576225684, 0.27188353707455376, 0.27385254472930987, 0.28723218235738907, 0.3144036262617778, 0.32574565898306757, 0.32654909518682795, 0.3276077081955351, 0.33302297211195386, 0.33566842952349146, 0.33566842952349146, 0.3418464024474022, 0.3418464024474022, 0.34865534425741307, 0.3632600337981844, 0.3689050799732954, 0.3814511977582249, 0.39909228867508234, 0.4013254464819884, 0.40517503835054625, 0.4072544981080345, 0.40972006022713786, 0.40972006022713786, 0.4154638692049522, 0.41677774333563844, 0.42883510819077686, 0.4300155260203212, 0.46806237771970893, 0.4754016304291746, 0.4778491832284255, 0.481670451858618, 0.4943188424296999, 0.49813410436279904, 0.5147747741508548, 0.5316567991895268, 0.5369309326667621, 0.5396104313200615, 0.5566209500414947, 0.5580829591891051, 0.5644721973210101, 0.5644721973210101, 0.5685680056555109, 0.5874288159348873, 0.6008332437280185, 0.6022925334304053, 0.6037210142317923, 0.6380983206152255, 0.6548870864316348, 0.6592711398434666, 0.6692115837009723, 0.6792139248671265, 0.6875173563998112, 0.7219253952747374, 0.7664192933559834, 0.795191403601331, 0.8010130309062371, 0.8118361461805939, 0.8118361461805939, 0.8207507127359064, 0.9395676027793805, 0.9478579235775558, 0.9478579235775558, 0.9507686366641136, 0.9507686366641136, 0.9887411471369619, 1.0184084241219988, 1.0363062363628188, 1.0363062363628188, 1.1317554995869765, 1.2391987883597504, 1.2613318441295935, 1.267832061446508, 1.3718690820753103, 1.3736846923464625, 1.4014022570193228, 1.4038184977258052, 1.410958339365538, 1.4925687725952534, 1.5111257735299473, 1.6356986044577244, 1.8058623384649295, 1.8478661005889367, 2.0924910172570397, 2.2767044279922364, 2.2767044279922364, 2.365215052076814, 2.4560148171624454, 2.839973236081164, 3.0839273915459158, 3.268267146139191, 3.483680550761736, 3.8789663932844225, 4.22414225733165, 4.395093561085343, 4.731666942989902, 5.393846182170068, 6.69448521101029] [0.001704181471761146, 0.004032399524225847, 0.0042572081409360685, 0.004841463896023278, 0.009531162853861954, 0.010596391747199622, 0.013937818333065377, 0.017467979161238132, 0.02024044072257156, 0.02388870903668505, 0.024008399152448488, 0.028982490533291983, 0.031142465421673215, 0.03224006183420437, 0.034285800422122384, 0.03747722322608242, 0.04382150788360851, 0.04933679083592937, 0.05460128882337659, 0.05595860755233682, 0.06320065522180966, 0.06384612657894924, 0.06544311785390775, 0.06657343506695315, 0.07243234437379603, 0.07482382157735902, 0.08102299831714992, 0.08295970317070012, 0.08685849191503801, 0.10323254448337038, 0.11501119707615226, 0.12155716025774471, 0.12180214792762005, 0.12748143166398068, 0.13005558665379754, 0.13586027978664883, 0.13914664531088083, 0.14239365957365624, 0.1460744244342343, 0.17216836323283735, 0.17221200164782902, 0.17707223086103158, 0.18001999697660448, 0.18147436937308, 0.18387441944683372, 0.1972262759986427, 0.19897074272514817, 0.19946720767841078, 0.1995999116650326, 0.2081436938953291, 0.21978577516110948, 0.2223883418353529, 0.22394231239147216, 0.23054601053355256, 0.23404109651714353, 0.23534495231549404, 0.2368541808752728, 0.23764667964534683, 0.24370024638020238, 0.25833164400372627, 0.2586567798376963, 0.26032738231869246, 0.26282752631570316, 0.28192253922012855, 0.2831672728263883, 0.2890563806368834, 0.2907156862927005, 0.29122867586605033, 0.2984308301526367, 0.3029897835605859, 0.3043864026691272, 0.3045062904741497, 0.3058713441858323, 0.32050441630627763, 0.32553315388794946, 0.32698010234125574, 0.3395108916547502, 0.3401046818836771, 0.34198161381371484, 0.34819634077269024, 0.34971329761030423, 0.3549780055990282, 0.3728107758498134, 0.37479879678643635, 0.37694707977269887, 0.40818874332131083, 0.41608221965151027, 0.426407715076184, 0.4310298444923012, 0.4328881265153272, 0.4425914697744835, 0.4516901191629209, 0.4615136126039449, 0.46573686464216707, 0.4685892021408471, 0.4701677923410643, 0.4872576094360062, 0.5000677945087677, 0.5043756160378129, 0.512881517276156, 0.5191024745339446, 0.5253272934219562, 0.5441920592326214, 0.5451237154164613, 0.5597178341564784, 0.5652671014542712, 0.5800520594239189, 0.5859338193495635, 0.5867787658720515, 0.5998445782074944, 0.6068612707834603, 0.6146737952167901, 0.6176022752641118, 0.640466830994199, 0.675206849602231, 0.694951511555288, 0.7240778433507704, 0.756157553385676, 0.7797659026682195, 0.7959039192283704, 0.841988760804638, 0.8948858602578538, 0.9037584197048771, 0.9097929569961909, 0.9290376730568554, 0.9458375963259229, 0.9622982416415923, 0.9884911805052058, 1.0058192377610122, 1.01152902317691, 1.0200013075294376, 1.0344673590976092, 1.036496331379508, 1.0602289355474623, 1.0692124559667724, 1.0886846842291737, 1.109242875143629, 1.1158678962903197, 1.16401711562934, 1.217749966971731, 1.2858407998378638, 1.3027259986351254, 1.3371456660269545, 1.4809784305934586, 1.7286294340773813, 1.7500303418241254, 1.8516618068338924, 2.0875789052246594, 3.0311596815518747]\n"
     ]
    }
   ],
   "source": [
    "observed.sort()\n",
    "expected.sort()\n",
    "print(observed, expected)"
   ]
  },
  {
   "cell_type": "markdown",
   "metadata": {},
   "source": [
    "#### iv. "
   ]
  },
  {
   "cell_type": "code",
   "execution_count": 27,
   "metadata": {},
   "outputs": [
    {
     "data": {
      "text/plain": [
       "<matplotlib.axes._subplots.AxesSubplot at 0x1c1e2a69f48>"
      ]
     },
     "execution_count": 27,
     "metadata": {},
     "output_type": "execute_result"
    },
    {
     "data": {
      "image/png": "[encoded data removed]",
      "text/plain": [
       "<Figure size 432x288 with 1 Axes>"
      ]
     },
     "metadata": {},
     "output_type": "display_data"
    }
   ],
   "source": [
    "data = pd.DataFrame(list(zip([expected[0]], [observed[0]])), columns =['expected', 'observed'])\n",
    "sns.scatterplot(x = 'expected', y = 'observed', data = data)"
   ]
  },
  {
   "cell_type": "markdown",
   "metadata": {},
   "source": [
    "#### v. "
   ]
  },
  {
   "cell_type": "code",
   "execution_count": 28,
   "metadata": {},
   "outputs": [
    {
     "data": {
      "text/plain": [
       "<matplotlib.axes._subplots.AxesSubplot at 0x1c1e292d988>"
      ]
     },
     "execution_count": 28,
     "metadata": {},
     "output_type": "execute_result"
    },
    {
     "data": {
      "image/png": "[encoded data removed]",
      "text/plain": [
       "<Figure size 432x288 with 1 Axes>"
      ]
     },
     "metadata": {},
     "output_type": "display_data"
    }
   ],
   "source": [
    "data = pd.DataFrame(list(zip(expected, observed)), columns =['expected', 'observed'])\n",
    "sns.scatterplot(x = 'expected', y = 'observed', data = data)"
   ]
  },
  {
   "cell_type": "markdown",
   "metadata": {},
   "source": [
    "#### vi. "
   ]
  },
  {
   "cell_type": "code",
   "execution_count": 29,
   "metadata": {},
   "outputs": [
    {
     "data": {
      "text/plain": [
       "<matplotlib.axes._subplots.AxesSubplot at 0x1c1e28919c8>"
      ]
     },
     "execution_count": 29,
     "metadata": {},
     "output_type": "execute_result"
    },
    {
     "data": {
      "image/png": "[encoded data removed]",
      "text/plain": [
       "<Figure size 432x288 with 1 Axes>"
      ]
     },
     "metadata": {},
     "output_type": "display_data"
    }
   ],
   "source": [
    "data = pd.DataFrame(list(zip(expected, observed)), columns =['expected', 'observed'])\n",
    "sns.scatterplot(x = 'expected', y = 'observed', data = data)\n",
    "\n",
    "x_pred = np.linspace(data['expected'].min() - 1, data['expected'].max() + 1, 50)\n",
    "y_pred = x_pred\n",
    "\n",
    "sns.lineplot(x=x_pred, y=y_pred)"
   ]
  },
  {
   "cell_type": "markdown",
   "metadata": {},
   "source": [
    "### e. Follow-up Questions"
   ]
  },
  {
   "cell_type": "markdown",
   "metadata": {},
   "source": [
    "#### i. "
   ]
  },
  {
   "cell_type": "markdown",
   "metadata": {},
   "source": [
    "#### Since p values are small, taking log helps make smaller number larger."
   ]
  },
  {
   "cell_type": "markdown",
   "metadata": {},
   "source": [
    "#### ii. "
   ]
  },
  {
   "cell_type": "markdown",
   "metadata": {},
   "source": [
    "#### Data are not linear, & doesn't align with the x=y line, which means that expected and observed are not the same."
   ]
  },
  {
   "cell_type": "markdown",
   "metadata": {},
   "source": [
    "# Task 3: Dimensionality Reduction and Clustering"
   ]
  },
  {
   "cell_type": "markdown",
   "metadata": {},
   "source": [
    "## 1. PCA"
   ]
  },
  {
   "cell_type": "markdown",
   "metadata": {},
   "source": [
    "### a. Performing PCA"
   ]
  },
  {
   "cell_type": "code",
   "execution_count": 139,
   "metadata": {},
   "outputs": [
    {
     "name": "stdout",
     "output_type": "stream",
     "text": [
      "[0.083, 0.034, 0.032, 0.03, 0.028, 0.027, 0.026, 0.025, 0.024, 0.023, 0.023, 0.021, 0.02, 0.02, 0.019, 0.019, 0.018, 0.017, 0.017, 0.016, 0.016, 0.016, 0.015, 0.015, 0.014, 0.014, 0.013, 0.013, 0.013, 0.012, 0.012, 0.011, 0.011, 0.011, 0.01, 0.01, 0.01, 0.01, 0.009, 0.009, 0.009, 0.008, 0.008, 0.008, 0.008, 0.007, 0.007, 0.007, 0.007, 0.007, 0.006, 0.006, 0.006, 0.006, 0.006, 0.006, 0.006, 0.005, 0.005, 0.005, 0.005, 0.005, 0.004, 0.004, 0.004, 0.004, 0.004, 0.004, 0.004, 0.003, 0.003, 0.003, 0.003, 0.003, 0.003, 0.003, 0.003, 0.002, 0.002, 0.002, 0.002, 0.002, 0.002, 0.002, 0.002, 0.002, 0.002, 0.001, 0.001, 0.001, 0.001, 0.001, 0.001, 0.001, 0.001, 0.001, 0.001, 0.001, 0.001, 0.001, 0.001, 0.001, 0.001, 0.0, 0.0, 0.0, 0.0, 0.0, 0.0, 0.0, 0.0, 0.0, 0.0, 0.0]\n",
      "\n",
      "Explain 30%:\n",
      "0.30900000000000005\n",
      "9\n"
     ]
    }
   ],
   "source": [
    "X = np.transpose(RelativeAbundance_HE0_Good_Normal[RelativeAbundance_HE0_Good_Normal.columns.difference(['Microbe Name'])].to_numpy())#2d array\n",
    "\n",
    "pca0 = PCA(n_components=114, svd_solver='full')\n",
    "pca0.fit(X)\n",
    "\n",
    "ratio = []\n",
    "for i in pca0.explained_variance_ratio_:\n",
    "    ratio.append(np.round(i,3))\n",
    "print(ratio)\n",
    "\n",
    "print()\n",
    "\n",
    "print('Explain 30%:')\n",
    "print(sum([0.083, 0.034, 0.032, 0.03, 0.028, 0.027, 0.026, 0.025, 0.024]))\n",
    "print(len([0.083, 0.034, 0.032, 0.03, 0.028, 0.027, 0.026, 0.025, 0.024]))"
   ]
  },
  {
   "cell_type": "code",
   "execution_count": 147,
   "metadata": {},
   "outputs": [
    {
     "name": "stdout",
     "output_type": "stream",
     "text": [
      "[0.294, 0.046, 0.023, 0.023, 0.021, 0.02, 0.019, 0.019, 0.018, 0.018, 0.017, 0.016, 0.015, 0.015, 0.014, 0.014, 0.013, 0.013, 0.013, 0.012, 0.012, 0.011, 0.01, 0.01, 0.01, 0.01, 0.01, 0.009, 0.009, 0.009, 0.008, 0.008, 0.008, 0.008, 0.008, 0.007, 0.007, 0.007, 0.007, 0.006, 0.006, 0.006, 0.006, 0.006, 0.006, 0.005, 0.005, 0.005, 0.005, 0.005, 0.005, 0.005, 0.004, 0.004, 0.004, 0.004, 0.004, 0.004, 0.004, 0.004, 0.003, 0.003, 0.003, 0.003, 0.003, 0.003, 0.003, 0.003, 0.003, 0.003, 0.002, 0.002, 0.002, 0.002, 0.002, 0.002, 0.002, 0.002, 0.002, 0.002, 0.002, 0.002, 0.002, 0.002, 0.002, 0.001, 0.001, 0.001, 0.001, 0.001, 0.001, 0.001, 0.001, 0.001, 0.001, 0.001, 0.001, 0.001, 0.001, 0.001, 0.001, 0.001, 0.001, 0.001, 0.0, 0.0, 0.0, 0.0, 0.0, 0.0, 0.0, 0.0, 0.0, 0.0, 0.0, 0.0, 0.0, 0.0, 0.0, 0.0, 0.0, 0.0, 0.0, 0.0, 0.0, 0.0, 0.0]\n",
      "\n",
      "Explain 30%:\n",
      "0.33999999999999997\n",
      "2\n"
     ]
    }
   ],
   "source": [
    "X = np.transpose(RelativeAbundance_HE1_Good_Normal[RelativeAbundance_HE1_Good_Normal.columns.difference(['Microbe Name'])].to_numpy())#2d array\n",
    "\n",
    "pca1 = PCA(n_components=127, svd_solver='full')\n",
    "pca1.fit(X)\n",
    "\n",
    "ratio = []\n",
    "for i in pca1.explained_variance_ratio_:\n",
    "    ratio.append(np.round(i,3))\n",
    "print(ratio)\n",
    "\n",
    "print()\n",
    "\n",
    "print('Explain 30%:')\n",
    "print(sum([0.294, 0.046]))\n",
    "print(len([0.294, 0.046]))"
   ]
  },
  {
   "cell_type": "markdown",
   "metadata": {},
   "source": [
    "\n",
    "### b. Ordering Components"
   ]
  },
  {
   "cell_type": "code",
   "execution_count": 130,
   "metadata": {},
   "outputs": [
    {
     "data": {
      "image/png": "[encoded data removed]",
      "text/plain": [
       "<Figure size 432x288 with 1 Axes>"
      ]
     },
     "metadata": {},
     "output_type": "display_data"
    }
   ],
   "source": [
    "plt.plot(np.cumsum(pca0.explained_variance_ratio_))\n",
    "plt.xlabel('number of components')\n",
    "plt.ylabel('cumulative explained variance')\n",
    "plt.show()"
   ]
  },
  {
   "cell_type": "markdown",
   "metadata": {},
   "source": [
    "#### Number PC needed: 9"
   ]
  },
  {
   "cell_type": "code",
   "execution_count": 131,
   "metadata": {},
   "outputs": [
    {
     "data": {
      "image/png": "[encoded data removed]",
      "text/plain": [
       "<Figure size 432x288 with 1 Axes>"
      ]
     },
     "metadata": {},
     "output_type": "display_data"
    }
   ],
   "source": [
    "plt.plot(np.cumsum(pca1.explained_variance_ratio_))\n",
    "plt.xlabel('number of components')\n",
    "plt.ylabel('cumulative explained variance')\n",
    "plt.show()"
   ]
  },
  {
   "cell_type": "markdown",
   "metadata": {},
   "source": [
    "#### Number PC needed: 2"
   ]
  },
  {
   "cell_type": "markdown",
   "metadata": {},
   "source": [
    "### c. Scatter Plot of Microbe Abundance"
   ]
  },
  {
   "cell_type": "code",
   "execution_count": 161,
   "metadata": {},
   "outputs": [
    {
     "data": {
      "text/plain": [
       "<matplotlib.axes._subplots.AxesSubplot at 0x1c1e6d4da08>"
      ]
     },
     "execution_count": 161,
     "metadata": {},
     "output_type": "execute_result"
    },
    {
     "data": {
      "image/png": "[encoded data removed]",
      "text/plain": [
       "<Figure size 432x288 with 1 Axes>"
      ]
     },
     "metadata": {},
     "output_type": "display_data"
    }
   ],
   "source": [
    "X = RelativeAbundance_HE0_Good_Normal[RelativeAbundance_HE0_Good_Normal.columns.difference(['Microbe Name'])].to_numpy()#2d array\n",
    "\n",
    "pca0 = PCA(n_components=2, svd_solver='full')\n",
    "pca0.fit_transform(X)\n",
    "\n",
    "data = pd.DataFrame(list(zip(pca0.components_[0], pca0.components_[1])), columns =['PC1', 'PC2'])\n",
    "sns.scatterplot(x = 'PC1', y = 'PC2', data = data)"
   ]
  },
  {
   "cell_type": "code",
   "execution_count": 149,
   "metadata": {},
   "outputs": [
    {
     "data": {
      "text/plain": [
       "<matplotlib.axes._subplots.AxesSubplot at 0x1c1e5a21708>"
      ]
     },
     "execution_count": 149,
     "metadata": {},
     "output_type": "execute_result"
    },
    {
     "data": {
      "image/png": "[encoded data removed]",
      "text/plain": [
       "<Figure size 432x288 with 1 Axes>"
      ]
     },
     "metadata": {},
     "output_type": "display_data"
    }
   ],
   "source": [
    "X = RelativeAbundance_HE1_Good_Normal[RelativeAbundance_HE1_Good_Normal.columns.difference(['Microbe Name'])].to_numpy()#2d array\n",
    "\n",
    "pca1 = PCA(n_components=2, svd_solver='full')\n",
    "pca1.fit_transform(X)\n",
    "\n",
    "data = pd.DataFrame(list(zip(pca1.components_[0], pca1.components_[1])), columns =['PC1', 'PC2'])\n",
    "sns.scatterplot(x = 'PC1', y = 'PC2', data = data)"
   ]
  },
  {
   "cell_type": "markdown",
   "metadata": {},
   "source": [
    "#### Oberservation: HE0 seems to have 2 clusters while HE1 seems to have 3 clusters."
   ]
  },
  {
   "cell_type": "markdown",
   "metadata": {},
   "source": [
    "## 2. t-SNE"
   ]
  },
  {
   "cell_type": "markdown",
   "metadata": {},
   "source": [
    "### a. Performing t-SNE"
   ]
  },
  {
   "cell_type": "code",
   "execution_count": 150,
   "metadata": {},
   "outputs": [
    {
     "data": {
      "text/plain": [
       "<matplotlib.axes._subplots.AxesSubplot at 0x1c1e45fb1c8>"
      ]
     },
     "execution_count": 150,
     "metadata": {},
     "output_type": "execute_result"
    },
    {
     "data": {
      "image/png": "[encoded data removed]",
      "text/plain": [
       "<Figure size 432x288 with 1 Axes>"
      ]
     },
     "metadata": {},
     "output_type": "display_data"
    }
   ],
   "source": [
    "X = RelativeAbundance_HE0_Good_Normal[RelativeAbundance_HE0_Good_Normal.columns.difference(['Microbe Name'])].to_numpy()#2d array\n",
    "X_embedded = TSNE(n_components=2, random_state=42).fit_transform(X)\n",
    "\n",
    "data = pd.DataFrame(list(zip(np.transpose(X_embedded)[0], np.transpose(X_embedded)[1])), columns =['PC1', 'PC2'])\n",
    "sns.scatterplot(x = 'PC1', y = 'PC2', data = data)"
   ]
  },
  {
   "cell_type": "code",
   "execution_count": 151,
   "metadata": {},
   "outputs": [
    {
     "data": {
      "text/plain": [
       "<matplotlib.axes._subplots.AxesSubplot at 0x1c1e5b68788>"
      ]
     },
     "execution_count": 151,
     "metadata": {},
     "output_type": "execute_result"
    },
    {
     "data": {
      "image/png": "[encoded data removed]",
      "text/plain": [
       "<Figure size 432x288 with 1 Axes>"
      ]
     },
     "metadata": {},
     "output_type": "display_data"
    }
   ],
   "source": [
    "X = RelativeAbundance_HE0_Good_Normal[RelativeAbundance_HE0_Good_Normal.columns.difference(['Microbe Name'])].to_numpy()#2d array\n",
    "X_embedded = TSNE(n_components=2, random_state=62).fit_transform(X)\n",
    "\n",
    "data = pd.DataFrame(list(zip(np.transpose(X_embedded)[0], np.transpose(X_embedded)[1])), columns =['PC1', 'PC2'])\n",
    "sns.scatterplot(x = 'PC1', y = 'PC2', data = data)"
   ]
  },
  {
   "cell_type": "code",
   "execution_count": 152,
   "metadata": {},
   "outputs": [
    {
     "data": {
      "text/plain": [
       "<matplotlib.axes._subplots.AxesSubplot at 0x1c1e4506d48>"
      ]
     },
     "execution_count": 152,
     "metadata": {},
     "output_type": "execute_result"
    },
    {
     "data": {
      "image/png": "[encoded data removed]",
      "text/plain": [
       "<Figure size 432x288 with 1 Axes>"
      ]
     },
     "metadata": {},
     "output_type": "display_data"
    }
   ],
   "source": [
    "X = RelativeAbundance_HE0_Good_Normal[RelativeAbundance_HE0_Good_Normal.columns.difference(['Microbe Name'])].to_numpy()#2d array\n",
    "X_embedded = TSNE(n_components=2, random_state=82).fit_transform(X)\n",
    "\n",
    "data = pd.DataFrame(list(zip(np.transpose(X_embedded)[0], np.transpose(X_embedded)[1])), columns =['PC1', 'PC2'])\n",
    "sns.scatterplot(x = 'PC1', y = 'PC2', data = data)"
   ]
  },
  {
   "cell_type": "code",
   "execution_count": 153,
   "metadata": {},
   "outputs": [
    {
     "data": {
      "text/plain": [
       "<matplotlib.axes._subplots.AxesSubplot at 0x1c1e4223c88>"
      ]
     },
     "execution_count": 153,
     "metadata": {},
     "output_type": "execute_result"
    },
    {
     "data": {
      "image/png": "[encoded data removed]",
      "text/plain": [
       "<Figure size 432x288 with 1 Axes>"
      ]
     },
     "metadata": {},
     "output_type": "display_data"
    }
   ],
   "source": [
    "X = RelativeAbundance_HE1_Good_Normal[RelativeAbundance_HE1_Good_Normal.columns.difference(['Microbe Name'])].to_numpy()#2d array\n",
    "X_embedded = TSNE(n_components=2, random_state=42).fit_transform(X)\n",
    "\n",
    "data = pd.DataFrame(list(zip(np.transpose(X_embedded)[0], np.transpose(X_embedded)[1])), columns =['PC1', 'PC2'])\n",
    "sns.scatterplot(x = 'PC1', y = 'PC2', data = data)"
   ]
  },
  {
   "cell_type": "code",
   "execution_count": 154,
   "metadata": {},
   "outputs": [
    {
     "data": {
      "text/plain": [
       "<matplotlib.axes._subplots.AxesSubplot at 0x1c1e5a8bc88>"
      ]
     },
     "execution_count": 154,
     "metadata": {},
     "output_type": "execute_result"
    },
    {
     "data": {
      "image/png": "[encoded data removed]",
      "text/plain": [
       "<Figure size 432x288 with 1 Axes>"
      ]
     },
     "metadata": {},
     "output_type": "display_data"
    }
   ],
   "source": [
    "X = RelativeAbundance_HE1_Good_Normal[RelativeAbundance_HE1_Good_Normal.columns.difference(['Microbe Name'])].to_numpy()#2d array\n",
    "X_embedded = TSNE(n_components=2, random_state=62).fit_transform(X)\n",
    "\n",
    "data = pd.DataFrame(list(zip(np.transpose(X_embedded)[0], np.transpose(X_embedded)[1])), columns =['PC1', 'PC2'])\n",
    "sns.scatterplot(x = 'PC1', y = 'PC2', data = data)"
   ]
  },
  {
   "cell_type": "code",
   "execution_count": 155,
   "metadata": {},
   "outputs": [
    {
     "data": {
      "text/plain": [
       "<matplotlib.axes._subplots.AxesSubplot at 0x1c1e497bcc8>"
      ]
     },
     "execution_count": 155,
     "metadata": {},
     "output_type": "execute_result"
    },
    {
     "data": {
      "image/png": "[encoded data removed]",
      "text/plain": [
       "<Figure size 432x288 with 1 Axes>"
      ]
     },
     "metadata": {},
     "output_type": "display_data"
    }
   ],
   "source": [
    "X = RelativeAbundance_HE1_Good_Normal[RelativeAbundance_HE1_Good_Normal.columns.difference(['Microbe Name'])].to_numpy()#2d array\n",
    "X_embedded = TSNE(n_components=2, random_state=82).fit_transform(X)\n",
    "\n",
    "data = pd.DataFrame(list(zip(np.transpose(X_embedded)[0], np.transpose(X_embedded)[1])), columns =['PC1', 'PC2'])\n",
    "sns.scatterplot(x = 'PC1', y = 'PC2', data = data)"
   ]
  },
  {
   "cell_type": "markdown",
   "metadata": {},
   "source": [
    "#### Oberservation: HE0 seems to have 2 clusters while HE1 seems to have 2 clusters."
   ]
  },
  {
   "cell_type": "markdown",
   "metadata": {},
   "source": [
    "### b. Comparing with PCA"
   ]
  },
  {
   "cell_type": "markdown",
   "metadata": {},
   "source": [
    "#### Oberservation: their result for HE0 are the same while for HE1: PCA suggests 3 clusters v.s. 2 suggested by t-SNE."
   ]
  },
  {
   "cell_type": "markdown",
   "metadata": {},
   "source": [
    "## 3. Clustering"
   ]
  },
  {
   "cell_type": "markdown",
   "metadata": {},
   "source": [
    "### a. K-Means"
   ]
  },
  {
   "cell_type": "code",
   "execution_count": 159,
   "metadata": {},
   "outputs": [
    {
     "data": {
      "image/png": "[encoded data removed]",
      "text/plain": [
       "<Figure size 432x288 with 1 Axes>"
      ]
     },
     "metadata": {},
     "output_type": "display_data"
    }
   ],
   "source": [
    "X = np.transpose(pca0.components_)\n",
    "kmeans0 = KMeans(n_clusters=2, random_state=0).fit(X)\n",
    "\n",
    "fig, ax = plt.subplots()\n",
    "colors = ['tab:blue', 'tab:green']\n",
    "for i in range(2):\n",
    "    for j in range(len(X)):\n",
    "        if kmeans0.labels_[j] == i:\n",
    "            ax.scatter(X[j][0], X[j][1], c=colors[i])\n",
    "plt.show()"
   ]
  },
  {
   "cell_type": "code",
   "execution_count": 162,
   "metadata": {},
   "outputs": [
    {
     "data": {
      "image/png": "[encoded data removed]",
      "text/plain": [
       "<Figure size 432x288 with 1 Axes>"
      ]
     },
     "metadata": {},
     "output_type": "display_data"
    }
   ],
   "source": [
    "X = np.transpose(pca1.components_)\n",
    "kmeans1 = KMeans(n_clusters=3, random_state=0).fit(X)\n",
    "\n",
    "fig, ax = plt.subplots()\n",
    "colors = ['tab:blue', 'tab:green', 'tab:red']\n",
    "for i in range(3):\n",
    "    for j in range(len(X)):\n",
    "        if kmeans1.labels_[j] == i:\n",
    "            ax.scatter(X[j][0], X[j][1], c=colors[i])\n",
    "plt.show()"
   ]
  },
  {
   "cell_type": "markdown",
   "metadata": {},
   "source": [
    "### b. GMM"
   ]
  },
  {
   "cell_type": "code",
   "execution_count": 163,
   "metadata": {},
   "outputs": [
    {
     "data": {
      "image/png": "[encoded data removed]",
      "text/plain": [
       "<Figure size 432x288 with 1 Axes>"
      ]
     },
     "metadata": {},
     "output_type": "display_data"
    }
   ],
   "source": [
    "X = np.transpose(pca0.components_)\n",
    "gmm0 = GaussianMixture(n_components=2).fit(X)\n",
    "labels0 = gmm0.predict(X)\n",
    "\n",
    "fig, ax = plt.subplots()\n",
    "colors = ['tab:blue', 'tab:green']\n",
    "for i in range(2):\n",
    "    for j in range(len(X)):\n",
    "        if labels0[j] == i:\n",
    "            ax.scatter(X[j][0], X[j][1], c=colors[i])\n",
    "plt.show()"
   ]
  },
  {
   "cell_type": "code",
   "execution_count": 166,
   "metadata": {},
   "outputs": [
    {
     "data": {
      "image/png": "[encoded data removed]",
      "text/plain": [
       "<Figure size 432x288 with 1 Axes>"
      ]
     },
     "metadata": {},
     "output_type": "display_data"
    }
   ],
   "source": [
    "X = np.transpose(pca1.components_)\n",
    "gmm1 = GaussianMixture(n_components=3).fit(X)\n",
    "labels1 = gmm1.predict(X)\n",
    "\n",
    "fig, ax = plt.subplots()\n",
    "colors = ['tab:blue', 'tab:green', 'tab:red']\n",
    "for i in range(3):\n",
    "    for j in range(len(X)):\n",
    "        if labels1[j] == i:\n",
    "            ax.scatter(X[j][0], X[j][1], c=colors[i])\n",
    "plt.show()"
   ]
  },
  {
   "cell_type": "markdown",
   "metadata": {},
   "source": [
    "### c. Single and Complete Linkage Hierarchical"
   ]
  },
  {
   "cell_type": "code",
   "execution_count": 167,
   "metadata": {},
   "outputs": [
    {
     "data": {
      "image/png": "[encoded data removed]",
      "text/plain": [
       "<Figure size 432x288 with 1 Axes>"
      ]
     },
     "metadata": {},
     "output_type": "display_data"
    }
   ],
   "source": [
    "X = np.transpose(pca0.components_)\n",
    "cluster0 = AgglomerativeClustering(n_clusters=2, affinity='euclidean', linkage='single')\n",
    "cluster0.fit_predict(X)\n",
    "\n",
    "fig, ax = plt.subplots()\n",
    "colors = ['tab:blue', 'tab:green']\n",
    "for i in range(2):\n",
    "    for j in range(len(X)):\n",
    "        if cluster0.labels_[j] == i:\n",
    "            ax.scatter(X[j][0], X[j][1], c=colors[i])\n",
    "plt.show()"
   ]
  },
  {
   "cell_type": "code",
   "execution_count": 168,
   "metadata": {},
   "outputs": [
    {
     "data": {
      "image/png": "[encoded data removed]",
      "text/plain": [
       "<Figure size 432x288 with 1 Axes>"
      ]
     },
     "metadata": {},
     "output_type": "display_data"
    }
   ],
   "source": [
    "X = np.transpose(pca0.components_)\n",
    "cluster0 = AgglomerativeClustering(n_clusters=2, affinity='euclidean', linkage='complete')\n",
    "cluster0.fit_predict(X)\n",
    "\n",
    "fig, ax = plt.subplots()\n",
    "colors = ['tab:blue', 'tab:green']\n",
    "for i in range(2):\n",
    "    for j in range(len(X)):\n",
    "        if cluster0.labels_[j] == i:\n",
    "            ax.scatter(X[j][0], X[j][1], c=colors[i])\n",
    "plt.show()"
   ]
  },
  {
   "cell_type": "code",
   "execution_count": 169,
   "metadata": {},
   "outputs": [
    {
     "data": {
      "image/png": "[encoded data removed]",
      "text/plain": [
       "<Figure size 432x288 with 1 Axes>"
      ]
     },
     "metadata": {},
     "output_type": "display_data"
    }
   ],
   "source": [
    "X = np.transpose(pca1.components_)\n",
    "cluster0 = AgglomerativeClustering(n_clusters=3, affinity='euclidean', linkage='single')\n",
    "cluster0.fit_predict(X)\n",
    "\n",
    "fig, ax = plt.subplots()\n",
    "colors = ['tab:blue', 'tab:green', 'tab:red']\n",
    "for i in range(3):\n",
    "    for j in range(len(X)):\n",
    "        if cluster0.labels_[j] == i:\n",
    "            ax.scatter(X[j][0], X[j][1], c=colors[i])\n",
    "plt.show()"
   ]
  },
  {
   "cell_type": "code",
   "execution_count": 170,
   "metadata": {},
   "outputs": [
    {
     "data": {
      "image/png": "[encoded data removed]",
      "text/plain": [
       "<Figure size 432x288 with 1 Axes>"
      ]
     },
     "metadata": {},
     "output_type": "display_data"
    }
   ],
   "source": [
    "X = np.transpose(pca1.components_)\n",
    "cluster0 = AgglomerativeClustering(n_clusters=3, affinity='euclidean', linkage='complete')\n",
    "cluster0.fit_predict(X)\n",
    "\n",
    "fig, ax = plt.subplots()\n",
    "colors = ['tab:blue', 'tab:green', 'tab:red']\n",
    "for i in range(3):\n",
    "    for j in range(len(X)):\n",
    "        if cluster0.labels_[j] == i:\n",
    "            ax.scatter(X[j][0], X[j][1], c=colors[i])\n",
    "plt.show()"
   ]
  },
  {
   "cell_type": "markdown",
   "metadata": {},
   "source": [
    "### d. Single vs Complete Link Hierarchical Clustering"
   ]
  },
  {
   "cell_type": "markdown",
   "metadata": {},
   "source": [
    "#### single link perform worse than complete link."
   ]
  },
  {
   "cell_type": "markdown",
   "metadata": {},
   "source": [
    "### e. Comparing Clustering Techniques"
   ]
  },
  {
   "cell_type": "markdown",
   "metadata": {},
   "source": [
    "#### GMM perform the best follow by k-means and HC perform the worst. k-mean result will depend on the starting point, so GMM is chosen for the following analysis."
   ]
  },
  {
   "cell_type": "markdown",
   "metadata": {},
   "source": [
    "### f. What do Clusters Represent"
   ]
  },
  {
   "cell_type": "markdown",
   "metadata": {},
   "source": [
    "#### In context, what do the clusters you have found represent? What are some factors which could account for this type of clustering pattern?"
   ]
  },
  {
   "cell_type": "markdown",
   "metadata": {},
   "source": [
    "### g. Deciding on Number of Clusters"
   ]
  },
  {
   "cell_type": "markdown",
   "metadata": {},
   "source": [
    "#### Based on your process for deciding the number of clusters to partition the data into, what situations or factors might result in your decision being inaccurate?"
   ]
  },
  {
   "cell_type": "markdown",
   "metadata": {},
   "source": [
    "# Task 4: Interpreting Results"
   ]
  },
  {
   "cell_type": "code",
   "execution_count": 199,
   "metadata": {
    "scrolled": true
   },
   "outputs": [
    {
     "name": "stdout",
     "output_type": "stream",
     "text": [
      "(56, 149)\n",
      "(58, 149)\n",
      "{0: array([[0.00420757, 0.01472651, 0.00350631, ..., 0.01051893, 0.00508415,\n",
      "        0.00473352],\n",
      "       [0.00364837, 0.01372481, 0.00451703, ..., 0.01059764, 0.00486449,\n",
      "        0.0038221 ],\n",
      "       [0.00293559, 0.01346918, 0.003799  , ..., 0.0103609 , 0.00431704,\n",
      "        0.00448973],\n",
      "       ...,\n",
      "       [0.00558757, 0.01396892, 0.00471451, ..., 0.01152436, 0.00558757,\n",
      "        0.00506373],\n",
      "       [0.0044287 , 0.01116032, 0.00336581, ..., 0.00974314, 0.00549159,\n",
      "        0.00372011],\n",
      "       [0.00427731, 0.01194083, 0.00463376, ..., 0.01229727, 0.00445553,\n",
      "        0.00409909]]), 1: array([[0.00282486, 0.00922787, 0.00564972, ..., 0.01148776, 0.00433145,\n",
      "        0.00508475],\n",
      "       [0.00460914, 0.01161504, 0.00350295, ..., 0.00995575, 0.00571534,\n",
      "        0.00368732],\n",
      "       [0.00551775, 0.0095641 , 0.0036785 , ..., 0.0088284 , 0.00459812,\n",
      "        0.0036785 ],\n",
      "       ...,\n",
      "       [0.00475929, 0.00860333, 0.00604064, ..., 0.01116603, 0.00475929,\n",
      "        0.00457624],\n",
      "       [0.0059557 , 0.01098083, 0.00483901, ..., 0.01153918, 0.00521124,\n",
      "        0.00428066],\n",
      "       [0.00441582, 0.00901564, 0.00551978, ..., 0.01471941, 0.00459982,\n",
      "        0.00533579]])}\n"
     ]
    }
   ],
   "source": [
    "'''\n",
    "#PCA Data\n",
    "X = np.transpose(RelativeAbundance_HE0_Good_Normal[RelativeAbundance_HE0_Good_Normal.columns.difference(['Microbe Name'])].to_numpy())#2d array\n",
    "\n",
    "pca0 = PCA(n_components=50, svd_solver='full')\n",
    "pca0.fit_transform(X)\n",
    "\n",
    "X = np.transpose(pca0.components_)\n",
    "'''\n",
    "\n",
    "#non-PCA Data\n",
    "X = np.transpose(RelativeAbundance_HE0_Good_Normal[RelativeAbundance_HE0_Good_Normal.columns.difference(['Microbe Name'])].to_numpy())\n",
    "gmm0 = GaussianMixture(n_components=2).fit(X)\n",
    "labels0 = gmm0.predict(X)\n",
    "data0 = {0:[], 1:[]} #2 sub-population\n",
    "for i in range(2):\n",
    "    for j in range(len(X)):\n",
    "        if labels0[j] == i:\n",
    "            xs = []\n",
    "            for k in range(len(X[0])):\n",
    "                xs.append(X[j][k])\n",
    "            data0[i].append(xs)\n",
    "    data0[i] = np.array(data0[i])\n",
    "    print(data0[i].shape)\n",
    "print(data0)"
   ]
  },
  {
   "cell_type": "code",
   "execution_count": 200,
   "metadata": {},
   "outputs": [
    {
     "name": "stdout",
     "output_type": "stream",
     "text": [
      "(93, 149)\n",
      "(16, 149)\n",
      "(18, 149)\n",
      "{0: array([[0.00446889, 0.01306291, 0.00395325, ..., 0.01220351, 0.00429701,\n",
      "        0.00378137],\n",
      "       [0.00504108, 0.00952203, 0.00560119, ..., 0.00933532, 0.00392084,\n",
      "        0.00429425],\n",
      "       [0.00484262, 0.01452785, 0.00536147, ..., 0.01089588, 0.00242131,\n",
      "        0.00397786],\n",
      "       ...,\n",
      "       [0.00449559, 0.0151052 , 0.0037763 , ..., 0.00863154, 0.00449559,\n",
      "        0.00557454],\n",
      "       [0.00438212, 0.01262051, 0.00560911, ..., 0.01226994, 0.00525855,\n",
      "        0.00385627],\n",
      "       [0.0033284 , 0.01053994, 0.0049926 , ..., 0.01220414, 0.00573225,\n",
      "        0.0033284 ]]), 1: array([[0.00281294, 0.01054852, 0.00457103, ..., 0.01090014, 0.00457103,\n",
      "        0.00386779],\n",
      "       [0.00463838, 0.01030751, 0.00326404, ..., 0.01151005, 0.00395121,\n",
      "        0.00377942],\n",
      "       [0.00383743, 0.01203558, 0.00593058, ..., 0.01046572, 0.00540729,\n",
      "        0.00383743],\n",
      "       ...,\n",
      "       [0.00410348, 0.01231044, 0.00499554, ..., 0.01106155, 0.00517395,\n",
      "        0.00428189],\n",
      "       [0.00540541, 0.01133391, 0.00348736, ..., 0.01220575, 0.00348736,\n",
      "        0.00366173],\n",
      "       [0.00513002, 0.01220591, 0.00548381, ..., 0.01202901, 0.00513002,\n",
      "        0.00513002]]), 2: array([[0.00480439, 0.00995196, 0.00446122, ..., 0.01098147, 0.00463281,\n",
      "        0.00377488],\n",
      "       [0.00384952, 0.00839895, 0.0040245 , ..., 0.01207349, 0.0040245 ,\n",
      "        0.00489939],\n",
      "       [0.00579965, 0.00896309, 0.00421793, ..., 0.01001757, 0.00492091,\n",
      "        0.00369069],\n",
      "       ...,\n",
      "       [0.00368163, 0.00876578, 0.0045582 , ..., 0.0101683 , 0.00473352,\n",
      "        0.00420757],\n",
      "       [0.00467694, 0.01160575, 0.0043305 , ..., 0.01125931, 0.0051966 ,\n",
      "        0.00467694],\n",
      "       [0.00411008, 0.01179414, 0.00482487, ..., 0.00947105, 0.00411008,\n",
      "        0.00393138]])}\n"
     ]
    }
   ],
   "source": [
    "'''\n",
    "#PCA Data\n",
    "X = np.transpose(RelativeAbundance_HE1_Good_Normal[RelativeAbundance_HE1_Good_Normal.columns.difference(['Microbe Name'])].to_numpy())#2d array\n",
    "\n",
    "pca1 = PCA(n_components=50, svd_solver='full')\n",
    "pca1.fit_transform(X)\n",
    "\n",
    "X = np.transpose(pca1.components_)\n",
    "'''\n",
    "\n",
    "#non-PCA Data\n",
    "X = np.transpose(RelativeAbundance_HE1_Good_Normal[RelativeAbundance_HE1_Good_Normal.columns.difference(['Microbe Name'])].to_numpy())\n",
    "gmm1 = GaussianMixture(n_components=3).fit(X)\n",
    "labels1 = gmm1.predict(X)\n",
    "\n",
    "data1 = {0:[], 1:[], 2:[]} #3 sub-population\n",
    "for i in range(3):\n",
    "    for j in range(len(X)):\n",
    "        if labels1[j] == i:\n",
    "            xs = []\n",
    "            for k in range(len(X[0])):\n",
    "                xs.append(X[j][k])\n",
    "            data1[i].append(xs)\n",
    "    data1[i] = np.array(data1[i])\n",
    "    print(data1[i].shape)\n",
    "print(data1)"
   ]
  },
  {
   "cell_type": "markdown",
   "metadata": {},
   "source": [
    "## 1. Identify Microbes with Altered Abundance Levels"
   ]
  },
  {
   "cell_type": "markdown",
   "metadata": {},
   "source": [
    "### a. Determine if each HE1 Subpopulation shows altered abundance levels"
   ]
  },
  {
   "cell_type": "code",
   "execution_count": 203,
   "metadata": {},
   "outputs": [
    {
     "name": "stdout",
     "output_type": "stream",
     "text": [
      "{(0, 0): [0.5854787304967258, 0.40318458674467184, 0.7503094123035037, 0.8434149934222965, 0.8584850866955379, 0.45351976993312615, 0.18850190007426404, 0.7290492728892428, 0.9644290455693018, 0.4440470366694289, 0.210611511151101, 0.013128298523455761, 0.36202623720915783, 0.21851323958105984, 0.5835039269141455, 0.11291995946711397, 0.3985932007615618, 0.15389075221671067, 0.5082516066731273, 0.16225686031626596, 0.8490664882548256, 0.8276550977097151, 0.41018630144892965, 0.40318458674467184, 0.5854787304967258, 0.0009281251633843635, 0.31177543256657436, 0.028691523836083088, 0.5129834655730108, 0.36325913334751325, 0.45994835110740495, 0.3217601261746481, 0.06992534900910341, 0.34684143389068545, 0.004453420146846243, 0.3777580612905068, 0.021876839795696768, 0.32602588590932813, 0.25437128486146643, 0.9266138314426665, 0.5381765633406629, 0.8527670543421617, 0.6124060125702333, 1.1766567351800816e-05, 0.09363693242386684, 0.7050629789760441, 0.446329349482949, 0.36202623720915783, 0.9837752406948596, 0.7697182775454406, 0.5008598923332467, 0.48303747611389825, 0.34042782857831067, 0.1856765966588877, 0.11726850692311208, 0.0197425592380589, 0.07161903665168978, 0.15786166006897795, 0.08094564431579254, 0.8624315869560042, 0.016921711892549207, 0.4078548110561704, 0.28406626140906965, 0.16488924269519323, 0.5950149466508392, 0.876247942939225, 0.45351976993312615, 0.850926825212968, 0.39638554293972694, 0.25953301271806317, 0.49593996167050103, 0.06750826432088086, 0.797763295903487, 0.7525857276415969, 0.9080847474974753, 0.210611511151101, 0.5331945691941358, 1.5016188088079474e-05, 0.8239693575911182, 0.5455612852571572, 0.8077624710646705, 0.3074812035802089, 0.48303747611389825, 0.7548496230689586, 0.6576381185653769, 0.00533500185018887, 0.18701218596382585, 0.18021856926706004, 0.6538011796303445, 0.2524850435631425, 0.23266527722747843, 0.0037155147440143255, 0.3648070412023666, 0.4623278809649978, 0.051627738314409255, 0.1593315950300892, 0.019694067252351677, 0.581214755319808, 0.5211253406485732, 0.6661285498291111, 0.28122103756501216, 0.49111068607202346, 0.5787949949292228, 0.06456798482826698, 0.0015730208024353765, 0.5613716043798471, 0.7121434379649625, 0.40551684713818104, 0.21234260734234578, 0.9227224834140978, 0.8745403102690998, 0.43215720695877313, 0.27752881784821104, 0.9429838328664484, 0.7892410316149803, 0.6559694772192375, 0.08094564431579254, 0.10058428550265319, 0.7892410316149803, 0.15509230565148413, 0.1469347068993635, 0.24506743638668926, 0.0011370806866625172, 0.7260729381321007, 0.34684143389068545, 0.46473873732132365, 0.036208960571136206, 0.13625766766654934, 0.9833020450815436, 0.5307121087119355, 0.6593987656303657, 0.05747129932047057, 0.1414696994301209, 0.11609629918993813, 0.6559694772192375, 0.23085478853096242, 0.25437128486146643, 0.37097705708841466, 0.8287581676572503, 0.49111068607202346, 0.07836421432240337, 0.5787949949292228, 0.30007163819578, 0.7027041954115542, 0.26434978978987145, 0.884451157422792, 0.2420023256822238, 0.8015839682139281, 0.0037937152456540835], (1, 0): [0.010041871216724063, 5.388655698879141e-06, 0.41334363591630285, 0.8913625916221943, 0.8368426988909035, 0.6110639383860578, 0.5124755125264927, 0.0003030301987954065, 0.15932762947981427, 0.04237033631239484, 0.4568273231794684, 0.47735621445564225, 0.522253673944276, 0.006769784406616908, 0.017218522586911367, 0.5755866131658633, 0.08301176236282093, 0.7865948251302972, 0.015798946770548272, 0.30188657289049714, 0.568653550288619, 0.011615441817130923, 0.006517930183436826, 0.09981136134472579, 0.5883976412032202, 0.49138700708533123, 0.5859598395824572, 0.7651572464040792, 0.5392249762481083, 0.5553240169648938, 0.1656323842838493, 0.7494662652699926, 0.5710702635447233, 0.0679249924830645, 9.678738141105647e-05, 0.054545717545896766, 0.5317827359219535, 0.9593986645459478, 0.07129363457279636, 0.09678037830759956, 0.6813914308900682, 0.1511138531609063, 0.5294862425192955, 0.0034686631352925934, 0.29219986436787904, 0.48919699436655095, 0.040183304724033975, 0.113985855995141, 0.113985855995141, 0.021652266884702787, 0.3429872683802062, 0.5416428861102698, 0.37398159834756683, 1.1091265117446625e-07, 0.7718111627468753, 0.4590961497648006, 0.37812485546237296, 0.011000273612302824, 2.242659947238046e-05, 0.0185183086306554, 0.3653419425408876, 0.5174552299375033, 1.5708120307822426e-05, 0.6422890214009982, 0.11492553365560731, 0.2056523506307436, 0.8766567899272613, 0.3717802926274889, 0.10768818495090193, 0.046890875391896514, 0.6836038082008249, 0.037165226625052505, 0.5056506254794446, 0.2882591909851596, 0.11492553365560731, 0.3241032415420454, 0.5992661857370913, 0.4726694455241086, 0.5465107576991464, 0.003059746617878223, 0.16356617697058695, 0.6158612233034066, 0.5056506254794446, 0.2574944329372407, 0.046890875391896514, 0.0009887584720897902, 0.06855927531138373, 0.8132220584461418, 0.8286691539963033, 0.5535562898245104, 0.5787767317753922, 0.4161815668736999, 0.12388112046964939, 0.07214555810385104, 0.9968898595689185, 0.36366721437488214, 0.18298029322096765, 0.218704920819784, 0.1961466554405551, 0.8798933425934748, 0.021109042770308784, 0.8067976672019685, 0.6965715127596007, 0.4504581196569991, 0.017493511327600464, 0.6418530929587721, 0.6062048568872027, 0.12607874639989458, 0.14065415786170488, 0.01658853208344191, 0.41517765661414097, 0.7435452445966149, 0.3133967671410086, 0.03005009717561591, 0.07379754010035144, 0.08414975163981087, 0.027698709776741937, 0.7494662652699926, 0.10841318461807947, 0.8405742280454374, 0.008973933550954216, 0.773904424251249, 0.061666658493742754, 0.0185183086306554, 0.3561067053117889, 0.4935528592023424, 0.1784169611649561, 0.22049763932012056, 0.9306239133442701, 0.20682823924815963, 0.07888552501071855, 0.06098074356409744, 0.6767117738074648, 0.00020389802753462138, 0.1511138531609063, 0.2960847585041875, 0.39777074411200664, 0.8476097543368326, 0.24024267975505254, 0.02225182594728059, 0.37398159834756683, 0.6335909938589868, 0.016804119193341127, 0.04402251381007405, 0.7012206553203585, 0.0028249565855438252, 0.6404900240697217, 0.1784169611649561, 0.48919699436655095], (0, 1): [0.903191519701047, 0.012069961685236774, 0.903191519701047, 0.7174638530584275, 0.28939780042474805, 0.027053208950079788, 0.28939780042474805, 0.5064564535257595, 0.665690584316907, 0.8646029748660982, 0.19502860911508002, 7.771561172376096e-16, 0.14669139349409654, 5.6076365773094494e-11, 0.012069961685236774, 0.2238051370175399, 0.41084647808685915, 0.28939780042474805, 0.7174638530584275, 0.32656617734146476, 0.32656617734146476, 0.28939780042474805, 0.0008659577419708464, 0.19502860911508002, 0.03275804953789563, 0.009764507641780051, 0.06679483378725404, 0.5595512828777425, 0.32656617734146476, 0.014906085553427428, 0.16992016794092246, 0.45857947949889477, 0.9356903097904726, 4.711786516509164e-13, 7.5774619795465625e-06, 0.5064564535257595, 0.5064564535257595, 0.14669139349409654, 4.211582860236263e-09, 0.6099879485876678, 0.665690584316907, 0.5595512828777425, 0.41084647808685915, 1.095758500790911e-05, 1.6419757343788532e-06, 0.3677387081910677, 0.28939780042474805, 0.32656617734146476, 0.6099879485876678, 0.32656617734146476, 0.45857947949889477, 0.03936254849451026, 0.45857947949889477, 1.0283884854800363e-11, 0.5595512828777425, 0.05621106803880449, 0.19502860911508002, 0.014906085553427428, 7.266773378589164e-07, 0.2547538958472688, 0.8646029748660982, 0.665690584316907, 1.5542324855566392e-05, 0.003100664102422157, 0.5595512828777425, 0.10846174677284381, 0.32656617734146476, 0.9604496639774782, 0.8191310103364977, 0.2238051370175399, 0.16992016794092246, 7.266773378589164e-07, 0.28939780042474805, 0.3677387081910677, 0.5064564535257595, 0.665690584316907, 0.7709380543500394, 0.03936254849451026, 2.0361579822214537e-07, 0.7709380543500394, 0.665690584316907, 0.6099879485876678, 0.004979521120768271, 0.903191519701047, 0.8646029748660982, 0.009764507641780051, 0.05621106803880449, 7.771561172376096e-16, 0.10846174677284381, 0.665690584316907, 0.41084647808685915, 0.02231308416550115, 0.06679483378725404, 0.8646029748660982, 0.7174638530584275, 2.7587931938910515e-12, 2.7587931938910515e-12, 0.5595512828777425, 0.665690584316907, 7.771561172376096e-16, 0.02231308416550115, 0.7709380543500394, 0.28939780042474805, 0.9356903097904726, 7.482903185973555e-14, 0.027053208950079788, 0.9793986382291409, 1.3257284159351457e-11, 0.8191310103364977, 0.32656617734146476, 0.12672959827929597, 0.14669139349409654, 0.16992016794092246, 0.09284587490257568, 0.16992016794092246, 0.6099879485876678, 0.903191519701047, 0.32656617734146476, 0.9793986382291409, 0.2238051370175399, 0.12672959827929597, 0.7709380543500394, 0.10846174677284381, 0.8646029748660982, 0.14669139349409654, 0.10846174677284381, 0.903191519701047, 0.009764507641780051, 0.7174638530584275, 0.5595512828777425, 0.19502860911508002, 0.00015485804961778982, 0.2238051370175399, 7.771561172376096e-16, 0.41084647808685915, 0.19502860911508002, 0.5064564535257595, 0.9793986382291409, 0.665690584316907, 0.45857947949889477, 0.7174638530584275, 0.9356903097904726, 0.6099879485876678, 0.07880478170754712, 0.2238051370175399, 0.9604496639774782, 0.014906085553427428, 0.9964546824501893, 0.8646029748660982], (1, 1): [0.36672310102587113, 0.1273761832265643, 0.9953086435807983, 0.4680593928657918, 0.4539747383794912, 0.005147124205724052, 0.015455234448912392, 0.14179013456942624, 0.24367004839541628, 0.6448545197626745, 0.08666281511670271, 6.661338147750939e-16, 0.044644662998579054, 2.886579864025407e-13, 0.5424533648533216, 0.6448545197626745, 0.48998010418798565, 0.41287825772810705, 0.8613918802184771, 0.1803985319522997, 0.7846042151804398, 0.9315185448745428, 0.6059268373357202, 0.010724445709691777, 0.04306308569819617, 0.6531852685771835, 0.3908409583631882, 0.08377406685113853, 0.8730747018695548, 0.005277337405582672, 0.037795272860724816, 0.273207315483615, 0.11398481873477195, 5.551115123125783e-15, 0.5424533648533216, 0.9625083925118213, 0.6942436195145241, 0.5264434918355857, 5.551115123125783e-15, 0.10554449473841376, 0.3460684695917682, 0.2842661109714786, 0.6690764658303042, 0.5894917644236226, 4.2805137212553745e-09, 0.12197717742784875, 0.2063751495076207, 0.13627762307688485, 0.146597882396853, 0.5894917644236226, 0.31128855309515036, 0.06055387551537761, 0.939596423173349, 0.0010725836794382992, 0.31128855309515036, 0.5424533648533216, 0.11398481873477195, 0.6448545197626745, 0.3008854214079645, 0.8938840751367655, 0.1571406270224367, 0.8730747018695548, 0.13627762307688485, 0.02878301431133523, 0.3306521207508718, 0.6942436195145241, 0.39873711093018716, 0.3460684695917682, 0.11767840555478992, 0.9315185448745428, 0.07726441645496984, 0.005277337405582672, 0.1273761832265643, 0.7102126900382952, 0.09417829170913994, 0.2349934099255544, 0.1571406270224367, 0.3591261539794224, 1.302883589904269e-07, 0.2213363881323145, 0.21231704033894028, 0.5810019121904926, 0.008736199968948699, 0.6690764658303042, 0.015455234448912392, 0.946621679973512, 0.023698576709859087, 6.661338147750939e-16, 0.2600784000337574, 0.06842881136276979, 0.939596423173349, 0.3306521207508718, 0.31852572980368943, 0.18742249174622927, 0.11767840555478992, 3.480415955436911e-11, 1.6979750938617144e-12, 0.41287825772810705, 0.07726441645496984, 6.661338147750939e-16, 0.6839746212671276, 0.9229369188655588, 0.7557695718556334, 0.146597882396853, 5.551115123125783e-15, 0.041288259694455376, 0.3306521207508718, 4.2805137212553745e-09, 0.21231704033894028, 0.08377406685113853, 0.037795272860724816, 0.43102693622019506, 0.035946325047691796, 0.7102126900382952, 0.018573504127426088, 0.16934716284405005, 0.04692070673362381, 0.2842661109714786, 0.41287825772810705, 0.3787516158534341, 0.3787516158534341, 0.9803672938078755, 0.4458244030491354, 0.022791030660170075, 0.8830612970387101, 0.8098100733237357, 0.10955280240182974, 0.43102693622019506, 0.7846042151804398, 0.1273761832265643, 0.4680593928657918, 0.16934716284405005, 0.05104570508213957, 5.551115123125783e-15, 0.09772341176801946, 0.5810019121904926, 0.8938840751367655, 0.8295477435296329, 0.7957456799539988, 0.07124124761437789, 0.273207315483615, 0.4539747383794912, 0.08377406685113853, 0.2600784000337574, 0.4680593928657918, 0.11767840555478992, 0.0555720718453282, 0.18742249174622927, 0.04306308569819617], (0, 2): [0.08330473417109785, 1.4474269226516512e-06, 0.819683874059404, 0.8972471795114388, 0.2300336265195857, 0.03712383596630564, 0.5866705551144081, 0.2571522171372872, 0.3334571859027803, 0.1232173175105371, 0.24852113829975175, 3.808064974464287e-14, 0.047623034836457245, 1.4806378345610938e-11, 0.026466565767203964, 0.4508048108060705, 0.07129128539182938, 0.9401507737699807, 0.959333250391309, 0.698204037772757, 0.0008287952871365301, 0.14814863074829987, 9.854831127420471e-05, 0.8672973225674745, 0.3962526614429178, 0.5562817983514314, 0.4943841352549748, 0.8672973225674745, 0.698204037772757, 0.009422897471305536, 0.647876405141245, 0.47953940359121816, 0.27722184715419107, 3.606506102649121e-07, 4.3191382337326445e-07, 0.5866705551144081, 0.34266749372628535, 0.11954285555506416, 5.218048215738236e-15, 0.4943841352549748, 0.3334571859027803, 0.29982153163677494, 0.959333250391309, 9.680430077541047e-07, 0.005567121674606712, 0.8813952480316022, 0.5482045126499138, 0.40984849382533983, 0.4508048108060705, 0.7573487631202955, 0.18033993920230662, 0.42286599928517576, 0.4508048108060705, 8.549927765777454e-09, 0.3570697503071564, 0.14814863074829987, 0.959333250391309, 2.3770397216127392e-06, 9.45846904727432e-05, 0.6758631617933929, 0.6023801276774791, 0.03532259223018652, 0.00029533150948723996, 0.00170167250402542, 0.4943841352549748, 0.10412980725051513, 0.3570697503071564, 0.819683874059404, 0.3110470389191067, 0.8672973225674745, 0.21663191060056441, 2.2395970863398063e-05, 0.5643830380780515, 0.08637431892946168, 0.5482045126499138, 0.7573487631202955, 0.819683874059404, 0.5725009827855259, 5.154454640887707e-11, 0.8325751756176979, 0.18033993920230662, 0.647876405141245, 0.007358703249276011, 0.36434076217245226, 0.18033993920230662, 3.606506102649121e-07, 0.3334571859027803, 0.0, 0.06126140094316079, 0.29982153163677494, 0.8325751756176979, 0.264337924876906, 0.819683874059404, 0.8972471795114388, 0.9741838693085831, 9.513501098012966e-13, 3.6637359812630166e-14, 0.322589584333409, 0.264337924876906, 0.0, 9.877446156880687e-06, 0.01945169210371467, 0.647876405141245, 0.6181964638117625, 6.082009096353147e-08, 0.23917503761734737, 0.10048736147588322, 4.440892098500626e-16, 0.9868732099408977, 0.6758631617933929, 0.6023801276774791, 0.8972471795114388, 0.07402691211140788, 0.11171961362125038, 0.9648957334795346, 0.383029151445918, 0.264337924876906, 0.1279469242704515, 0.013523315650222578, 0.34266749372628535, 2.3789276987762342e-05, 0.322589584333409, 0.042631913054595016, 0.08013887962978983, 0.21098763983033975, 0.8448879313786684, 0.8062554577551143, 0.0005272395306757938, 0.4508048108060705, 0.9463499284923188, 0.11171961362125038, 0.00033903546501123927, 0.3334571859027803, 0.0, 0.290179526379412, 0.05163033986860588, 0.05643862690069179, 0.5482045126499138, 0.9782543497145877, 0.7287772817745448, 0.322589584333409, 0.322589584333409, 0.466502281380055, 0.10412980725051513, 0.647876405141245, 0.3962526614429178, 0.013523315650222578, 0.24852113829975175, 0.42286599928517576], (1, 2): [0.9695149372573434, 0.09716652693502015, 0.7030469566341161, 0.7645567320864075, 0.6309802580856412, 0.0038789547069219, 0.11131531079191015, 0.40322899982842053, 0.04921805834282289, 0.7105008483750023, 0.09391473192039035, 0.0, 0.39603961310037683, 2.098321516541546e-14, 0.7871370292622729, 0.8488148560341817, 0.00962660330685805, 0.9089698770437705, 0.3766319585571002, 0.8258031338463311, 0.003292727064770684, 0.8488148560341817, 0.11131531079191015, 0.12386552420159858, 0.40322899982842053, 0.25485182896191283, 0.6032251646259097, 0.3129138544131693, 0.24230369351039271, 0.00962660330685805, 0.2145487695390682, 0.5245817912370703, 0.7505771439842841, 1.7499823812272552e-10, 0.3194135975082213, 0.1373230806736767, 0.3129138544131693, 0.5496006055003229, 0.0, 0.3766319585571002, 0.3766319585571002, 0.5954280805329537, 0.42573052637281394, 0.41418644285225137, 1.9894250038454686e-06, 0.688269533521332, 0.49880710040969556, 0.9502500819232037, 0.09040435441989503, 0.41418644285225137, 0.27940006427378505, 0.5496006055003229, 0.4553117259748184, 0.011754206532095135, 0.6578986722570455, 0.7246395370745828, 0.7505771439842841, 0.003292727064770684, 0.884964112184019, 0.5117356033970327, 0.05296000588346261, 0.18409984317519257, 0.8258031338463311, 0.028852885961009433, 0.2963080388952718, 0.016274198437353116, 0.06725772340109948, 0.8798046913232909, 0.6173792269091205, 0.6032251646259097, 0.3027822303497679, 0.038611001401284484, 0.3641085732519683, 0.010072819520859477, 0.3129138544131693, 0.06477102992566619, 0.08062056501698533, 0.7030469566341161, 8.625877789825154e-12, 0.09716652693502015, 0.9695149372573434, 0.8949309639238969, 0.008338602975379361, 0.23429388363537085, 0.7645567320864075, 0.1373230806736767, 0.1373230806736767, 0.0, 0.10057978241094445, 0.9645030422981219, 0.3641085732519683, 0.04728556207321177, 0.3766319585571002, 0.024289136127073507, 0.40322899982842053, 1.1757261830780408e-13, 1.3211653993039363e-13, 0.5726239797039794, 0.9811543382799418, 0.0, 0.08375790622564971, 0.04921805834282289, 0.19429811531249286, 0.3027822303497679, 1.294719886857365e-11, 0.7871370292622729, 0.5726239797039794, 1.1757261830780408e-13, 0.2145487695390682, 0.026478866733129602, 0.7246395370745828, 0.8798046913232909, 0.4553117259748184, 0.9811543382799418, 0.3129138544131693, 0.8798046913232909, 0.7105008483750023, 0.5245817912370703, 0.20105805139976163, 0.8603505142377392, 0.00584021390605427, 0.5726239797039794, 0.5726239797039794, 0.9258693572665813, 0.9563060497017827, 0.07767831470597553, 0.038611001401284484, 0.10370675643679517, 0.22015514461193775, 0.5954280805329537, 0.0598264240254488, 0.0698042600190859, 0.8258031338463311, 2.098321516541546e-14, 0.09716652693502015, 0.4911456858755463, 0.17313343855357288, 0.933737587513562, 0.14561512250976028, 0.0598264240254488, 0.39603961310037683, 0.9695149372573434, 0.8949309639238969, 0.5245817912370703, 0.24798996942295726, 0.7871370292622729, 0.03263958618514051, 0.05296000588346261, 0.2963080388952718]}\n"
     ]
    }
   ],
   "source": [
    "kstests_dict = {} #{(cluster i from HE0, cluster j from HE1): [kstest_p_val for all dimensions(microbiome)] }\n",
    "#Comparing full-d data instead of 2d by PCA\n",
    "for key1, values1 in data1.items(): #for each clusters\n",
    "    for key0, values0 in data0.items(): #for each datapoint in a HE0 cluster\n",
    "        #for each microbe, perform a KS test\n",
    "        kstests = []\n",
    "        for dim in range(values1.shape[1]): #for each dimension (microbes after PCA)\n",
    "            kstests.append(stats.ks_2samp(values1[:,dim],values0[:,dim])[1])\n",
    "        kstests_dict[(key0, key1)] = kstests\n",
    "print(kstests_dict)"
   ]
  },
  {
   "cell_type": "code",
   "execution_count": 204,
   "metadata": {},
   "outputs": [
    {
     "name": "stdout",
     "output_type": "stream",
     "text": [
      "{(0, 0): 1.1766567351800816e-05, (1, 0): 1.1091265117446625e-07, (0, 1): 7.771561172376096e-16, (1, 1): 6.661338147750939e-16, (0, 2): 0.0, (1, 2): 0.0}\n"
     ]
    }
   ],
   "source": [
    "min_kstest_dict = {}\n",
    "for key, value in kstests_dict.items():\n",
    "    min_kstest_dict[key] = min(value)\n",
    "print(min_kstest_dict)"
   ]
  },
  {
   "cell_type": "code",
   "execution_count": 207,
   "metadata": {},
   "outputs": [
    {
     "name": "stdout",
     "output_type": "stream",
     "text": [
      "{(0, 0): 0, (1, 0): 1, (0, 1): 16, (1, 1): 13, (0, 2): 18, (1, 2): 13}\n"
     ]
    }
   ],
   "source": [
    "alpha = 0.0000025\n",
    "countif_kstest_dict = {}\n",
    "for key, value in kstests_dict.items():\n",
    "    countif_kstest_dict[key] = sum(1 for x in value if x < alpha)\n",
    "print(countif_kstest_dict)"
   ]
  },
  {
   "cell_type": "markdown",
   "metadata": {},
   "source": [
    "#### From the result of KS Test we can see that: \n",
    "##### cluster 0 for HE1 and cluster 0 for HE0 has 0 microbiome that are different at alpha = 0.0000025; (NO DIFFERENCE)\n",
    "##### cluster 0 for HE1 and cluster 1 for HE0 has 1 microbiome that are different at alpha = 0.0000025; (NO DIFFERENCE)\n",
    "##### cluster 1 for HE1 and cluster 0 for HE0 has 16 microbiome that are different at alpha = 0.0000025; \n",
    "##### cluster 1 for HE1 and cluster 1 for HE0 has 13 microbiome that are different at alpha = 0.0000025; \n",
    "##### cluster 2 for HE1 and cluster 0 for HE0 has 18 microbiome that are different at alpha = 0.0000025; \n",
    "##### cluster 2 for HE1 and cluster 1 for HE0 has 13 microbiome that are different at alpha = 0.0000025; "
   ]
  },
  {
   "cell_type": "markdown",
   "metadata": {},
   "source": [
    "### b. Identify Most Similar HE0 Clusters to Affected HE1 Clusters"
   ]
  },
  {
   "cell_type": "markdown",
   "metadata": {},
   "source": [
    "#### Using the info from above, cluster 0 for HE1 is not different, cluster 1 for HE1 is closer to cluster 0 for HE0, cluster 2 for HE1 is closer to cluster 0 for HE0."
   ]
  },
  {
   "cell_type": "markdown",
   "metadata": {},
   "source": [
    "### c. Identify Microbes with Significantly Altered Relative Abundance"
   ]
  },
  {
   "cell_type": "code",
   "execution_count": 209,
   "metadata": {},
   "outputs": [
    {
     "name": "stdout",
     "output_type": "stream",
     "text": [
      "{(0, 0): [], (1, 0): [53], (0, 1): [11, 13, 33, 38, 44, 53, 58, 71, 78, 87, 95, 96, 99, 104, 107, 133], (1, 1): [11, 13, 33, 38, 44, 78, 87, 95, 96, 99, 104, 107, 133], (0, 2): [1, 11, 13, 33, 34, 38, 43, 53, 57, 78, 85, 87, 95, 96, 99, 104, 107, 133], (1, 2): [11, 13, 33, 38, 44, 78, 87, 95, 96, 99, 104, 107, 133]}\n"
     ]
    }
   ],
   "source": [
    "alpha = 0.0000025\n",
    "significant_microbe_dict = {}\n",
    "for key, value in kstests_dict.items():\n",
    "    significant_microbe_dict[key] = [i for i in range(len(value)) if value[i] < alpha]\n",
    "    \n",
    "print(significant_microbe_dict)"
   ]
  },
  {
   "cell_type": "markdown",
   "metadata": {},
   "source": [
    "## 2. Identify How Abundance Changes"
   ]
  },
  {
   "cell_type": "markdown",
   "metadata": {},
   "source": [
    "### a. Microbes which increase and decrease"
   ]
  },
  {
   "cell_type": "code",
   "execution_count": 214,
   "metadata": {},
   "outputs": [
    {
     "name": "stdout",
     "output_type": "stream",
     "text": [
      "[1, 11, 13, 33, 34, 38, 43, 44, 53, 57, 58, 71, 78, 85, 87, 95, 96, 99, 104, 107, 133]\n"
     ]
    }
   ],
   "source": [
    "#Using above indexes, calc mean of each microbe\n",
    "#Not using any clusters here, might need to?\n",
    "microbe_indexes = []\n",
    "for value in significant_microbe_dict.values():\n",
    "    microbe_indexes = microbe_indexes + value\n",
    "microbe_indexes = sorted(list(set(microbe_indexes)))\n",
    "print(microbe_indexes)"
   ]
  },
  {
   "cell_type": "code",
   "execution_count": 228,
   "metadata": {},
   "outputs": [
    {
     "data": {
      "text/plain": [
       "1      0.000035\n",
       "11     0.001633\n",
       "13     0.001646\n",
       "33     0.001358\n",
       "34    -0.000220\n",
       "38     0.001608\n",
       "43    -0.000364\n",
       "44     0.000716\n",
       "53    -0.000327\n",
       "57    -0.000309\n",
       "58    -0.000023\n",
       "71    -0.000413\n",
       "78     0.001114\n",
       "85    -0.000259\n",
       "87     0.001979\n",
       "95     0.001411\n",
       "96     0.001876\n",
       "99    -0.001354\n",
       "104    0.001266\n",
       "107   -0.001046\n",
       "133   -0.001073\n",
       "dtype: float64"
      ]
     },
     "execution_count": 228,
     "metadata": {},
     "output_type": "execute_result"
    }
   ],
   "source": [
    "#Look at mean of each microbe from above list\n",
    "RelativeAbundance_HE1_Good_Normal.loc[microbe_indexes].mean(axis=1) - RelativeAbundance_HE0_Good_Normal.loc[microbe_indexes].mean(axis=1)"
   ]
  },
  {
   "cell_type": "code",
   "execution_count": 232,
   "metadata": {},
   "outputs": [
    {
     "data": {
      "text/plain": [
       "1                Acidobacteria_Acidobacteria_Gp3_Gp3_Gp3\n",
       "11     Actinobacteria_Actinobacteria_Actinomycetales_...\n",
       "13     Actinobacteria_Actinobacteria_Actinomycetales_...\n",
       "33     Bacteroidetes_Sphingobacteriia_Sphingobacteria...\n",
       "34     Candidatus Saccharibacteria_Saccharibacteria_g...\n",
       "38     Chrysiogenetes_Chrysiogenetes_Chrysiogenales_C...\n",
       "43           Firmicutes_Bacilli_Bacillales_Bacillaceae 2\n",
       "44     Firmicutes_Bacilli_Bacillales_Bacillales_Incer...\n",
       "53     Firmicutes_Bacilli_Lactobacillales_Lactobacill...\n",
       "57     Firmicutes_Clostridia_Clostridiales_Clostridia...\n",
       "58     Firmicutes_Clostridia_Clostridiales_Clostridia...\n",
       "71     Firmicutes_Clostridia_Clostridiales_Lachnospir...\n",
       "78     Firmicutes_Clostridia_Halanaerobiales_Halanaer...\n",
       "85     Lentisphaerae_Lentisphaeria_Victivallales_Vict...\n",
       "87     Parvarchaeota_Candidatus Parvarchaeum_Candidat...\n",
       "95     Proteobacteria_Alphaproteobacteria_Rhizobiales...\n",
       "96     Proteobacteria_Alphaproteobacteria_Rhizobiales...\n",
       "99     Proteobacteria_Alphaproteobacteria_Rhizobiales...\n",
       "104       Proteobacteria_Alphaproteobacteria_SAR11_SAR11\n",
       "107    Proteobacteria_Betaproteobacteria_Burkholderia...\n",
       "133    Proteobacteria_Gammaproteobacteria_Orbales_Orb...\n",
       "Name: Microbe Name, dtype: object"
      ]
     },
     "execution_count": 232,
     "metadata": {},
     "output_type": "execute_result"
    }
   ],
   "source": [
    "RelativeAbundance_HE1_Good_Normal.loc[microbe_indexes]['Microbe Name']"
   ]
  },
  {
   "cell_type": "markdown",
   "metadata": {},
   "source": [
    "#### Microbe in index 1, 11, 13, 33, 38, 44, 78, 87, 95, 96, 104 shows increase. Microbe in index 34, 43, 53, 57, 71, 85, 99, 107, 133 shows decrease."
   ]
  },
  {
   "cell_type": "markdown",
   "metadata": {},
   "source": [
    "### b. Biological Relations"
   ]
  },
  {
   "cell_type": "code",
   "execution_count": 233,
   "metadata": {},
   "outputs": [
    {
     "name": "stdout",
     "output_type": "stream",
     "text": [
      "['Acidobacteria_Acidobacteria_Gp3_Gp3_Gp3', 'Actinobacteria_Actinobacteria_Actinomycetales_Nakamurellaceae', 'Actinobacteria_Actinobacteria_Actinomycetales_Propionibacteriaceae', 'Bacteroidetes_Sphingobacteriia_Sphingobacteriales_Sphingobacteriaceae', 'Candidatus Saccharibacteria_Saccharibacteria_genera_incertae_sedis_Saccharibacteria_genera_incertae_sedis_Saccharibacteria_genera_incertae_sedis', 'Chrysiogenetes_Chrysiogenetes_Chrysiogenales_Chrysiogenaceae', 'Firmicutes_Bacilli_Bacillales_Bacillaceae 2', 'Firmicutes_Bacilli_Bacillales_Bacillales_Incertae Sedis XI', 'Firmicutes_Bacilli_Lactobacillales_Lactobacillaceae', 'Firmicutes_Clostridia_Clostridiales_Clostridiaceae 2', 'Firmicutes_Clostridia_Clostridiales_Clostridiaceae 3', 'Firmicutes_Clostridia_Clostridiales_Lachnospiraceae', 'Firmicutes_Clostridia_Halanaerobiales_Halanaerobiaceae', 'Lentisphaerae_Lentisphaeria_Victivallales_Victivallaceae', 'Parvarchaeota_Candidatus Parvarchaeum_Candidatus Parvarchaeum_Candidatus Parvarchaeum', 'Proteobacteria_Alphaproteobacteria_Rhizobiales_Brucellaceae', 'Proteobacteria_Alphaproteobacteria_Rhizobiales_Hyphomicrobiaceae', 'Proteobacteria_Alphaproteobacteria_Rhizobiales_Rhizobiaceae', 'Proteobacteria_Alphaproteobacteria_SAR11_SAR11', 'Proteobacteria_Betaproteobacteria_Burkholderiales_Burkholderiaceae', 'Proteobacteria_Gammaproteobacteria_Orbales_Orbaceae']\n"
     ]
    }
   ],
   "source": [
    "print(list(RelativeAbundance_HE1_Good_Normal.loc[microbe_indexes]['Microbe Name']))"
   ]
  },
  {
   "cell_type": "code",
   "execution_count": null,
   "metadata": {},
   "outputs": [],
   "source": []
  }
 ],
 "metadata": {
  "kernelspec": {
   "display_name": "Python 3",
   "language": "python",
   "name": "python3"
  },
  "language_info": {
   "codemirror_mode": {
    "name": "ipython",
    "version": 3
   },
   "file_extension": ".py",
   "mimetype": "text/x-python",
   "name": "python",
   "nbconvert_exporter": "python",
   "pygments_lexer": "ipython3",
   "version": "3.7.4"
  }
 },
 "nbformat": 4,
 "nbformat_minor": 2
}

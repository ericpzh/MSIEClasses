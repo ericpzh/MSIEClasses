{
 "cells": [
  {
   "cell_type": "code",
   "execution_count": 27,
   "metadata": {},
   "outputs": [
    {
     "name": "stdout",
     "output_type": "stream",
     "text": [
      "ShallowNet(\n",
      "  (fc1): Linear(in_features=2, out_features=1, bias=True)\n",
      ")\n",
      "tensor([ 0.2273, -0.4492, -0.1371, -0.1893], grad_fn=<SqueezeBackward0>)\n",
      "tensor([ 0.,  0.,  0., -4.], grad_fn=<RsubBackward1>)\n",
      "Test\n",
      "tensor([[-1., -1.]])\n",
      "Test\n",
      "tensor([-1.])\n",
      "Iter: 9999; Loss: 4.008003; ||g||: 0.000000\n",
      "Parameter containing:\n",
      "tensor([[2.0020, 2.0020]], requires_grad=True)\n",
      "Parameter containing:\n",
      "tensor([-1.0000], requires_grad=True)\n"
     ]
    },
    {
     "data": {
      "image/png": "[encoded data removed]",
      "text/plain": [
       "<Figure size 432x288 with 1 Axes>"
      ]
     },
     "metadata": {
      "needs_background": "light"
     },
     "output_type": "display_data"
    }
   ],
   "source": [
    "import torch\n",
    "import torch.optim as optim\n",
    "import torch.nn as nn\n",
    "import matplotlib.pyplot as plt\n",
    "\n",
    "torch.manual_seed(1)\n",
    "X = torch.Tensor([[1, 0, 0, -1],[0, 1, 0, -1]])\n",
    "y = torch.Tensor([1, 1, -1, -1])\n",
    "Y = torch.Tensor([[1], [1], [-1], [-1]])\n",
    "\n",
    "alpha = 0.001\n",
    "C = 1\n",
    "\n",
    "class ShallowNet(nn.Module):\n",
    "    def __init__(self):\n",
    "        super(ShallowNet, self).__init__()\n",
    "        self.fc1 = nn.Linear(2,1, bias=True)\n",
    "    \n",
    "    def forward(self, X):\n",
    "        return self.fc1(X)\n",
    "\n",
    "net = ShallowNet()\n",
    "print(net)\n",
    "\n",
    "print(net(torch.transpose(X,0,1)).squeeze())\n",
    "\n",
    "optimizer = optim.SGD(net.parameters(), lr=alpha, weight_decay=0)\n",
    "optimizer.zero_grad()\n",
    "\n",
    "params = list(net.parameters())\n",
    "params[0].data = torch.Tensor([[2, 2]])\n",
    "params[1].data = torch.Tensor([-1])\n",
    "\n",
    "farr = []\n",
    "\n",
    "for iter in range(10000):\n",
    "    if iter==0:\n",
    "        print(1 - y*net(torch.transpose(X,0,1)).squeeze())\n",
    "    ##############################\n",
    "    ## Complete this single line which is our cost function\n",
    "    ## Dimensions: loss (scalar)\n",
    "    ##############################\n",
    "    loss = C/2*torch.norm(params[0].data)**2 + torch.sum(torch.max(torch.zeros(1,4),1 - y*net(torch.transpose(X,0,1)).squeeze()))\n",
    "    \n",
    "    loss.backward()\n",
    "    gn = 0\n",
    "    for f in net.parameters():\n",
    "        if iter==0:\n",
    "            print(\"Test\")\n",
    "            print(f.grad)\n",
    "        gn = gn + torch.norm(f.grad)\n",
    "    #print(\"Iter: %d; Loss: %f; ||g||: %f\" % (iter, loss, gn))\n",
    "    optimizer.step()\n",
    "    optimizer.zero_grad()\n",
    "\n",
    "    farr.append(loss.item())\n",
    "    \n",
    "print(\"Iter: %d; Loss: %f; ||g||: %f\" % (iter, loss, gn))\n",
    "for f in net.parameters():\n",
    "    print(f)\n",
    "\n",
    "plt.plot(farr)\n",
    "plt.show()"
   ]
  },
  {
   "cell_type": "code",
   "execution_count": 24,
   "metadata": {},
   "outputs": [
    {
     "name": "stdout",
     "output_type": "stream",
     "text": [
      "ShallowNet(\n",
      "  (fc1): Linear(in_features=2, out_features=1, bias=True)\n",
      ")\n",
      "tensor([ 0.2273, -0.4492, -0.1371, -0.1893], grad_fn=<SqueezeBackward0>) 00\n",
      "tensor([-1., -1.,  2.,  0.], grad_fn=<RsubBackward1>) 11\n",
      "Test\n",
      "tensor([[-1., -1.]])\n",
      "Test\n",
      "tensor([2.])\n",
      "Parameter containing:\n",
      "tensor([[2.0010, 2.0010]], requires_grad=True)\n",
      "Parameter containing:\n",
      "tensor([-1.0010], requires_grad=True)\n",
      "Iter: 9999; Loss: 4.004187; ||g||: 0.000000\n"
     ]
    },
    {
     "data": {
      "image/png": "[encoded data removed]",
      "text/plain": [
       "<Figure size 432x288 with 1 Axes>"
      ]
     },
     "metadata": {
      "needs_background": "light"
     },
     "output_type": "display_data"
    }
   ],
   "source": [
    "import torch\n",
    "import torch.optim as optim\n",
    "import torch.nn as nn\n",
    "import matplotlib.pyplot as plt\n",
    "\n",
    "torch.manual_seed(1)\n",
    "X = torch.Tensor([[1, 0, 0, -1],[0, 1, 0, -1]])\n",
    "y = torch.Tensor([1, 1, -1, -1])\n",
    "y.requires_grad = True\n",
    "alpha = 0.001\n",
    "C = 1\n",
    "\n",
    "class ShallowNet(nn.Module):\n",
    "    def __init__(self):\n",
    "        super(ShallowNet, self).__init__()\n",
    "        self.fc1 = nn.Linear(2,1, bias=True)\n",
    "    \n",
    "    def forward(self, X):\n",
    "        return self.fc1(X)\n",
    "\n",
    "net = ShallowNet()\n",
    "print(net)\n",
    "\n",
    "print(net(torch.transpose(X,0,1)).squeeze(),\"00\")\n",
    "\n",
    "optimizer = optim.SGD(net.parameters(), lr=alpha, weight_decay=0)\n",
    "optimizer.zero_grad()\n",
    "\n",
    "params = list(net.parameters())\n",
    "params[0].data = torch.Tensor([[1, 1]])\n",
    "params[1].data = torch.Tensor([1])\n",
    "\n",
    "farr = []\n",
    "\n",
    "for iter in range(10000):\n",
    "    if iter==0:\n",
    "        print(1 - y*net(torch.transpose(X,0,1)).squeeze(),\"11\")\n",
    "    ##############################\n",
    "    ## Complete this single line which is our cost function\n",
    "    ## Dimensions: loss (scalar)\n",
    "    ##############################\n",
    "    norm_w=torch.norm(params[0].data)*torch.norm(params[0].data)\n",
    "\n",
    "    loss = C/2*norm_w + torch.sum(torch.max(torch.zeros(1,4),1 - y*net(torch.transpose(X,0,1)).squeeze()))\n",
    "\n",
    "    loss.backward()\n",
    "    gn = 0\n",
    "    for f in net.parameters():\n",
    "        if iter==0:\n",
    "            print(\"Test\")\n",
    "            print(f.grad)\n",
    "        gn = gn + torch.norm(f.grad)\n",
    "    \n",
    "    optimizer.step()\n",
    "    optimizer.zero_grad()\n",
    "\n",
    "    farr.append(loss.item())\n",
    "\n",
    "for f in net.parameters():\n",
    "    print(f)\n",
    "print(\"Iter: %d; Loss: %f; ||g||: %f\" % (iter, loss, gn))\n",
    "plt.plot(farr)\n",
    "plt.show()"
   ]
  },
  {
   "cell_type": "code",
   "execution_count": null,
   "metadata": {},
   "outputs": [],
   "source": []
  }
 ],
 "metadata": {
  "kernelspec": {
   "display_name": "Python 3",
   "language": "python",
   "name": "python3"
  },
  "language_info": {
   "codemirror_mode": {
    "name": "ipython",
    "version": 3
   },
   "file_extension": ".py",
   "mimetype": "text/x-python",
   "name": "python",
   "nbconvert_exporter": "python",
   "pygments_lexer": "ipython3",
   "version": "3.7.4"
  }
 },
 "nbformat": 4,
 "nbformat_minor": 2
}

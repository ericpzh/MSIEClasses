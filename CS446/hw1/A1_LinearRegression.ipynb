{
 "cells": [
  {
   "cell_type": "code",
   "execution_count": 11,
   "metadata": {},
   "outputs": [
    {
     "name": "stdout",
     "output_type": "stream",
     "text": [
      "torch.Size([2, 1])\n",
      "tensor([[1., 1.],\n",
      "        [2., 1.]])\n",
      "tensor(2.)\n",
      "tensor([[2.],\n",
      "        [3.]])\n",
      "Solution 1:\n",
      "tensor([[-0.],\n",
      "        [1.]])\n",
      "tensor([[5., 3.],\n",
      "        [3., 2.]])\n",
      "tensor([[3.],\n",
      "        [2.]])\n",
      "Solution 2:\n",
      "tensor([[0.],\n",
      "        [1.]])\n",
      "Solution 3:\n",
      "tensor([[0.],\n",
      "        [1.]])\n"
     ]
    }
   ],
   "source": [
    "# %load A1_LinearRegression.py\n",
    "import torch\n",
    "\n",
    "x = torch.Tensor([[1],[2]])\n",
    "y = torch.Tensor([[1],[1]])\n",
    "print(x.size())\n",
    "\n",
    "X = torch.cat((x, torch.ones_like(x)),1)\n",
    "print(X)\n",
    "print(X[1,0])\n",
    "print(torch.matmul(X, y))\n",
    "\n",
    "# Solution 1\n",
    "##############################\n",
    "## Fill in the arguments\n",
    "##############################\n",
    "res1 = torch.lstsq(y,X)\n",
    "print(\"Solution 1:\")\n",
    "print(res1[0])\n",
    "\n",
    "# Solution 2\n",
    "print(torch.matmul(torch.transpose(X, 0, 1),X))\n",
    "print(torch.matmul(torch.transpose(X, 0, 1),y))\n",
    "\n",
    "##############################\n",
    "## How to compute l and r?\n",
    "## Dimensions: l (2x2); r (2x1)\n",
    "##############################\n",
    "l = torch.Tensor([[1,1],[2,1]])\n",
    "r = torch.Tensor([[1],[1]])\n",
    "res2 = torch.solve(r,l)\n",
    "print(\"Solution 2:\")\n",
    "print(res2[0])\n",
    "\n",
    "# Solution 3\n",
    "##############################\n",
    "## What is l and r?\n",
    "## Dimensions: l (2x2); r (2x1)\n",
    "##############################\n",
    "l = torch.Tensor([[1,1],[2,1]])\n",
    "r = torch.Tensor([[1],[1]])\n",
    "res3 = torch.matmul(torch.inverse(l),r)\n",
    "print(\"Solution 3:\")\n",
    "print(res3)\n",
    "\n"
   ]
  },
  {
   "cell_type": "code",
   "execution_count": 8,
   "metadata": {},
   "outputs": [
    {
     "name": "stdout",
     "output_type": "stream",
     "text": [
      "tensor([[0., 0., 1.],\n",
      "        [1., 1., 1.],\n",
      "        [4., 2., 1.]])\n",
      "tensor([[0.],\n",
      "        [1.],\n",
      "        [1.]])\n",
      "tensor([[-0.5000],\n",
      "        [ 1.5000],\n",
      "        [ 0.0000]])\n"
     ]
    }
   ],
   "source": [
    "# %load A1_LinearRegression2.py\n",
    "import torch\n",
    "\n",
    "##############################\n",
    "## Specify the matrix X\n",
    "## Dimensions: X (3x3)\n",
    "##############################\n",
    "X = torch.Tensor([[0,0,1],[1,1,1],[4,2,1]])\n",
    "y = torch.Tensor([[0],[1],[1]])\n",
    "print(X)\n",
    "print(y)\n",
    "\n",
    "# Solution\n",
    "##############################\n",
    "## Use one of the ways to compute the result\n",
    "##############################\n",
    "res1 = torch.matmul(torch.inverse(X),y)\n",
    "print(res1)"
   ]
  },
  {
   "cell_type": "code",
   "execution_count": null,
   "metadata": {},
   "outputs": [],
   "source": []
  }
 ],
 "metadata": {
  "kernelspec": {
   "display_name": "Python 3",
   "language": "python",
   "name": "python3"
  },
  "language_info": {
   "codemirror_mode": {
    "name": "ipython",
    "version": 3
   },
   "file_extension": ".py",
   "mimetype": "text/x-python",
   "name": "python",
   "nbconvert_exporter": "python",
   "pygments_lexer": "ipython3",
   "version": "3.7.3"
  }
 },
 "nbformat": 4,
 "nbformat_minor": 2
}

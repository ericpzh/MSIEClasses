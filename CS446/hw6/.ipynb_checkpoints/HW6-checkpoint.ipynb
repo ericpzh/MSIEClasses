{
 "cells": [
  {
   "cell_type": "code",
   "execution_count": 1,
   "metadata": {},
   "outputs": [
    {
     "name": "stdout",
     "output_type": "stream",
     "text": [
      "     con: array([-1.65782943e-11, -1.65787384e-11, -4.97333286e-11, -1.65774061e-11,\n",
      "       -1.65777106e-11, -1.65777106e-11, -1.65769908e-11])\n",
      "     fun: -7.000000000094651\n",
      " message: 'Optimization terminated successfully.'\n",
      "     nit: 4\n",
      "   slack: array([], dtype=float64)\n",
      "  status: 0\n",
      " success: True\n",
      "       x: array([1.00000000e+00, 1.03272655e-11, 1.03272669e-11, 1.00000000e+00,\n",
      "       6.39846753e-12, 1.00000000e+00, 2.05065099e-11, 6.39846616e-12])\n",
      "[1. 1. 1.]\n",
      "[1.65774061e-11 1.65777106e-11 1.65777106e-11 1.65769908e-11]\n"
     ]
    },
    {
     "name": "stderr",
     "output_type": "stream",
     "text": [
      "C:\\ProgramData\\Anaconda3\\lib\\site-packages\\scipy\\optimize\\_linprog_util.py:763: OptimizeWarning: A_eq does not appear to be of full row rank. To improve performance, check the problem formulation for redundant equality constraints.\n",
      "  warn(redundancy_warning, OptimizeWarning)\n"
     ]
    }
   ],
   "source": [
    "# %load A6_Structure.py\n",
    "import numpy as np\n",
    "from scipy.optimize import linprog\n",
    "\n",
    "#potentials\n",
    "f = np.array([1., 0., 0., 1., 0., 5., 0., 0.])\n",
    "\n",
    "#local probability constraints\n",
    "##############################\n",
    "## specify the constraints which have a value of one as their right hand side\n",
    "## Dimensions: A_eq1 (list of three lists each with 8 entries)\n",
    "##############################\n",
    "A_eq1 = [[1,1 ,0 ,0 ,0 ,0 ,0 ,0 ],[0, 0, 1, 1, 0, 0, 0, 0],[0, 0,0 ,0, 1,1 ,1 ,1 ]]\n",
    "b_eq1 = [[1],]*3\n",
    "\n",
    "#marginalization constraints\n",
    "##############################\n",
    "## specify the constraints which have a value of zero as their right hand side\n",
    "## Dimensions: A_eq2 (list of three lists each with 8 entries)\n",
    "##############################\n",
    "A_eq2 = [[-1,0 ,0 ,0 ,1 ,1 ,0 ,0 ],[0,-1 ,0 ,0 ,0 ,0 ,1 ,1 ],[0,0 ,-1 ,0 ,1 ,0 , 1,0 ],[0,0 ,0 ,-1 ,0 ,1 ,0 ,1 ]]\n",
    "b_eq2 = [[0],]*4\n",
    "\n",
    "#bounds\n",
    "bounds = [(0, 1),]*8\n",
    "\n",
    "res = linprog(-f, A_eq=np.concatenate((A_eq1,A_eq2)), b_eq=np.concatenate((b_eq1,b_eq2)), bounds=bounds)\n",
    "print(res)\n",
    "\n",
    "print(np.matmul(A_eq1, res.x))\n",
    "print(np.matmul(A_eq2, res.x))"
   ]
  },
  {
   "cell_type": "code",
   "execution_count": null,
   "metadata": {},
   "outputs": [],
   "source": []
  }
 ],
 "metadata": {
  "kernelspec": {
   "display_name": "Python 3",
   "language": "python",
   "name": "python3"
  },
  "language_info": {
   "codemirror_mode": {
    "name": "ipython",
    "version": 3
   },
   "file_extension": ".py",
   "mimetype": "text/x-python",
   "name": "python",
   "nbconvert_exporter": "python",
   "pygments_lexer": "ipython3",
   "version": "3.7.4"
  }
 },
 "nbformat": 4,
 "nbformat_minor": 2
}

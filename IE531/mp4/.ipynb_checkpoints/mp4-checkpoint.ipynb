{
 "cells": [
  {
   "cell_type": "code",
   "execution_count": 5,
   "metadata": {},
   "outputs": [
    {
     "data": {
      "image/png": "[encoded data removed]",
      "text/plain": [
       "<Figure size 432x288 with 1 Axes>"
      ]
     },
     "metadata": {
      "needs_background": "light"
     },
     "output_type": "display_data"
    },
    {
     "data": {
      "image/png": "[encoded data removed]",
      "text/plain": [
       "<Figure size 432x288 with 1 Axes>"
      ]
     },
     "metadata": {
      "needs_background": "light"
     },
     "output_type": "display_data"
    }
   ],
   "source": [
    "# %load hint.py\n",
    "#!/usr/bin/env python3\n",
    "\n",
    "# Three-sided Unfair Dice into other RV distributions\n",
    "#\n",
    "# IE531: Algorithms for Data Analytics\n",
    "# Written by Prof. R.S. Sreenivas\n",
    "#\n",
    "import sys\n",
    "import argparse\n",
    "import random\n",
    "import numpy as np \n",
    "import time\n",
    "import math\n",
    "import matplotlib.pyplot as plt\n",
    "from scipy.stats import uniform\n",
    "\n",
    "# Some constants -- \"heads\" is 1 and \"tails\" is 0\n",
    "HEADS = 1\n",
    "TAILS = 0\n",
    "\n",
    "# reading the number of trials on command line\n",
    "no_of_trials = 1000000\n",
    "#no_of_trials = int(sys.argv[1])+0\n",
    "\n",
    "# assign a random value for the probability of seeing a \"1\" (p1), \"2\" (p2) or \"3\" (p3) for \n",
    "# the 3-sided unfair dice such that (p1, p2, p3) is uniformly distributed over the surface\n",
    "# p1+p2+p3 = 1, where p1, p2, p3 are non-negative real numbers\n",
    "def assign_probabilities_to_unfair_three_sided_dice() :\n",
    "    # FILL CODE HERE\n",
    "    x = np.random.uniform()\n",
    "    y = np.random.uniform()\n",
    "    #0____<p1>_____min(x,y)____<p2>_____max(x,y)____<p3>_____1\n",
    "    prob_of_one = min(x,y) \n",
    "    prob_of_two = max(x,y) - prob_of_one\n",
    "    prob_of_three = 1 - prob_of_one - prob_of_two\n",
    "    return prob_of_one, prob_of_two, prob_of_three\n",
    "\n",
    "# This function simulates a single toss of the unfair 3-sided dice\n",
    "def toss_of_three_sided_unfair_dice(p1, p2, p3) :\n",
    "    x = np.random.uniform()\n",
    "    if (x < p1) :\n",
    "        return 1\n",
    "    else :\n",
    "        if (x < p2) :\n",
    "            return 2\n",
    "        else :\n",
    "            return 3\n",
    "\n",
    "# This function simulates a fair-coin using the unfair 3-sided dice\n",
    "def simulate_fair_coin_from_unfair_three_sided_dice(p1, p2, p3) :\n",
    "    # FILL Code here\n",
    "    # figure out how to convert the outcome of the unfair 3-sided dice\n",
    "    # into an outcome from a Fair Coin\n",
    "    while True:\n",
    "        t1 = toss_of_three_sided_unfair_dice(p1, p2, p3)\n",
    "        t2 = toss_of_three_sided_unfair_dice(p1, p2, p3)\n",
    "        #accept only (12,13,23) & (21,31,32) both with prob. p1*p2+p1*p3+p2*p3 \n",
    "        if ([t1,t2] in [[1,2],[1,3],[2,3]]): \n",
    "            return HEADS\n",
    "        elif ([t1,t2] in [[2,1],[3,1],[3,2]]):\n",
    "            return TAILS\n",
    "    \n",
    "# get a U.I.I.D RV by making the unfair three sided dice into a fair coin... and tossing the \n",
    "# resulting fair-coin 32 times to get discrete RV that is uniformly distributed over the \n",
    "# integers in [0, 2^{32}-1]... dividing the resulting integer by 2^{32}-1 gives us (effectively)\n",
    "# a U.I.I.D. RV\n",
    "def get_uiid_rvs_by_tossing_the_unfair_three_sided_dice_32_times(p1, p2, p3) :\n",
    "    result = 0\n",
    "    for i in range(0, 32) :\n",
    "        if (simulate_fair_coin_from_unfair_three_sided_dice(p1, p2, p3) == HEADS) :\n",
    "            result = result | (1 << i)\n",
    "        else :\n",
    "            result = result | (0 << i)\n",
    "    return float(result/(pow(2,32)-1))\n",
    "\n",
    "# plotting the histogram of the continuous RV generated by tossing the unfair three sided dice\n",
    "# sufficient number of times till we get 32 fair-coin-tosses, which are then converted into a \n",
    "# number in the unit-interval\n",
    "\n",
    "# assigning probabilities to unfair three sided dice \n",
    "p1, p2, p3 = assign_probabilities_to_unfair_three_sided_dice()\n",
    "\n",
    "z = []\n",
    "for i in range(0,no_of_trials) :\n",
    "    z.extend([get_uiid_rvs_by_tossing_the_unfair_three_sided_dice_32_times(p1, p2, p3)])\n",
    "plt.hist(z, bins=50)\n",
    "plt.ylabel('Histogram for ' + str(no_of_trials) + ' trials');\n",
    "plt.savefig(\"UIID_Histogram.pdf\", bbox_inches='tight')\n",
    "plt.show()\n",
    "\n",
    "# converting (multiple) tosses of the unfair 3-sided Dice into a unit-normal distribution\n",
    "# using the Box-Muller Method\n",
    "a = []\n",
    "for i in range(0,no_of_trials) :\n",
    "    p = get_uiid_rvs_by_tossing_the_unfair_three_sided_dice_32_times(p1, p2, p3)\n",
    "    q = get_uiid_rvs_by_tossing_the_unfair_three_sided_dice_32_times(p1, p2, p3)\n",
    "    theta = 2*math.pi*p \n",
    "    r = np.sqrt(-2*math.log(q))\n",
    "    a.extend([r*math.cos(theta)])\n",
    "    a.extend([r*math.sin(theta)])\n",
    "plt.hist(a, bins=50)\n",
    "plt.ylabel('Histogram for ' + str(2*no_of_trials) + ' trials');\n",
    "plt.savefig(\"Unit_Normal_Histogram.pdf\", bbox_inches='tight')\n",
    "plt.show()"
   ]
  },
  {
   "cell_type": "code",
   "execution_count": null,
   "metadata": {},
   "outputs": [],
   "source": []
  }
 ],
 "metadata": {
  "kernelspec": {
   "display_name": "Python 3",
   "language": "python",
   "name": "python3"
  },
  "language_info": {
   "codemirror_mode": {
    "name": "ipython",
    "version": 3
   },
   "file_extension": ".py",
   "mimetype": "text/x-python",
   "name": "python",
   "nbconvert_exporter": "python",
   "pygments_lexer": "ipython3",
   "version": "3.7.3"
  }
 },
 "nbformat": 4,
 "nbformat_minor": 2
}
